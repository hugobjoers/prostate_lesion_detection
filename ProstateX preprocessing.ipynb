{
 "cells": [
  {
   "cell_type": "markdown",
   "metadata": {},
   "source": [
    "# ProstateX(2) preprocessing"
   ]
  },
  {
   "cell_type": "markdown",
   "metadata": {},
   "source": [
    "This notebook will read and preprocess all ProstateX and ProstateX2 images so that they can be read by the Retina UNet for the purposes of lesion detection and classification.\n",
    "\n",
    "Before running this notebook, the following things will be needed:\n",
    "\n",
    "- Download TRAIN and / or TEST images from ProstateX challenge website: \n",
    "  - Go to: https://wiki.cancerimagingarchive.net/display/Public/SPIE-AAPM-NCI+PROSTATEx+Challenges\n",
    "  - Go to the \"Detailed Description\" tab \n",
    "  - In Section \"PROSTATEx Challenge (November 21, 2016 to February 16, 2017)\" download all the data, except for the .bmp files\n",
    "  - In Section \"PROSTATEx-2 — SPIE-AAPM-NCI Prostate MR Gleason Grade Group Challenge (May 15, 2017 to August 3, 2017)\" download only lesion information (.zip), as the images are exactly the same as the ones we have already downloaded.\n",
    "  - Once all images have been downloaded, please modify the path below to point to them\n",
    "  \n",
    "  \n",
    "- We will need ``plot_lib`` to visualize the images as they are processed:\n",
    " - `plot_lib`: https://github.com/OscarPellicer/plot_lib\n",
    " \n",
    "- Edit the following cell according to where the downloaded data is located.\n",
    "\n",
    "- Finally, make sure to read the Initial Setup Section (below) for further instructions.\n",
    "\n",
    "\n",
    "- Please note that this Notebook will have to be run twice, once for the ProstateX TRAIN data, and other time for the ProstateX test data"
   ]
  },
  {
   "cell_type": "code",
   "execution_count": 1,
   "metadata": {},
   "outputs": [
    {
     "name": "stdout",
     "output_type": "stream",
     "text": [
      "c:\\prog\\kex\\prostate_lesion_detection\\datasets\\train\n"
     ]
    }
   ],
   "source": [
    "#Path to the ProstateX dataset to be processed (can be either the train or test set)\n",
    "# DS_PATH = r\"./datasets/train\"\n",
    "import os\n",
    "DS_PATH = os.path.join(os.getcwd(), \"datasets\", \"train\")\n",
    "print(DS_PATH)\n",
    "# DS_PATH= r'D:\\oscar\\Prostate Images\\ProstateX\\TRAIN'\n",
    "#DS_PATH= r'D:\\oscar\\Prostate Images\\ProstateX\\TEST'\n",
    "\n",
    "#TRAIN is boolean indicating whether we are using the TRAIN or the TEST data\n",
    "TRAIN= True\n",
    "\n",
    "#Main configuration\n",
    "verbose= True #Show extra information during the process\n",
    "apply_registration= True #Use transformations in transforms_path to register the images"
   ]
  },
  {
   "cell_type": "markdown",
   "metadata": {},
   "source": [
    "## Intial setup"
   ]
  },
  {
   "cell_type": "markdown",
   "metadata": {},
   "source": [
    "`plot_lib` setup"
   ]
  },
  {
   "cell_type": "code",
   "execution_count": 2,
   "metadata": {},
   "outputs": [
    {
     "name": "stdout",
     "output_type": "stream",
     "text": [
      "['c:\\\\prog\\\\kex\\\\prostate_lesion_detection', 'C:\\\\Program Files\\\\WindowsApps\\\\PythonSoftwareFoundation.Python.3.11_3.11.2288.0_x64__qbz5n2kfra8p0\\\\python311.zip', 'C:\\\\Program Files\\\\WindowsApps\\\\PythonSoftwareFoundation.Python.3.11_3.11.2288.0_x64__qbz5n2kfra8p0\\\\DLLs', 'C:\\\\Program Files\\\\WindowsApps\\\\PythonSoftwareFoundation.Python.3.11_3.11.2288.0_x64__qbz5n2kfra8p0\\\\Lib', 'C:\\\\Program Files\\\\WindowsApps\\\\PythonSoftwareFoundation.Python.3.11_3.11.2288.0_x64__qbz5n2kfra8p0', '', 'C:\\\\Users\\\\hugob\\\\AppData\\\\Local\\\\Packages\\\\PythonSoftwareFoundation.Python.3.11_qbz5n2kfra8p0\\\\LocalCache\\\\local-packages\\\\Python311\\\\site-packages', 'C:\\\\Users\\\\hugob\\\\AppData\\\\Local\\\\Packages\\\\PythonSoftwareFoundation.Python.3.11_qbz5n2kfra8p0\\\\LocalCache\\\\local-packages\\\\Python311\\\\site-packages\\\\win32', 'C:\\\\Users\\\\hugob\\\\AppData\\\\Local\\\\Packages\\\\PythonSoftwareFoundation.Python.3.11_qbz5n2kfra8p0\\\\LocalCache\\\\local-packages\\\\Python311\\\\site-packages\\\\win32\\\\lib', 'C:\\\\Users\\\\hugob\\\\AppData\\\\Local\\\\Packages\\\\PythonSoftwareFoundation.Python.3.11_qbz5n2kfra8p0\\\\LocalCache\\\\local-packages\\\\Python311\\\\site-packages\\\\Pythonwin', 'C:\\\\Program Files\\\\WindowsApps\\\\PythonSoftwareFoundation.Python.3.11_3.11.2288.0_x64__qbz5n2kfra8p0\\\\Lib\\\\site-packages', 'c:\\\\prog\\\\kex\\\\prostate_lesion_detection\\\\plot_lib']\n"
     ]
    },
    {
     "data": {
      "text/html": [
       "<style>.widget-hslider { width: auto !important } </style>"
      ],
      "text/plain": [
       "<IPython.core.display.HTML object>"
      ]
     },
     "metadata": {},
     "output_type": "display_data"
    },
    {
     "data": {
      "text/html": [
       "<style>.output { flex-direction: row; flex-wrap: wrap; }\n",
       "         .widget-hslider { width: auto; } </style>"
      ],
      "text/plain": [
       "<IPython.core.display.HTML object>"
      ]
     },
     "execution_count": 2,
     "metadata": {},
     "output_type": "execute_result"
    }
   ],
   "source": [
    "#Import plot_lib\n",
    "from pathlib import Path\n",
    "import sys, os\n",
    "# sys.path.append(os.path.join(Path.home(), 'plot_lib'))\n",
    "sys.path.append(os.path.join(os.getcwd(), 'plot_lib'))\n",
    "print(sys.path)\n",
    "from plot_lib import plot_alpha, plot_multi_mask, plot,  plot4\n",
    "\n",
    "#Some CSS to allow images to display side by side by default\n",
    "br= lambda: print(' '*100) \n",
    "from IPython.display import display, HTML\n",
    "CSS = \"\"\".output { flex-direction: row; flex-wrap: wrap; }\n",
    "         .widget-hslider { width: auto; } \"\"\"\n",
    "HTML('<style>{}</style>'.format(CSS))"
   ]
  },
  {
   "cell_type": "markdown",
   "metadata": {},
   "source": [
    "Import other required libraries. "
   ]
  },
  {
   "cell_type": "code",
   "execution_count": 13,
   "metadata": {},
   "outputs": [
    {
     "name": "stdout",
     "output_type": "stream",
     "text": [
      "The autoreload extension is already loaded. To reload it, use:\n",
      "  %reload_ext autoreload\n"
     ]
    }
   ],
   "source": [
    "%load_ext autoreload\n",
    "%autoreload 2\n",
    "%matplotlib inline\n",
    "\n",
    "import traceback\n",
    "import SimpleITK as sitk\n",
    "import numpy as np\n",
    "import pandas as pd\n",
    "import matplotlib.pyplot as plt\n",
    "import pydicom\n",
    "import glob\n",
    "import pickle\n",
    "from preprocessing_lib import (info, grow_regions_sitk,\n",
    "                              join_sitk_images, join_masks, read_prostatex_patient,\n",
    "                              rescale_intensity, center_image, get_blank_image,\n",
    "                              get_lesion_mask_id_seed, grow_lesions)"
   ]
  },
  {
   "cell_type": "markdown",
   "metadata": {},
   "source": [
    "We need to set all the **required paths**. Please, feel free to modify them to point to the correct place if needed"
   ]
  },
  {
   "cell_type": "code",
   "execution_count": 4,
   "metadata": {},
   "outputs": [],
   "source": [
    "#1) Data that must have been downloaded following instructions above\n",
    "#Path where DICOMS are stored\n",
    "dicom_path= os.path.join(DS_PATH, 'Images', \"PROSTATEx\")\n",
    "\n",
    "#Path where ktrans images are stored\n",
    "ktrans_path= os.path.join(DS_PATH, 'Images Ktrans')\n",
    "\n",
    "#Path where csvs are stored\n",
    "prostateX_csv_path= os.path.join(DS_PATH, 'Lesion InformationX', \n",
    "                                 'ProstateX-Findings-%s.csv'%('Train' if TRAIN else 'Test'))\n",
    "prostateX2_csv_path= os.path.join(DS_PATH, 'Lesion InformationX2', \n",
    "                                 'ProstateX-2-Findings-%s.csv'%('Train' if TRAIN else 'Test'))\n",
    "\n",
    "#2) Data provided alongside the repository:\n",
    "#Path to where ProstateX_masks are stored\n",
    "masks_path= r'ProstateX_masks'\n",
    "\n",
    "#Path where registration transformations are stored\n",
    "transforms_path= r'ProstateX_transforms'\n",
    "\n",
    "#3) Output data to be generated by this Notebook:\n",
    "#Path where data to be read by the Retina UNet model will be stored\n",
    "#We create the directory if it did not exist\n",
    "output_path= 'out' + ('_unregistered' if not apply_registration else '')\n",
    "if not os.path.exists(output_path): os.makedirs(output_path)"
   ]
  },
  {
   "cell_type": "markdown",
   "metadata": {},
   "source": [
    "## Description of the datasets and their labels\n",
    "\n",
    "**ProstateX** contains 204 train and 142 test images of prostates with lesion locations and two significance levels (only in train, in test there are no significance levels):\n",
    " - **False**: Gleason Score <= 3+3\n",
    " - **True**: Gleason Score >= 3+4\n",
    "     \n",
    "References:\n",
    " - https://prostatex.grand-challenge.org/challenge_description/\n",
    " - https://wiki.cancerimagingarchive.net/display/Public/SPIE-AAPM-NCI+PROSTATEx+Challenges\n",
    "     \n",
    "     \n",
    "**ProstateX2** contains the same images (both train and test), but with much more complete label information:\n",
    " - **Grade Group 1 (Gleason score <= 3+3)**: Only individual discrete well-formed glands\n",
    " - **Grade Group 2 (Gleason score 3+4)**: Predominantly well-formed glands with lesser component of poorly-formed/fused/cribriform glands\n",
    " - **Grade Group 3 (Gleason score 4+3)**: Predominantly poorly formed/fused/cribriform glands with lesser component of well-formed glands\n",
    " - **Grade Group 4 (Gleason score 4+4, 3+5, 5+3)**: (1) Only poorly-formed/fused/cribriform glands or (2) predominantly well-formed glands and lesser component lacking glands or (3) predominantly lacking glands and lesser component of well-formed glands\n",
    " - **Grade Group 5 (Higher Gleason scores)**: Lacks gland formation (or with necrosis) with or without poorly formed/fused/cribriform glands\n",
    "\n",
    "References:\n",
    " - Epstein JI, Egevad L, Amin MB, Delahunt B, Srigley JR, Humphrey PA, the Grading Committee. The 2014 International Society of Urologic Pathology (ISUP) Consensus Conference on Gleason Grading of Prostatic Carcinoma: Definition of grading  - patterns and proposal for a new grading system. Am J Surg Pathol, (40)244-252, 2016\n",
    "https://www.aapm.org/GrandChallenge/PROSTATEx-2/\n",
    "\n",
    "As it turns out, the images that appear in ProstateX, but not in ProsateX2, are those that have a GS < 6 (i.e.: benign). \n",
    "\n",
    "Therefore, by combining the information from both datasets, we can create an **extended labelling system** defined as follows:\n",
    " - 0: Normal prostate\n",
    " - 1-5: GG{1-5}\n",
    " - 10: Benign lesion or normal prostate\n",
    " - 20: Unknown (test set)"
   ]
  },
  {
   "cell_type": "code",
   "execution_count": 5,
   "metadata": {},
   "outputs": [
    {
     "data": {
      "text/html": [
       "<div>\n",
       "<style scoped>\n",
       "    .dataframe tbody tr th:only-of-type {\n",
       "        vertical-align: middle;\n",
       "    }\n",
       "\n",
       "    .dataframe tbody tr th {\n",
       "        vertical-align: top;\n",
       "    }\n",
       "\n",
       "    .dataframe thead th {\n",
       "        text-align: right;\n",
       "    }\n",
       "</style>\n",
       "<table border=\"1\" class=\"dataframe\">\n",
       "  <thead>\n",
       "    <tr style=\"text-align: right;\">\n",
       "      <th></th>\n",
       "      <th>fid</th>\n",
       "      <th>pos</th>\n",
       "      <th>zone</th>\n",
       "      <th>ClinSig</th>\n",
       "      <th>ggg</th>\n",
       "    </tr>\n",
       "    <tr>\n",
       "      <th>ProxID</th>\n",
       "      <th></th>\n",
       "      <th></th>\n",
       "      <th></th>\n",
       "      <th></th>\n",
       "      <th></th>\n",
       "    </tr>\n",
       "  </thead>\n",
       "  <tbody>\n",
       "    <tr>\n",
       "      <th>ProstateX-0000</th>\n",
       "      <td>1</td>\n",
       "      <td>25.7457 31.8707 -38.511</td>\n",
       "      <td>PZ</td>\n",
       "      <td>True</td>\n",
       "      <td>3</td>\n",
       "    </tr>\n",
       "    <tr>\n",
       "      <th>ProstateX-0001</th>\n",
       "      <td>1</td>\n",
       "      <td>-40.5367071921656 29.320722668457 -16.70766907...</td>\n",
       "      <td>AS</td>\n",
       "      <td>False</td>\n",
       "      <td>1</td>\n",
       "    </tr>\n",
       "    <tr>\n",
       "      <th>ProstateX-0002</th>\n",
       "      <td>1</td>\n",
       "      <td>-27.0102 41.5467 -26.0469</td>\n",
       "      <td>PZ</td>\n",
       "      <td>True</td>\n",
       "      <td>2</td>\n",
       "    </tr>\n",
       "    <tr>\n",
       "      <th>ProstateX-0002</th>\n",
       "      <td>2</td>\n",
       "      <td>-2.058 38.6752 -34.6104</td>\n",
       "      <td>PZ</td>\n",
       "      <td>False</td>\n",
       "      <td>1</td>\n",
       "    </tr>\n",
       "    <tr>\n",
       "      <th>ProstateX-0003</th>\n",
       "      <td>1</td>\n",
       "      <td>22.1495 31.2717 -2.45933</td>\n",
       "      <td>TZ</td>\n",
       "      <td>False</td>\n",
       "      <td>10</td>\n",
       "    </tr>\n",
       "    <tr>\n",
       "      <th>ProstateX-0003</th>\n",
       "      <td>2</td>\n",
       "      <td>-21.2871 19.3995 19.7429</td>\n",
       "      <td>TZ</td>\n",
       "      <td>False</td>\n",
       "      <td>10</td>\n",
       "    </tr>\n",
       "    <tr>\n",
       "      <th>ProstateX-0004</th>\n",
       "      <td>1</td>\n",
       "      <td>-7.69665 3.64226 23.1659</td>\n",
       "      <td>AS</td>\n",
       "      <td>False</td>\n",
       "      <td>1</td>\n",
       "    </tr>\n",
       "    <tr>\n",
       "      <th>ProstateX-0005</th>\n",
       "      <td>0</td>\n",
       "      <td>-14.5174331665039 49.4428329467773 20.78152465...</td>\n",
       "      <td>PZ</td>\n",
       "      <td>True</td>\n",
       "      <td>2</td>\n",
       "    </tr>\n",
       "    <tr>\n",
       "      <th>ProstateX-0005</th>\n",
       "      <td>1</td>\n",
       "      <td>-38.6276 42.2781 21.4084</td>\n",
       "      <td>PZ</td>\n",
       "      <td>True</td>\n",
       "      <td>3</td>\n",
       "    </tr>\n",
       "    <tr>\n",
       "      <th>ProstateX-0005</th>\n",
       "      <td>1</td>\n",
       "      <td>-22.0892639160156 25.4668045043945 22.87915420...</td>\n",
       "      <td>TZ</td>\n",
       "      <td>False</td>\n",
       "      <td>10</td>\n",
       "    </tr>\n",
       "  </tbody>\n",
       "</table>\n",
       "</div>"
      ],
      "text/plain": [
       "                fid                                                pos zone  \\\n",
       "ProxID                                                                        \n",
       "ProstateX-0000    1                            25.7457 31.8707 -38.511   PZ   \n",
       "ProstateX-0001    1  -40.5367071921656 29.320722668457 -16.70766907...   AS   \n",
       "ProstateX-0002    1                          -27.0102 41.5467 -26.0469   PZ   \n",
       "ProstateX-0002    2                            -2.058 38.6752 -34.6104   PZ   \n",
       "ProstateX-0003    1                           22.1495 31.2717 -2.45933   TZ   \n",
       "ProstateX-0003    2                           -21.2871 19.3995 19.7429   TZ   \n",
       "ProstateX-0004    1                           -7.69665 3.64226 23.1659   AS   \n",
       "ProstateX-0005    0  -14.5174331665039 49.4428329467773 20.78152465...   PZ   \n",
       "ProstateX-0005    1                           -38.6276 42.2781 21.4084   PZ   \n",
       "ProstateX-0005    1  -22.0892639160156 25.4668045043945 22.87915420...   TZ   \n",
       "\n",
       "                ClinSig  ggg  \n",
       "ProxID                        \n",
       "ProstateX-0000     True    3  \n",
       "ProstateX-0001    False    1  \n",
       "ProstateX-0002     True    2  \n",
       "ProstateX-0002    False    1  \n",
       "ProstateX-0003    False   10  \n",
       "ProstateX-0003    False   10  \n",
       "ProstateX-0004    False    1  \n",
       "ProstateX-0005     True    2  \n",
       "ProstateX-0005     True    3  \n",
       "ProstateX-0005    False   10  "
      ]
     },
     "execution_count": 5,
     "metadata": {},
     "output_type": "execute_result"
    }
   ],
   "source": [
    "#Read csvs\n",
    "l_info= pd.read_csv(prostateX_csv_path, index_col='ProxID')\n",
    "l_info_2= pd.read_csv(prostateX2_csv_path, index_col='ProxID')\n",
    "lesion_info= l_info.reset_index().merge(l_info_2.reset_index(), how=\"left\", \n",
    "                                        on=['ProxID', 'pos', 'zone', 'fid']).set_index('ProxID')\n",
    "\n",
    "if TRAIN: \n",
    "    lesion_info.loc[lesion_info.ggg.isna(), 'ggg']= 10\n",
    "    lesion_info.ggg= lesion_info.ggg.astype(int);\n",
    "\n",
    "lesion_info.head(10)"
   ]
  },
  {
   "cell_type": "markdown",
   "metadata": {},
   "source": [
    "## Read, process and save the images"
   ]
  },
  {
   "cell_type": "markdown",
   "metadata": {},
   "source": [
    "For each patient, we will produce three ouputs to be saved `output_path` for use in the Retina UNet (`ID` represents the actual patient ID):\n",
    "\n",
    "- `ID_img.npy`: It contains the prostate mpMRI with dimensions 160(x) x 160(y) x 24(z) x 7 (channels) and spacing 0.5 x 0.5 x 3 mm. The channels are the following:\n",
    " - 0: T2\n",
    " - 1: B500\n",
    " - 2: B800\n",
    " - 3: ADC\n",
    " - 4: ktrans\n",
    " - 5: Prostate mask\n",
    " - 6: Central Zone mask\n",
    " - 7: Peripheral Zone mask\n",
    " \n",
    " \n",
    "- `ID_rois.npy`: It contains a mask of the lesion IDs\n",
    "\n",
    "\n",
    "- `meta_info_ID.pickle`: It contains a dictionary with items: \n",
    " - 'pid': String with the ID of the patient. E.g.: 'ProstateX-0000'\n",
    " - 'class_target': 1D array with the class associated with each of the lesions. E.g.: np.array([1,10])\n",
    " - 'spacing': tuple with the spacing of the image. E.g.: (0.5, 0.5, 3)\n",
    " - 'fg_slices': z slices where there is at least one lesion. E.g.: [5,6,7,8,9]."
   ]
  },
  {
   "cell_type": "code",
   "execution_count": 16,
   "metadata": {},
   "outputs": [
    {
     "name": "stdout",
     "output_type": "stream",
     "text": [
      "\n",
      "ProstateX-0000\n",
      "Patient: ProstateX-0000 (date: 2011-07-07 00:00:00)\n",
      "\t- Reading: 3.000000-t2tsesag-87368  (t2_tse_sag) (UNKNOWN)\n",
      "\t\t- Skipping!\n",
      "\t- Reading: 4.000000-t2tsetra-00702  (t2_tse_tra) (T2)\n",
      "\t\t- Done!\n",
      "\t- Reading: 5.000000-t2tsecor-03471  (t2_tse_cor) (UNKNOWN)\n",
      "\t\t- Skipping!\n",
      "\t- Reading: 6.000000-ep2ddifftraDYNDIST-69284  (ep2d_diff_tra_DYNDIST) (b)\n",
      "\t\t- Done!\n",
      "\t- Reading: 7.000000-ep2ddifftraDYNDISTADC-48780  (ep2d_diff_tra_DYNDIST_ADC) (ADC)\n",
      "\t\t- Done!\n",
      "\t- Reading: 8.000000-ep2ddifftraDYNDISTCALCBVAL-83202  (ep2d_diff_tra_DYNDISTCALC_BVAL) (diff)\n",
      "\t\t- Skipping!\n",
      "\t- Reading: 9.000000-tfl3d PD reftra1.5x1.5t3-67276  (tfl_3d PD ref_tra_1.5x1.5_t3) (unk)\n",
      "\t\t- Skipping!\n",
      "\t- Reading: ProstateX-0000-Ktrans.mhd (Ktrans) (ktrans)\n",
      "\t\t- Done!\n",
      "\n",
      "\t\t> (Blurrying ADC) Combining 5 images: #### -> Elapsed: 1.00s\n",
      " - Lesion positions and significances:\n",
      "   - 1: [166.79832304 223.92334243   8.49784706], Sig: 3\n",
      " - Information: resampling_operation with pre_mask_growth_mm applied to channels [2] on x,y dimensions\n"
     ]
    },
    {
     "data": {
      "application/vnd.jupyter.widget-view+json": {
       "model_id": "7f4248d6d83c49deaada3c06f8aedca8",
       "version_major": 2,
       "version_minor": 0
      },
      "text/plain": [
       "interactive(children=(IntSlider(value=12, description='z', max=23, style=SliderStyle(handle_color='lightblue')…"
      ]
     },
     "metadata": {},
     "output_type": "display_data"
    },
    {
     "data": {
      "application/vnd.jupyter.widget-view+json": {
       "model_id": "ef34a38dc31d4d0882d3ae7878fadd8b",
       "version_major": 2,
       "version_minor": 0
      },
      "text/plain": [
       "interactive(children=(IntSlider(value=12, description='z', max=23, style=SliderStyle(handle_color='lightblue')…"
      ]
     },
     "metadata": {},
     "output_type": "display_data"
    },
    {
     "name": "stdout",
     "output_type": "stream",
     "text": [
      "\n",
      "ProstateX-0001\n",
      "Patient: ProstateX-0001 (date: 2011-07-08 00:00:00)\n",
      "\t- Reading: 1.000000-t2localizer-75055  (t2_localizer) (UNKNOWN)\n",
      "\t\t- Skipping!\n",
      "\t- Reading: 10.000000-t2tsetra-17541  (t2_tse_tra) (T2)\n",
      "\t\t- Done!\n",
      "\t- Reading: 11.000000-tfl3d PD reftra1.5x1.5t3-77124  (tfl_3d PD ref_tra_1.5x1.5_t3) (unk)\n",
      "\t\t- Skipping!\n",
      "\t- Reading: 2.000000-t2localizer-46616  (t2_localizer) (UNKNOWN)\n",
      "\t\t- Skipping!\n",
      "\t- Reading: 3.000000-t2loc sag-52336  (t2_loc sag) (UNKNOWN)\n",
      "\t\t- Skipping!\n",
      "\t- Reading: 4.000000-t2tsesag-22089  (t2_tse_sag) (UNKNOWN)\n",
      "\t\t- Skipping!\n",
      "\t- Reading: 5.000000-t2tsecor-26539  (t2_tse_cor) (UNKNOWN)\n",
      "\t\t- Skipping!\n",
      "\t- Reading: 6.000000-t2tsetra-76610  (t2_tse_tra) (T2)\n",
      "\t\t- Done!\n",
      "\t- Reading: 7.000000-ep2ddifftraDYNDISTMIX-61648  (ep2d_diff_tra_DYNDIST_MIX) (b)\n",
      "\t\t- Done!\n",
      "\t- Reading: 8.000000-ep2ddifftraDYNDISTMIXADC-33954  (ep2d_diff_tra_DYNDIST_MIX_ADC) (ADC)\n",
      "\t\t- Done!\n",
      "\t- Reading: 9.000000-ep2ddifftraDYNDISTMIXCALCBVAL-58431  (ep2d_diff_tra_DYNDIST_MIXCALC_BVAL) (diff)\n",
      "\t\t- Skipping!\n",
      "\t- Reading: ProstateX-0001-Ktrans.mhd (Ktrans) (ktrans)\n",
      "\t\t- Done!\n",
      "\n",
      "\t\t> (Blurrying ADC) Combining 5 images: #### -> Elapsed: 1.02s\n",
      " - Lesion positions and significances:\n",
      "   - 1: [156.83718872 185.51569667   8.99999729], Sig: 1\n",
      " - Information: resampling_operation with pre_mask_growth_mm applied to channels [2] on x,y dimensions\n"
     ]
    },
    {
     "data": {
      "application/vnd.jupyter.widget-view+json": {
       "model_id": "072152456b0149b79cd5d337acb4df8f",
       "version_major": 2,
       "version_minor": 0
      },
      "text/plain": [
       "interactive(children=(IntSlider(value=12, description='z', max=23, style=SliderStyle(handle_color='lightblue')…"
      ]
     },
     "metadata": {},
     "output_type": "display_data"
    },
    {
     "data": {
      "application/vnd.jupyter.widget-view+json": {
       "model_id": "d850cf147a2949e7b4c1d4544324948c",
       "version_major": 2,
       "version_minor": 0
      },
      "text/plain": [
       "interactive(children=(IntSlider(value=12, description='z', max=23, style=SliderStyle(handle_color='lightblue')…"
      ]
     },
     "metadata": {},
     "output_type": "display_data"
    },
    {
     "name": "stdout",
     "output_type": "stream",
     "text": [
      "\n",
      "ProstateX-0002\n",
      "Patient: ProstateX-0002 (date: 2011-07-15 00:00:00)\n",
      "\t- Reading: 1.000000-t2localizer-64390  (t2_localizer) (UNKNOWN)\n",
      "\t\t- Skipping!\n",
      "\t- Reading: 2.000000-t2loc sag-80387  (t2_loc sag) (UNKNOWN)\n",
      "\t\t- Skipping!\n",
      "\t- Reading: 3.000000-t2tsesag-02864  (t2_tse_sag) (UNKNOWN)\n",
      "\t\t- Skipping!\n",
      "\t- Reading: 4.000000-t2tsetra-44920  (t2_tse_tra) (T2)\n",
      "\t\t- Done!\n",
      "\t- Reading: 5.000000-t2tsecor-52380  (t2_tse_cor) (UNKNOWN)\n",
      "\t\t- Skipping!\n",
      "\t- Reading: 6.000000-ep2ddifftraDYNDIST-79751  (ep2d_diff_tra_DYNDIST) (b)\n",
      "\t\t- Done!\n",
      "\t- Reading: 7.000000-ep2ddifftraDYNDISTADC-78067  (ep2d_diff_tra_DYNDIST_ADC) (ADC)\n",
      "\t\t- Done!\n",
      "\t- Reading: 8.000000-ep2ddifftraDYNDISTCALCBVAL-65650  (ep2d_diff_tra_DYNDISTCALC_BVAL) (diff)\n",
      "\t\t- Skipping!\n",
      "\t- Reading: 9.000000-tfl3d PD reftra1.5x1.5t3-99219  (tfl_3d PD ref_tra_1.5x1.5_t3) (unk)\n",
      "\t\t- Skipping!\n",
      "\t- Reading: ProstateX-0002-Ktrans.mhd (Ktrans) (ktrans)\n",
      "\t\t- Done!\n",
      "\n",
      "\t\t> (Blurrying ADC) Combining 5 images: #### -> Elapsed: 1.02s\n",
      " - Lesion positions and significances:\n",
      "   - 1: [153.04683303 216.76145837  12.00000135], Sig: 2\n",
      "   - 2: [202.95123386 215.2381831    9.00002049], Sig: 1\n",
      " - Information: resampling_operation with pre_mask_growth_mm applied to channels [2] on x,y dimensions\n"
     ]
    },
    {
     "data": {
      "application/vnd.jupyter.widget-view+json": {
       "model_id": "a2ea5ed8ba87400ebabdc1bd2e5682f4",
       "version_major": 2,
       "version_minor": 0
      },
      "text/plain": [
       "interactive(children=(IntSlider(value=12, description='z', max=23, style=SliderStyle(handle_color='lightblue')…"
      ]
     },
     "metadata": {},
     "output_type": "display_data"
    },
    {
     "data": {
      "application/vnd.jupyter.widget-view+json": {
       "model_id": "fa1d38d5540948a79d246663555a6c85",
       "version_major": 2,
       "version_minor": 0
      },
      "text/plain": [
       "interactive(children=(IntSlider(value=12, description='z', max=23, style=SliderStyle(handle_color='lightblue')…"
      ]
     },
     "metadata": {},
     "output_type": "display_data"
    },
    {
     "name": "stdout",
     "output_type": "stream",
     "text": [
      "\n",
      "ProstateX-0003\n",
      "Patient: ProstateX-0003 (date: 2011-10-17 00:00:00)\n",
      "\t- Reading: 1.000000-t2localizer-71616  (t2_localizer) (UNKNOWN)\n",
      "\t\t- Skipping!\n",
      "\t- Reading: 2.000000-t2tsesag-41933  (t2_tse_sag) (UNKNOWN)\n",
      "\t\t- Skipping!\n",
      "\t- Reading: 3.000000-t2tsetra-30967  (t2_tse_tra) (T2)\n",
      "\t\t- Done!\n",
      "\t- Reading: 4.000000-t2tsecor-19765  (t2_tse_cor) (UNKNOWN)\n",
      "\t\t- Skipping!\n",
      "\t- Reading: 5.000000-ep2ddifftraDYNDIST-12594  (ep2d_diff_tra_DYNDIST) (b)\n",
      "\t\t- Done!\n",
      "\t- Reading: 6.000000-ep2ddifftraDYNDISTADC-83547  (ep2d_diff_tra_DYNDIST_ADC) (ADC)\n",
      "\t\t- Done!\n",
      "\t- Reading: 7.000000-ep2ddifftraDYNDISTCALCBVAL-86046  (ep2d_diff_tra_DYNDISTCALC_BVAL) (diff)\n",
      "\t\t- Skipping!\n",
      "\t- Reading: 8.000000-tfl3d PD reftra1.5x1.5t3-34713  (tfl_3d PD ref_tra_1.5x1.5_t3) (unk)\n",
      "\t\t- Skipping!\n",
      "\t- Reading: ProstateX-0003-Ktrans.mhd (Ktrans) (ktrans)\n",
      "\t\t- Done!\n",
      "\n",
      "\t\t> (Blurrying ADC) Combining 5 images: #### -> Elapsed: 1.06s\n",
      " - Lesion positions and significances:\n",
      "   - 1: [239.79996896 204.93992644  11.99999309], Sig: 10\n",
      "   - 2: [152.9267695  160.6731639   16.00001568], Sig: 10\n",
      " - Information: resampling_operation with pre_mask_growth_mm applied to channels [2] on x,y dimensions\n"
     ]
    },
    {
     "data": {
      "application/vnd.jupyter.widget-view+json": {
       "model_id": "4d949aad8c88487ab9351ab41115a64f",
       "version_major": 2,
       "version_minor": 0
      },
      "text/plain": [
       "interactive(children=(IntSlider(value=12, description='z', max=23, style=SliderStyle(handle_color='lightblue')…"
      ]
     },
     "metadata": {},
     "output_type": "display_data"
    },
    {
     "data": {
      "application/vnd.jupyter.widget-view+json": {
       "model_id": "40674ce748d049679cceda3963819c6a",
       "version_major": 2,
       "version_minor": 0
      },
      "text/plain": [
       "interactive(children=(IntSlider(value=12, description='z', max=23, style=SliderStyle(handle_color='lightblue')…"
      ]
     },
     "metadata": {},
     "output_type": "display_data"
    },
    {
     "name": "stdout",
     "output_type": "stream",
     "text": [
      "\n",
      "ProstateX-0004\n",
      "Patient: ProstateX-0004 (date: 2011-10-18 00:00:00)\n",
      "\t- Reading: 3.000000-t2tsesag-00386  (t2_tse_sag) (UNKNOWN)\n",
      "\t\t- Skipping!\n",
      "\t- Reading: 4.000000-t2tsecor-63070  (t2_tse_cor) (UNKNOWN)\n",
      "\t\t- Skipping!\n",
      "\t- Reading: 5.000000-t2tsetra-75680  (t2_tse_tra) (T2)\n",
      "\t\t- Done!\n",
      "\t- Reading: 6.000000-ep2ddifftraDYNDISTMIX-13414  (ep2d_diff_tra_DYNDIST_MIX) (b)\n",
      "\t\t- Done!\n",
      "\t- Reading: 7.000000-ep2ddifftraDYNDISTMIXADC-91158  (ep2d_diff_tra_DYNDIST_MIX_ADC) (ADC)\n",
      "\t\t- Done!\n",
      "\t- Reading: 8.000000-ep2ddifftraDYNDISTMIXCALCBVAL-20138  (ep2d_diff_tra_DYNDIST_MIXCALC_BVAL) (diff)\n",
      "\t\t- Skipping!\n",
      "\t- Reading: 9.000000-tfl3d PD reftra1.5x1.5t3-38903  (tfl_3d PD ref_tra_1.5x1.5_t3) (unk)\n",
      "\t\t- Skipping!\n",
      "\t- Reading: ProstateX-0004-Ktrans.mhd (Ktrans) (ktrans)\n",
      "\t\t- Done!\n",
      "\n",
      "\t\t> (Blurrying ADC) Combining 5 images: #### -> Elapsed: 1.02s\n",
      " - Lesion positions and significances:\n",
      "   - 1: [220.43320752 167.31321677   6.99999003], Sig: 1\n",
      " - Information: resampling_operation with pre_mask_growth_mm applied to channels [2] on x,y dimensions\n"
     ]
    },
    {
     "data": {
      "application/vnd.jupyter.widget-view+json": {
       "model_id": "722bdd3f096d4d2c9c68f45d8ccc6d55",
       "version_major": 2,
       "version_minor": 0
      },
      "text/plain": [
       "interactive(children=(IntSlider(value=12, description='z', max=23, style=SliderStyle(handle_color='lightblue')…"
      ]
     },
     "metadata": {},
     "output_type": "display_data"
    },
    {
     "data": {
      "application/vnd.jupyter.widget-view+json": {
       "model_id": "57607e62e373492aae2c9b4dcde19c73",
       "version_major": 2,
       "version_minor": 0
      },
      "text/plain": [
       "interactive(children=(IntSlider(value=12, description='z', max=23, style=SliderStyle(handle_color='lightblue')…"
      ]
     },
     "metadata": {},
     "output_type": "display_data"
    },
    {
     "name": "stdout",
     "output_type": "stream",
     "text": [
      "\n",
      "ProstateX-0005\n",
      "Patient: ProstateX-0005 (date: 2011-10-20 00:00:00)\n",
      "\t- Reading: 3.000000-t2tsesag-65685  (t2_tse_sag) (UNKNOWN)\n",
      "\t\t- Skipping!\n",
      "\t- Reading: 4.000000-t2tsetra-91330  (t2_tse_tra) (T2)\n",
      "\t\t- Done!\n",
      "\t- Reading: 5.000000-t2tsecor-05098  (t2_tse_cor) (UNKNOWN)\n",
      "\t\t- Skipping!\n",
      "\t- Reading: 6.000000-ep2ddifftraDYNDISTMIX-30883  (ep2d_diff_tra_DYNDIST_MIX) (b)\n",
      "\t\t- Done!\n",
      "\t- Reading: 7.000000-ep2ddifftraDYNDISTMIXADC-16270  (ep2d_diff_tra_DYNDIST_MIX_ADC) (ADC)\n",
      "\t\t- Done!\n",
      "\t- Reading: 8.000000-ep2ddifftraDYNDISTMIXCALCBVAL-18975  (ep2d_diff_tra_DYNDIST_MIXCALC_BVAL) (diff)\n",
      "\t\t- Skipping!\n",
      "\t- Reading: 9.000000-tfl3d PD reftra1.5x1.5t3-17991  (tfl_3d PD ref_tra_1.5x1.5_t3) (unk)\n",
      "\t\t- Skipping!\n",
      "\t- Reading: ProstateX-0005-Ktrans.mhd (Ktrans) (ktrans)\n",
      "\t\t- Done!\n",
      "\n",
      "\t\t> (Blurrying ADC) Combining 5 images: #### -> Elapsed: 1.04s\n",
      " - Lesion positions and significances:\n",
      "   - 1: [205.02032088 232.60419638   8.99998244], Sig: 2\n",
      "   - 2: [156.79998397 218.21998505   8.99999637], Sig: 3\n",
      "   - 3: [189.87665939 184.46897062   8.99998208], Sig: 10\n",
      " - Information: resampling_operation with pre_mask_growth_mm applied to channels [2] on x,y dimensions\n"
     ]
    },
    {
     "data": {
      "application/vnd.jupyter.widget-view+json": {
       "model_id": "3759fc1b734c4b388d404c4bc16fd564",
       "version_major": 2,
       "version_minor": 0
      },
      "text/plain": [
       "interactive(children=(IntSlider(value=12, description='z', max=23, style=SliderStyle(handle_color='lightblue')…"
      ]
     },
     "metadata": {},
     "output_type": "display_data"
    },
    {
     "data": {
      "application/vnd.jupyter.widget-view+json": {
       "model_id": "79019a34ed444ddca9aa4e296f611697",
       "version_major": 2,
       "version_minor": 0
      },
      "text/plain": [
       "interactive(children=(IntSlider(value=12, description='z', max=23, style=SliderStyle(handle_color='lightblue')…"
      ]
     },
     "metadata": {},
     "output_type": "display_data"
    },
    {
     "name": "stdout",
     "output_type": "stream",
     "text": [
      "\n",
      "ProstateX-0006\n",
      "Patient: ProstateX-0006 (date: 2011-10-21 00:00:00)\n",
      "\t- Reading: 1.000000-t2localizer-77873  (t2_localizer) (UNKNOWN)\n",
      "\t\t- Skipping!\n",
      "\t- Reading: 2.000000-t2loc sag-12049  (t2_loc sag) (UNKNOWN)\n",
      "\t\t- Skipping!\n",
      "\t- Reading: 3.000000-t2tsesag-19869  (t2_tse_sag) (UNKNOWN)\n",
      "\t\t- Skipping!\n",
      "\t- Reading: 4.000000-t2tsetra-98209  (t2_tse_tra) (T2)\n",
      "\t\t- Done!\n",
      "\t- Reading: 5.000000-t2tsecor-47733  (t2_tse_cor) (UNKNOWN)\n",
      "\t\t- Skipping!\n",
      "\t- Reading: 6.000000-ep2ddifftraDYNDIST-60838  (ep2d_diff_tra_DYNDIST) (b)\n",
      "\t\t- Done!\n",
      "\t- Reading: 7.000000-ep2ddifftraDYNDISTADC-34068  (ep2d_diff_tra_DYNDIST_ADC) (ADC)\n",
      "\t\t- Done!\n",
      "\t- Reading: 8.000000-ep2ddifftraDYNDISTCALCBVAL-06598  (ep2d_diff_tra_DYNDISTCALC_BVAL) (diff)\n",
      "\t\t- Skipping!\n",
      "\t- Reading: 9.000000-tfl3d PD reftra1.5x1.5t3-14828  (tfl_3d PD ref_tra_1.5x1.5_t3) (unk)\n",
      "\t\t- Skipping!\n",
      "\t- Reading: ProstateX-0006-Ktrans.mhd (Ktrans) (ktrans)\n",
      "\t\t- Done!\n",
      "\n",
      "\t\t> (Blurrying ADC) Combining 5 images: #### -> Elapsed: 1.04s\n",
      " - Lesion positions and significances:\n",
      "   - 1: [221.54000377 208.26007874  10.00000217], Sig: 10\n",
      "   - 2: [185.42010402 220.97999969  14.24999976], Sig: 10\n",
      " - Information: resampling_operation with pre_mask_growth_mm applied to channels [2] on x,y dimensions\n"
     ]
    },
    {
     "data": {
      "application/vnd.jupyter.widget-view+json": {
       "model_id": "ea1a0a5c61c2437db167889774b00f5e",
       "version_major": 2,
       "version_minor": 0
      },
      "text/plain": [
       "interactive(children=(IntSlider(value=12, description='z', max=23, style=SliderStyle(handle_color='lightblue')…"
      ]
     },
     "metadata": {},
     "output_type": "display_data"
    },
    {
     "data": {
      "application/vnd.jupyter.widget-view+json": {
       "model_id": "41f7bca09cca4a5fa7e80d66e37304b7",
       "version_major": 2,
       "version_minor": 0
      },
      "text/plain": [
       "interactive(children=(IntSlider(value=12, description='z', max=23, style=SliderStyle(handle_color='lightblue')…"
      ]
     },
     "metadata": {},
     "output_type": "display_data"
    },
    {
     "name": "stdout",
     "output_type": "stream",
     "text": [
      "\n",
      "ProstateX-0007\n",
      "Patient: ProstateX-0007 (date: 2011-10-21 00:00:00)\n",
      "\t- Reading: 1.000000-t2localizer-72960  (t2_localizer) (UNKNOWN)\n",
      "\t\t- Skipping!\n",
      "\t- Reading: 10.000000-tfl3d PD reftra1.5x1.5t3-23530  (tfl_3d PD ref_tra_1.5x1.5_t3) (unk)\n",
      "\t\t- Skipping!\n",
      "\t- Reading: 2.000000-t2loc sag-54345  (t2_loc sag) (UNKNOWN)\n",
      "\t\t- Skipping!\n",
      "\t- Reading: 3.000000-t2tsesag-34998  (t2_tse_sag) (UNKNOWN)\n",
      "\t\t- Skipping!\n",
      "\t- Reading: 4.000000-t2tsetra-39325  (t2_tse_tra) (T2)\n",
      "\t\t- Done!\n",
      "\t- Reading: 5.000000-t2tsecor-73880  (t2_tse_cor) (UNKNOWN)\n",
      "\t\t- Skipping!\n",
      "\t- Reading: 6.000000-t2tsesag-35357  (t2_tse_sag) (UNKNOWN)\n",
      "\t\t- Skipping!\n",
      "\t- Reading: 7.000000-ep2ddifftraDYNDIST-06917  (ep2d_diff_tra_DYNDIST) (b)\n",
      "\t\t- Done!\n",
      "\t- Reading: 8.000000-ep2ddifftraDYNDISTADC-05734  (ep2d_diff_tra_DYNDIST_ADC) (ADC)\n",
      "\t\t- Done!\n",
      "\t- Reading: 9.000000-ep2ddifftraDYNDISTCALCBVAL-39054  (ep2d_diff_tra_DYNDISTCALC_BVAL) (diff)\n",
      "\t\t- Skipping!\n",
      "\t- Reading: ProstateX-0007-Ktrans.mhd (Ktrans) (ktrans)\n",
      "\t\t- Done!\n",
      "\n",
      "\t\t> (Blurrying ADC) Combining 5 images: #### -> Elapsed: 1.06s\n",
      " - Lesion positions and significances:\n",
      "   - 1: [212.32367802 179.10302057   8.35839742], Sig: 10\n",
      " - Information: resampling_operation with pre_mask_growth_mm applied to channels [2] on x,y dimensions\n"
     ]
    },
    {
     "data": {
      "application/vnd.jupyter.widget-view+json": {
       "model_id": "57ab7c909df54e63b5c4d9bb7666d338",
       "version_major": 2,
       "version_minor": 0
      },
      "text/plain": [
       "interactive(children=(IntSlider(value=12, description='z', max=23, style=SliderStyle(handle_color='lightblue')…"
      ]
     },
     "metadata": {},
     "output_type": "display_data"
    },
    {
     "data": {
      "application/vnd.jupyter.widget-view+json": {
       "model_id": "080856b94f7c46538873c57f644279a8",
       "version_major": 2,
       "version_minor": 0
      },
      "text/plain": [
       "interactive(children=(IntSlider(value=12, description='z', max=23, style=SliderStyle(handle_color='lightblue')…"
      ]
     },
     "metadata": {},
     "output_type": "display_data"
    },
    {
     "name": "stdout",
     "output_type": "stream",
     "text": [
      "\n",
      "ProstateX-0008\n",
      "Patient: ProstateX-0008 (date: 2011-10-21 00:00:00)\n",
      "\t- Reading: 1.000000-t2localizer-74255  (t2_localizer) (UNKNOWN)\n",
      "\t\t- Skipping!\n",
      "\t- Reading: 10.000000-tfl3d PD reftra1.5x1.5t3-14084  (tfl_3d PD ref_tra_1.5x1.5_t3) (unk)\n",
      "\t\t- Skipping!\n",
      "\t- Reading: 2.000000-t2loc sag-18343  (t2_loc sag) (UNKNOWN)\n",
      "\t\t- Skipping!\n",
      "\t- Reading: 3.000000-t2tsesag-46088  (t2_tse_sag) (UNKNOWN)\n",
      "\t\t- Skipping!\n",
      "\t- Reading: 4.000000-t2tsetra-73777  (t2_tse_tra) (T2)\n",
      "\t\t- Done!\n",
      "\t- Reading: 5.000000-t2tsecor-30647  (t2_tse_cor) (UNKNOWN)\n",
      "\t\t- Skipping!\n",
      "\t- Reading: 6.000000-t2tsesag-69918  (t2_tse_sag) (UNKNOWN)\n",
      "\t\t- Skipping!\n",
      "\t- Reading: 7.000000-ep2ddifftraDYNDIST-67664  (ep2d_diff_tra_DYNDIST) (b)\n",
      "\t\t- Done!\n",
      "\t- Reading: 8.000000-ep2ddifftraDYNDISTADC-77513  (ep2d_diff_tra_DYNDIST_ADC) (ADC)\n",
      "\t\t- Done!\n",
      "\t- Reading: 9.000000-ep2ddifftraDYNDISTCALCBVAL-23760  (ep2d_diff_tra_DYNDISTCALC_BVAL) (diff)\n",
      "\t\t- Skipping!\n",
      "\t- Reading: ProstateX-0008-Ktrans.mhd (Ktrans) (ktrans)\n",
      "\t\t- Done!\n",
      "\n",
      "\t\t> (Blurrying ADC) Combining 5 images: #### -> Elapsed: 1.06s\n",
      " - Lesion positions and significances:\n",
      "   - 1: [215.11799431 207.13890961  10.99999645], Sig: 10\n",
      " - Information: resampling_operation with pre_mask_growth_mm applied to channels [2] on x,y dimensions\n"
     ]
    },
    {
     "data": {
      "application/vnd.jupyter.widget-view+json": {
       "model_id": "2368ac6e52824339a456e2080f7fff20",
       "version_major": 2,
       "version_minor": 0
      },
      "text/plain": [
       "interactive(children=(IntSlider(value=12, description='z', max=23, style=SliderStyle(handle_color='lightblue')…"
      ]
     },
     "metadata": {},
     "output_type": "display_data"
    },
    {
     "data": {
      "application/vnd.jupyter.widget-view+json": {
       "model_id": "191f8280368748fab3a7810717c9acb0",
       "version_major": 2,
       "version_minor": 0
      },
      "text/plain": [
       "interactive(children=(IntSlider(value=12, description='z', max=23, style=SliderStyle(handle_color='lightblue')…"
      ]
     },
     "metadata": {},
     "output_type": "display_data"
    },
    {
     "name": "stdout",
     "output_type": "stream",
     "text": [
      "\n",
      "ProstateX-0009\n",
      "Patient: ProstateX-0009 (date: 2011-10-21 00:00:00)\n",
      "\t- Reading: 1.000000-t2localizer-23009  (t2_localizer) (UNKNOWN)\n",
      "\t\t- Skipping!\n",
      "\t- Reading: 2.000000-t2loc sag-34925  (t2_loc sag) (UNKNOWN)\n",
      "\t\t- Skipping!\n",
      "\t- Reading: 3.000000-t2tsesag-32451  (t2_tse_sag) (UNKNOWN)\n",
      "\t\t- Skipping!\n",
      "\t- Reading: 4.000000-t2tsetra-61765  (t2_tse_tra) (T2)\n",
      "\t\t- Done!\n",
      "\t- Reading: 5.000000-t2tsecor-44585  (t2_tse_cor) (UNKNOWN)\n",
      "\t\t- Skipping!\n",
      "\t- Reading: 6.000000-ep2ddifftraDYNDIST-04373  (ep2d_diff_tra_DYNDIST) (b)\n",
      "\t\t- Done!\n",
      "\t- Reading: 7.000000-ep2ddifftraDYNDISTADC-30502  (ep2d_diff_tra_DYNDIST_ADC) (ADC)\n",
      "\t\t- Done!\n",
      "\t- Reading: 8.000000-ep2ddifftraDYNDISTCALCBVAL-54954  (ep2d_diff_tra_DYNDISTCALC_BVAL) (diff)\n",
      "\t\t- Skipping!\n",
      "\t- Reading: 9.000000-tfl3d PD reftra1.5x1.5t3-60249  (tfl_3d PD ref_tra_1.5x1.5_t3) (unk)\n",
      "\t\t- Skipping!\n",
      "\t- Reading: ProstateX-0009-Ktrans.mhd (Ktrans) (ktrans)\n",
      "\t\t- Done!\n",
      "\n",
      "\t\t> (Blurrying ADC) Combining 5 images: #### -> Elapsed: 1.10s\n",
      " - Lesion positions and significances:\n",
      "   - 1: [196.0868454  190.55315514  13.9999829 ], Sig: 10\n",
      " - Information: resampling_operation with pre_mask_growth_mm applied to channels [2] on x,y dimensions\n"
     ]
    },
    {
     "data": {
      "application/vnd.jupyter.widget-view+json": {
       "model_id": "7875111c824344d1ba39cae1e2a038ee",
       "version_major": 2,
       "version_minor": 0
      },
      "text/plain": [
       "interactive(children=(IntSlider(value=12, description='z', max=23, style=SliderStyle(handle_color='lightblue')…"
      ]
     },
     "metadata": {},
     "output_type": "display_data"
    },
    {
     "data": {
      "application/vnd.jupyter.widget-view+json": {
       "model_id": "81820d813fa4479192d26bb41c43cb59",
       "version_major": 2,
       "version_minor": 0
      },
      "text/plain": [
       "interactive(children=(IntSlider(value=12, description='z', max=23, style=SliderStyle(handle_color='lightblue')…"
      ]
     },
     "metadata": {},
     "output_type": "display_data"
    },
    {
     "name": "stdout",
     "output_type": "stream",
     "text": [
      "\n",
      "ProstateX-0010\n",
      "Patient: ProstateX-0010 (date: 2011-10-21 00:00:00)\n",
      "\t- Reading: 1.000000-t2localizer-80309  (t2_localizer) (UNKNOWN)\n",
      "\t\t- Skipping!\n",
      "\t- Reading: 10.000000-tfl3d PD reftra1.5x1.5t3-16245  (tfl_3d PD ref_tra_1.5x1.5_t3) (unk)\n",
      "\t\t- Skipping!\n",
      "\t- Reading: 2.000000-t2loc sag-17000  (t2_loc sag) (UNKNOWN)\n",
      "\t\t- Skipping!\n",
      "\t- Reading: 3.000000-t2tsesag-77639  (t2_tse_sag) (UNKNOWN)\n",
      "\t\t- Skipping!\n",
      "\t- Reading: 4.000000-t2tsetra-15389  (t2_tse_tra) (T2)\n",
      "\t\t- Done!\n",
      "\t- Reading: 5.000000-t2tsecor-36511  (t2_tse_cor) (UNKNOWN)\n",
      "\t\t- Skipping!\n",
      "\t- Reading: 6.000000-t2tsetra-07664  (t2_tse_tra) (T2)\n",
      "\t\t- Done!\n",
      "\t- Reading: 7.000000-ep2ddifftraDYNDIST-49879  (ep2d_diff_tra_DYNDIST) (b)\n",
      "\t\t- Done!\n",
      "\t- Reading: 8.000000-ep2ddifftraDYNDISTADC-19362  (ep2d_diff_tra_DYNDIST_ADC) (ADC)\n",
      "\t\t- Done!\n",
      "\t- Reading: 9.000000-ep2ddifftraDYNDISTCALCBVAL-97280  (ep2d_diff_tra_DYNDISTCALC_BVAL) (diff)\n",
      "\t\t- Skipping!\n",
      "\t- Reading: ProstateX-0010-Ktrans.mhd (Ktrans) (ktrans)\n",
      "\t\t- Done!\n",
      "\n",
      "\t\t> (Blurrying ADC) Combining 5 images: #### -> Elapsed: 1.09s\n",
      " - Lesion positions and significances:\n",
      "   - 1: [149.22476768 212.0901258    9.99999418], Sig: 10\n",
      " - Information: resampling_operation with pre_mask_growth_mm applied to channels [2] on x,y dimensions\n"
     ]
    },
    {
     "data": {
      "application/vnd.jupyter.widget-view+json": {
       "model_id": "2b9ce8d86dd34c14a40c50b105a4f1ba",
       "version_major": 2,
       "version_minor": 0
      },
      "text/plain": [
       "interactive(children=(IntSlider(value=12, description='z', max=23, style=SliderStyle(handle_color='lightblue')…"
      ]
     },
     "metadata": {},
     "output_type": "display_data"
    },
    {
     "data": {
      "application/vnd.jupyter.widget-view+json": {
       "model_id": "fc9562e489de4476b0087228e565e105",
       "version_major": 2,
       "version_minor": 0
      },
      "text/plain": [
       "interactive(children=(IntSlider(value=12, description='z', max=23, style=SliderStyle(handle_color='lightblue')…"
      ]
     },
     "metadata": {},
     "output_type": "display_data"
    },
    {
     "name": "stdout",
     "output_type": "stream",
     "text": [
      "\n",
      "ProstateX-0011\n",
      "Patient: ProstateX-0011 (date: 2011-10-22 00:00:00)\n",
      "\t- Reading: 10.000000-tfl3d PD reftra1.5x1.5t3-08097  (tfl_3d PD ref_tra_1.5x1.5_t3) (unk)\n",
      "\t\t- Skipping!\n",
      "\t- Reading: 3.000000-t2tsesag-20105  (t2_tse_sag) (UNKNOWN)\n",
      "\t\t- Skipping!\n",
      "\t- Reading: 4.000000-t2tsetra-48529  (t2_tse_tra) (T2)\n",
      "\t\t- Done!\n",
      "\t- Reading: 5.000000-t2tsecor-29873  (t2_tse_cor) (UNKNOWN)\n",
      "\t\t- Skipping!\n",
      "\t- Reading: 6.000000-t2tsetra-00502  (t2_tse_tra) (T2)\n",
      "\t\t- Done!\n",
      "\t- Reading: 7.000000-ep2ddifftraDYNDIST-47922  (ep2d_diff_tra_DYNDIST) (b)\n",
      "\t\t- Done!\n",
      "\t- Reading: 8.000000-ep2ddifftraDYNDISTADC-49862  (ep2d_diff_tra_DYNDIST_ADC) (ADC)\n",
      "\t\t- Done!\n",
      "\t- Reading: 9.000000-ep2ddifftraDYNDISTCALCBVAL-44985  (ep2d_diff_tra_DYNDISTCALC_BVAL) (diff)\n",
      "\t\t- Skipping!\n",
      "\t- Reading: ProstateX-0011-Ktrans.mhd (Ktrans) (ktrans)\n",
      "\t\t- Done!\n",
      "\n",
      "\t\t> (Blurrying ADC) Combining 5 images: #### -> Elapsed: 1.18s\n",
      " - Lesion positions and significances:\n",
      "   - 1: [219.88000107 197.19315814   8.00000548], Sig: 10\n",
      " - Information: resampling_operation with pre_mask_growth_mm applied to channels [2] on x,y dimensions\n"
     ]
    },
    {
     "data": {
      "application/vnd.jupyter.widget-view+json": {
       "model_id": "38b75c7ed7ad48fdad43d467f64abc08",
       "version_major": 2,
       "version_minor": 0
      },
      "text/plain": [
       "interactive(children=(IntSlider(value=12, description='z', max=23, style=SliderStyle(handle_color='lightblue')…"
      ]
     },
     "metadata": {},
     "output_type": "display_data"
    },
    {
     "data": {
      "application/vnd.jupyter.widget-view+json": {
       "model_id": "cbf88f6f388a4b818a518f603c7cd166",
       "version_major": 2,
       "version_minor": 0
      },
      "text/plain": [
       "interactive(children=(IntSlider(value=12, description='z', max=23, style=SliderStyle(handle_color='lightblue')…"
      ]
     },
     "metadata": {},
     "output_type": "display_data"
    },
    {
     "name": "stdout",
     "output_type": "stream",
     "text": [
      "\n",
      "ProstateX-0012\n",
      "Patient: ProstateX-0012 (date: 2011-10-24 00:00:00)\n",
      "\t- Reading: 1.000000-t2localizer-67008  (t2_localizer) (UNKNOWN)\n",
      "\t\t- Skipping!\n",
      "\t- Reading: 10.000000-tfl3d PD reftra1.5x1.5t3-74062  (tfl_3d PD ref_tra_1.5x1.5_t3) (unk)\n",
      "\t\t- Skipping!\n",
      "\t- Reading: 2.000000-t2loc sag-61650  (t2_loc sag) (UNKNOWN)\n",
      "\t\t- Skipping!\n",
      "\t- Reading: 3.000000-t2tsesag-75948  (t2_tse_sag) (UNKNOWN)\n",
      "\t\t- Skipping!\n",
      "\t- Reading: 4.000000-t2tsetra-09623  (t2_tse_tra) (T2)\n",
      "\t\t- Done!\n",
      "\t- Reading: 5.000000-t2tsecor-69243  (t2_tse_cor) (UNKNOWN)\n",
      "\t\t- Skipping!\n",
      "\t- Reading: 6.000000-t2tsesag-91229  (t2_tse_sag) (UNKNOWN)\n",
      "\t\t- Skipping!\n",
      "\t- Reading: 7.000000-ep2ddifftraDYNDIST-11930  (ep2d_diff_tra_DYNDIST) (b)\n",
      "\t\t- Done!\n",
      "\t- Reading: 8.000000-ep2ddifftraDYNDISTADC-33105  (ep2d_diff_tra_DYNDIST_ADC) (ADC)\n",
      "\t\t- Done!\n",
      "\t- Reading: 9.000000-ep2ddifftraDYNDISTCALCBVAL-44203  (ep2d_diff_tra_DYNDISTCALC_BVAL) (diff)\n",
      "\t\t- Skipping!\n",
      "\t- Reading: ProstateX-0012-Ktrans.mhd (Ktrans) (ktrans)\n",
      "\t\t- Done!\n",
      "\n",
      "\t\t> (Blurrying ADC) Combining 5 images: #### -> Elapsed: 1.17s\n",
      " - Lesion positions and significances:\n",
      "   - 1: [180.54399871 229.43271182   8.66303789], Sig: 10\n",
      "   - 2: [179.1992035  161.01527394  10.99997419], Sig: 10\n",
      " - Information: resampling_operation with pre_mask_growth_mm applied to channels [2] on x,y dimensions\n"
     ]
    },
    {
     "data": {
      "application/vnd.jupyter.widget-view+json": {
       "model_id": "f524c9101fb44d249a7025a6b3cfb2a6",
       "version_major": 2,
       "version_minor": 0
      },
      "text/plain": [
       "interactive(children=(IntSlider(value=12, description='z', max=23, style=SliderStyle(handle_color='lightblue')…"
      ]
     },
     "metadata": {},
     "output_type": "display_data"
    },
    {
     "data": {
      "application/vnd.jupyter.widget-view+json": {
       "model_id": "8fc21c46e6cb42cd9793c89943040cff",
       "version_major": 2,
       "version_minor": 0
      },
      "text/plain": [
       "interactive(children=(IntSlider(value=12, description='z', max=23, style=SliderStyle(handle_color='lightblue')…"
      ]
     },
     "metadata": {},
     "output_type": "display_data"
    },
    {
     "name": "stdout",
     "output_type": "stream",
     "text": [
      "\n",
      "ProstateX-0013\n",
      "Patient: ProstateX-0013 (date: 2011-07-15 00:00:00)\n",
      "\t- Reading: 1.000000-t2localizer-25232  (t2_localizer) (UNKNOWN)\n",
      "\t\t- Skipping!\n",
      "\t- Reading: 2.000000-t2loc sag-16098  (t2_loc sag) (UNKNOWN)\n",
      "\t\t- Skipping!\n",
      "\t- Reading: 3.000000-t2tsesag-07676  (t2_tse_sag) (UNKNOWN)\n",
      "\t\t- Skipping!\n",
      "\t- Reading: 4.000000-t2tsetra-11799  (t2_tse_tra) (T2)\n",
      "\t\t- Done!\n",
      "\t- Reading: 5.000000-t2tsecor-52651  (t2_tse_cor) (UNKNOWN)\n",
      "\t\t- Skipping!\n",
      "\t- Reading: 6.000000-ep2ddifftraDYNDISTMIX-16521  (ep2d_diff_tra_DYNDIST_MIX) (b)\n",
      "\t\t- Done!\n",
      "\t- Reading: 7.000000-ep2ddifftraDYNDISTMIXADC-49879  (ep2d_diff_tra_DYNDIST_MIX_ADC) (ADC)\n",
      "\t\t- Done!\n",
      "\t- Reading: 8.000000-ep2ddifftraDYNDISTMIXCALCBVAL-84940  (ep2d_diff_tra_DYNDIST_MIXCALC_BVAL) (diff)\n",
      "\t\t- Skipping!\n",
      "\t- Reading: 9.000000-tfl3d PD reftra1.5x1.5t3-60499  (tfl_3d PD ref_tra_1.5x1.5_t3) (unk)\n",
      "\t\t- Skipping!\n",
      "\t- Reading: ProstateX-0013-Ktrans.mhd (Ktrans) (ktrans)\n",
      "\t\t- Done!\n",
      "\n",
      "\t\t> (Blurrying ADC) Combining 5 images: #### -> Elapsed: 1.31s\n",
      " - Lesion positions and significances:\n",
      "   - 1: [123.41194534 203.30897141  11.74999827], Sig: 10\n",
      " - Information: resampling_operation with pre_mask_growth_mm applied to channels [2] on x,y dimensions\n"
     ]
    },
    {
     "data": {
      "application/vnd.jupyter.widget-view+json": {
       "model_id": "ce2a8a6cea8442c29145120256941008",
       "version_major": 2,
       "version_minor": 0
      },
      "text/plain": [
       "interactive(children=(IntSlider(value=12, description='z', max=23, style=SliderStyle(handle_color='lightblue')…"
      ]
     },
     "metadata": {},
     "output_type": "display_data"
    },
    {
     "data": {
      "application/vnd.jupyter.widget-view+json": {
       "model_id": "0e5758b1f47046af9e2b5b7a354195b9",
       "version_major": 2,
       "version_minor": 0
      },
      "text/plain": [
       "interactive(children=(IntSlider(value=12, description='z', max=23, style=SliderStyle(handle_color='lightblue')…"
      ]
     },
     "metadata": {},
     "output_type": "display_data"
    },
    {
     "name": "stdout",
     "output_type": "stream",
     "text": [
      "\n",
      "ProstateX-0014\n",
      "Patient: ProstateX-0014 (date: 2011-10-24 00:00:00)\n",
      "\t- Reading: 3.000000-t2tsesag-85843  (t2_tse_sag) (UNKNOWN)\n",
      "\t\t- Skipping!\n",
      "\t- Reading: 4.000000-t2tsetra-13100  (t2_tse_tra) (T2)\n",
      "\t\t- Done!\n",
      "\t- Reading: 5.000000-t2tsecor-35000  (t2_tse_cor) (UNKNOWN)\n",
      "\t\t- Skipping!\n",
      "\t- Reading: 6.000000-ep2ddifftraDYNDISTMIX-78533  (ep2d_diff_tra_DYNDIST_MIX) (b)\n",
      "\t\t- Done!\n",
      "\t- Reading: 7.000000-ep2ddifftraDYNDISTMIXADC-40369  (ep2d_diff_tra_DYNDIST_MIX_ADC) (ADC)\n",
      "\t\t- Done!\n",
      "\t- Reading: 8.000000-ep2ddifftraDYNDISTMIXCALCBVAL-33898  (ep2d_diff_tra_DYNDIST_MIXCALC_BVAL) (diff)\n",
      "\t\t- Skipping!\n",
      "\t- Reading: 9.000000-tfl3d PD reftra1.5x1.5t3-03429  (tfl_3d PD ref_tra_1.5x1.5_t3) (unk)\n",
      "\t\t- Skipping!\n",
      "\t- Reading: ProstateX-0014-Ktrans.mhd (Ktrans) (ktrans)\n",
      "\t\t- Done!\n",
      "\n",
      "\t\t> (Blurrying ADC) Combining 5 images: #### -> Elapsed: 1.32s\n",
      " - Lesion positions and significances:\n",
      "   - 1: [180.20994186 192.9915881    6.1705993 ], Sig: 2\n",
      " - Information: resampling_operation with pre_mask_growth_mm applied to channels [2] on x,y dimensions\n"
     ]
    },
    {
     "data": {
      "application/vnd.jupyter.widget-view+json": {
       "model_id": "49f3c555033e442cbf03e55c2a0e2755",
       "version_major": 2,
       "version_minor": 0
      },
      "text/plain": [
       "interactive(children=(IntSlider(value=12, description='z', max=23, style=SliderStyle(handle_color='lightblue')…"
      ]
     },
     "metadata": {},
     "output_type": "display_data"
    },
    {
     "data": {
      "application/vnd.jupyter.widget-view+json": {
       "model_id": "67b30550652b4549b4243df91a91034d",
       "version_major": 2,
       "version_minor": 0
      },
      "text/plain": [
       "interactive(children=(IntSlider(value=12, description='z', max=23, style=SliderStyle(handle_color='lightblue')…"
      ]
     },
     "metadata": {},
     "output_type": "display_data"
    },
    {
     "name": "stdout",
     "output_type": "stream",
     "text": [
      "\n",
      "ProstateX-0015\n",
      "Patient: ProstateX-0015 (date: 2011-10-24 00:00:00)\n",
      "\t- Reading: 3.000000-t2tsesag-12423  (t2_tse_sag) (UNKNOWN)\n",
      "\t\t- Skipping!\n",
      "\t- Reading: 4.000000-t2tsetra-75041  (t2_tse_tra) (T2)\n",
      "\t\t- Done!\n",
      "\t- Reading: 5.000000-t2tsecor-25021  (t2_tse_cor) (UNKNOWN)\n",
      "\t\t- Skipping!\n",
      "\t- Reading: 6.000000-ep2ddifftraDYNDISTMIX-60295  (ep2d_diff_tra_DYNDIST_MIX) (b)\n",
      "\t\t- Done!\n",
      "\t- Reading: 7.000000-ep2ddifftraDYNDISTMIXADC-68133  (ep2d_diff_tra_DYNDIST_MIX_ADC) (ADC)\n",
      "\t\t- Done!\n",
      "\t- Reading: 8.000000-ep2ddifftraDYNDISTMIXCALCBVAL-72317  (ep2d_diff_tra_DYNDIST_MIXCALC_BVAL) (diff)\n",
      "\t\t- Skipping!\n",
      "\t- Reading: 9.000000-tfl3d PD reftra1.5x1.5t3-75352  (tfl_3d PD ref_tra_1.5x1.5_t3) (unk)\n",
      "\t\t- Skipping!\n",
      "\t- Reading: ProstateX-0015-Ktrans.mhd (Ktrans) (ktrans)\n",
      "\t\t- Done!\n",
      "\n",
      "\t\t> (Blurrying ADC) Combining 5 images: #### -> Elapsed: 1.49s\n",
      " - Lesion positions and significances:\n",
      "   - 1: [215.48892022 153.03983154   7.00135001], Sig: 3\n",
      " - Information: resampling_operation with pre_mask_growth_mm applied to channels [2] on x,y dimensions\n"
     ]
    },
    {
     "data": {
      "application/vnd.jupyter.widget-view+json": {
       "model_id": "c089f4e36a034f84af647a187e005d7e",
       "version_major": 2,
       "version_minor": 0
      },
      "text/plain": [
       "interactive(children=(IntSlider(value=12, description='z', max=23, style=SliderStyle(handle_color='lightblue')…"
      ]
     },
     "metadata": {},
     "output_type": "display_data"
    },
    {
     "data": {
      "application/vnd.jupyter.widget-view+json": {
       "model_id": "cf5b31ac48f847339f5114d00c98438f",
       "version_major": 2,
       "version_minor": 0
      },
      "text/plain": [
       "interactive(children=(IntSlider(value=12, description='z', max=23, style=SliderStyle(handle_color='lightblue')…"
      ]
     },
     "metadata": {},
     "output_type": "display_data"
    },
    {
     "name": "stdout",
     "output_type": "stream",
     "text": [
      "\n",
      "ProstateX-0016\n",
      "Patient: ProstateX-0016 (date: 2011-10-25 00:00:00)\n",
      "\t- Reading: 1.000000-t2localizer-97073  (t2_localizer) (UNKNOWN)\n",
      "\t\t- Skipping!\n",
      "\t- Reading: 2.000000-t2loc sag-30154  (t2_loc sag) (UNKNOWN)\n",
      "\t\t- Skipping!\n",
      "\t- Reading: 3.000000-t2tsesag-88333  (t2_tse_sag) (UNKNOWN)\n",
      "\t\t- Skipping!\n",
      "\t- Reading: 4.000000-t2tsetra-75658  (t2_tse_tra) (T2)\n",
      "\t\t- Done!\n",
      "\t- Reading: 5.000000-t2tsecor-28731  (t2_tse_cor) (UNKNOWN)\n",
      "\t\t- Skipping!\n",
      "\t- Reading: 6.000000-ep2ddifftraDYNDIST-81220  (ep2d_diff_tra_DYNDIST) (b)\n",
      "\t\t- Done!\n",
      "\t- Reading: 7.000000-ep2ddifftraDYNDISTADC-29603  (ep2d_diff_tra_DYNDIST_ADC) (ADC)\n",
      "\t\t- Done!\n",
      "\t- Reading: 8.000000-ep2ddifftraDYNDISTCALCBVAL-20886  (ep2d_diff_tra_DYNDISTCALC_BVAL) (diff)\n",
      "\t\t- Skipping!\n",
      "\t- Reading: 9.000000-tfl3d PD reftra1.5x1.5t3-76499  (tfl_3d PD ref_tra_1.5x1.5_t3) (unk)\n",
      "\t\t- Skipping!\n",
      "\t- Reading: ProstateX-0016-Ktrans.mhd (Ktrans) (ktrans)\n",
      "\t\t- Done!\n",
      "\n",
      "\t\t> (Blurrying ADC) Combining 5 images: #### -> Elapsed: 1.45s\n",
      " - Lesion positions and significances:\n",
      "   - 1: [170.20992375 168.51600395   5.00000141], Sig: 1\n",
      " - Information: resampling_operation with pre_mask_growth_mm applied to channels [2] on x,y dimensions\n"
     ]
    },
    {
     "data": {
      "application/vnd.jupyter.widget-view+json": {
       "model_id": "5f12baa138714194a5cfdcb747187bb6",
       "version_major": 2,
       "version_minor": 0
      },
      "text/plain": [
       "interactive(children=(IntSlider(value=12, description='z', max=23, style=SliderStyle(handle_color='lightblue')…"
      ]
     },
     "metadata": {},
     "output_type": "display_data"
    },
    {
     "data": {
      "application/vnd.jupyter.widget-view+json": {
       "model_id": "366ea2ed981d4ebc8091a67021403b29",
       "version_major": 2,
       "version_minor": 0
      },
      "text/plain": [
       "interactive(children=(IntSlider(value=12, description='z', max=23, style=SliderStyle(handle_color='lightblue')…"
      ]
     },
     "metadata": {},
     "output_type": "display_data"
    },
    {
     "name": "stdout",
     "output_type": "stream",
     "text": [
      "\n",
      "ProstateX-0017\n",
      "Patient: ProstateX-0017 (date: 2011-10-25 00:00:00)\n",
      "\t- Reading: 1.000000-t2localizer-43723  (t2_localizer) (UNKNOWN)\n",
      "\t\t- Skipping!\n",
      "\t- Reading: 2.000000-t2loc sag-95147  (t2_loc sag) (UNKNOWN)\n",
      "\t\t- Skipping!\n",
      "\t- Reading: 3.000000-t2tsesag-47986  (t2_tse_sag) (UNKNOWN)\n",
      "\t\t- Skipping!\n",
      "\t- Reading: 4.000000-t2tsecor-78472  (t2_tse_cor) (UNKNOWN)\n",
      "\t\t- Skipping!\n",
      "\t- Reading: 5.000000-t2tsetra-39653  (t2_tse_tra) (T2)\n",
      "\t\t- Done!\n",
      "\t- Reading: 6.000000-ep2ddifftraDYNDIST-10035  (ep2d_diff_tra_DYNDIST) (b)\n",
      "\t\t- Done!\n",
      "\t- Reading: 7.000000-ep2ddifftraDYNDISTADC-72735  (ep2d_diff_tra_DYNDIST_ADC) (ADC)\n",
      "\t\t- Done!\n",
      "\t- Reading: 8.000000-ep2ddifftraDYNDISTCALCBVAL-49028  (ep2d_diff_tra_DYNDISTCALC_BVAL) (diff)\n",
      "\t\t- Skipping!\n",
      "\t- Reading: 9.000000-tfl3d PD reftra1.5x1.5t3-17803  (tfl_3d PD ref_tra_1.5x1.5_t3) (unk)\n",
      "\t\t- Skipping!\n",
      "\t- Reading: ProstateX-0017-Ktrans.mhd (Ktrans) (ktrans)\n",
      "\t\t- Done!\n",
      "\n",
      "\t\t> (Blurrying ADC) Combining 5 images: #### -> Elapsed: 1.32s\n",
      " - Lesion positions and significances:\n",
      "   - 1: [201.28290915 232.13460591   8.41665427], Sig: 10\n",
      " - Information: resampling_operation with pre_mask_growth_mm applied to channels [2] on x,y dimensions\n"
     ]
    },
    {
     "data": {
      "application/vnd.jupyter.widget-view+json": {
       "model_id": "9bbb8728ea2f4a808cea71b8f141dfbd",
       "version_major": 2,
       "version_minor": 0
      },
      "text/plain": [
       "interactive(children=(IntSlider(value=12, description='z', max=23, style=SliderStyle(handle_color='lightblue')…"
      ]
     },
     "metadata": {},
     "output_type": "display_data"
    },
    {
     "data": {
      "application/vnd.jupyter.widget-view+json": {
       "model_id": "51350e42e0b54052bea951c034b66360",
       "version_major": 2,
       "version_minor": 0
      },
      "text/plain": [
       "interactive(children=(IntSlider(value=12, description='z', max=23, style=SliderStyle(handle_color='lightblue')…"
      ]
     },
     "metadata": {},
     "output_type": "display_data"
    },
    {
     "name": "stdout",
     "output_type": "stream",
     "text": [
      "\n",
      "ProstateX-0018\n",
      "Patient: ProstateX-0018 (date: 2011-10-25 00:00:00)\n",
      "\t- Reading: 1.000000-t2localizer-17449  (t2_localizer) (UNKNOWN)\n",
      "\t\t- Skipping!\n",
      "\t- Reading: 2.000000-t2loc sag-82406  (t2_loc sag) (UNKNOWN)\n",
      "\t\t- Skipping!\n",
      "\t- Reading: 3.000000-t2tsesag-88634  (t2_tse_sag) (UNKNOWN)\n",
      "\t\t- Skipping!\n",
      "\t- Reading: 4.000000-t2tsecor-10055  (t2_tse_cor) (UNKNOWN)\n",
      "\t\t- Skipping!\n",
      "\t- Reading: 5.000000-t2tsetra-24568  (t2_tse_tra) (T2)\n",
      "\t\t- Done!\n",
      "\t- Reading: 6.000000-ep2ddifftraDYNDIST-36563  (ep2d_diff_tra_DYNDIST) (b)\n",
      "\t\t- Done!\n",
      "\t- Reading: 7.000000-ep2ddifftraDYNDISTADC-31899  (ep2d_diff_tra_DYNDIST_ADC) (ADC)\n",
      "\t\t- Done!\n",
      "\t- Reading: 8.000000-ep2ddifftraDYNDISTCALCBVAL-24062  (ep2d_diff_tra_DYNDISTCALC_BVAL) (diff)\n",
      "\t\t- Skipping!\n",
      "\t- Reading: 9.000000-tfl3d PD reftra1.5x1.5t3-79157  (tfl_3d PD ref_tra_1.5x1.5_t3) (unk)\n",
      "\t\t- Skipping!\n",
      "\t- Reading: ProstateX-0018-Ktrans.mhd (Ktrans) (ktrans)\n",
      "\t\t- Done!\n",
      "\n",
      "\t\t> (Blurrying ADC) Combining 5 images: #### -> Elapsed: 1.38s\n",
      " - Lesion positions and significances:\n",
      "   - 1: [203.67930913 173.42697001   4.99998186], Sig: 2\n",
      " - Information: resampling_operation with pre_mask_growth_mm applied to channels [2] on x,y dimensions\n"
     ]
    },
    {
     "data": {
      "application/vnd.jupyter.widget-view+json": {
       "model_id": "ba8e3d3604e5436fbabd56029b78bc4d",
       "version_major": 2,
       "version_minor": 0
      },
      "text/plain": [
       "interactive(children=(IntSlider(value=12, description='z', max=23, style=SliderStyle(handle_color='lightblue')…"
      ]
     },
     "metadata": {},
     "output_type": "display_data"
    },
    {
     "data": {
      "application/vnd.jupyter.widget-view+json": {
       "model_id": "2fdef0918bf645ddb39d5ba06272a1e7",
       "version_major": 2,
       "version_minor": 0
      },
      "text/plain": [
       "interactive(children=(IntSlider(value=12, description='z', max=23, style=SliderStyle(handle_color='lightblue')…"
      ]
     },
     "metadata": {},
     "output_type": "display_data"
    },
    {
     "name": "stdout",
     "output_type": "stream",
     "text": [
      "\n",
      "ProstateX-0019\n",
      "Patient: ProstateX-0019 (date: 2011-10-25 00:00:00)\n",
      "\t- Reading: 1.000000-t2localizer-98944  (t2_localizer) (UNKNOWN)\n",
      "\t\t- Skipping!\n",
      "\t- Reading: 10.000000-tfl3d PD reftra1.5x1.5t3-37958  (tfl_3d PD ref_tra_1.5x1.5_t3) (unk)\n",
      "\t\t- Skipping!\n",
      "\t- Reading: 2.000000-t2loc sag-18698  (t2_loc sag) (UNKNOWN)\n",
      "\t\t- Skipping!\n",
      "\t- Reading: 3.000000-t2tsesag-85941  (t2_tse_sag) (UNKNOWN)\n",
      "\t\t- Skipping!\n",
      "\t- Reading: 4.000000-t2tsecor-55869  (t2_tse_cor) (UNKNOWN)\n",
      "\t\t- Skipping!\n",
      "\t- Reading: 5.000000-t2tsetra-65888  (t2_tse_tra) (T2)\n",
      "\t\t- Done!\n",
      "\t- Reading: 6.000000-ep2ddifftraDYNDISTMIX-49694  (ep2d_diff_tra_DYNDIST_MIX) (b)\n",
      "\t\t- Done!\n",
      "\t- Reading: 7.000000-ep2ddifftraDYNDISTMIXADC-95747  (ep2d_diff_tra_DYNDIST_MIX_ADC) (ADC)\n",
      "\t\t- Done!\n",
      "\t- Reading: 8.000000-ep2ddifftraDYNDISTMIXCALCBVAL-30779  (ep2d_diff_tra_DYNDIST_MIXCALC_BVAL) (diff)\n",
      "\t\t- Skipping!\n",
      "\t- Reading: 9.000000-t2tsetra-13923  (t2_tse_tra) (T2)\n",
      "\t\t- Done!\n",
      "\t- Reading: ProstateX-0019-Ktrans.mhd (Ktrans) (ktrans)\n",
      "\t\t- Done!\n",
      "\n",
      "\t\t> (Blurrying ADC) Combining 5 images: #### -> Elapsed: 1.33s\n",
      " - Lesion positions and significances:\n",
      "   - 1: [181.29759621 235.4156034   10.00000174], Sig: 2\n",
      " - Information: resampling_operation with pre_mask_growth_mm applied to channels [2] on x,y dimensions\n"
     ]
    },
    {
     "data": {
      "application/vnd.jupyter.widget-view+json": {
       "model_id": "82f8818d83cd4541a96c007414ccd8ad",
       "version_major": 2,
       "version_minor": 0
      },
      "text/plain": [
       "interactive(children=(IntSlider(value=12, description='z', max=23, style=SliderStyle(handle_color='lightblue')…"
      ]
     },
     "metadata": {},
     "output_type": "display_data"
    },
    {
     "data": {
      "application/vnd.jupyter.widget-view+json": {
       "model_id": "d2555017c3ea46caa6a44916b5aca5ac",
       "version_major": 2,
       "version_minor": 0
      },
      "text/plain": [
       "interactive(children=(IntSlider(value=12, description='z', max=23, style=SliderStyle(handle_color='lightblue')…"
      ]
     },
     "metadata": {},
     "output_type": "display_data"
    },
    {
     "name": "stdout",
     "output_type": "stream",
     "text": [
      "\n",
      "ProstateX-0020\n",
      "Patient: ProstateX-0020 (date: 2011-10-27 00:00:00)\n",
      "\t- Reading: 3.000000-t2tsesag-45172  (t2_tse_sag) (UNKNOWN)\n",
      "\t\t- Skipping!\n",
      "\t- Reading: 4.000000-t2tsecor-40304  (t2_tse_cor) (UNKNOWN)\n",
      "\t\t- Skipping!\n",
      "\t- Reading: 5.000000-t2tsetra-53903  (t2_tse_tra) (T2)\n",
      "\t\t- Done!\n",
      "\t- Reading: 6.000000-ep2ddifftraDYNDIST-20303  (ep2d_diff_tra_DYNDIST) (b)\n",
      "\t\t- Done!\n",
      "\t- Reading: 7.000000-ep2ddifftraDYNDISTADC-56755  (ep2d_diff_tra_DYNDIST_ADC) (ADC)\n",
      "\t\t- Done!\n",
      "\t- Reading: 8.000000-ep2ddifftraDYNDISTCALCBVAL-58318  (ep2d_diff_tra_DYNDISTCALC_BVAL) (diff)\n",
      "\t\t- Skipping!\n",
      "\t- Reading: 9.000000-tfl3d PD reftra1.5x1.5t3-68543  (tfl_3d PD ref_tra_1.5x1.5_t3) (unk)\n",
      "\t\t- Skipping!\n",
      "\t- Reading: ProstateX-0020-Ktrans.mhd (Ktrans) (ktrans)\n",
      "\t\t- Done!\n",
      "\n",
      "\t\t> (Blurrying ADC) Combining 5 images: #### -> Elapsed: 1.39s\n",
      " - Lesion positions and significances:\n",
      "   - 1: [156.60508918 230.43788202   9.00000653], Sig: 10\n",
      " - Information: resampling_operation with pre_mask_growth_mm applied to channels [2] on x,y dimensions\n"
     ]
    },
    {
     "data": {
      "application/vnd.jupyter.widget-view+json": {
       "model_id": "28c14489d30e4f9cb2fdf1eb3fc6e6af",
       "version_major": 2,
       "version_minor": 0
      },
      "text/plain": [
       "interactive(children=(IntSlider(value=12, description='z', max=23, style=SliderStyle(handle_color='lightblue')…"
      ]
     },
     "metadata": {},
     "output_type": "display_data"
    },
    {
     "data": {
      "application/vnd.jupyter.widget-view+json": {
       "model_id": "6cd3d703a1994e2284231430381fd923",
       "version_major": 2,
       "version_minor": 0
      },
      "text/plain": [
       "interactive(children=(IntSlider(value=12, description='z', max=23, style=SliderStyle(handle_color='lightblue')…"
      ]
     },
     "metadata": {},
     "output_type": "display_data"
    },
    {
     "name": "stdout",
     "output_type": "stream",
     "text": [
      "\n",
      "ProstateX-0021\n",
      "Patient: ProstateX-0021 (date: 2011-10-27 00:00:00)\n",
      "\t- Reading: 2.000000-t2loc sag-27345  (t2_loc sag) (UNKNOWN)\n",
      "\t\t- Skipping!\n",
      "\t- Reading: 3.000000-t2tsesag-37818  (t2_tse_sag) (UNKNOWN)\n",
      "\t\t- Skipping!\n",
      "\t- Reading: 4.000000-t2tsetra-08457  (t2_tse_tra) (T2)\n",
      "\t\t- Done!\n",
      "\t- Reading: 5.000000-t2tsecor-16304  (t2_tse_cor) (UNKNOWN)\n",
      "\t\t- Skipping!\n",
      "\t- Reading: 6.000000-ep2ddifftraDYNDIST-73387  (ep2d_diff_tra_DYNDIST) (b)\n",
      "\t\t- Done!\n",
      "\t- Reading: 7.000000-ep2ddifftraDYNDISTADC-81901  (ep2d_diff_tra_DYNDIST_ADC) (ADC)\n",
      "\t\t- Done!\n",
      "\t- Reading: 8.000000-ep2ddifftraDYNDISTCALCBVAL-51505  (ep2d_diff_tra_DYNDISTCALC_BVAL) (diff)\n",
      "\t\t- Skipping!\n",
      "\t- Reading: 9.000000-tfl3d PD reftra1.5x1.5t3-41163  (tfl_3d PD ref_tra_1.5x1.5_t3) (unk)\n",
      "\t\t- Skipping!\n",
      "\t- Reading: ProstateX-0021-Ktrans.mhd (Ktrans) (ktrans)\n",
      "\t\t- Done!\n",
      "\n",
      "\t\t> (Blurrying ADC) Combining 5 images: #### -> Elapsed: 1.38s\n",
      " - Lesion positions and significances:\n",
      "   - 1: [193.89919853 186.10080766   8.99999908], Sig: 10\n",
      "   - 2: [244.65899849 178.05003065   7.99999644], Sig: 10\n",
      " - Information: resampling_operation with pre_mask_growth_mm applied to channels [2] on x,y dimensions\n"
     ]
    },
    {
     "data": {
      "application/vnd.jupyter.widget-view+json": {
       "model_id": "f4146d8ff44046aaa86c2ad2935a477d",
       "version_major": 2,
       "version_minor": 0
      },
      "text/plain": [
       "interactive(children=(IntSlider(value=12, description='z', max=23, style=SliderStyle(handle_color='lightblue')…"
      ]
     },
     "metadata": {},
     "output_type": "display_data"
    },
    {
     "data": {
      "application/vnd.jupyter.widget-view+json": {
       "model_id": "07518107d75e409dbef4bae0f823fe20",
       "version_major": 2,
       "version_minor": 0
      },
      "text/plain": [
       "interactive(children=(IntSlider(value=12, description='z', max=23, style=SliderStyle(handle_color='lightblue')…"
      ]
     },
     "metadata": {},
     "output_type": "display_data"
    },
    {
     "name": "stdout",
     "output_type": "stream",
     "text": [
      "\n",
      "ProstateX-0022\n",
      "Patient: ProstateX-0022 (date: 2011-10-27 00:00:00)\n",
      "\t- Reading: 2.000000-t2loc sag-55281  (t2_loc sag) (UNKNOWN)\n",
      "\t\t- Skipping!\n",
      "\t- Reading: 3.000000-t2tsesag-40379  (t2_tse_sag) (UNKNOWN)\n",
      "\t\t- Skipping!\n",
      "\t- Reading: 4.000000-t2tsetra-02628  (t2_tse_tra) (T2)\n",
      "\t\t- Done!\n",
      "\t- Reading: 5.000000-t2tsecor-57238  (t2_tse_cor) (UNKNOWN)\n",
      "\t\t- Skipping!\n",
      "\t- Reading: 6.000000-ep2ddifftraDYNDIST-44526  (ep2d_diff_tra_DYNDIST) (b)\n",
      "\t\t- Done!\n",
      "\t- Reading: 7.000000-ep2ddifftraDYNDISTADC-50533  (ep2d_diff_tra_DYNDIST_ADC) (ADC)\n",
      "\t\t- Done!\n",
      "\t- Reading: 8.000000-ep2ddifftraDYNDISTCALCBVAL-44860  (ep2d_diff_tra_DYNDISTCALC_BVAL) (diff)\n",
      "\t\t- Skipping!\n",
      "\t- Reading: 9.000000-tfl3d PD reftra1.5x1.5t3-56726  (tfl_3d PD ref_tra_1.5x1.5_t3) (unk)\n",
      "\t\t- Skipping!\n",
      "\t- Reading: ProstateX-0022-Ktrans.mhd (Ktrans) (ktrans)\n",
      "\t\t- Done!\n",
      "\n",
      "\t\t> (Blurrying ADC) Combining 5 images: #### -> Elapsed: 1.33s\n",
      " - Lesion positions and significances:\n",
      "   - 1: [152.40008115 206.3750461    7.25009285], Sig: 10\n",
      " - Information: resampling_operation with pre_mask_growth_mm applied to channels [2] on x,y dimensions\n"
     ]
    },
    {
     "data": {
      "application/vnd.jupyter.widget-view+json": {
       "model_id": "057e592989c24686a9d21c79abe2fb84",
       "version_major": 2,
       "version_minor": 0
      },
      "text/plain": [
       "interactive(children=(IntSlider(value=12, description='z', max=23, style=SliderStyle(handle_color='lightblue')…"
      ]
     },
     "metadata": {},
     "output_type": "display_data"
    },
    {
     "data": {
      "application/vnd.jupyter.widget-view+json": {
       "model_id": "10163bb4dabd42318153dca5e1d5b9d4",
       "version_major": 2,
       "version_minor": 0
      },
      "text/plain": [
       "interactive(children=(IntSlider(value=12, description='z', max=23, style=SliderStyle(handle_color='lightblue')…"
      ]
     },
     "metadata": {},
     "output_type": "display_data"
    },
    {
     "name": "stdout",
     "output_type": "stream",
     "text": [
      "\n",
      "ProstateX-0023\n",
      "Patient: ProstateX-0023 (date: 2011-10-27 00:00:00)\n",
      "\t- Reading: 1.000000-t2localizer-16733  (t2_localizer) (UNKNOWN)\n",
      "\t\t- Skipping!\n",
      "\t- Reading: 2.000000-t2loc sag-01030  (t2_loc sag) (UNKNOWN)\n",
      "\t\t- Skipping!\n",
      "\t- Reading: 3.000000-t2tsesag-32099  (t2_tse_sag) (UNKNOWN)\n",
      "\t\t- Skipping!\n",
      "\t- Reading: 4.000000-t2tsetra-09588  (t2_tse_tra) (T2)\n",
      "\t\t- Done!\n",
      "\t- Reading: 5.000000-t2tsecor-43754  (t2_tse_cor) (UNKNOWN)\n",
      "\t\t- Skipping!\n",
      "\t- Reading: 6.000000-ep2ddifftraDYNDIST-91243  (ep2d_diff_tra_DYNDIST) (b)\n",
      "\t\t- Done!\n",
      "\t- Reading: 7.000000-ep2ddifftraDYNDISTADC-11919  (ep2d_diff_tra_DYNDIST_ADC) (ADC)\n",
      "\t\t- Done!\n",
      "\t- Reading: 8.000000-ep2ddifftraDYNDISTCALCBVAL-72363  (ep2d_diff_tra_DYNDISTCALC_BVAL) (diff)\n",
      "\t\t- Skipping!\n",
      "\t- Reading: 9.000000-tfl3d PD reftra1.5x1.5t3-30258  (tfl_3d PD ref_tra_1.5x1.5_t3) (unk)\n",
      "\t\t- Skipping!\n",
      "\t- Reading: ProstateX-0023-Ktrans.mhd (Ktrans) (ktrans)\n",
      "\t\t- Done!\n",
      "\n",
      "\t\t> (Blurrying ADC) Combining 5 images: #### -> Elapsed: 1.35s\n",
      " - Lesion positions and significances:\n",
      "   - 1: [138.22159862 196.68434617   8.99998268], Sig: 10\n",
      "   - 2: [208.96639634 171.060353     9.99998014], Sig: 10\n",
      " - Information: resampling_operation with pre_mask_growth_mm applied to channels [2] on x,y dimensions\n"
     ]
    },
    {
     "data": {
      "application/vnd.jupyter.widget-view+json": {
       "model_id": "18f15b030fe84e98834b5ea295b78aae",
       "version_major": 2,
       "version_minor": 0
      },
      "text/plain": [
       "interactive(children=(IntSlider(value=12, description='z', max=23, style=SliderStyle(handle_color='lightblue')…"
      ]
     },
     "metadata": {},
     "output_type": "display_data"
    },
    {
     "data": {
      "application/vnd.jupyter.widget-view+json": {
       "model_id": "ddb35f2ed0ef4238a388dc2df03a8c0a",
       "version_major": 2,
       "version_minor": 0
      },
      "text/plain": [
       "interactive(children=(IntSlider(value=12, description='z', max=23, style=SliderStyle(handle_color='lightblue')…"
      ]
     },
     "metadata": {},
     "output_type": "display_data"
    },
    {
     "name": "stdout",
     "output_type": "stream",
     "text": [
      "\n",
      "ProstateX-0024\n",
      "Patient: ProstateX-0024 (date: 2011-07-21 00:00:00)\n",
      "\t- Reading: 1.000000-t2localizer-44527  (t2_localizer) (UNKNOWN)\n",
      "\t\t- Skipping!\n",
      "\t- Reading: 2.000000-t2loc sag-69282  (t2_loc sag) (UNKNOWN)\n",
      "\t\t- Skipping!\n",
      "\t- Reading: 3.000000-t2tsesag-70737  (t2_tse_sag) (UNKNOWN)\n",
      "\t\t- Skipping!\n",
      "\t- Reading: 4.000000-t2tsecor-49120  (t2_tse_cor) (UNKNOWN)\n",
      "\t\t- Skipping!\n",
      "\t- Reading: 5.000000-t2tsetra-69485  (t2_tse_tra) (T2)\n",
      "\t\t- Done!\n",
      "\t- Reading: 6.000000-ep2ddifftraDYNDIST-68750  (ep2d_diff_tra_DYNDIST) (b)\n",
      "\t\t- Done!\n",
      "\t- Reading: 7.000000-ep2ddifftraDYNDISTADC-87695  (ep2d_diff_tra_DYNDIST_ADC) (ADC)\n",
      "\t\t- Done!\n",
      "\t- Reading: 8.000000-ep2ddifftraDYNDISTCALCBVAL-94716  (ep2d_diff_tra_DYNDISTCALC_BVAL) (diff)\n",
      "\t\t- Skipping!\n",
      "\t- Reading: 9.000000-tfl3d PD reftra1.5x1.5t3-32662  (tfl_3d PD ref_tra_1.5x1.5_t3) (unk)\n",
      "\t\t- Skipping!\n",
      "\t- Reading: ProstateX-0024-Ktrans.mhd (Ktrans) (ktrans)\n",
      "\t\t- Done!\n",
      "\n",
      "\t\t> (Blurrying ADC) Combining 5 images: #### -> Elapsed: 1.44s\n",
      " - Lesion positions and significances:\n",
      "   - 1: [198.95020676 162.7767595    7.80033459], Sig: 10\n",
      " - Information: resampling_operation with pre_mask_growth_mm applied to channels [2] on x,y dimensions\n"
     ]
    },
    {
     "data": {
      "application/vnd.jupyter.widget-view+json": {
       "model_id": "d1db01b4822a43f9b731d6e3a4359934",
       "version_major": 2,
       "version_minor": 0
      },
      "text/plain": [
       "interactive(children=(IntSlider(value=12, description='z', max=23, style=SliderStyle(handle_color='lightblue')…"
      ]
     },
     "metadata": {},
     "output_type": "display_data"
    },
    {
     "data": {
      "application/vnd.jupyter.widget-view+json": {
       "model_id": "106a7b0d67ea438aaa018cdc3d88a8b8",
       "version_major": 2,
       "version_minor": 0
      },
      "text/plain": [
       "interactive(children=(IntSlider(value=12, description='z', max=23, style=SliderStyle(handle_color='lightblue')…"
      ]
     },
     "metadata": {},
     "output_type": "display_data"
    },
    {
     "name": "stdout",
     "output_type": "stream",
     "text": [
      "\n",
      "ProstateX-0025\n",
      " - Warning: Multiple directories!\n",
      "Patient: ProstateX-0025 (date: 2012-04-15 00:00:00)\n",
      "\t- Reading: 3.000000-t2tsesag-92712  (t2_tse_sag) (UNKNOWN)\n",
      "\t\t- Skipping!\n",
      "\t- Reading: 4.000000-t2tsetra-10038  (t2_tse_tra) (T2)\n",
      "\t\t- Done!\n",
      "\t- Reading: 5.000000-t2tsecor-17628  (t2_tse_cor) (UNKNOWN)\n",
      "\t\t- Skipping!\n",
      "\t- Reading: 6.000000-ep2ddifftraDYNDIST-22519  (ep2d_diff_tra_DYNDIST) (b)\n",
      "\t\t- Done!\n",
      "\t- Reading: 7.000000-ep2ddifftraDYNDISTADC-07589  (ep2d_diff_tra_DYNDIST_ADC) (ADC)\n",
      "\t\t- Done!\n",
      "\t- Reading: 8.000000-ep2ddifftraDYNDISTCALCBVAL-17931  (ep2d_diff_tra_DYNDISTCALC_BVAL) (diff)\n",
      "\t\t- Skipping!\n",
      "\t- Reading: 9.000000-tfl3d PD reftra1.5x1.5t3-17142  (tfl_3d PD ref_tra_1.5x1.5_t3) (unk)\n",
      "\t\t- Skipping!\n",
      "\t- Reading: ProstateX-0025-Ktrans.mhd (Ktrans) (ktrans)\n",
      "\t\t- Done!\n",
      "\n",
      "\t\t> (Blurrying ADC) Combining 5 images: #### -> Elapsed: 1.32s\n",
      " - Lesion positions and significances:\n",
      "   - 1: [265.24237084 199.53117736  25.78347753], Sig: 10\n",
      "   - 2: [242.89756798 230.81311771   8.99999015], Sig: 10\n",
      "   - 3: [211.08150887 235.73181918   9.49999741], Sig: 10\n",
      "   - 4: [178.85120988 209.14203084   9.52457314], Sig: 10\n",
      "   - 5: [239.43277002 180.11360099   3.73869774], Sig: 10\n",
      " - Error growing lesions for seed [265.24237084 199.53117736  25.78347753]: index 26 is out of bounds for axis 0 with size 21\n",
      " - Information: resampling_operation with pre_mask_growth_mm applied to channels [2] on x,y dimensions\n"
     ]
    },
    {
     "data": {
      "application/vnd.jupyter.widget-view+json": {
       "model_id": "1262b1097d6f4cda94a98737719c4c3b",
       "version_major": 2,
       "version_minor": 0
      },
      "text/plain": [
       "interactive(children=(IntSlider(value=12, description='z', max=23, style=SliderStyle(handle_color='lightblue')…"
      ]
     },
     "metadata": {},
     "output_type": "display_data"
    },
    {
     "data": {
      "application/vnd.jupyter.widget-view+json": {
       "model_id": "215ae66e382a4724846720b0d94aa2d6",
       "version_major": 2,
       "version_minor": 0
      },
      "text/plain": [
       "interactive(children=(IntSlider(value=12, description='z', max=23, style=SliderStyle(handle_color='lightblue')…"
      ]
     },
     "metadata": {},
     "output_type": "display_data"
    },
    {
     "name": "stdout",
     "output_type": "stream",
     "text": [
      "\n",
      "ProstateX-0026\n",
      "Patient: ProstateX-0026 (date: 2011-10-28 00:00:00)\n",
      "\t- Reading: 3.000000-t2tsesag-48394  (t2_tse_sag) (UNKNOWN)\n",
      "\t\t- Skipping!\n",
      "\t- Reading: 4.000000-t2tsetra-21032  (t2_tse_tra) (T2)\n",
      "\t\t- Done!\n",
      "\t- Reading: 5.000000-t2tsecor-80986  (t2_tse_cor) (UNKNOWN)\n",
      "\t\t- Skipping!\n",
      "\t- Reading: 6.000000-ep2ddifftraDYNDIST-03788  (ep2d_diff_tra_DYNDIST) (b)\n",
      "\t\t- Done!\n",
      "\t- Reading: 7.000000-ep2ddifftraDYNDISTADC-55570  (ep2d_diff_tra_DYNDIST_ADC) (ADC)\n",
      "\t\t- Done!\n",
      "\t- Reading: 8.000000-ep2ddifftraDYNDISTCALCBVAL-05536  (ep2d_diff_tra_DYNDISTCALC_BVAL) (diff)\n",
      "\t\t- Skipping!\n",
      "\t- Reading: 9.000000-tfl3d PD reftra1.5x1.5t3-30224  (tfl_3d PD ref_tra_1.5x1.5_t3) (unk)\n",
      "\t\t- Skipping!\n",
      "\t- Reading: ProstateX-0026-Ktrans.mhd (Ktrans) (ktrans)\n",
      "\t\t- Done!\n",
      "\n",
      "\t\t> (Blurrying ADC) Combining 5 images: #### -> Elapsed: 1.35s\n",
      " - Lesion positions and significances:\n",
      "   - 1: [174.95960283 196.12761141   5.9999938 ], Sig: 4\n",
      " - Information: resampling_operation with pre_mask_growth_mm applied to channels [2] on x,y dimensions\n"
     ]
    },
    {
     "data": {
      "application/vnd.jupyter.widget-view+json": {
       "model_id": "e29f57a6fcab47bf93f9cb561ec3ac3b",
       "version_major": 2,
       "version_minor": 0
      },
      "text/plain": [
       "interactive(children=(IntSlider(value=12, description='z', max=23, style=SliderStyle(handle_color='lightblue')…"
      ]
     },
     "metadata": {},
     "output_type": "display_data"
    },
    {
     "data": {
      "application/vnd.jupyter.widget-view+json": {
       "model_id": "a4db5b1cd4fa4499819be9a5fd666eea",
       "version_major": 2,
       "version_minor": 0
      },
      "text/plain": [
       "interactive(children=(IntSlider(value=12, description='z', max=23, style=SliderStyle(handle_color='lightblue')…"
      ]
     },
     "metadata": {},
     "output_type": "display_data"
    },
    {
     "name": "stdout",
     "output_type": "stream",
     "text": [
      "\n",
      "ProstateX-0027\n",
      "Patient: ProstateX-0027 (date: 2011-10-28 00:00:00)\n",
      "\t- Reading: 3.000000-t2tsesag-55714  (t2_tse_sag) (UNKNOWN)\n",
      "\t\t- Skipping!\n",
      "\t- Reading: 4.000000-t2tsetra-30331  (t2_tse_tra) (T2)\n",
      "\t\t- Done!\n",
      "\t- Reading: 5.000000-t2tsecor-43263  (t2_tse_cor) (UNKNOWN)\n",
      "\t\t- Skipping!\n",
      "\t- Reading: 6.000000-ep2ddifftraDYNDIST-15968  (ep2d_diff_tra_DYNDIST) (b)\n",
      "\t\t- Done!\n",
      "\t- Reading: 7.000000-ep2ddifftraDYNDISTADC-33284  (ep2d_diff_tra_DYNDIST_ADC) (ADC)\n",
      "\t\t- Done!\n",
      "\t- Reading: 8.000000-ep2ddifftraDYNDISTCALCBVAL-34477  (ep2d_diff_tra_DYNDISTCALC_BVAL) (diff)\n",
      "\t\t- Skipping!\n",
      "\t- Reading: 9.000000-tfl3d PD reftra1.5x1.5t3-34780  (tfl_3d PD ref_tra_1.5x1.5_t3) (unk)\n",
      "\t\t- Skipping!\n",
      "\t- Reading: ProstateX-0027-Ktrans.mhd (Ktrans) (ktrans)\n",
      "\t\t- Done!\n",
      "\n",
      "\t\t> (Blurrying ADC) Combining 5 images: #### -> Elapsed: 1.33s\n",
      " - Lesion positions and significances:\n",
      "   - 1: [159.90300082 243.20507014  11.00000094], Sig: 10\n",
      " - Information: resampling_operation with pre_mask_growth_mm applied to channels [2] on x,y dimensions\n"
     ]
    },
    {
     "data": {
      "application/vnd.jupyter.widget-view+json": {
       "model_id": "51e7503ebfb340dd811e2a603b556de3",
       "version_major": 2,
       "version_minor": 0
      },
      "text/plain": [
       "interactive(children=(IntSlider(value=12, description='z', max=23, style=SliderStyle(handle_color='lightblue')…"
      ]
     },
     "metadata": {},
     "output_type": "display_data"
    },
    {
     "data": {
      "application/vnd.jupyter.widget-view+json": {
       "model_id": "fe5952e990424567bb8b0eac834ba36d",
       "version_major": 2,
       "version_minor": 0
      },
      "text/plain": [
       "interactive(children=(IntSlider(value=12, description='z', max=23, style=SliderStyle(handle_color='lightblue')…"
      ]
     },
     "metadata": {},
     "output_type": "display_data"
    },
    {
     "name": "stdout",
     "output_type": "stream",
     "text": [
      "\n",
      "ProstateX-0028\n",
      "Patient: ProstateX-0028 (date: 2011-10-28 00:00:00)\n",
      "\t- Reading: 3.000000-t2tsesag-54011  (t2_tse_sag) (UNKNOWN)\n",
      "\t\t- Skipping!\n",
      "\t- Reading: 4.000000-t2tsetra-02026  (t2_tse_tra) (T2)\n",
      "\t\t- Done!\n",
      "\t- Reading: 5.000000-t2tsecor-42366  (t2_tse_cor) (UNKNOWN)\n",
      "\t\t- Skipping!\n",
      "\t- Reading: 6.000000-ep2ddifftraDYNDIST-79824  (ep2d_diff_tra_DYNDIST) (b)\n",
      "\t\t- Done!\n",
      "\t- Reading: 7.000000-ep2ddifftraDYNDISTADC-00495  (ep2d_diff_tra_DYNDIST_ADC) (ADC)\n",
      "\t\t- Done!\n",
      "\t- Reading: 8.000000-ep2ddifftraDYNDISTCALCBVAL-83453  (ep2d_diff_tra_DYNDISTCALC_BVAL) (diff)\n",
      "\t\t- Skipping!\n",
      "\t- Reading: 9.000000-tfl3d PD reftra1.5x1.5t3-03343  (tfl_3d PD ref_tra_1.5x1.5_t3) (unk)\n",
      "\t\t- Skipping!\n",
      "\t- Reading: ProstateX-0028-Ktrans.mhd (Ktrans) (ktrans)\n",
      "\t\t- Done!\n",
      "\n",
      "\t\t> (Blurrying ADC) Combining 5 images: #### -> Elapsed: 1.33s\n",
      " - Lesion positions and significances:\n",
      "   - 1: [235.69192505 209.75304302   7.99999939], Sig: 2\n",
      "   - 2: [151.15100669 211.67504561   9.00000007], Sig: 10\n",
      " - Information: resampling_operation with pre_mask_growth_mm applied to channels [2] on x,y dimensions\n"
     ]
    },
    {
     "data": {
      "application/vnd.jupyter.widget-view+json": {
       "model_id": "0be3a6c15e7b4bb6b025479061f0adb0",
       "version_major": 2,
       "version_minor": 0
      },
      "text/plain": [
       "interactive(children=(IntSlider(value=12, description='z', max=23, style=SliderStyle(handle_color='lightblue')…"
      ]
     },
     "metadata": {},
     "output_type": "display_data"
    },
    {
     "data": {
      "application/vnd.jupyter.widget-view+json": {
       "model_id": "e17eefb8807949e2a5701e0f9ab289a2",
       "version_major": 2,
       "version_minor": 0
      },
      "text/plain": [
       "interactive(children=(IntSlider(value=12, description='z', max=23, style=SliderStyle(handle_color='lightblue')…"
      ]
     },
     "metadata": {},
     "output_type": "display_data"
    },
    {
     "name": "stdout",
     "output_type": "stream",
     "text": [
      "\n",
      "ProstateX-0029\n",
      "Patient: ProstateX-0029 (date: 2011-10-30 00:00:00)\n",
      "\t- Reading: 3.000000-t2tsesag-63444  (t2_tse_sag) (UNKNOWN)\n",
      "\t\t- Skipping!\n",
      "\t- Reading: 4.000000-t2tsecor-12877  (t2_tse_cor) (UNKNOWN)\n",
      "\t\t- Skipping!\n",
      "\t- Reading: 5.000000-t2tsetra-91675  (t2_tse_tra) (T2)\n",
      "\t\t- Done!\n",
      "\t- Reading: 6.000000-ep2ddifftraDYNDISTMIX-63230  (ep2d_diff_tra_DYNDIST_MIX) (b)\n",
      "\t\t- Done!\n",
      "\t- Reading: 7.000000-ep2ddifftraDYNDISTMIXADC-80003  (ep2d_diff_tra_DYNDIST_MIX_ADC) (ADC)\n",
      "\t\t- Done!\n",
      "\t- Reading: 8.000000-ep2ddifftraDYNDISTMIXCALCBVAL-90321  (ep2d_diff_tra_DYNDIST_MIXCALC_BVAL) (diff)\n",
      "\t\t- Skipping!\n",
      "\t- Reading: 9.000000-tfl3d PD reftra1.5x1.5t3-51084  (tfl_3d PD ref_tra_1.5x1.5_t3) (unk)\n",
      "\t\t- Skipping!\n",
      "\t- Reading: ProstateX-0029-Ktrans.mhd (Ktrans) (ktrans)\n",
      "\t\t- Done!\n",
      "\n",
      "\t\t> (Blurrying ADC) Combining 5 images: #### -> Elapsed: 1.43s\n",
      " - Lesion positions and significances:\n",
      "   - 1: [214.16104654 231.87508762  12.99998596], Sig: 10\n",
      " - Information: resampling_operation with pre_mask_growth_mm applied to channels [2] on x,y dimensions\n"
     ]
    },
    {
     "data": {
      "application/vnd.jupyter.widget-view+json": {
       "model_id": "c2ee1ac2e74d45a2b2a87cc18af8c617",
       "version_major": 2,
       "version_minor": 0
      },
      "text/plain": [
       "interactive(children=(IntSlider(value=12, description='z', max=23, style=SliderStyle(handle_color='lightblue')…"
      ]
     },
     "metadata": {},
     "output_type": "display_data"
    },
    {
     "data": {
      "application/vnd.jupyter.widget-view+json": {
       "model_id": "b3ab3798b0464548bc273172994f4a41",
       "version_major": 2,
       "version_minor": 0
      },
      "text/plain": [
       "interactive(children=(IntSlider(value=12, description='z', max=23, style=SliderStyle(handle_color='lightblue')…"
      ]
     },
     "metadata": {},
     "output_type": "display_data"
    },
    {
     "name": "stdout",
     "output_type": "stream",
     "text": [
      "\n",
      "ProstateX-0030\n",
      "Patient: ProstateX-0030 (date: 2011-10-30 00:00:00)\n",
      "\t- Reading: 3.000000-t2tsesag-63528  (t2_tse_sag) (UNKNOWN)\n",
      "\t\t- Skipping!\n",
      "\t- Reading: 4.000000-t2tsetra-91014  (t2_tse_tra) (T2)\n",
      "\t\t- Done!\n",
      "\t- Reading: 5.000000-t2tsecor-07288  (t2_tse_cor) (UNKNOWN)\n",
      "\t\t- Skipping!\n",
      "\t- Reading: 6.000000-ep2ddifftraDYNDIST-05948  (ep2d_diff_tra_DYNDIST) (b)\n",
      "\t\t- Done!\n",
      "\t- Reading: 7.000000-ep2ddifftraDYNDISTADC-11645  (ep2d_diff_tra_DYNDIST_ADC) (ADC)\n",
      "\t\t- Done!\n",
      "\t- Reading: 8.000000-ep2ddifftraDYNDISTCALCBVAL-76791  (ep2d_diff_tra_DYNDISTCALC_BVAL) (diff)\n",
      "\t\t- Skipping!\n",
      "\t- Reading: 9.000000-tfl3d PD reftra1.5x1.5t3-88807  (tfl_3d PD ref_tra_1.5x1.5_t3) (unk)\n",
      "\t\t- Skipping!\n",
      "\t- Reading: ProstateX-0030-Ktrans.mhd (Ktrans) (ktrans)\n",
      "\t\t- Done!\n",
      "\n",
      "\t\t> (Blurrying ADC) Combining 5 images: #### -> Elapsed: 1.31s\n",
      " - Lesion positions and significances:\n",
      "   - 1: [221.82102203 199.63904209  11.00000538], Sig: 10\n",
      " - Information: resampling_operation with pre_mask_growth_mm applied to channels [2] on x,y dimensions\n"
     ]
    },
    {
     "data": {
      "application/vnd.jupyter.widget-view+json": {
       "model_id": "ff38f95a200649c88642acd371a3befd",
       "version_major": 2,
       "version_minor": 0
      },
      "text/plain": [
       "interactive(children=(IntSlider(value=12, description='z', max=23, style=SliderStyle(handle_color='lightblue')…"
      ]
     },
     "metadata": {},
     "output_type": "display_data"
    },
    {
     "data": {
      "application/vnd.jupyter.widget-view+json": {
       "model_id": "c0e3a1fcc06e438cbf08d8b8801ec5e3",
       "version_major": 2,
       "version_minor": 0
      },
      "text/plain": [
       "interactive(children=(IntSlider(value=12, description='z', max=23, style=SliderStyle(handle_color='lightblue')…"
      ]
     },
     "metadata": {},
     "output_type": "display_data"
    },
    {
     "name": "stdout",
     "output_type": "stream",
     "text": [
      "\n",
      "ProstateX-0031\n",
      "Patient: ProstateX-0031 (date: 2011-10-31 00:00:00)\n",
      "\t- Reading: 1.000000-t2localizer-97757  (t2_localizer) (UNKNOWN)\n",
      "\t\t- Skipping!\n",
      "\t- Reading: 10.000000-ep2ddifftraDYNDIST-84006  (ep2d_diff_tra_DYNDIST) (b)\n",
      "\t\t- Done!\n",
      "\t- Reading: 11.000000-ep2ddifftraDYNDISTADC-65134  (ep2d_diff_tra_DYNDIST_ADC) (ADC)\n",
      "\t\t- Done!\n",
      "\t- Reading: 12.000000-ep2ddifftraDYNDISTCALCBVAL-40936  (ep2d_diff_tra_DYNDISTCALC_BVAL) (diff)\n",
      "\t\t- Skipping!\n",
      "\t- Reading: 13.000000-tfl3d PD reftra1.5x1.5t3-06925  (tfl_3d PD ref_tra_1.5x1.5_t3) (unk)\n",
      "\t\t- Skipping!\n",
      "\t- Reading: 2.000000-t2loc sag-11021  (t2_loc sag) (UNKNOWN)\n",
      "\t\t- Skipping!\n",
      "\t- Reading: 3.000000-t2tsesag-97946  (t2_tse_sag) (UNKNOWN)\n",
      "\t\t- Skipping!\n",
      "\t- Reading: 4.000000-t2tsecor-78955  (t2_tse_cor) (UNKNOWN)\n",
      "\t\t- Skipping!\n",
      "\t- Reading: 5.000000-t2tsetra-69127  (t2_tse_tra) (T2)\n",
      "\t\t- Done!\n",
      "\t- Reading: 6.000000-ep2ddifftraDYNDIST-06107  (ep2d_diff_tra_DYNDIST) (b)\n",
      "\t\t- Done!\n",
      "\t- Reading: 7.000000-ep2ddifftraDYNDISTADC-69372  (ep2d_diff_tra_DYNDIST_ADC) (ADC)\n",
      "\t\t- Done!\n",
      "\t- Reading: 8.000000-ep2ddifftraDYNDISTCALCBVAL-09674  (ep2d_diff_tra_DYNDISTCALC_BVAL) (diff)\n",
      "\t\t- Skipping!\n",
      "\t- Reading: 9.000000-t2tsetra-26105  (t2_tse_tra) (T2)\n",
      "\t\t- Done!\n",
      "\t- Reading: ProstateX-0031-Ktrans.mhd (Ktrans) (ktrans)\n",
      "\t\t- Done!\n",
      "\n",
      "\t\t> (Blurrying ADC) Combining 5 images: #### -> Elapsed: 1.32s\n",
      " - Lesion positions and significances:\n",
      "   - 1: [230.94679832 209.70256653  13.16682299], Sig: 2\n",
      "   - 2: [163.73307991 211.59555637  13.16679564], Sig: 1\n",
      " - Information: resampling_operation with pre_mask_growth_mm applied to channels [2] on x,y dimensions\n"
     ]
    },
    {
     "data": {
      "application/vnd.jupyter.widget-view+json": {
       "model_id": "ac48ee3e60244596833c27b1b2fcb6a2",
       "version_major": 2,
       "version_minor": 0
      },
      "text/plain": [
       "interactive(children=(IntSlider(value=12, description='z', max=23, style=SliderStyle(handle_color='lightblue')…"
      ]
     },
     "metadata": {},
     "output_type": "display_data"
    },
    {
     "data": {
      "application/vnd.jupyter.widget-view+json": {
       "model_id": "a8398153bd0f4c6ca9e2e19a13d51da5",
       "version_major": 2,
       "version_minor": 0
      },
      "text/plain": [
       "interactive(children=(IntSlider(value=12, description='z', max=23, style=SliderStyle(handle_color='lightblue')…"
      ]
     },
     "metadata": {},
     "output_type": "display_data"
    },
    {
     "name": "stdout",
     "output_type": "stream",
     "text": [
      "\n",
      "ProstateX-0032\n",
      "Patient: ProstateX-0032 (date: 2011-11-02 00:00:00)\n",
      "\t- Reading: 3.000000-t2tsesag-18570  (t2_tse_sag) (UNKNOWN)\n",
      "\t\t- Skipping!\n",
      "\t- Reading: 4.000000-t2tsecor-55140  (t2_tse_cor) (UNKNOWN)\n",
      "\t\t- Skipping!\n",
      "\t- Reading: 5.000000-t2tsetra-68553  (t2_tse_tra) (T2)\n",
      "\t\t- Done!\n",
      "\t- Reading: 55.000000-t2tsetraexactecopydiffusie-10087  (t2_tse_tra_exacte_copy_diffusie) (UNKNOWN)\n",
      "\t\t- Skipping!\n",
      "\t- Reading: 6.000000-ep2ddifftraDYNDIST-52060  (ep2d_diff_tra_DYNDIST) (b)\n",
      "\t\t- Done!\n",
      "\t- Reading: 7.000000-ep2ddifftraDYNDISTADC-33668  (ep2d_diff_tra_DYNDIST_ADC) (ADC)\n",
      "\t\t- Done!\n",
      "\t- Reading: 8.000000-ep2ddifftraDYNDISTCALCBVAL-03633  (ep2d_diff_tra_DYNDISTCALC_BVAL) (diff)\n",
      "\t\t- Skipping!\n",
      "\t- Reading: 9.000000-tfl3d PD reftra1.5x1.5t3-78436  (tfl_3d PD ref_tra_1.5x1.5_t3) (unk)\n",
      "\t\t- Skipping!\n",
      "\t- Reading: ProstateX-0032-Ktrans.mhd (Ktrans) (ktrans)\n",
      "\t\t- Done!\n",
      "\n",
      "\t\t> (Blurrying ADC) Combining 5 images: #### -> Elapsed: 1.29s\n",
      " - Lesion positions and significances:\n",
      "   - 1: [229.79996251 239.55386574  14.69362537], Sig: 10\n",
      " - Information: resampling_operation with pre_mask_growth_mm applied to channels [2] on x,y dimensions\n"
     ]
    },
    {
     "data": {
      "application/vnd.jupyter.widget-view+json": {
       "model_id": "d00efa52030d40188993697bc22fab00",
       "version_major": 2,
       "version_minor": 0
      },
      "text/plain": [
       "interactive(children=(IntSlider(value=12, description='z', max=23, style=SliderStyle(handle_color='lightblue')…"
      ]
     },
     "metadata": {},
     "output_type": "display_data"
    },
    {
     "data": {
      "application/vnd.jupyter.widget-view+json": {
       "model_id": "a2afca29293b428db83b0e05f791d1e8",
       "version_major": 2,
       "version_minor": 0
      },
      "text/plain": [
       "interactive(children=(IntSlider(value=12, description='z', max=23, style=SliderStyle(handle_color='lightblue')…"
      ]
     },
     "metadata": {},
     "output_type": "display_data"
    },
    {
     "name": "stdout",
     "output_type": "stream",
     "text": [
      "\n",
      "ProstateX-0033\n",
      "Patient: ProstateX-0033 (date: 2011-11-02 00:00:00)\n",
      "\t- Reading: 3.000000-t2tsesag-70713  (t2_tse_sag) (UNKNOWN)\n",
      "\t\t- Skipping!\n",
      "\t- Reading: 4.000000-t2tsecor-55136  (t2_tse_cor) (UNKNOWN)\n",
      "\t\t- Skipping!\n",
      "\t- Reading: 5.000000-t2tsetra-29650  (t2_tse_tra) (T2)\n",
      "\t\t- Done!\n",
      "\t- Reading: 6.000000-ep2ddifftraDYNDIST-87720  (ep2d_diff_tra_DYNDIST) (b)\n",
      "\t\t- Done!\n",
      "\t- Reading: 7.000000-ep2ddifftraDYNDISTADC-30280  (ep2d_diff_tra_DYNDIST_ADC) (ADC)\n",
      "\t\t- Done!\n",
      "\t- Reading: 8.000000-ep2ddifftraDYNDISTCALCBVAL-66029  (ep2d_diff_tra_DYNDISTCALC_BVAL) (diff)\n",
      "\t\t- Skipping!\n",
      "\t- Reading: 9.000000-tfl3d PD reftra1.5x1.5t3-35053  (tfl_3d PD ref_tra_1.5x1.5_t3) (unk)\n",
      "\t\t- Skipping!\n",
      "\t- Reading: ProstateX-0033-Ktrans.mhd (Ktrans) (ktrans)\n",
      "\t\t- Done!\n",
      "\n",
      "\t\t> (Blurrying ADC) Combining 5 images: #### -> Elapsed: 1.31s\n",
      " - Lesion positions and significances:\n",
      "   - 1: [162.13699924 223.89507794   6.99998908], Sig: 10\n",
      "   - 2: [212.56493568 206.02196857   5.99998694], Sig: 10\n",
      " - Information: resampling_operation with pre_mask_growth_mm applied to channels [2] on x,y dimensions\n"
     ]
    },
    {
     "data": {
      "application/vnd.jupyter.widget-view+json": {
       "model_id": "4b4c69229f9942f89f833d8136d29bcf",
       "version_major": 2,
       "version_minor": 0
      },
      "text/plain": [
       "interactive(children=(IntSlider(value=12, description='z', max=23, style=SliderStyle(handle_color='lightblue')…"
      ]
     },
     "metadata": {},
     "output_type": "display_data"
    },
    {
     "data": {
      "application/vnd.jupyter.widget-view+json": {
       "model_id": "13795d9da03a4792920baf524c7c1429",
       "version_major": 2,
       "version_minor": 0
      },
      "text/plain": [
       "interactive(children=(IntSlider(value=12, description='z', max=23, style=SliderStyle(handle_color='lightblue')…"
      ]
     },
     "metadata": {},
     "output_type": "display_data"
    },
    {
     "name": "stdout",
     "output_type": "stream",
     "text": [
      "\n",
      "ProstateX-0034\n",
      "Patient: ProstateX-0034 (date: 2011-11-02 00:00:00)\n",
      "\t- Reading: 10.000000-tfl3d PD reftra1.5x1.5t3-90288  (tfl_3d PD ref_tra_1.5x1.5_t3) (unk)\n",
      "\t\t- Skipping!\n",
      "\t- Reading: 11.000000-t2localizer-83362  (t2_localizer) (UNKNOWN)\n",
      "\t\t- Skipping!\n",
      "\t- Reading: 12.000000-tfl3d PD reftra1.5x1.5t3-43316  (tfl_3d PD ref_tra_1.5x1.5_t3) (unk)\n",
      "\t\t- Skipping!\n",
      "\t- Reading: 3.000000-t2tsecor-84687  (t2_tse_cor) (UNKNOWN)\n",
      "\t\t- Skipping!\n",
      "\t- Reading: 4.000000-t2tsesag-23773  (t2_tse_sag) (UNKNOWN)\n",
      "\t\t- Skipping!\n",
      "\t- Reading: 5.000000-t2tsetra-08573  (t2_tse_tra) (T2)\n",
      "\t\t- Done!\n",
      "\t- Reading: 6.000000-ep2ddifftraDYNDIST-35814  (ep2d_diff_tra_DYNDIST) (b)\n",
      "\t\t- Done!\n",
      "\t- Reading: 7.000000-ep2ddifftraDYNDISTADC-74705  (ep2d_diff_tra_DYNDIST_ADC) (ADC)\n",
      "\t\t- Done!\n",
      "\t- Reading: 8.000000-ep2ddifftraDYNDISTCALCBVAL-05551  (ep2d_diff_tra_DYNDISTCALC_BVAL) (diff)\n",
      "\t\t- Skipping!\n",
      "\t- Reading: 9.000000-t2tsetra-74578  (t2_tse_tra) (T2)\n",
      "\t\t- Done!\n",
      "\t- Reading: ProstateX-0034-Ktrans.mhd (Ktrans) (ktrans)\n",
      "\t\t- Done!\n",
      "\n",
      "\t\t> (Blurrying ADC) Combining 5 images: #### -> Elapsed: 1.34s\n",
      " - Lesion positions and significances:\n",
      "   - 1: [202.67105102 237.29996042  12.99999731], Sig: 10\n",
      " - Information: resampling_operation with pre_mask_growth_mm applied to channels [2] on x,y dimensions\n"
     ]
    },
    {
     "data": {
      "application/vnd.jupyter.widget-view+json": {
       "model_id": "241e3ebe9ba04742aee8b931f40f050a",
       "version_major": 2,
       "version_minor": 0
      },
      "text/plain": [
       "interactive(children=(IntSlider(value=12, description='z', max=23, style=SliderStyle(handle_color='lightblue')…"
      ]
     },
     "metadata": {},
     "output_type": "display_data"
    },
    {
     "data": {
      "application/vnd.jupyter.widget-view+json": {
       "model_id": "07c17abcd6564d899409836f699a0c4c",
       "version_major": 2,
       "version_minor": 0
      },
      "text/plain": [
       "interactive(children=(IntSlider(value=12, description='z', max=23, style=SliderStyle(handle_color='lightblue')…"
      ]
     },
     "metadata": {},
     "output_type": "display_data"
    },
    {
     "name": "stdout",
     "output_type": "stream",
     "text": [
      "\n",
      "ProstateX-0035\n",
      "Patient: ProstateX-0035 (date: 2011-07-22 00:00:00)\n",
      "\t- Reading: 2.000000-t2loc sag-75713  (t2_loc sag) (UNKNOWN)\n",
      "\t\t- Skipping!\n",
      "\t- Reading: 3.000000-t2tsesag-41041  (t2_tse_sag) (UNKNOWN)\n",
      "\t\t- Skipping!\n",
      "\t- Reading: 4.000000-t2tsetra-94147  (t2_tse_tra) (T2)\n",
      "\t\t- Done!\n",
      "\t- Reading: 5.000000-t2tsecor-68842  (t2_tse_cor) (UNKNOWN)\n",
      "\t\t- Skipping!\n",
      "\t- Reading: 6.000000-ep2ddifftraDYNDIST-30502  (ep2d_diff_tra_DYNDIST) (b)\n",
      "\t\t- Done!\n",
      "\t- Reading: 7.000000-ep2ddifftraDYNDISTADC-00089  (ep2d_diff_tra_DYNDIST_ADC) (ADC)\n",
      "\t\t- Done!\n",
      "\t- Reading: 8.000000-ep2ddifftraDYNDISTCALCBVAL-18839  (ep2d_diff_tra_DYNDISTCALC_BVAL) (diff)\n",
      "\t\t- Skipping!\n",
      "\t- Reading: 9.000000-tfl3d PD reftra1.5x1.5t3-57538  (tfl_3d PD ref_tra_1.5x1.5_t3) (unk)\n",
      "\t\t- Skipping!\n",
      "\t- Reading: ProstateX-0035-Ktrans.mhd (Ktrans) (ktrans)\n",
      "\t\t- Done!\n",
      "\n",
      "\t\t> (Blurrying ADC) Combining 5 images: #### -> Elapsed: 1.30s\n",
      " - Lesion positions and significances:\n",
      "   - 1: [149.64516854 196.82439239   7.99998951], Sig: 2\n",
      "   - 2: [229.91077066 170.90442331   8.41664464], Sig: 10\n",
      " - Information: resampling_operation with pre_mask_growth_mm applied to channels [2] on x,y dimensions\n"
     ]
    },
    {
     "data": {
      "application/vnd.jupyter.widget-view+json": {
       "model_id": "41d3ef8f196d4ffcbc831ed1e50a8833",
       "version_major": 2,
       "version_minor": 0
      },
      "text/plain": [
       "interactive(children=(IntSlider(value=12, description='z', max=23, style=SliderStyle(handle_color='lightblue')…"
      ]
     },
     "metadata": {},
     "output_type": "display_data"
    },
    {
     "data": {
      "application/vnd.jupyter.widget-view+json": {
       "model_id": "b20b04565f114de3886b6911b17de2cf",
       "version_major": 2,
       "version_minor": 0
      },
      "text/plain": [
       "interactive(children=(IntSlider(value=12, description='z', max=23, style=SliderStyle(handle_color='lightblue')…"
      ]
     },
     "metadata": {},
     "output_type": "display_data"
    },
    {
     "name": "stdout",
     "output_type": "stream",
     "text": [
      "\n",
      "ProstateX-0036\n",
      "Patient: ProstateX-0036 (date: 2011-11-02 00:00:00)\n",
      "\t- Reading: 3.000000-t2tsesag-07409  (t2_tse_sag) (UNKNOWN)\n",
      "\t\t- Skipping!\n",
      "\t- Reading: 4.000000-t2tsetra-80824  (t2_tse_tra) (T2)\n",
      "\t\t- Done!\n",
      "\t- Reading: 5.000000-t2tsecor-51059  (t2_tse_cor) (UNKNOWN)\n",
      "\t\t- Skipping!\n",
      "\t- Reading: 6.000000-ep2ddifftraDYNDIST-73447  (ep2d_diff_tra_DYNDIST) (b)\n",
      "\t\t- Done!\n",
      "\t- Reading: 7.000000-ep2ddifftraDYNDISTADC-98647  (ep2d_diff_tra_DYNDIST_ADC) (ADC)\n",
      "\t\t- Done!\n",
      "\t- Reading: 8.000000-ep2ddifftraDYNDISTCALCBVAL-49271  (ep2d_diff_tra_DYNDISTCALC_BVAL) (diff)\n",
      "\t\t- Skipping!\n",
      "\t- Reading: 9.000000-tfl3d PD reftra1.5x1.5t3-71214  (tfl_3d PD ref_tra_1.5x1.5_t3) (unk)\n",
      "\t\t- Skipping!\n",
      "\t- Reading: ProstateX-0036-Ktrans.mhd (Ktrans) (ktrans)\n",
      "\t\t- Done!\n",
      "\n",
      "\t\t> (Blurrying ADC) Combining 5 images: #### -> Elapsed: 1.52s\n",
      " - Lesion positions and significances:\n",
      "   - 1: [229.79999542 222.61895048   9.99999571], Sig: 10\n",
      " - Information: resampling_operation with pre_mask_growth_mm applied to channels [2] on x,y dimensions\n"
     ]
    },
    {
     "data": {
      "application/vnd.jupyter.widget-view+json": {
       "model_id": "4c9c35ee20f64d7f90f0ab56fe651755",
       "version_major": 2,
       "version_minor": 0
      },
      "text/plain": [
       "interactive(children=(IntSlider(value=12, description='z', max=23, style=SliderStyle(handle_color='lightblue')…"
      ]
     },
     "metadata": {},
     "output_type": "display_data"
    },
    {
     "data": {
      "application/vnd.jupyter.widget-view+json": {
       "model_id": "8986bce0a20c41afb9b7afca7f9decff",
       "version_major": 2,
       "version_minor": 0
      },
      "text/plain": [
       "interactive(children=(IntSlider(value=12, description='z', max=23, style=SliderStyle(handle_color='lightblue')…"
      ]
     },
     "metadata": {},
     "output_type": "display_data"
    },
    {
     "name": "stdout",
     "output_type": "stream",
     "text": [
      "\n",
      "ProstateX-0037\n",
      "Patient: ProstateX-0037 (date: 2011-11-03 00:00:00)\n",
      "\t- Reading: 10.000000-tfl3d PD reftra1.5x1.5t3-67764  (tfl_3d PD ref_tra_1.5x1.5_t3) (unk)\n",
      "\t\t- Skipping!\n",
      "\t- Reading: 4.000000-t2tsetra-89375  (t2_tse_tra) (T2)\n",
      "\t\t- Done!\n",
      "\t- Reading: 5.000000-t2tsecor-65771  (t2_tse_cor) (UNKNOWN)\n",
      "\t\t- Skipping!\n",
      "\t- Reading: 6.000000-ep2ddifftraDYNDIST-81076  (ep2d_diff_tra_DYNDIST) (b)\n",
      "\t\t- Done!\n",
      "\t- Reading: 7.000000-ep2ddifftraDYNDISTADC-53539  (ep2d_diff_tra_DYNDIST_ADC) (ADC)\n",
      "\t\t- Done!\n",
      "\t- Reading: 8.000000-ep2ddifftraDYNDISTCALCBVAL-68246  (ep2d_diff_tra_DYNDISTCALC_BVAL) (diff)\n",
      "\t\t- Skipping!\n",
      "\t- Reading: 9.000000-t2tsesag-88922  (t2_tse_sag) (UNKNOWN)\n",
      "\t\t- Skipping!\n",
      "\t- Reading: ProstateX-0037-Ktrans.mhd (Ktrans) (ktrans)\n",
      "\t\t- Done!\n",
      "\n",
      "\t\t> (Blurrying ADC) Combining 5 images: #### -> Elapsed: 1.43s\n",
      " - Lesion positions and significances:\n",
      "   - 1: [161.54686546 187.46674506   8.00000115], Sig: 2\n",
      "   - 2: [165.00906562 219.7460478    6.99999876], Sig: 10\n",
      " - Information: resampling_operation with pre_mask_growth_mm applied to channels [2] on x,y dimensions\n"
     ]
    },
    {
     "data": {
      "application/vnd.jupyter.widget-view+json": {
       "model_id": "dd45bb56e8014b21b98a34ecb8ba4d92",
       "version_major": 2,
       "version_minor": 0
      },
      "text/plain": [
       "interactive(children=(IntSlider(value=12, description='z', max=23, style=SliderStyle(handle_color='lightblue')…"
      ]
     },
     "metadata": {},
     "output_type": "display_data"
    },
    {
     "data": {
      "application/vnd.jupyter.widget-view+json": {
       "model_id": "1c937306624d47ada1358b156a99a023",
       "version_major": 2,
       "version_minor": 0
      },
      "text/plain": [
       "interactive(children=(IntSlider(value=12, description='z', max=23, style=SliderStyle(handle_color='lightblue')…"
      ]
     },
     "metadata": {},
     "output_type": "display_data"
    },
    {
     "name": "stdout",
     "output_type": "stream",
     "text": [
      "\n",
      "ProstateX-0038\n",
      "Patient: ProstateX-0038 (date: 2011-11-06 00:00:00)\n",
      "\t- Reading: 1.000000-t2localizer-55755  (t2_localizer) (UNKNOWN)\n",
      "\t\t- Skipping!\n",
      "\t- Reading: 2.000000-t2loc sag-70138  (t2_loc sag) (UNKNOWN)\n",
      "\t\t- Skipping!\n",
      "\t- Reading: 3.000000-t2tsesag-40405  (t2_tse_sag) (UNKNOWN)\n",
      "\t\t- Skipping!\n",
      "\t- Reading: 4.000000-t2tsecor-47109  (t2_tse_cor) (UNKNOWN)\n",
      "\t\t- Skipping!\n",
      "\t- Reading: 5.000000-t2tsetra-89518  (t2_tse_tra) (T2)\n",
      "\t\t- Done!\n",
      "\t- Reading: 6.000000-ep2ddifftraDYNDIST-85882  (ep2d_diff_tra_DYNDIST) (b)\n",
      "\t\t- Done!\n",
      "\t- Reading: 7.000000-ep2ddifftraDYNDISTADC-06300  (ep2d_diff_tra_DYNDIST_ADC) (ADC)\n",
      "\t\t- Done!\n",
      "\t- Reading: 8.000000-ep2ddifftraDYNDISTCALCBVAL-81203  (ep2d_diff_tra_DYNDISTCALC_BVAL) (diff)\n",
      "\t\t- Skipping!\n",
      "\t- Reading: 9.000000-tfl3d PD reftra1.5x1.5t3-63280  (tfl_3d PD ref_tra_1.5x1.5_t3) (unk)\n",
      "\t\t- Skipping!\n",
      "\t- Reading: ProstateX-0038-Ktrans.mhd (Ktrans) (ktrans)\n",
      "\t\t- Done!\n",
      "\n",
      "\t\t> (Blurrying ADC) Combining 5 images: #### -> Elapsed: 1.32s\n",
      " - Lesion positions and significances:\n",
      "   - 1: [158.45996475 187.23318068  10.99999806], Sig: 10\n",
      "   - 2: [225.65100431 212.72501584  11.99998387], Sig: 10\n",
      "   - 3: [160.67316055 221.53996354   9.99999549], Sig: 10\n",
      " - Information: resampling_operation with pre_mask_growth_mm applied to channels [2] on x,y dimensions\n"
     ]
    },
    {
     "data": {
      "application/vnd.jupyter.widget-view+json": {
       "model_id": "785b8ab446554b54901624bde9974d99",
       "version_major": 2,
       "version_minor": 0
      },
      "text/plain": [
       "interactive(children=(IntSlider(value=12, description='z', max=23, style=SliderStyle(handle_color='lightblue')…"
      ]
     },
     "metadata": {},
     "output_type": "display_data"
    },
    {
     "data": {
      "application/vnd.jupyter.widget-view+json": {
       "model_id": "a3d9f6c7cbb349fdaa7b223b0c067c1c",
       "version_major": 2,
       "version_minor": 0
      },
      "text/plain": [
       "interactive(children=(IntSlider(value=12, description='z', max=23, style=SliderStyle(handle_color='lightblue')…"
      ]
     },
     "metadata": {},
     "output_type": "display_data"
    },
    {
     "name": "stdout",
     "output_type": "stream",
     "text": [
      "\n",
      "ProstateX-0039\n",
      "Patient: ProstateX-0039 (date: 2011-11-07 00:00:00)\n",
      "\t- Reading: 1.000000-t2localizer-35115  (t2_localizer) (UNKNOWN)\n",
      "\t\t- Skipping!\n",
      "\t- Reading: 2.000000-t2loc sag-08152  (t2_loc sag) (UNKNOWN)\n",
      "\t\t- Skipping!\n",
      "\t- Reading: 3.000000-t2tsesag-90860  (t2_tse_sag) (UNKNOWN)\n",
      "\t\t- Skipping!\n",
      "\t- Reading: 4.000000-t2tsecor-32160  (t2_tse_cor) (UNKNOWN)\n",
      "\t\t- Skipping!\n",
      "\t- Reading: 5.000000-t2tsetra-25795  (t2_tse_tra) (T2)\n",
      "\t\t- Done!\n",
      "\t- Reading: 6.000000-ep2ddifftraDYNDIST-18554  (ep2d_diff_tra_DYNDIST) (b)\n",
      "\t\t- Done!\n",
      "\t- Reading: 7.000000-ep2ddifftraDYNDISTADC-46716  (ep2d_diff_tra_DYNDIST_ADC) (ADC)\n",
      "\t\t- Done!\n",
      "\t- Reading: 8.000000-ep2ddifftraDYNDISTCALCBVAL-72818  (ep2d_diff_tra_DYNDISTCALC_BVAL) (diff)\n",
      "\t\t- Skipping!\n",
      "\t- Reading: 9.000000-tfl3d PD reftra1.5x1.5t3-21699  (tfl_3d PD ref_tra_1.5x1.5_t3) (unk)\n",
      "\t\t- Skipping!\n",
      "\t- Reading: ProstateX-0039-Ktrans.mhd (Ktrans) (ktrans)\n",
      "\t\t- Done!\n",
      "\n",
      "\t\t> (Blurrying ADC) Combining 5 images: #### -> Elapsed: 1.47s\n",
      " - Lesion positions and significances:\n",
      "   - 1: [137.05996727 224.48407602  13.99999022], Sig: 10\n",
      " - Information: resampling_operation with pre_mask_growth_mm applied to channels [2] on x,y dimensions\n"
     ]
    },
    {
     "data": {
      "application/vnd.jupyter.widget-view+json": {
       "model_id": "983c58c795fd4743806646837f746ec6",
       "version_major": 2,
       "version_minor": 0
      },
      "text/plain": [
       "interactive(children=(IntSlider(value=12, description='z', max=23, style=SliderStyle(handle_color='lightblue')…"
      ]
     },
     "metadata": {},
     "output_type": "display_data"
    },
    {
     "data": {
      "application/vnd.jupyter.widget-view+json": {
       "model_id": "24e7b7eb2b6f40e1801a2c206518a834",
       "version_major": 2,
       "version_minor": 0
      },
      "text/plain": [
       "interactive(children=(IntSlider(value=12, description='z', max=23, style=SliderStyle(handle_color='lightblue')…"
      ]
     },
     "metadata": {},
     "output_type": "display_data"
    },
    {
     "name": "stdout",
     "output_type": "stream",
     "text": [
      "\n",
      "ProstateX-0040\n",
      "Patient: ProstateX-0040 (date: 2011-11-09 00:00:00)\n",
      "\t- Reading: 10.000000-tfl3d PD reftra1.5x1.5t3-63465  (tfl_3d PD ref_tra_1.5x1.5_t3) (unk)\n",
      "\t\t- Skipping!\n",
      "\t- Reading: 4.000000-t2tsesag-71535  (t2_tse_sag) (UNKNOWN)\n",
      "\t\t- Skipping!\n",
      "\t- Reading: 5.000000-t2tsetra-14576  (t2_tse_tra) (T2)\n",
      "\t\t- Done!\n",
      "\t- Reading: 6.000000-t2tsecor-89750  (t2_tse_cor) (UNKNOWN)\n",
      "\t\t- Skipping!\n",
      "\t- Reading: 7.000000-ep2ddifftraDYNDIST-20696  (ep2d_diff_tra_DYNDIST) (b)\n",
      "\t\t- Done!\n",
      "\t- Reading: 8.000000-ep2ddifftraDYNDISTADC-79371  (ep2d_diff_tra_DYNDIST_ADC) (ADC)\n",
      "\t\t- Done!\n",
      "\t- Reading: 9.000000-ep2ddifftraDYNDISTCALCBVAL-93935  (ep2d_diff_tra_DYNDISTCALC_BVAL) (diff)\n",
      "\t\t- Skipping!\n",
      "\t- Reading: ProstateX-0040-Ktrans.mhd (Ktrans) (ktrans)\n",
      "\t\t- Done!\n",
      "\n",
      "\t\t> (Blurrying ADC) Combining 5 images: #### -> Elapsed: 1.33s\n",
      " - Lesion positions and significances:\n",
      "   - 1: [149.26404381 187.83001146  11.00000419], Sig: 2\n",
      "   - 2: [201.71304702 227.4060783    8.00000083], Sig: 10\n",
      "   - 3: [221.18204117 203.15002048   6.00000013], Sig: 10\n",
      " - Information: resampling_operation with pre_mask_growth_mm applied to channels [2] on x,y dimensions\n"
     ]
    },
    {
     "data": {
      "application/vnd.jupyter.widget-view+json": {
       "model_id": "920c802a06344de2bbdc9426593d3b09",
       "version_major": 2,
       "version_minor": 0
      },
      "text/plain": [
       "interactive(children=(IntSlider(value=12, description='z', max=23, style=SliderStyle(handle_color='lightblue')…"
      ]
     },
     "metadata": {},
     "output_type": "display_data"
    },
    {
     "data": {
      "application/vnd.jupyter.widget-view+json": {
       "model_id": "a03195c25ea244faa6e0cf7e266b6f0f",
       "version_major": 2,
       "version_minor": 0
      },
      "text/plain": [
       "interactive(children=(IntSlider(value=12, description='z', max=23, style=SliderStyle(handle_color='lightblue')…"
      ]
     },
     "metadata": {},
     "output_type": "display_data"
    },
    {
     "name": "stdout",
     "output_type": "stream",
     "text": [
      "\n",
      "ProstateX-0041\n",
      "Patient: ProstateX-0041 (date: 2011-11-10 00:00:00)\n",
      "\t- Reading: 3.000000-t2tsesag-97898  (t2_tse_sag) (UNKNOWN)\n",
      "\t\t- Skipping!\n",
      "\t- Reading: 4.000000-t2tsetra-28232  (t2_tse_tra) (T2)\n",
      "\t\t- Done!\n",
      "\t- Reading: 5.000000-t2tsecor-36429  (t2_tse_cor) (UNKNOWN)\n",
      "\t\t- Skipping!\n",
      "\t- Reading: 6.000000-ep2ddifftraDYNDIST-84716  (ep2d_diff_tra_DYNDIST) (b)\n",
      "\t\t- Done!\n",
      "\t- Reading: 7.000000-ep2ddifftraDYNDISTADC-98235  (ep2d_diff_tra_DYNDIST_ADC) (ADC)\n",
      "\t\t- Done!\n",
      "\t- Reading: 8.000000-ep2ddifftraDYNDISTCALCBVAL-79759  (ep2d_diff_tra_DYNDISTCALC_BVAL) (diff)\n",
      "\t\t- Skipping!\n",
      "\t- Reading: 9.000000-tfl3d PD reftra1.5x1.5t3-62483  (tfl_3d PD ref_tra_1.5x1.5_t3) (unk)\n",
      "\t\t- Skipping!\n",
      "\t- Reading: ProstateX-0041-Ktrans.mhd (Ktrans) (ktrans)\n",
      "\t\t- Done!\n",
      "\n",
      "\t\t> (Blurrying ADC) Combining 5 images: #### -> Elapsed: 1.32s\n",
      " - Lesion positions and significances:\n",
      "   - 1: [149.87679862 234.39209993   6.00000136], Sig: 2\n",
      " - Information: resampling_operation with pre_mask_growth_mm applied to channels [2] on x,y dimensions\n"
     ]
    },
    {
     "data": {
      "application/vnd.jupyter.widget-view+json": {
       "model_id": "502484aedebc4af6add24ecf1fb2a1e7",
       "version_major": 2,
       "version_minor": 0
      },
      "text/plain": [
       "interactive(children=(IntSlider(value=12, description='z', max=23, style=SliderStyle(handle_color='lightblue')…"
      ]
     },
     "metadata": {},
     "output_type": "display_data"
    },
    {
     "data": {
      "application/vnd.jupyter.widget-view+json": {
       "model_id": "a38cc517e5cc43738f56842c7abbb91f",
       "version_major": 2,
       "version_minor": 0
      },
      "text/plain": [
       "interactive(children=(IntSlider(value=12, description='z', max=23, style=SliderStyle(handle_color='lightblue')…"
      ]
     },
     "metadata": {},
     "output_type": "display_data"
    },
    {
     "name": "stdout",
     "output_type": "stream",
     "text": [
      "\n",
      "ProstateX-0042\n",
      "Patient: ProstateX-0042 (date: 2011-11-11 00:00:00)\n",
      "\t- Reading: 10.000000-tfl3d PD reftra1.5x1.5t3-81973  (tfl_3d PD ref_tra_1.5x1.5_t3) (unk)\n",
      "\t\t- Skipping!\n",
      "\t- Reading: 3.000000-t2tsesag-37884  (t2_tse_sag) (UNKNOWN)\n",
      "\t\t- Skipping!\n",
      "\t- Reading: 4.000000-t2tsetra-60576  (t2_tse_tra) (T2)\n",
      "\t\t- Done!\n",
      "\t- Reading: 5.000000-t2tsecor-79141  (t2_tse_cor) (UNKNOWN)\n",
      "\t\t- Skipping!\n",
      "\t- Reading: 6.000000-ep2ddifftraDYNDIST-01729  (ep2d_diff_tra_DYNDIST) (b)\n",
      "\t\t- Done!\n",
      "\t- Reading: 7.000000-ep2ddifftraDYNDISTADC-15652  (ep2d_diff_tra_DYNDIST_ADC) (ADC)\n",
      "\t\t- Done!\n",
      "\t- Reading: 8.000000-ep2ddifftraDYNDISTCALCBVAL-00147  (ep2d_diff_tra_DYNDISTCALC_BVAL) (diff)\n",
      "\t\t- Skipping!\n",
      "\t- Reading: 9.000000-t2tsetra-28074  (t2_tse_tra) (T2)\n",
      "\t\t- Done!\n",
      "\t- Reading: ProstateX-0042-Ktrans.mhd (Ktrans) (ktrans)\n",
      "\t\t- Done!\n",
      "\n",
      "\t\t> (Blurrying ADC) Combining 5 images: #### -> Elapsed: 1.75s\n",
      " - Lesion positions and significances:\n",
      "   - 1: [209.51239956 173.34716824   6.00001201], Sig: 10\n",
      " - Information: resampling_operation with pre_mask_growth_mm applied to channels [2] on x,y dimensions\n"
     ]
    },
    {
     "data": {
      "application/vnd.jupyter.widget-view+json": {
       "model_id": "36974867803a4c1099ba27f46b653630",
       "version_major": 2,
       "version_minor": 0
      },
      "text/plain": [
       "interactive(children=(IntSlider(value=12, description='z', max=23, style=SliderStyle(handle_color='lightblue')…"
      ]
     },
     "metadata": {},
     "output_type": "display_data"
    },
    {
     "data": {
      "application/vnd.jupyter.widget-view+json": {
       "model_id": "2dc14b4abd2f465faf0ab18a7f133925",
       "version_major": 2,
       "version_minor": 0
      },
      "text/plain": [
       "interactive(children=(IntSlider(value=12, description='z', max=23, style=SliderStyle(handle_color='lightblue')…"
      ]
     },
     "metadata": {},
     "output_type": "display_data"
    },
    {
     "name": "stdout",
     "output_type": "stream",
     "text": [
      "\n",
      "ProstateX-0043\n",
      "Patient: ProstateX-0043 (date: 2011-11-13 00:00:00)\n",
      "\t- Reading: 3.000000-t2tsesag-60358  (t2_tse_sag) (UNKNOWN)\n",
      "\t\t- Skipping!\n",
      "\t- Reading: 4.000000-t2tsetra-45630  (t2_tse_tra) (T2)\n",
      "\t\t- Done!\n",
      "\t- Reading: 5.000000-t2tsecor-44132  (t2_tse_cor) (UNKNOWN)\n",
      "\t\t- Skipping!\n",
      "\t- Reading: 6.000000-ep2ddifftraDYNDIST-98519  (ep2d_diff_tra_DYNDIST) (b)\n",
      "\t\t- Done!\n",
      "\t- Reading: 7.000000-ep2ddifftraDYNDISTADC-50743  (ep2d_diff_tra_DYNDIST_ADC) (ADC)\n",
      "\t\t- Done!\n",
      "\t- Reading: 8.000000-ep2ddifftraDYNDISTCALCBVAL-95467  (ep2d_diff_tra_DYNDISTCALC_BVAL) (diff)\n",
      "\t\t- Skipping!\n",
      "\t- Reading: 9.000000-tfl3d PD reftra1.5x1.5t3-15179  (tfl_3d PD ref_tra_1.5x1.5_t3) (unk)\n",
      "\t\t- Skipping!\n",
      "\t- Reading: ProstateX-0043-Ktrans.mhd (Ktrans) (ktrans)\n",
      "\t\t- Done!\n",
      "\n",
      "\t\t> (Blurrying ADC) Combining 5 images: #### -> Elapsed: 1.34s\n",
      " - Lesion positions and significances:\n",
      "   - 1: [163.23700523 224.20197084  15.99999717], Sig: 10\n",
      " - Information: resampling_operation with pre_mask_growth_mm applied to channels [2] on x,y dimensions\n"
     ]
    },
    {
     "data": {
      "application/vnd.jupyter.widget-view+json": {
       "model_id": "eb0c86bcc36b41b9a70f408af3263b32",
       "version_major": 2,
       "version_minor": 0
      },
      "text/plain": [
       "interactive(children=(IntSlider(value=12, description='z', max=23, style=SliderStyle(handle_color='lightblue')…"
      ]
     },
     "metadata": {},
     "output_type": "display_data"
    },
    {
     "data": {
      "application/vnd.jupyter.widget-view+json": {
       "model_id": "1ab908e96ac64435bd07b1d29a7eb1e7",
       "version_major": 2,
       "version_minor": 0
      },
      "text/plain": [
       "interactive(children=(IntSlider(value=12, description='z', max=23, style=SliderStyle(handle_color='lightblue')…"
      ]
     },
     "metadata": {},
     "output_type": "display_data"
    },
    {
     "name": "stdout",
     "output_type": "stream",
     "text": [
      "\n",
      "ProstateX-0044\n",
      "Patient: ProstateX-0044 (date: 2011-11-14 00:00:00)\n",
      "\t- Reading: 3.000000-t2tsesag-98013  (t2_tse_sag) (UNKNOWN)\n",
      "\t\t- Skipping!\n",
      "\t- Reading: 4.000000-t2tsetra-22636  (t2_tse_tra) (T2)\n",
      "\t\t- Done!\n",
      "\t- Reading: 5.000000-t2tsecor-62082  (t2_tse_cor) (UNKNOWN)\n",
      "\t\t- Skipping!\n",
      "\t- Reading: 6.000000-ep2ddifftraDYNDIST-49028  (ep2d_diff_tra_DYNDIST) (b)\n",
      "\t\t- Done!\n",
      "\t- Reading: 7.000000-ep2ddifftraDYNDISTADC-19526  (ep2d_diff_tra_DYNDIST_ADC) (ADC)\n",
      "\t\t- Done!\n",
      "\t- Reading: 8.000000-ep2ddifftraDYNDISTCALCBVAL-59144  (ep2d_diff_tra_DYNDISTCALC_BVAL) (diff)\n",
      "\t\t- Skipping!\n",
      "\t- Reading: 9.000000-tfl3d PD reftra1.5x1.5t3-16375  (tfl_3d PD ref_tra_1.5x1.5_t3) (unk)\n",
      "\t\t- Skipping!\n",
      "\t- Reading: ProstateX-0044-Ktrans.mhd (Ktrans) (ktrans)\n",
      "\t\t- Done!\n",
      "\n",
      "\t\t> (Blurrying ADC) Combining 5 images: #### -> Elapsed: 1.30s\n",
      " - Lesion positions and significances:\n",
      "   - 1: [197.40479946 178.85001939   4.99999875], Sig: 10\n",
      " - Information: resampling_operation with pre_mask_growth_mm applied to channels [2] on x,y dimensions\n"
     ]
    },
    {
     "data": {
      "application/vnd.jupyter.widget-view+json": {
       "model_id": "49edbf11ae4d40158a2f2ad1fc9442f7",
       "version_major": 2,
       "version_minor": 0
      },
      "text/plain": [
       "interactive(children=(IntSlider(value=12, description='z', max=23, style=SliderStyle(handle_color='lightblue')…"
      ]
     },
     "metadata": {},
     "output_type": "display_data"
    },
    {
     "data": {
      "application/vnd.jupyter.widget-view+json": {
       "model_id": "512d3124db2d4c078806dda5dc5bfa09",
       "version_major": 2,
       "version_minor": 0
      },
      "text/plain": [
       "interactive(children=(IntSlider(value=12, description='z', max=23, style=SliderStyle(handle_color='lightblue')…"
      ]
     },
     "metadata": {},
     "output_type": "display_data"
    },
    {
     "name": "stdout",
     "output_type": "stream",
     "text": [
      "\n",
      "ProstateX-0045\n",
      "Patient: ProstateX-0045 (date: 2011-11-17 00:00:00)\n",
      "\t- Reading: 1.000000-t2localizer-10765  (t2_localizer) (UNKNOWN)\n",
      "\t\t- Skipping!\n",
      "\t- Reading: 2.000000-t2loc sag-37987  (t2_loc sag) (UNKNOWN)\n",
      "\t\t- Skipping!\n",
      "\t- Reading: 3.000000-t2tsesag-09719  (t2_tse_sag) (UNKNOWN)\n",
      "\t\t- Skipping!\n",
      "\t- Reading: 4.000000-t2tsetra-98907  (t2_tse_tra) (T2)\n",
      "\t\t- Done!\n",
      "\t- Reading: 5.000000-t2tsecor-31918  (t2_tse_cor) (UNKNOWN)\n",
      "\t\t- Skipping!\n",
      "\t- Reading: 6.000000-ep2ddifftraDYNDIST-66538  (ep2d_diff_tra_DYNDIST) (b)\n",
      "\t\t- Done!\n",
      "\t- Reading: 7.000000-ep2ddifftraDYNDISTADC-99111  (ep2d_diff_tra_DYNDIST_ADC) (ADC)\n",
      "\t\t- Done!\n",
      "\t- Reading: 8.000000-ep2ddifftraDYNDISTCALCBVAL-78732  (ep2d_diff_tra_DYNDISTCALC_BVAL) (diff)\n",
      "\t\t- Skipping!\n",
      "\t- Reading: 9.000000-tfl3d PD reftra1.5x1.5t3-00142  (tfl_3d PD ref_tra_1.5x1.5_t3) (unk)\n",
      "\t\t- Skipping!\n",
      "\t- Reading: ProstateX-0045-Ktrans.mhd (Ktrans) (ktrans)\n",
      "\t\t- Done!\n",
      "\n",
      "\t\t> (Blurrying ADC) Combining 5 images: #### -> Elapsed: 1.69s\n",
      " - Lesion positions and significances:\n",
      "   - 1: [215.62400628 158.24841358  11.99999639], Sig: 10\n",
      " - Information: resampling_operation with pre_mask_growth_mm applied to channels [2] on x,y dimensions\n"
     ]
    },
    {
     "data": {
      "application/vnd.jupyter.widget-view+json": {
       "model_id": "93ce5bb5412d48118aeca068d48ebf6b",
       "version_major": 2,
       "version_minor": 0
      },
      "text/plain": [
       "interactive(children=(IntSlider(value=12, description='z', max=23, style=SliderStyle(handle_color='lightblue')…"
      ]
     },
     "metadata": {},
     "output_type": "display_data"
    },
    {
     "data": {
      "application/vnd.jupyter.widget-view+json": {
       "model_id": "33d5a2c031b34d869811166745ad1655",
       "version_major": 2,
       "version_minor": 0
      },
      "text/plain": [
       "interactive(children=(IntSlider(value=12, description='z', max=23, style=SliderStyle(handle_color='lightblue')…"
      ]
     },
     "metadata": {},
     "output_type": "display_data"
    },
    {
     "name": "stdout",
     "output_type": "stream",
     "text": [
      "\n",
      "ProstateX-0046\n",
      "Patient: ProstateX-0046 (date: 2011-07-25 00:00:00)\n",
      "\t- Reading: 1.000000-t2localizer-88182  (t2_localizer) (UNKNOWN)\n",
      "\t\t- Skipping!\n",
      "\t- Reading: 2.000000-t2loc sag-72046  (t2_loc sag) (UNKNOWN)\n",
      "\t\t- Skipping!\n",
      "\t- Reading: 3.000000-t2tsesag-79051  (t2_tse_sag) (UNKNOWN)\n",
      "\t\t- Skipping!\n",
      "\t- Reading: 4.000000-t2tsecor-59688  (t2_tse_cor) (UNKNOWN)\n",
      "\t\t- Skipping!\n",
      "\t- Reading: 5.000000-t2tsetra-87909  (t2_tse_tra) (T2)\n",
      "\t\t- Done!\n",
      "\t- Reading: 6.000000-ep2ddifftraDYNDISTMIX-45136  (ep2d_diff_tra_DYNDIST_MIX) (b)\n",
      "\t\t- Done!\n",
      "\t- Reading: 7.000000-ep2ddifftraDYNDISTMIXADC-76965  (ep2d_diff_tra_DYNDIST_MIX_ADC) (ADC)\n",
      "\t\t- Done!\n",
      "\t- Reading: 8.000000-ep2ddifftraDYNDISTMIXCALCBVAL-74136  (ep2d_diff_tra_DYNDIST_MIXCALC_BVAL) (diff)\n",
      "\t\t- Skipping!\n",
      "\t- Reading: 9.000000-tfl3d PD reftra1.5x1.5t3-86785  (tfl_3d PD ref_tra_1.5x1.5_t3) (unk)\n",
      "\t\t- Skipping!\n",
      "\t- Reading: ProstateX-0046-Ktrans.mhd (Ktrans) (ktrans)\n",
      "\t\t- Done!\n",
      "\n",
      "\t\t> (Blurrying ADC) Combining 5 images: #### -> Elapsed: 1.33s\n",
      " - Lesion positions and significances:\n",
      "   - 1: [139.41752338 199.02149498  10.99999603], Sig: 3\n",
      "   - 2: [195.45182323 211.87247203   7.25001528], Sig: 10\n",
      " - Information: resampling_operation with pre_mask_growth_mm applied to channels [2] on x,y dimensions\n"
     ]
    },
    {
     "data": {
      "application/vnd.jupyter.widget-view+json": {
       "model_id": "1e379175a4eb42dfbc62f408d69f8b16",
       "version_major": 2,
       "version_minor": 0
      },
      "text/plain": [
       "interactive(children=(IntSlider(value=12, description='z', max=23, style=SliderStyle(handle_color='lightblue')…"
      ]
     },
     "metadata": {},
     "output_type": "display_data"
    },
    {
     "data": {
      "application/vnd.jupyter.widget-view+json": {
       "model_id": "44c1a45fedcc4e89a7e214a586076955",
       "version_major": 2,
       "version_minor": 0
      },
      "text/plain": [
       "interactive(children=(IntSlider(value=12, description='z', max=23, style=SliderStyle(handle_color='lightblue')…"
      ]
     },
     "metadata": {},
     "output_type": "display_data"
    },
    {
     "name": "stdout",
     "output_type": "stream",
     "text": [
      "\n",
      "ProstateX-0047\n",
      "Patient: ProstateX-0047 (date: 2011-11-17 00:00:00)\n",
      "\t- Reading: 1.000000-t2localizer-72023  (t2_localizer) (UNKNOWN)\n",
      "\t\t- Skipping!\n",
      "\t- Reading: 2.000000-t2loc sag-51515  (t2_loc sag) (UNKNOWN)\n",
      "\t\t- Skipping!\n",
      "\t- Reading: 3.000000-t2tsesag-04885  (t2_tse_sag) (UNKNOWN)\n",
      "\t\t- Skipping!\n",
      "\t- Reading: 4.000000-t2tsetra-08775  (t2_tse_tra) (T2)\n",
      "\t\t- Done!\n",
      "\t- Reading: 5.000000-t2tsecor-72304  (t2_tse_cor) (UNKNOWN)\n",
      "\t\t- Skipping!\n",
      "\t- Reading: 6.000000-ep2ddifftraDYNDIST-33863  (ep2d_diff_tra_DYNDIST) (b)\n",
      "\t\t- Done!\n",
      "\t- Reading: 7.000000-ep2ddifftraDYNDISTADC-31723  (ep2d_diff_tra_DYNDIST_ADC) (ADC)\n",
      "\t\t- Done!\n",
      "\t- Reading: 8.000000-ep2ddifftraDYNDISTCALCBVAL-37243  (ep2d_diff_tra_DYNDISTCALC_BVAL) (diff)\n",
      "\t\t- Skipping!\n",
      "\t- Reading: 9.000000-tfl3d PD reftra1.5x1.5t3-60441  (tfl_3d PD ref_tra_1.5x1.5_t3) (unk)\n",
      "\t\t- Skipping!\n",
      "\t- Reading: ProstateX-0047-Ktrans.mhd (Ktrans) (ktrans)\n",
      "\t\t- Done!\n",
      "\n",
      "\t\t> (Blurrying ADC) Combining 5 images: #### -> Elapsed: 1.41s\n",
      " - Lesion positions and significances:\n",
      "   - 1: [171.98760985 244.39537871   9.00000314], Sig: 10\n",
      " - Information: resampling_operation with pre_mask_growth_mm applied to channels [2] on x,y dimensions\n"
     ]
    },
    {
     "data": {
      "application/vnd.jupyter.widget-view+json": {
       "model_id": "6f048640aebe4d588cae8e869abce0fc",
       "version_major": 2,
       "version_minor": 0
      },
      "text/plain": [
       "interactive(children=(IntSlider(value=12, description='z', max=23, style=SliderStyle(handle_color='lightblue')…"
      ]
     },
     "metadata": {},
     "output_type": "display_data"
    },
    {
     "data": {
      "application/vnd.jupyter.widget-view+json": {
       "model_id": "98368ee1221b4fcfbf232c59a86b8947",
       "version_major": 2,
       "version_minor": 0
      },
      "text/plain": [
       "interactive(children=(IntSlider(value=12, description='z', max=23, style=SliderStyle(handle_color='lightblue')…"
      ]
     },
     "metadata": {},
     "output_type": "display_data"
    },
    {
     "name": "stdout",
     "output_type": "stream",
     "text": [
      "\n",
      "ProstateX-0048\n",
      "Patient: ProstateX-0048 (date: 2011-11-17 00:00:00)\n",
      "\t- Reading: 1.000000-t2localizer-22808  (t2_localizer) (UNKNOWN)\n",
      "\t\t- Skipping!\n",
      "\t- Reading: 2.000000-t2loc sag-57233  (t2_loc sag) (UNKNOWN)\n",
      "\t\t- Skipping!\n",
      "\t- Reading: 3.000000-t2tsesag-30272  (t2_tse_sag) (UNKNOWN)\n",
      "\t\t- Skipping!\n",
      "\t- Reading: 4.000000-t2tsetra-60872  (t2_tse_tra) (T2)\n",
      "\t\t- Done!\n",
      "\t- Reading: 5.000000-t2tsecor-49567  (t2_tse_cor) (UNKNOWN)\n",
      "\t\t- Skipping!\n",
      "\t- Reading: 6.000000-ep2ddifftraDYNDIST-24361  (ep2d_diff_tra_DYNDIST) (b)\n",
      "\t\t- Done!\n",
      "\t- Reading: 7.000000-ep2ddifftraDYNDISTADC-11443  (ep2d_diff_tra_DYNDIST_ADC) (ADC)\n",
      "\t\t- Done!\n",
      "\t- Reading: 8.000000-ep2ddifftraDYNDISTCALCBVAL-36979  (ep2d_diff_tra_DYNDISTCALC_BVAL) (diff)\n",
      "\t\t- Skipping!\n",
      "\t- Reading: 9.000000-tfl3d PD reftra1.5x1.5t3-48392  (tfl_3d PD ref_tra_1.5x1.5_t3) (unk)\n",
      "\t\t- Skipping!\n",
      "\t- Reading: ProstateX-0048-Ktrans.mhd (Ktrans) (ktrans)\n",
      "\t\t- Done!\n",
      "\n",
      "\t\t> (Blurrying ADC) Combining 5 images: #### -> Elapsed: 1.30s\n",
      " - Lesion positions and significances:\n",
      "   - 1: [228.59994656 207.64502108   7.00000152], Sig: 10\n",
      " - Information: resampling_operation with pre_mask_growth_mm applied to channels [2] on x,y dimensions\n"
     ]
    },
    {
     "data": {
      "application/vnd.jupyter.widget-view+json": {
       "model_id": "1285420a9ac24ae89546dd55b9d2ecf8",
       "version_major": 2,
       "version_minor": 0
      },
      "text/plain": [
       "interactive(children=(IntSlider(value=12, description='z', max=23, style=SliderStyle(handle_color='lightblue')…"
      ]
     },
     "metadata": {},
     "output_type": "display_data"
    },
    {
     "data": {
      "application/vnd.jupyter.widget-view+json": {
       "model_id": "7e86ddb95fb74d559f819e0e302b757a",
       "version_major": 2,
       "version_minor": 0
      },
      "text/plain": [
       "interactive(children=(IntSlider(value=12, description='z', max=23, style=SliderStyle(handle_color='lightblue')…"
      ]
     },
     "metadata": {},
     "output_type": "display_data"
    },
    {
     "name": "stdout",
     "output_type": "stream",
     "text": [
      "\n",
      "ProstateX-0049\n",
      "Patient: ProstateX-0049 (date: 2011-11-21 00:00:00)\n",
      "\t- Reading: 3.000000-t2tsesag-90181  (t2_tse_sag) (UNKNOWN)\n",
      "\t\t- Skipping!\n",
      "\t- Reading: 4.000000-t2tsetra-08778  (t2_tse_tra) (T2)\n",
      "\t\t- Done!\n",
      "\t- Reading: 5.000000-t2tsecor-49644  (t2_tse_cor) (UNKNOWN)\n",
      "\t\t- Skipping!\n",
      "\t- Reading: 6.000000-ep2ddifftraDYNDIST-46879  (ep2d_diff_tra_DYNDIST) (b)\n",
      "\t\t- Done!\n",
      "\t- Reading: 7.000000-ep2ddifftraDYNDISTADC-92377  (ep2d_diff_tra_DYNDIST_ADC) (ADC)\n",
      "\t\t- Done!\n",
      "\t- Reading: 8.000000-ep2ddifftraDYNDISTCALCBVAL-41920  (ep2d_diff_tra_DYNDISTCALC_BVAL) (diff)\n",
      "\t\t- Skipping!\n",
      "\t- Reading: 9.000000-tfl3d PD reftra1.5x1.5t3-19413  (tfl_3d PD ref_tra_1.5x1.5_t3) (unk)\n",
      "\t\t- Skipping!\n",
      "\t- Reading: ProstateX-0049-Ktrans.mhd (Ktrans) (ktrans)\n",
      "\t\t- Done!\n",
      "\n",
      "\t\t> (Blurrying ADC) Combining 5 images: #### -> Elapsed: 1.31s\n",
      " - Lesion positions and significances:\n",
      "   - 1: [212.09014892 227.96518522   7.00000029], Sig: 10\n",
      " - Information: resampling_operation with pre_mask_growth_mm applied to channels [2] on x,y dimensions\n"
     ]
    },
    {
     "data": {
      "application/vnd.jupyter.widget-view+json": {
       "model_id": "2c0497ff464442269bcd6b4b070f1b2d",
       "version_major": 2,
       "version_minor": 0
      },
      "text/plain": [
       "interactive(children=(IntSlider(value=12, description='z', max=23, style=SliderStyle(handle_color='lightblue')…"
      ]
     },
     "metadata": {},
     "output_type": "display_data"
    },
    {
     "data": {
      "application/vnd.jupyter.widget-view+json": {
       "model_id": "230d160b16f94eb892feda27ea80cd52",
       "version_major": 2,
       "version_minor": 0
      },
      "text/plain": [
       "interactive(children=(IntSlider(value=12, description='z', max=23, style=SliderStyle(handle_color='lightblue')…"
      ]
     },
     "metadata": {},
     "output_type": "display_data"
    },
    {
     "name": "stdout",
     "output_type": "stream",
     "text": [
      "\n",
      "ProstateX-0050\n",
      "Patient: ProstateX-0050 (date: 2011-11-21 00:00:00)\n",
      "\t- Reading: 1.000000-t2localizer-46981  (t2_localizer) (UNKNOWN)\n",
      "\t\t- Skipping!\n",
      "\t- Reading: 2.000000-t2loc sag-10339  (t2_loc sag) (UNKNOWN)\n",
      "\t\t- Skipping!\n",
      "\t- Reading: 3.000000-t2tsesag-54503  (t2_tse_sag) (UNKNOWN)\n",
      "\t\t- Skipping!\n",
      "\t- Reading: 4.000000-t2tsecor-15690  (t2_tse_cor) (UNKNOWN)\n",
      "\t\t- Skipping!\n",
      "\t- Reading: 5.000000-t2tsetra-81973  (t2_tse_tra) (T2)\n",
      "\t\t- Done!\n",
      "\t- Reading: 6.000000-ep2ddifftraDYNDIST-86277  (ep2d_diff_tra_DYNDIST) (b)\n",
      "\t\t- Done!\n",
      "\t- Reading: 7.000000-ep2ddifftraDYNDISTADC-70805  (ep2d_diff_tra_DYNDIST_ADC) (ADC)\n",
      "\t\t- Done!\n",
      "\t- Reading: 8.000000-ep2ddifftraDYNDISTCALCBVAL-09951  (ep2d_diff_tra_DYNDISTCALC_BVAL) (diff)\n",
      "\t\t- Skipping!\n",
      "\t- Reading: 9.000000-tfl3d PD reftra1.5x1.5t3-85510  (tfl_3d PD ref_tra_1.5x1.5_t3) (unk)\n",
      "\t\t- Skipping!\n",
      "\t- Reading: ProstateX-0050-Ktrans.mhd (Ktrans) (ktrans)\n",
      "\t\t- Done!\n",
      "\n",
      "\t\t> (Blurrying ADC) Combining 5 images: #### -> Elapsed: 1.40s\n",
      " - Lesion positions and significances:\n",
      "   - 1: [217.33005798 189.86490983   6.00003652], Sig: 10\n",
      " - Information: resampling_operation with pre_mask_growth_mm applied to channels [2] on x,y dimensions\n"
     ]
    },
    {
     "data": {
      "application/vnd.jupyter.widget-view+json": {
       "model_id": "5b3d62d0b9f442e7a7f20afc066d1180",
       "version_major": 2,
       "version_minor": 0
      },
      "text/plain": [
       "interactive(children=(IntSlider(value=12, description='z', max=23, style=SliderStyle(handle_color='lightblue')…"
      ]
     },
     "metadata": {},
     "output_type": "display_data"
    },
    {
     "data": {
      "application/vnd.jupyter.widget-view+json": {
       "model_id": "99c41ccdbcd649f29d652eba842345ba",
       "version_major": 2,
       "version_minor": 0
      },
      "text/plain": [
       "interactive(children=(IntSlider(value=12, description='z', max=23, style=SliderStyle(handle_color='lightblue')…"
      ]
     },
     "metadata": {},
     "output_type": "display_data"
    },
    {
     "name": "stdout",
     "output_type": "stream",
     "text": [
      "\n",
      "ProstateX-0051\n",
      "Patient: ProstateX-0051 (date: 2011-11-21 00:00:00)\n",
      "\t- Reading: 3.000000-t2tsesag-94901  (t2_tse_sag) (UNKNOWN)\n",
      "\t\t- Skipping!\n",
      "\t- Reading: 4.000000-t2tsetra-20345  (t2_tse_tra) (T2)\n",
      "\t\t- Done!\n",
      "\t- Reading: 5.000000-t2tsecor-63378  (t2_tse_cor) (UNKNOWN)\n",
      "\t\t- Skipping!\n",
      "\t- Reading: 6.000000-ep2ddifftraDYNDIST-36197  (ep2d_diff_tra_DYNDIST) (b)\n",
      "\t\t- Done!\n",
      "\t- Reading: 7.000000-ep2ddifftraDYNDISTADC-81164  (ep2d_diff_tra_DYNDIST_ADC) (ADC)\n",
      "\t\t- Done!\n",
      "\t- Reading: 8.000000-ep2ddifftraDYNDISTCALCBVAL-54001  (ep2d_diff_tra_DYNDISTCALC_BVAL) (diff)\n",
      "\t\t- Skipping!\n",
      "\t- Reading: 9.000000-tfl3d PD reftra1.5x1.5t3-46655  (tfl_3d PD ref_tra_1.5x1.5_t3) (unk)\n",
      "\t\t- Skipping!\n",
      "\t- Reading: ProstateX-0051-Ktrans.mhd (Ktrans) (ktrans)\n",
      "\t\t- Done!\n",
      "\n",
      "\t\t> (Blurrying ADC) Combining 5 images: #### -> Elapsed: 1.36s\n",
      " - Lesion positions and significances:\n",
      "   - 1: [157.47990678 214.62990052   9.49999794], Sig: 10\n",
      " - Information: resampling_operation with pre_mask_growth_mm applied to channels [2] on x,y dimensions\n"
     ]
    },
    {
     "data": {
      "application/vnd.jupyter.widget-view+json": {
       "model_id": "f485dfd32f384c1e8e186dc1b5ffb947",
       "version_major": 2,
       "version_minor": 0
      },
      "text/plain": [
       "interactive(children=(IntSlider(value=12, description='z', max=23, style=SliderStyle(handle_color='lightblue')…"
      ]
     },
     "metadata": {},
     "output_type": "display_data"
    },
    {
     "data": {
      "application/vnd.jupyter.widget-view+json": {
       "model_id": "752d80e4f7574ed385e022b6eecbd637",
       "version_major": 2,
       "version_minor": 0
      },
      "text/plain": [
       "interactive(children=(IntSlider(value=12, description='z', max=23, style=SliderStyle(handle_color='lightblue')…"
      ]
     },
     "metadata": {},
     "output_type": "display_data"
    },
    {
     "name": "stdout",
     "output_type": "stream",
     "text": [
      "\n",
      "ProstateX-0052\n",
      "Patient: ProstateX-0052 (date: 2011-11-21 00:00:00)\n",
      "\t- Reading: 10.000000-tfl3d PD reftra1.5x1.5t3-75167  (tfl_3d PD ref_tra_1.5x1.5_t3) (unk)\n",
      "\t\t- Skipping!\n",
      "\t- Reading: 3.000000-t2tsesag-02013  (t2_tse_sag) (UNKNOWN)\n",
      "\t\t- Skipping!\n",
      "\t- Reading: 4.000000-t2tsetra-53184  (t2_tse_tra) (T2)\n",
      "\t\t- Done!\n",
      "\t- Reading: 5.000000-t2tsecor-47808  (t2_tse_cor) (UNKNOWN)\n",
      "\t\t- Skipping!\n",
      "\t- Reading: 6.000000-t2tsetra-38194  (t2_tse_tra) (T2)\n",
      "\t\t- Done!\n",
      "\t- Reading: 7.000000-ep2ddifftraDYNDIST-70570  (ep2d_diff_tra_DYNDIST) (b)\n",
      "\t\t- Done!\n",
      "\t- Reading: 8.000000-ep2ddifftraDYNDISTADC-05096  (ep2d_diff_tra_DYNDIST_ADC) (ADC)\n",
      "\t\t- Done!\n",
      "\t- Reading: 9.000000-ep2ddifftraDYNDISTCALCBVAL-71893  (ep2d_diff_tra_DYNDISTCALC_BVAL) (diff)\n",
      "\t\t- Skipping!\n",
      "\t- Reading: ProstateX-0052-Ktrans.mhd (Ktrans) (ktrans)\n",
      "\t\t- Done!\n",
      "\n",
      "\t\t> (Blurrying ADC) Combining 5 images: #### -> Elapsed: 1.43s\n",
      " - Lesion positions and significances:\n",
      "   - 1: [212.0900612  142.23989416  10.66665684], Sig: 10\n",
      " - Information: resampling_operation with pre_mask_growth_mm applied to channels [2] on x,y dimensions\n"
     ]
    },
    {
     "data": {
      "application/vnd.jupyter.widget-view+json": {
       "model_id": "eaea228142494a09991a0e4f6a8f8127",
       "version_major": 2,
       "version_minor": 0
      },
      "text/plain": [
       "interactive(children=(IntSlider(value=12, description='z', max=23, style=SliderStyle(handle_color='lightblue')…"
      ]
     },
     "metadata": {},
     "output_type": "display_data"
    },
    {
     "data": {
      "application/vnd.jupyter.widget-view+json": {
       "model_id": "0fa59296b81947769cc065e1e07b8358",
       "version_major": 2,
       "version_minor": 0
      },
      "text/plain": [
       "interactive(children=(IntSlider(value=12, description='z', max=23, style=SliderStyle(handle_color='lightblue')…"
      ]
     },
     "metadata": {},
     "output_type": "display_data"
    },
    {
     "name": "stdout",
     "output_type": "stream",
     "text": [
      "\n",
      "ProstateX-0053\n",
      "Patient: ProstateX-0053 (date: 2011-11-22 00:00:00)\n",
      "\t- Reading: 10.000000-tfl3d PD reftra1.5x1.5t3-19722  (tfl_3d PD ref_tra_1.5x1.5_t3) (unk)\n",
      "\t\t- Skipping!\n",
      "\t- Reading: 4.000000-t2tsesag-03554  (t2_tse_sag) (UNKNOWN)\n",
      "\t\t- Skipping!\n",
      "\t- Reading: 5.000000-t2tsetra-83699  (t2_tse_tra) (T2)\n",
      "\t\t- Done!\n",
      "\t- Reading: 6.000000-t2tsecor-12037  (t2_tse_cor) (UNKNOWN)\n",
      "\t\t- Skipping!\n",
      "\t- Reading: 7.000000-ep2ddifftraDYNDIST-89704  (ep2d_diff_tra_DYNDIST) (b)\n",
      "\t\t- Done!\n",
      "\t- Reading: 8.000000-ep2ddifftraDYNDISTADC-90274  (ep2d_diff_tra_DYNDIST_ADC) (ADC)\n",
      "\t\t- Done!\n",
      "\t- Reading: 9.000000-ep2ddifftraDYNDISTCALCBVAL-36290  (ep2d_diff_tra_DYNDISTCALC_BVAL) (diff)\n",
      "\t\t- Skipping!\n",
      "\t- Reading: ProstateX-0053-Ktrans.mhd (Ktrans) (ktrans)\n",
      "\t\t- Done!\n",
      "\n",
      "\t\t> (Blurrying ADC) Combining 5 images: #### -> Elapsed: 1.44s\n",
      " - Lesion positions and significances:\n",
      "   - 1: [231.07445907 200.47901954  11.0032013 ], Sig: 1\n",
      " - Information: resampling_operation with pre_mask_growth_mm applied to channels [2] on x,y dimensions\n"
     ]
    },
    {
     "data": {
      "application/vnd.jupyter.widget-view+json": {
       "model_id": "8e974991529249a89d7b66fa544e70e7",
       "version_major": 2,
       "version_minor": 0
      },
      "text/plain": [
       "interactive(children=(IntSlider(value=12, description='z', max=23, style=SliderStyle(handle_color='lightblue')…"
      ]
     },
     "metadata": {},
     "output_type": "display_data"
    },
    {
     "data": {
      "application/vnd.jupyter.widget-view+json": {
       "model_id": "c500edd23c2d4c0da726c4d154a1a450",
       "version_major": 2,
       "version_minor": 0
      },
      "text/plain": [
       "interactive(children=(IntSlider(value=12, description='z', max=23, style=SliderStyle(handle_color='lightblue')…"
      ]
     },
     "metadata": {},
     "output_type": "display_data"
    },
    {
     "name": "stdout",
     "output_type": "stream",
     "text": [
      "\n",
      "ProstateX-0054\n",
      "Patient: ProstateX-0054 (date: 2011-11-23 00:00:00)\n",
      "\t- Reading: 10.000000-ep2ddifftraDYNDIST-03439  (ep2d_diff_tra_DYNDIST) (b)\n",
      "\t\t- Done!\n",
      "\t- Reading: 11.000000-ep2ddifftraDYNDISTADC-96652  (ep2d_diff_tra_DYNDIST_ADC) (ADC)\n",
      "\t\t- Done!\n",
      "\t- Reading: 12.000000-ep2ddifftraDYNDISTCALCBVAL-64930  (ep2d_diff_tra_DYNDISTCALC_BVAL) (diff)\n",
      "\t\t- Skipping!\n",
      "\t- Reading: 13.000000-t2tsetra-50536  (t2_tse_tra) (T2)\n",
      "\t\t- Done!\n",
      "\t- Reading: 14.000000-tfl3d PD reftra1.5x1.5t3-54026  (tfl_3d PD ref_tra_1.5x1.5_t3) (unk)\n",
      "\t\t- Skipping!\n",
      "\t- Reading: 7.000000-t2tsesag-35451  (t2_tse_sag) (UNKNOWN)\n",
      "\t\t- Skipping!\n",
      "\t- Reading: 8.000000-t2tsetra-63188  (t2_tse_tra) (T2)\n",
      "\t\t- Done!\n",
      "\t- Reading: 9.000000-t2tsecor-42377  (t2_tse_cor) (UNKNOWN)\n",
      "\t\t- Skipping!\n",
      "\t- Reading: ProstateX-0054-Ktrans.mhd (Ktrans) (ktrans)\n",
      "\t\t- Done!\n",
      "\n",
      "\t\t> (Blurrying ADC) Combining 5 images: #### -> Elapsed: 1.43s\n",
      " - Lesion positions and significances:\n",
      "   - 1: [191.28410936 174.2981549    7.22549432], Sig: 2\n",
      "   - 2: [236.21997094 215.26502333   7.99999915], Sig: 10\n",
      " - Information: resampling_operation with pre_mask_growth_mm applied to channels [2] on x,y dimensions\n"
     ]
    },
    {
     "data": {
      "application/vnd.jupyter.widget-view+json": {
       "model_id": "a9184ebb05ec4d0f984f3e50616dea14",
       "version_major": 2,
       "version_minor": 0
      },
      "text/plain": [
       "interactive(children=(IntSlider(value=12, description='z', max=23, style=SliderStyle(handle_color='lightblue')…"
      ]
     },
     "metadata": {},
     "output_type": "display_data"
    },
    {
     "data": {
      "application/vnd.jupyter.widget-view+json": {
       "model_id": "f6069996d08c4b469ed2cfb19c93f6cc",
       "version_major": 2,
       "version_minor": 0
      },
      "text/plain": [
       "interactive(children=(IntSlider(value=12, description='z', max=23, style=SliderStyle(handle_color='lightblue')…"
      ]
     },
     "metadata": {},
     "output_type": "display_data"
    },
    {
     "name": "stdout",
     "output_type": "stream",
     "text": [
      "\n",
      "ProstateX-0055\n",
      "Patient: ProstateX-0055 (date: 2011-11-23 00:00:00)\n",
      "\t- Reading: 3.000000-t2tsesag-56613  (t2_tse_sag) (UNKNOWN)\n",
      "\t\t- Skipping!\n",
      "\t- Reading: 4.000000-t2tsetra-01819  (t2_tse_tra) (T2)\n",
      "\t\t- Done!\n",
      "\t- Reading: 5.000000-t2tsecor-43729  (t2_tse_cor) (UNKNOWN)\n",
      "\t\t- Skipping!\n",
      "\t- Reading: 6.000000-ep2ddifftraDYNDIST-94437  (ep2d_diff_tra_DYNDIST) (b)\n",
      "\t\t- Done!\n",
      "\t- Reading: 7.000000-ep2ddifftraDYNDISTADC-45746  (ep2d_diff_tra_DYNDIST_ADC) (ADC)\n",
      "\t\t- Done!\n",
      "\t- Reading: 8.000000-ep2ddifftraDYNDISTCALCBVAL-67001  (ep2d_diff_tra_DYNDISTCALC_BVAL) (diff)\n",
      "\t\t- Skipping!\n",
      "\t- Reading: 9.000000-tfl3d PD reftra1.5x1.5t3-39730  (tfl_3d PD ref_tra_1.5x1.5_t3) (unk)\n",
      "\t\t- Skipping!\n",
      "\t- Reading: ProstateX-0055-Ktrans.mhd (Ktrans) (ktrans)\n",
      "\t\t- Done!\n",
      "\n",
      "\t\t> (Blurrying ADC) Combining 5 images: #### -> Elapsed: 1.34s\n",
      " - Lesion positions and significances:\n",
      "   - 1: [182.76680875 177.27320471   8.99998889], Sig: 3\n",
      " - Information: resampling_operation with pre_mask_growth_mm applied to channels [2] on x,y dimensions\n"
     ]
    },
    {
     "data": {
      "application/vnd.jupyter.widget-view+json": {
       "model_id": "a85f5d8303464b1996d3a7a28a88ddca",
       "version_major": 2,
       "version_minor": 0
      },
      "text/plain": [
       "interactive(children=(IntSlider(value=12, description='z', max=23, style=SliderStyle(handle_color='lightblue')…"
      ]
     },
     "metadata": {},
     "output_type": "display_data"
    },
    {
     "data": {
      "application/vnd.jupyter.widget-view+json": {
       "model_id": "643d4f5c3d3748ff9ab10aeef663eccd",
       "version_major": 2,
       "version_minor": 0
      },
      "text/plain": [
       "interactive(children=(IntSlider(value=12, description='z', max=23, style=SliderStyle(handle_color='lightblue')…"
      ]
     },
     "metadata": {},
     "output_type": "display_data"
    },
    {
     "name": "stdout",
     "output_type": "stream",
     "text": [
      "\n",
      "ProstateX-0056\n",
      "Patient: ProstateX-0056 (date: 2011-11-23 00:00:00)\n",
      "\t- Reading: 10.000000-tfl3d PD reftra1.5x1.5t3-40092  (tfl_3d PD ref_tra_1.5x1.5_t3) (unk)\n",
      "\t\t- Skipping!\n",
      "\t- Reading: 3.000000-t2tsesag-70395  (t2_tse_sag) (UNKNOWN)\n",
      "\t\t- Skipping!\n",
      "\t- Reading: 4.000000-t2tsetra-25861  (t2_tse_tra) (T2)\n",
      "\t\t- Done!\n",
      "\t- Reading: 5.000000-t2tsecor-91118  (t2_tse_cor) (UNKNOWN)\n",
      "\t\t- Skipping!\n",
      "\t- Reading: 6.000000-ep2ddifftraDYNDIST-11665  (ep2d_diff_tra_DYNDIST) (b)\n",
      "\t\t- Done!\n",
      "\t- Reading: 7.000000-ep2ddifftraDYNDISTADC-67098  (ep2d_diff_tra_DYNDIST_ADC) (ADC)\n",
      "\t\t- Done!\n",
      "\t- Reading: 8.000000-ep2ddifftraDYNDISTCALCBVAL-73262  (ep2d_diff_tra_DYNDISTCALC_BVAL) (diff)\n",
      "\t\t- Skipping!\n",
      "\t- Reading: ProstateX-0056-Ktrans.mhd (Ktrans) (ktrans)\n",
      "\t\t- Done!\n",
      "\n",
      "\t\t> (Blurrying ADC) Combining 5 images: #### -> Elapsed: 1.29s\n",
      " - Lesion positions and significances:\n",
      "   - 1: [164.62490464 167.00487923   5.99998988], Sig: 10\n",
      " - Information: resampling_operation with pre_mask_growth_mm applied to channels [2] on x,y dimensions\n"
     ]
    },
    {
     "data": {
      "application/vnd.jupyter.widget-view+json": {
       "model_id": "95ffe83034ba405caece94371a07f19c",
       "version_major": 2,
       "version_minor": 0
      },
      "text/plain": [
       "interactive(children=(IntSlider(value=12, description='z', max=23, style=SliderStyle(handle_color='lightblue')…"
      ]
     },
     "metadata": {},
     "output_type": "display_data"
    },
    {
     "data": {
      "application/vnd.jupyter.widget-view+json": {
       "model_id": "6d1ffebcde5a46d5b3f8ba56a0fbe5ce",
       "version_major": 2,
       "version_minor": 0
      },
      "text/plain": [
       "interactive(children=(IntSlider(value=12, description='z', max=23, style=SliderStyle(handle_color='lightblue')…"
      ]
     },
     "metadata": {},
     "output_type": "display_data"
    },
    {
     "name": "stdout",
     "output_type": "stream",
     "text": [
      "\n",
      "ProstateX-0057\n",
      "Patient: ProstateX-0057 (date: 2011-07-29 00:00:00)\n",
      "\t- Reading: 3.000000-t2tsesag-62287  (t2_tse_sag) (UNKNOWN)\n",
      "\t\t- Skipping!\n",
      "\t- Reading: 4.000000-t2tsecor-15275  (t2_tse_cor) (UNKNOWN)\n",
      "\t\t- Skipping!\n",
      "\t- Reading: 5.000000-t2tsetra-77030  (t2_tse_tra) (T2)\n",
      "\t\t- Done!\n",
      "\t- Reading: 55.000000-t2tsesag-98031  (t2_tse_sag) (UNKNOWN)\n",
      "\t\t- Skipping!\n",
      "\t- Reading: 6.000000-ep2ddifftraDYNDIST-06441  (ep2d_diff_tra_DYNDIST) (b)\n",
      "\t\t- Done!\n",
      "\t- Reading: 7.000000-ep2ddifftraDYNDISTADC-49955  (ep2d_diff_tra_DYNDIST_ADC) (ADC)\n",
      "\t\t- Done!\n",
      "\t- Reading: 8.000000-ep2ddifftraDYNDISTCALCBVAL-77134  (ep2d_diff_tra_DYNDISTCALC_BVAL) (diff)\n",
      "\t\t- Skipping!\n",
      "\t- Reading: 9.000000-tfl3d PD reftra1.5x1.5t3-11136  (tfl_3d PD ref_tra_1.5x1.5_t3) (unk)\n",
      "\t\t- Skipping!\n",
      "\t- Reading: ProstateX-0057-Ktrans.mhd (Ktrans) (ktrans)\n",
      "\t\t- Done!\n",
      "\n",
      "\t\t> (Blurrying ADC) Combining 5 images: #### -> Elapsed: 1.33s\n",
      " - Lesion positions and significances:\n",
      "   - 1: [158.48701763 223.16787507  12.99998503], Sig: 10\n",
      "   - 2: [221.07281684 232.27752665   3.50000783], Sig: 10\n",
      " - Information: resampling_operation with pre_mask_growth_mm applied to channels [2] on x,y dimensions\n"
     ]
    },
    {
     "data": {
      "application/vnd.jupyter.widget-view+json": {
       "model_id": "18f47d31e0f94cf8bfe72f1d08293e13",
       "version_major": 2,
       "version_minor": 0
      },
      "text/plain": [
       "interactive(children=(IntSlider(value=12, description='z', max=23, style=SliderStyle(handle_color='lightblue')…"
      ]
     },
     "metadata": {},
     "output_type": "display_data"
    },
    {
     "data": {
      "application/vnd.jupyter.widget-view+json": {
       "model_id": "a28db5b346044564bc8b8d84fab98210",
       "version_major": 2,
       "version_minor": 0
      },
      "text/plain": [
       "interactive(children=(IntSlider(value=12, description='z', max=23, style=SliderStyle(handle_color='lightblue')…"
      ]
     },
     "metadata": {},
     "output_type": "display_data"
    },
    {
     "name": "stdout",
     "output_type": "stream",
     "text": [
      "\n",
      "ProstateX-0058\n",
      "Patient: ProstateX-0058 (date: 2011-11-23 00:00:00)\n",
      "\t- Reading: 3.000000-t2tsesag-97623  (t2_tse_sag) (UNKNOWN)\n",
      "\t\t- Skipping!\n",
      "\t- Reading: 4.000000-t2tsecor-78858  (t2_tse_cor) (UNKNOWN)\n",
      "\t\t- Skipping!\n",
      "\t- Reading: 5.000000-t2tsetra-70665  (t2_tse_tra) (T2)\n",
      "\t\t- Done!\n",
      "\t- Reading: 6.000000-ep2ddifftraDYNDIST-85366  (ep2d_diff_tra_DYNDIST) (b)\n",
      "\t\t- Done!\n",
      "\t- Reading: 7.000000-ep2ddifftraDYNDISTADC-87817  (ep2d_diff_tra_DYNDIST_ADC) (ADC)\n",
      "\t\t- Done!\n",
      "\t- Reading: 8.000000-ep2ddifftraDYNDISTCALCBVAL-36949  (ep2d_diff_tra_DYNDISTCALC_BVAL) (diff)\n",
      "\t\t- Skipping!\n",
      "\t- Reading: 9.000000-tfl3d PD reftra1.5x1.5t3-35167  (tfl_3d PD ref_tra_1.5x1.5_t3) (unk)\n",
      "\t\t- Skipping!\n",
      "\t- Reading: ProstateX-0058-Ktrans.mhd (Ktrans) (ktrans)\n",
      "\t\t- Done!\n",
      "\n",
      "\t\t> (Blurrying ADC) Combining 5 images: #### -> Elapsed: 1.28s\n",
      " - Lesion positions and significances:\n",
      "   - 1: [132.29150008 141.28726534  13.83332602], Sig: 10\n",
      " - Information: resampling_operation with pre_mask_growth_mm applied to channels [2] on x,y dimensions\n"
     ]
    },
    {
     "data": {
      "application/vnd.jupyter.widget-view+json": {
       "model_id": "0a2f2dc726f24682919524eec97bb023",
       "version_major": 2,
       "version_minor": 0
      },
      "text/plain": [
       "interactive(children=(IntSlider(value=12, description='z', max=23, style=SliderStyle(handle_color='lightblue')…"
      ]
     },
     "metadata": {},
     "output_type": "display_data"
    },
    {
     "data": {
      "application/vnd.jupyter.widget-view+json": {
       "model_id": "7dc5efa3098243c485dda342b8a21283",
       "version_major": 2,
       "version_minor": 0
      },
      "text/plain": [
       "interactive(children=(IntSlider(value=12, description='z', max=23, style=SliderStyle(handle_color='lightblue')…"
      ]
     },
     "metadata": {},
     "output_type": "display_data"
    },
    {
     "name": "stdout",
     "output_type": "stream",
     "text": [
      "\n",
      "ProstateX-0059\n",
      "Patient: ProstateX-0059 (date: 2011-11-24 00:00:00)\n",
      "\t- Reading: 10.000000-tfl3d PD reftra1.5x1.5t3-51374  (tfl_3d PD ref_tra_1.5x1.5_t3) (unk)\n",
      "\t\t- Skipping!\n",
      "\t- Reading: 3.000000-t2tsesag-18082  (t2_tse_sag) (UNKNOWN)\n",
      "\t\t- Skipping!\n",
      "\t- Reading: 4.000000-t2tsetra-40278  (t2_tse_tra) (T2)\n",
      "\t\t- Done!\n",
      "\t- Reading: 5.000000-t2tsesag-96738  (t2_tse_sag) (UNKNOWN)\n",
      "\t\t- Skipping!\n",
      "\t- Reading: 6.000000-t2tsecor-92377  (t2_tse_cor) (UNKNOWN)\n",
      "\t\t- Skipping!\n",
      "\t- Reading: 7.000000-ep2ddifftraDYNDIST-67877  (ep2d_diff_tra_DYNDIST) (b)\n",
      "\t\t- Done!\n",
      "\t- Reading: 8.000000-ep2ddifftraDYNDISTADC-46878  (ep2d_diff_tra_DYNDIST_ADC) (ADC)\n",
      "\t\t- Done!\n",
      "\t- Reading: 9.000000-ep2ddifftraDYNDISTCALCBVAL-00953  (ep2d_diff_tra_DYNDISTCALC_BVAL) (diff)\n",
      "\t\t- Skipping!\n",
      "\t- Reading: ProstateX-0059-Ktrans.mhd (Ktrans) (ktrans)\n",
      "\t\t- Done!\n",
      "\n",
      "\t\t> (Blurrying ADC) Combining 5 images: #### -> Elapsed: 1.33s\n",
      " - Lesion positions and significances:\n",
      "   - 1: [145.53999233 220.54390763   9.99999713], Sig: 10\n",
      " - Information: resampling_operation with pre_mask_growth_mm applied to channels [2] on x,y dimensions\n"
     ]
    },
    {
     "data": {
      "application/vnd.jupyter.widget-view+json": {
       "model_id": "8624898e0d47413099a0fa083fd4ed08",
       "version_major": 2,
       "version_minor": 0
      },
      "text/plain": [
       "interactive(children=(IntSlider(value=12, description='z', max=23, style=SliderStyle(handle_color='lightblue')…"
      ]
     },
     "metadata": {},
     "output_type": "display_data"
    },
    {
     "data": {
      "application/vnd.jupyter.widget-view+json": {
       "model_id": "63f00a18fee0405ba8c7c4badf1fbdf3",
       "version_major": 2,
       "version_minor": 0
      },
      "text/plain": [
       "interactive(children=(IntSlider(value=12, description='z', max=23, style=SliderStyle(handle_color='lightblue')…"
      ]
     },
     "metadata": {},
     "output_type": "display_data"
    },
    {
     "name": "stdout",
     "output_type": "stream",
     "text": [
      "\n",
      "ProstateX-0060\n",
      "Patient: ProstateX-0060 (date: 2011-11-24 00:00:00)\n",
      "\t- Reading: 3.000000-t2tsesag-29013  (t2_tse_sag) (UNKNOWN)\n",
      "\t\t- Skipping!\n",
      "\t- Reading: 4.000000-t2tsetra-55272  (t2_tse_tra) (T2)\n",
      "\t\t- Done!\n",
      "\t- Reading: 5.000000-t2tsecor-39811  (t2_tse_cor) (UNKNOWN)\n",
      "\t\t- Skipping!\n",
      "\t- Reading: 6.000000-ep2ddifftraDYNDIST-82594  (ep2d_diff_tra_DYNDIST) (b)\n",
      "\t\t- Done!\n",
      "\t- Reading: 7.000000-ep2ddifftraDYNDISTADC-69433  (ep2d_diff_tra_DYNDIST_ADC) (ADC)\n",
      "\t\t- Done!\n",
      "\t- Reading: 8.000000-ep2ddifftraDYNDISTCALCBVAL-32496  (ep2d_diff_tra_DYNDISTCALC_BVAL) (diff)\n",
      "\t\t- Skipping!\n",
      "\t- Reading: 9.000000-tfl3d PD reftra1.5x1.5t3-86836  (tfl_3d PD ref_tra_1.5x1.5_t3) (unk)\n",
      "\t\t- Skipping!\n",
      "\t- Reading: ProstateX-0060-Ktrans.mhd (Ktrans) (ktrans)\n",
      "\t\t- Done!\n",
      "\n",
      "\t\t> (Blurrying ADC) Combining 5 images: #### -> Elapsed: 1.35s\n",
      " - Lesion positions and significances:\n",
      "   - 1: [219.71016908 152.81126747   4.25303347], Sig: 10\n",
      " - Information: resampling_operation with pre_mask_growth_mm applied to channels [2] on x,y dimensions\n"
     ]
    },
    {
     "data": {
      "application/vnd.jupyter.widget-view+json": {
       "model_id": "20b86408a3144966991e23489812c2b7",
       "version_major": 2,
       "version_minor": 0
      },
      "text/plain": [
       "interactive(children=(IntSlider(value=12, description='z', max=23, style=SliderStyle(handle_color='lightblue')…"
      ]
     },
     "metadata": {},
     "output_type": "display_data"
    },
    {
     "data": {
      "application/vnd.jupyter.widget-view+json": {
       "model_id": "02b78838555b4f9ea5547da95bd24662",
       "version_major": 2,
       "version_minor": 0
      },
      "text/plain": [
       "interactive(children=(IntSlider(value=12, description='z', max=23, style=SliderStyle(handle_color='lightblue')…"
      ]
     },
     "metadata": {},
     "output_type": "display_data"
    },
    {
     "name": "stdout",
     "output_type": "stream",
     "text": [
      "\n",
      "ProstateX-0061\n",
      "Patient: ProstateX-0061 (date: 2011-11-24 00:00:00)\n",
      "\t- Reading: 1.000000-t2localizer-38513  (t2_localizer) (UNKNOWN)\n",
      "\t\t- Skipping!\n",
      "\t- Reading: 10.000000-tfl3d PD reftra1.5x1.5t3-16569  (tfl_3d PD ref_tra_1.5x1.5_t3) (unk)\n",
      "\t\t- Skipping!\n",
      "\t- Reading: 2.000000-t2loc sag-90935  (t2_loc sag) (UNKNOWN)\n",
      "\t\t- Skipping!\n",
      "\t- Reading: 3.000000-t2tsesag-55086  (t2_tse_sag) (UNKNOWN)\n",
      "\t\t- Skipping!\n",
      "\t- Reading: 4.000000-t2tsetra-80606  (t2_tse_tra) (T2)\n",
      "\t\t- Done!\n",
      "\t- Reading: 5.000000-t2tsecor-08622  (t2_tse_cor) (UNKNOWN)\n",
      "\t\t- Skipping!\n",
      "\t- Reading: 6.000000-t2tsetra-80230  (t2_tse_tra) (T2)\n",
      "\t\t- Done!\n",
      "\t- Reading: 7.000000-ep2ddifftraDYNDIST-17711  (ep2d_diff_tra_DYNDIST) (b)\n",
      "\t\t- Done!\n",
      "\t- Reading: 8.000000-ep2ddifftraDYNDISTADC-06557  (ep2d_diff_tra_DYNDIST_ADC) (ADC)\n",
      "\t\t- Done!\n",
      "\t- Reading: 9.000000-ep2ddifftraDYNDISTCALCBVAL-75289  (ep2d_diff_tra_DYNDISTCALC_BVAL) (diff)\n",
      "\t\t- Skipping!\n",
      "\t- Reading: ProstateX-0061-Ktrans.mhd (Ktrans) (ktrans)\n",
      "\t\t- Done!\n",
      "\n",
      "\t\t> (Blurrying ADC) Combining 5 images: #### -> Elapsed: 1.43s\n",
      " - Lesion positions and significances:\n",
      "   - 1: [159.56679153 201.62010826   9.99999549], Sig: 10\n",
      " - Information: resampling_operation with pre_mask_growth_mm applied to channels [2] on x,y dimensions\n"
     ]
    },
    {
     "data": {
      "application/vnd.jupyter.widget-view+json": {
       "model_id": "1bd0900b8fd347c0856140d39087be7a",
       "version_major": 2,
       "version_minor": 0
      },
      "text/plain": [
       "interactive(children=(IntSlider(value=12, description='z', max=23, style=SliderStyle(handle_color='lightblue')…"
      ]
     },
     "metadata": {},
     "output_type": "display_data"
    },
    {
     "data": {
      "application/vnd.jupyter.widget-view+json": {
       "model_id": "08045f6209304d49b8be1209596599ed",
       "version_major": 2,
       "version_minor": 0
      },
      "text/plain": [
       "interactive(children=(IntSlider(value=12, description='z', max=23, style=SliderStyle(handle_color='lightblue')…"
      ]
     },
     "metadata": {},
     "output_type": "display_data"
    },
    {
     "name": "stdout",
     "output_type": "stream",
     "text": [
      "\n",
      "ProstateX-0062\n",
      "Patient: ProstateX-0062 (date: 2011-11-30 00:00:00)\n",
      "\t- Reading: 3.000000-t2tsesag-78276  (t2_tse_sag) (UNKNOWN)\n",
      "\t\t- Skipping!\n",
      "\t- Reading: 4.000000-t2tsecor-78288  (t2_tse_cor) (UNKNOWN)\n",
      "\t\t- Skipping!\n",
      "\t- Reading: 5.000000-t2tsetra-70942  (t2_tse_tra) (T2)\n",
      "\t\t- Done!\n",
      "\t- Reading: 6.000000-ep2ddifftraDYNDISTMIX-25516  (ep2d_diff_tra_DYNDIST_MIX) (b)\n",
      "\t\t- Done!\n",
      "\t- Reading: 7.000000-ep2ddifftraDYNDISTMIXADC-23224  (ep2d_diff_tra_DYNDIST_MIX_ADC) (ADC)\n",
      "\t\t- Done!\n",
      "\t- Reading: 8.000000-ep2ddifftraDYNDISTMIXCALCBVAL-15031  (ep2d_diff_tra_DYNDIST_MIXCALC_BVAL) (diff)\n",
      "\t\t- Skipping!\n",
      "\t- Reading: 9.000000-tfl3d PD reftra1.5x1.5t3-26931  (tfl_3d PD ref_tra_1.5x1.5_t3) (unk)\n",
      "\t\t- Skipping!\n",
      "\t- Reading: ProstateX-0062-Ktrans.mhd (Ktrans) (ktrans)\n",
      "\t\t- Done!\n",
      "\n",
      "\t\t> (Blurrying ADC) Combining 5 images: #### -> Elapsed: 1.38s\n",
      " - Lesion positions and significances:\n",
      "   - 1: [206.55098725 180.61199858   6.999999  ], Sig: 10\n",
      " - Information: resampling_operation with pre_mask_growth_mm applied to channels [2] on x,y dimensions\n"
     ]
    },
    {
     "data": {
      "application/vnd.jupyter.widget-view+json": {
       "model_id": "4b8fb7bd15bb4526bc24d3502235cfa8",
       "version_major": 2,
       "version_minor": 0
      },
      "text/plain": [
       "interactive(children=(IntSlider(value=12, description='z', max=23, style=SliderStyle(handle_color='lightblue')…"
      ]
     },
     "metadata": {},
     "output_type": "display_data"
    },
    {
     "data": {
      "application/vnd.jupyter.widget-view+json": {
       "model_id": "66a0d802c4454f2f965a222036d359b2",
       "version_major": 2,
       "version_minor": 0
      },
      "text/plain": [
       "interactive(children=(IntSlider(value=12, description='z', max=23, style=SliderStyle(handle_color='lightblue')…"
      ]
     },
     "metadata": {},
     "output_type": "display_data"
    },
    {
     "name": "stdout",
     "output_type": "stream",
     "text": [
      "\n",
      "ProstateX-0063\n",
      "Patient: ProstateX-0063 (date: 2011-12-01 00:00:00)\n",
      "\t- Reading: 10.000000-ep2ddifftraDYNDISTCALCBVAL-12456  (ep2d_diff_tra_DYNDISTCALC_BVAL) (diff)\n",
      "\t\t- Skipping!\n",
      "\t- Reading: 11.000000-tfl3d PD reftra1.5x1.5t3-20487  (tfl_3d PD ref_tra_1.5x1.5_t3) (unk)\n",
      "\t\t- Skipping!\n",
      "\t- Reading: 4.000000-t2tsesag-01170  (t2_tse_sag) (UNKNOWN)\n",
      "\t\t- Skipping!\n",
      "\t- Reading: 5.000000-t2tsecor-44576  (t2_tse_cor) (UNKNOWN)\n",
      "\t\t- Skipping!\n",
      "\t- Reading: 6.000000-t2tsetra-38195  (t2_tse_tra) (T2)\n",
      "\t\t- Done!\n",
      "\t- Reading: 7.000000-t2tsesag-92646  (t2_tse_sag) (UNKNOWN)\n",
      "\t\t- Skipping!\n",
      "\t- Reading: 8.000000-ep2ddifftraDYNDIST-84269  (ep2d_diff_tra_DYNDIST) (b)\n",
      "\t\t- Done!\n",
      "\t- Reading: 9.000000-ep2ddifftraDYNDISTADC-46312  (ep2d_diff_tra_DYNDIST_ADC) (ADC)\n",
      "\t\t- Done!\n",
      "\t- Reading: ProstateX-0063-Ktrans.mhd (Ktrans) (ktrans)\n",
      "\t\t- Done!\n",
      "\n",
      "\t\t> (Blurrying ADC) Combining 5 images: #### -> Elapsed: 1.44s\n",
      " - Lesion positions and significances:\n",
      "   - 1: [198.91279983 204.48322062  14.5692466 ], Sig: 10\n",
      " - Information: resampling_operation with pre_mask_growth_mm applied to channels [2] on x,y dimensions\n"
     ]
    },
    {
     "data": {
      "application/vnd.jupyter.widget-view+json": {
       "model_id": "7042aad739b3424da08f380a4f24dab8",
       "version_major": 2,
       "version_minor": 0
      },
      "text/plain": [
       "interactive(children=(IntSlider(value=12, description='z', max=23, style=SliderStyle(handle_color='lightblue')…"
      ]
     },
     "metadata": {},
     "output_type": "display_data"
    },
    {
     "data": {
      "application/vnd.jupyter.widget-view+json": {
       "model_id": "52b26443aebd44eebbb4afd477c62c0e",
       "version_major": 2,
       "version_minor": 0
      },
      "text/plain": [
       "interactive(children=(IntSlider(value=12, description='z', max=23, style=SliderStyle(handle_color='lightblue')…"
      ]
     },
     "metadata": {},
     "output_type": "display_data"
    },
    {
     "name": "stdout",
     "output_type": "stream",
     "text": [
      "\n",
      "ProstateX-0064\n",
      "Patient: ProstateX-0064 (date: 2011-12-01 00:00:00)\n",
      "\t- Reading: 10.000000-tfl3d PD reftra1.5x1.5t3-41454  (tfl_3d PD ref_tra_1.5x1.5_t3) (unk)\n",
      "\t\t- Skipping!\n",
      "\t- Reading: 4.000000-t2tsesag-19621  (t2_tse_sag) (UNKNOWN)\n",
      "\t\t- Skipping!\n",
      "\t- Reading: 5.000000-t2tsecor-23773  (t2_tse_cor) (UNKNOWN)\n",
      "\t\t- Skipping!\n",
      "\t- Reading: 6.000000-t2tsetra-58659  (t2_tse_tra) (T2)\n",
      "\t\t- Done!\n",
      "\t- Reading: 7.000000-ep2ddifftraDYNDIST-27696  (ep2d_diff_tra_DYNDIST) (b)\n",
      "\t\t- Done!\n",
      "\t- Reading: 8.000000-ep2ddifftraDYNDISTADC-36095  (ep2d_diff_tra_DYNDIST_ADC) (ADC)\n",
      "\t\t- Done!\n",
      "\t- Reading: 9.000000-ep2ddifftraDYNDISTCALCBVAL-24028  (ep2d_diff_tra_DYNDISTCALC_BVAL) (diff)\n",
      "\t\t- Skipping!\n",
      "\t- Reading: ProstateX-0064-Ktrans.mhd (Ktrans) (ktrans)\n",
      "\t\t- Done!\n",
      "\n",
      "\t\t> (Blurrying ADC) Combining 5 images: #### -> Elapsed: 1.46s\n",
      " - Lesion positions and significances:\n",
      "   - 1: [163.6509124  214.15284322   5.75000157], Sig: 10\n",
      " - Information: resampling_operation with pre_mask_growth_mm applied to channels [2] on x,y dimensions\n"
     ]
    },
    {
     "data": {
      "application/vnd.jupyter.widget-view+json": {
       "model_id": "478158f5ecf143f3bb58c3cee35153d3",
       "version_major": 2,
       "version_minor": 0
      },
      "text/plain": [
       "interactive(children=(IntSlider(value=12, description='z', max=23, style=SliderStyle(handle_color='lightblue')…"
      ]
     },
     "metadata": {},
     "output_type": "display_data"
    },
    {
     "data": {
      "application/vnd.jupyter.widget-view+json": {
       "model_id": "402e8a97d4f345c4b9546d882b0a462a",
       "version_major": 2,
       "version_minor": 0
      },
      "text/plain": [
       "interactive(children=(IntSlider(value=12, description='z', max=23, style=SliderStyle(handle_color='lightblue')…"
      ]
     },
     "metadata": {},
     "output_type": "display_data"
    },
    {
     "name": "stdout",
     "output_type": "stream",
     "text": [
      "\n",
      "ProstateX-0065\n",
      "Patient: ProstateX-0065 (date: 2011-12-03 00:00:00)\n",
      "\t- Reading: 3.000000-t2tsesag-12751  (t2_tse_sag) (UNKNOWN)\n",
      "\t\t- Skipping!\n",
      "\t- Reading: 4.000000-t2tsetra-24671  (t2_tse_tra) (T2)\n",
      "\t\t- Done!\n",
      "\t- Reading: 5.000000-t2tsecor-23231  (t2_tse_cor) (UNKNOWN)\n",
      "\t\t- Skipping!\n",
      "\t- Reading: 6.000000-ep2ddifftraDYNDISTMIX-43146  (ep2d_diff_tra_DYNDIST_MIX) (b)\n",
      "\t\t- Done!\n",
      "\t- Reading: 7.000000-ep2ddifftraDYNDISTMIXADC-85659  (ep2d_diff_tra_DYNDIST_MIX_ADC) (ADC)\n",
      "\t\t- Done!\n",
      "\t- Reading: 8.000000-ep2ddifftraDYNDISTMIXCALCBVAL-62949  (ep2d_diff_tra_DYNDIST_MIXCALC_BVAL) (diff)\n",
      "\t\t- Skipping!\n",
      "\t- Reading: 9.000000-tfl3d PD reftra1.5x1.5t3-22851  (tfl_3d PD ref_tra_1.5x1.5_t3) (unk)\n",
      "\t\t- Skipping!\n",
      "\t- Reading: ProstateX-0065-Ktrans.mhd (Ktrans) (ktrans)\n",
      "\t\t- Done!\n",
      "\n",
      "\t\t> (Blurrying ADC) Combining 5 images: #### -> Elapsed: 1.41s\n",
      " - Lesion positions and significances:\n",
      "   - 1: [216.91900682 197.35298237   9.99999749], Sig: 10\n",
      "   - 2: [170.69396783 158.03199627   7.00000331], Sig: 10\n",
      " - Information: resampling_operation with pre_mask_growth_mm applied to channels [2] on x,y dimensions\n"
     ]
    },
    {
     "data": {
      "application/vnd.jupyter.widget-view+json": {
       "model_id": "61e68bdeda324a6087e7a85a08bbaf9a",
       "version_major": 2,
       "version_minor": 0
      },
      "text/plain": [
       "interactive(children=(IntSlider(value=12, description='z', max=23, style=SliderStyle(handle_color='lightblue')…"
      ]
     },
     "metadata": {},
     "output_type": "display_data"
    },
    {
     "data": {
      "application/vnd.jupyter.widget-view+json": {
       "model_id": "8b297119a3dc4e6bb422ab1793d8c500",
       "version_major": 2,
       "version_minor": 0
      },
      "text/plain": [
       "interactive(children=(IntSlider(value=12, description='z', max=23, style=SliderStyle(handle_color='lightblue')…"
      ]
     },
     "metadata": {},
     "output_type": "display_data"
    },
    {
     "name": "stdout",
     "output_type": "stream",
     "text": [
      "\n",
      "ProstateX-0066\n",
      "Patient: ProstateX-0066 (date: 2011-12-04 00:00:00)\n",
      "\t- Reading: 1.000000-t2localizer-42858  (t2_localizer) (UNKNOWN)\n",
      "\t\t- Skipping!\n",
      "\t- Reading: 2.000000-t2loc sag-93617  (t2_loc sag) (UNKNOWN)\n",
      "\t\t- Skipping!\n",
      "\t- Reading: 3.000000-t2tsesag-03407  (t2_tse_sag) (UNKNOWN)\n",
      "\t\t- Skipping!\n",
      "\t- Reading: 4.000000-t2tsetra-50239  (t2_tse_tra) (T2)\n",
      "\t\t- Done!\n",
      "\t- Reading: 5.000000-t2tsecor-36081  (t2_tse_cor) (UNKNOWN)\n",
      "\t\t- Skipping!\n",
      "\t- Reading: 6.000000-ep2ddifftraDYNDIST-31573  (ep2d_diff_tra_DYNDIST) (b)\n",
      "\t\t- Done!\n",
      "\t- Reading: 7.000000-ep2ddifftraDYNDISTADC-13915  (ep2d_diff_tra_DYNDIST_ADC) (ADC)\n",
      "\t\t- Done!\n",
      "\t- Reading: 8.000000-ep2ddifftraDYNDISTCALCBVAL-86285  (ep2d_diff_tra_DYNDISTCALC_BVAL) (diff)\n",
      "\t\t- Skipping!\n",
      "\t- Reading: 9.000000-tfl3d PD reftra1.5x1.5t3-13354  (tfl_3d PD ref_tra_1.5x1.5_t3) (unk)\n",
      "\t\t- Skipping!\n",
      "\t- Reading: ProstateX-0066-Ktrans.mhd (Ktrans) (ktrans)\n",
      "\t\t- Done!\n",
      "\n",
      "\t\t> (Blurrying ADC) Combining 5 images: #### -> Elapsed: 1.42s\n",
      " - Lesion positions and significances:\n",
      "   - 1: [184.47809601 194.05293628  13.00001226], Sig: 10\n",
      " - Information: resampling_operation with pre_mask_growth_mm applied to channels [2] on x,y dimensions\n"
     ]
    },
    {
     "data": {
      "application/vnd.jupyter.widget-view+json": {
       "model_id": "2f9aa421a4de45b3b12d31c1f70a3159",
       "version_major": 2,
       "version_minor": 0
      },
      "text/plain": [
       "interactive(children=(IntSlider(value=12, description='z', max=23, style=SliderStyle(handle_color='lightblue')…"
      ]
     },
     "metadata": {},
     "output_type": "display_data"
    },
    {
     "data": {
      "application/vnd.jupyter.widget-view+json": {
       "model_id": "a72921ea3b8243fdbcf1ff06c1a7f279",
       "version_major": 2,
       "version_minor": 0
      },
      "text/plain": [
       "interactive(children=(IntSlider(value=12, description='z', max=23, style=SliderStyle(handle_color='lightblue')…"
      ]
     },
     "metadata": {},
     "output_type": "display_data"
    },
    {
     "name": "stdout",
     "output_type": "stream",
     "text": [
      "\n",
      "ProstateX-0067\n",
      "Patient: ProstateX-0067 (date: 2011-12-06 00:00:00)\n",
      "\t- Reading: 1.000000-t2localizer-52028  (t2_localizer) (UNKNOWN)\n",
      "\t\t- Skipping!\n",
      "\t- Reading: 2.000000-t2loc sag-87635  (t2_loc sag) (UNKNOWN)\n",
      "\t\t- Skipping!\n",
      "\t- Reading: 3.000000-t2tsesag-71607  (t2_tse_sag) (UNKNOWN)\n",
      "\t\t- Skipping!\n",
      "\t- Reading: 4.000000-t2tsetra-83918  (t2_tse_tra) (T2)\n",
      "\t\t- Done!\n",
      "\t- Reading: 5.000000-t2tsecor-09734  (t2_tse_cor) (UNKNOWN)\n",
      "\t\t- Skipping!\n",
      "\t- Reading: 6.000000-ep2ddifftraDYNDIST-42198  (ep2d_diff_tra_DYNDIST) (b)\n",
      "\t\t- Done!\n",
      "\t- Reading: 7.000000-ep2ddifftraDYNDISTADC-95770  (ep2d_diff_tra_DYNDIST_ADC) (ADC)\n",
      "\t\t- Done!\n",
      "\t- Reading: 8.000000-ep2ddifftraDYNDISTCALCBVAL-59614  (ep2d_diff_tra_DYNDISTCALC_BVAL) (diff)\n",
      "\t\t- Skipping!\n",
      "\t- Reading: 9.000000-tfl3d PD reftra1.5x1.5t3-42476  (tfl_3d PD ref_tra_1.5x1.5_t3) (unk)\n",
      "\t\t- Skipping!\n",
      "\t- Reading: ProstateX-0067-Ktrans.mhd (Ktrans) (ktrans)\n",
      "\t\t- Done!\n",
      "\n",
      "\t\t> (Blurrying ADC) Combining 5 images: #### -> Elapsed: 1.43s\n",
      " - Lesion positions and significances:\n",
      "   - 1: [203.83310509 172.84688277   7.99998982], Sig: 2\n",
      "   - 2: [221.18190575 193.41508294   9.00000192], Sig: 10\n",
      "   - 3: [143.50970649 208.31810232  11.2608842 ], Sig: 10\n",
      " - Information: resampling_operation with pre_mask_growth_mm applied to channels [2] on x,y dimensions\n"
     ]
    },
    {
     "data": {
      "application/vnd.jupyter.widget-view+json": {
       "model_id": "a78825e9d1d54d72b38bb37f04a3ead6",
       "version_major": 2,
       "version_minor": 0
      },
      "text/plain": [
       "interactive(children=(IntSlider(value=12, description='z', max=23, style=SliderStyle(handle_color='lightblue')…"
      ]
     },
     "metadata": {},
     "output_type": "display_data"
    },
    {
     "data": {
      "application/vnd.jupyter.widget-view+json": {
       "model_id": "6891a5fd15df4829b8fb77dbe833985f",
       "version_major": 2,
       "version_minor": 0
      },
      "text/plain": [
       "interactive(children=(IntSlider(value=12, description='z', max=23, style=SliderStyle(handle_color='lightblue')…"
      ]
     },
     "metadata": {},
     "output_type": "display_data"
    },
    {
     "name": "stdout",
     "output_type": "stream",
     "text": [
      "\n",
      "ProstateX-0068\n",
      "Patient: ProstateX-0068 (date: 2011-08-01 00:00:00)\n",
      "\t- Reading: 3.000000-t2tsesag-73164  (t2_tse_sag) (UNKNOWN)\n",
      "\t\t- Skipping!\n",
      "\t- Reading: 4.000000-t2tsetra-88897  (t2_tse_tra) (T2)\n",
      "\t\t- Done!\n",
      "\t- Reading: 5.000000-t2tsecor-88644  (t2_tse_cor) (UNKNOWN)\n",
      "\t\t- Skipping!\n",
      "\t- Reading: 6.000000-ep2ddifftraDYNDIST-28763  (ep2d_diff_tra_DYNDIST) (b)\n",
      "\t\t- Done!\n",
      "\t- Reading: 7.000000-ep2ddifftraDYNDISTADC-99701  (ep2d_diff_tra_DYNDIST_ADC) (ADC)\n",
      "\t\t- Done!\n",
      "\t- Reading: 8.000000-ep2ddifftraDYNDISTCALCBVAL-19665  (ep2d_diff_tra_DYNDISTCALC_BVAL) (diff)\n",
      "\t\t- Skipping!\n",
      "\t- Reading: 9.000000-tfl3d PD reftra1.5x1.5t3-71425  (tfl_3d PD ref_tra_1.5x1.5_t3) (unk)\n",
      "\t\t- Skipping!\n",
      "\t- Reading: ProstateX-0068-Ktrans.mhd (Ktrans) (ktrans)\n",
      "\t\t- Done!\n",
      "\n",
      "\t\t> (Blurrying ADC) Combining 5 images: #### -> Elapsed: 1.39s\n",
      " - Lesion positions and significances:\n",
      "   - 1: [208.38240051 228.43643887   8.00000129], Sig: 10\n",
      "   - 2: [182.2279396  223.42287118   7.00000248], Sig: 10\n",
      "   - 3: [160.5031395  161.59047781  11.91667362], Sig: 10\n",
      " - Information: resampling_operation with pre_mask_growth_mm applied to channels [2] on x,y dimensions\n"
     ]
    },
    {
     "data": {
      "application/vnd.jupyter.widget-view+json": {
       "model_id": "bfc8858ad5af4a3aaad305551a6e8006",
       "version_major": 2,
       "version_minor": 0
      },
      "text/plain": [
       "interactive(children=(IntSlider(value=12, description='z', max=23, style=SliderStyle(handle_color='lightblue')…"
      ]
     },
     "metadata": {},
     "output_type": "display_data"
    },
    {
     "data": {
      "application/vnd.jupyter.widget-view+json": {
       "model_id": "8aa8a51ad9ed4d73ad21ce39f7a88a02",
       "version_major": 2,
       "version_minor": 0
      },
      "text/plain": [
       "interactive(children=(IntSlider(value=12, description='z', max=23, style=SliderStyle(handle_color='lightblue')…"
      ]
     },
     "metadata": {},
     "output_type": "display_data"
    },
    {
     "name": "stdout",
     "output_type": "stream",
     "text": [
      "\n",
      "ProstateX-0069\n",
      "Patient: ProstateX-0069 (date: 2011-12-07 00:00:00)\n",
      "\t- Reading: 1.000000-t2localizer-62747  (t2_localizer) (UNKNOWN)\n",
      "\t\t- Skipping!\n",
      "\t- Reading: 2.000000-t2loc sag-52702  (t2_loc sag) (UNKNOWN)\n",
      "\t\t- Skipping!\n",
      "\t- Reading: 3.000000-t2tsesag-68547  (t2_tse_sag) (UNKNOWN)\n",
      "\t\t- Skipping!\n",
      "\t- Reading: 4.000000-t2tsetra-62639  (t2_tse_tra) (T2)\n",
      "\t\t- Done!\n",
      "\t- Reading: 5.000000-t2tsecor-70594  (t2_tse_cor) (UNKNOWN)\n",
      "\t\t- Skipping!\n",
      "\t- Reading: 6.000000-ep2ddifftraDYNDIST-39408  (ep2d_diff_tra_DYNDIST) (b)\n",
      "\t\t- Done!\n",
      "\t- Reading: 7.000000-ep2ddifftraDYNDISTADC-89538  (ep2d_diff_tra_DYNDIST_ADC) (ADC)\n",
      "\t\t- Done!\n",
      "\t- Reading: 8.000000-ep2ddifftraDYNDISTCALCBVAL-81896  (ep2d_diff_tra_DYNDISTCALC_BVAL) (diff)\n",
      "\t\t- Skipping!\n",
      "\t- Reading: 9.000000-tfl3d PD reftra1.5x1.5t3-99776  (tfl_3d PD ref_tra_1.5x1.5_t3) (unk)\n",
      "\t\t- Skipping!\n",
      "\t- Reading: ProstateX-0069-Ktrans.mhd (Ktrans) (ktrans)\n",
      "\t\t- Done!\n",
      "\n",
      "\t\t> (Blurrying ADC) Combining 5 images: #### -> Elapsed: 1.32s\n",
      " - Lesion positions and significances:\n",
      "   - 1: [159.9195261  194.45631339   7.00000707], Sig: 1\n",
      " - Information: resampling_operation with pre_mask_growth_mm applied to channels [2] on x,y dimensions\n"
     ]
    },
    {
     "data": {
      "application/vnd.jupyter.widget-view+json": {
       "model_id": "92b77e286bc1479fa25370ec35ca792f",
       "version_major": 2,
       "version_minor": 0
      },
      "text/plain": [
       "interactive(children=(IntSlider(value=12, description='z', max=23, style=SliderStyle(handle_color='lightblue')…"
      ]
     },
     "metadata": {},
     "output_type": "display_data"
    },
    {
     "data": {
      "application/vnd.jupyter.widget-view+json": {
       "model_id": "fb7f17d9aab84ab0b553d30c18c96dae",
       "version_major": 2,
       "version_minor": 0
      },
      "text/plain": [
       "interactive(children=(IntSlider(value=12, description='z', max=23, style=SliderStyle(handle_color='lightblue')…"
      ]
     },
     "metadata": {},
     "output_type": "display_data"
    },
    {
     "name": "stdout",
     "output_type": "stream",
     "text": [
      "\n",
      "ProstateX-0070\n",
      "Patient: ProstateX-0070 (date: 2011-12-07 00:00:00)\n",
      "\t- Reading: 3.000000-t2tsesag-01948  (t2_tse_sag) (UNKNOWN)\n",
      "\t\t- Skipping!\n",
      "\t- Reading: 4.000000-t2tsetra-41361  (t2_tse_tra) (T2)\n",
      "\t\t- Done!\n",
      "\t- Reading: 5.000000-t2tsecor-26211  (t2_tse_cor) (UNKNOWN)\n",
      "\t\t- Skipping!\n",
      "\t- Reading: 6.000000-ep2ddifftraDYNDIST-84440  (ep2d_diff_tra_DYNDIST) (b)\n",
      "\t\t- Done!\n",
      "\t- Reading: 7.000000-ep2ddifftraDYNDISTADC-11354  (ep2d_diff_tra_DYNDIST_ADC) (ADC)\n",
      "\t\t- Done!\n",
      "\t- Reading: 8.000000-ep2ddifftraDYNDISTCALCBVAL-15926  (ep2d_diff_tra_DYNDISTCALC_BVAL) (diff)\n",
      "\t\t- Skipping!\n",
      "\t- Reading: 9.000000-tfl3d PD reftra1.5x1.5t3-48181  (tfl_3d PD ref_tra_1.5x1.5_t3) (unk)\n",
      "\t\t- Skipping!\n",
      "\t- Reading: ProstateX-0070-Ktrans.mhd (Ktrans) (ktrans)\n",
      "\t\t- Done!\n",
      "\n",
      "\t\t> (Blurrying ADC) Combining 5 images: #### -> Elapsed: 1.33s\n",
      " - Lesion positions and significances:\n",
      "   - 1: [177.00200557 223.3069089    6.99999382], Sig: 10\n",
      "   - 2: [174.69100571 165.0860509    6.00000355], Sig: 10\n",
      " - Information: resampling_operation with pre_mask_growth_mm applied to channels [2] on x,y dimensions\n"
     ]
    },
    {
     "data": {
      "application/vnd.jupyter.widget-view+json": {
       "model_id": "b98001e7b6ea42cab7fd93fd146b9bc7",
       "version_major": 2,
       "version_minor": 0
      },
      "text/plain": [
       "interactive(children=(IntSlider(value=12, description='z', max=23, style=SliderStyle(handle_color='lightblue')…"
      ]
     },
     "metadata": {},
     "output_type": "display_data"
    },
    {
     "data": {
      "application/vnd.jupyter.widget-view+json": {
       "model_id": "c8190b9fe9544dbebfc14641882e7c8b",
       "version_major": 2,
       "version_minor": 0
      },
      "text/plain": [
       "interactive(children=(IntSlider(value=12, description='z', max=23, style=SliderStyle(handle_color='lightblue')…"
      ]
     },
     "metadata": {},
     "output_type": "display_data"
    },
    {
     "name": "stdout",
     "output_type": "stream",
     "text": [
      "\n",
      "ProstateX-0071\n",
      "Patient: ProstateX-0071 (date: 2011-12-11 00:00:00)\n",
      "\t- Reading: 3.000000-t2tsesag-29184  (t2_tse_sag) (UNKNOWN)\n",
      "\t\t- Skipping!\n",
      "\t- Reading: 4.000000-t2tsetra-71497  (t2_tse_tra) (T2)\n",
      "\t\t- Done!\n",
      "\t- Reading: 5.000000-t2tsecor-63927  (t2_tse_cor) (UNKNOWN)\n",
      "\t\t- Skipping!\n",
      "\t- Reading: 6.000000-ep2ddifftraDYNDIST-80413  (ep2d_diff_tra_DYNDIST) (b)\n",
      "\t\t- Done!\n",
      "\t- Reading: 7.000000-ep2ddifftraDYNDISTADC-48061  (ep2d_diff_tra_DYNDIST_ADC) (ADC)\n",
      "\t\t- Done!\n",
      "\t- Reading: 8.000000-ep2ddifftraDYNDISTCALCBVAL-20629  (ep2d_diff_tra_DYNDISTCALC_BVAL) (diff)\n",
      "\t\t- Skipping!\n",
      "\t- Reading: 9.000000-tfl3d PD reftra1.5x1.5t3-76998  (tfl_3d PD ref_tra_1.5x1.5_t3) (unk)\n",
      "\t\t- Skipping!\n",
      "\t- Reading: ProstateX-0071-Ktrans.mhd (Ktrans) (ktrans)\n",
      "\t\t- Done!\n",
      "\n",
      "\t\t> (Blurrying ADC) Combining 5 images: #### -> Elapsed: 1.29s\n",
      " - Lesion positions and significances:\n",
      "   - 1: [208.81272177 170.07956619  11.99999218], Sig: 3\n",
      " - Information: resampling_operation with pre_mask_growth_mm applied to channels [2] on x,y dimensions\n"
     ]
    },
    {
     "data": {
      "application/vnd.jupyter.widget-view+json": {
       "model_id": "eb2e023567274b80b94481ed215984c7",
       "version_major": 2,
       "version_minor": 0
      },
      "text/plain": [
       "interactive(children=(IntSlider(value=12, description='z', max=23, style=SliderStyle(handle_color='lightblue')…"
      ]
     },
     "metadata": {},
     "output_type": "display_data"
    },
    {
     "data": {
      "application/vnd.jupyter.widget-view+json": {
       "model_id": "5ad56ecb638c4606a5c3b5ce31b2cb97",
       "version_major": 2,
       "version_minor": 0
      },
      "text/plain": [
       "interactive(children=(IntSlider(value=12, description='z', max=23, style=SliderStyle(handle_color='lightblue')…"
      ]
     },
     "metadata": {},
     "output_type": "display_data"
    },
    {
     "name": "stdout",
     "output_type": "stream",
     "text": [
      "\n",
      "ProstateX-0072\n",
      "Patient: ProstateX-0072 (date: 2011-12-11 00:00:00)\n",
      "\t- Reading: 10.000000-tfl3d PD reftra1.5x1.5t3-44075  (tfl_3d PD ref_tra_1.5x1.5_t3) (unk)\n",
      "\t\t- Skipping!\n",
      "\t- Reading: 4.000000-t2tsesag-80834  (t2_tse_sag) (UNKNOWN)\n",
      "\t\t- Skipping!\n",
      "\t- Reading: 5.000000-t2tsetra-87944  (t2_tse_tra) (T2)\n",
      "\t\t- Done!\n",
      "\t- Reading: 6.000000-t2tsecor-48565  (t2_tse_cor) (UNKNOWN)\n",
      "\t\t- Skipping!\n",
      "\t- Reading: 7.000000-ep2ddifftraDYNDIST-62817  (ep2d_diff_tra_DYNDIST) (b)\n",
      "\t\t- Done!\n",
      "\t- Reading: 8.000000-ep2ddifftraDYNDISTADC-25336  (ep2d_diff_tra_DYNDIST_ADC) (ADC)\n",
      "\t\t- Done!\n",
      "\t- Reading: 9.000000-ep2ddifftraDYNDISTCALCBVAL-56883  (ep2d_diff_tra_DYNDISTCALC_BVAL) (diff)\n",
      "\t\t- Skipping!\n",
      "\t- Reading: ProstateX-0072-Ktrans.mhd (Ktrans) (ktrans)\n",
      "\t\t- Done!\n",
      "\n",
      "\t\t> (Blurrying ADC) Combining 5 images: #### -> Elapsed: 1.32s\n",
      " - Lesion positions and significances:\n",
      "   - 1: [166.37002564 177.80008205   8.00000404], Sig: 10\n",
      " - Information: resampling_operation with pre_mask_growth_mm applied to channels [2] on x,y dimensions\n"
     ]
    },
    {
     "data": {
      "application/vnd.jupyter.widget-view+json": {
       "model_id": "476336942e774ad7845556c93cab707c",
       "version_major": 2,
       "version_minor": 0
      },
      "text/plain": [
       "interactive(children=(IntSlider(value=12, description='z', max=23, style=SliderStyle(handle_color='lightblue')…"
      ]
     },
     "metadata": {},
     "output_type": "display_data"
    },
    {
     "data": {
      "application/vnd.jupyter.widget-view+json": {
       "model_id": "c1334e87dd6b4eea86300a5a0d281106",
       "version_major": 2,
       "version_minor": 0
      },
      "text/plain": [
       "interactive(children=(IntSlider(value=12, description='z', max=23, style=SliderStyle(handle_color='lightblue')…"
      ]
     },
     "metadata": {},
     "output_type": "display_data"
    },
    {
     "name": "stdout",
     "output_type": "stream",
     "text": [
      "\n",
      "ProstateX-0073\n",
      "Patient: ProstateX-0073 (date: 2011-12-12 00:00:00)\n",
      "\t- Reading: 1.000000-t2localizer-83260  (t2_localizer) (UNKNOWN)\n",
      "\t\t- Skipping!\n",
      "\t- Reading: 2.000000-t2loc sag-38447  (t2_loc sag) (UNKNOWN)\n",
      "\t\t- Skipping!\n",
      "\t- Reading: 3.000000-t2tsesag-33219  (t2_tse_sag) (UNKNOWN)\n",
      "\t\t- Skipping!\n",
      "\t- Reading: 4.000000-t2tsetra-83539  (t2_tse_tra) (T2)\n",
      "\t\t- Done!\n",
      "\t- Reading: 5.000000-t2tsecor-08833  (t2_tse_cor) (UNKNOWN)\n",
      "\t\t- Skipping!\n",
      "\t- Reading: 6.000000-ep2ddifftraDYNDIST-32022  (ep2d_diff_tra_DYNDIST) (b)\n",
      "\t\t- Done!\n",
      "\t- Reading: 7.000000-ep2ddifftraDYNDISTADC-23637  (ep2d_diff_tra_DYNDIST_ADC) (ADC)\n",
      "\t\t- Done!\n",
      "\t- Reading: 8.000000-ep2ddifftraDYNDISTCALCBVAL-39129  (ep2d_diff_tra_DYNDISTCALC_BVAL) (diff)\n",
      "\t\t- Skipping!\n",
      "\t- Reading: 9.000000-tfl3d PD reftra1.5x1.5t3-53541  (tfl_3d PD ref_tra_1.5x1.5_t3) (unk)\n",
      "\t\t- Skipping!\n",
      "\t- Reading: ProstateX-0073-Ktrans.mhd (Ktrans) (ktrans)\n",
      "\t\t- Done!\n",
      "\n",
      "\t\t> (Blurrying ADC) Combining 5 images: #### -> Elapsed: 1.28s\n",
      " - Lesion positions and significances:\n",
      "   - 1: [219.32681097 231.49997026   5.00001491], Sig: 10\n",
      " - Information: resampling_operation with pre_mask_growth_mm applied to channels [2] on x,y dimensions\n"
     ]
    },
    {
     "data": {
      "application/vnd.jupyter.widget-view+json": {
       "model_id": "c09bb0ee4a824c66ac8f0635c767eb82",
       "version_major": 2,
       "version_minor": 0
      },
      "text/plain": [
       "interactive(children=(IntSlider(value=12, description='z', max=23, style=SliderStyle(handle_color='lightblue')…"
      ]
     },
     "metadata": {},
     "output_type": "display_data"
    },
    {
     "data": {
      "application/vnd.jupyter.widget-view+json": {
       "model_id": "400cc4595cf4449da30beee382a7d9e6",
       "version_major": 2,
       "version_minor": 0
      },
      "text/plain": [
       "interactive(children=(IntSlider(value=12, description='z', max=23, style=SliderStyle(handle_color='lightblue')…"
      ]
     },
     "metadata": {},
     "output_type": "display_data"
    },
    {
     "name": "stdout",
     "output_type": "stream",
     "text": [
      "\n",
      "ProstateX-0074\n",
      "Patient: ProstateX-0074 (date: 2011-12-12 00:00:00)\n",
      "\t- Reading: 10.000000-tfl3d PD reftra1.5x1.5t3-36010  (tfl_3d PD ref_tra_1.5x1.5_t3) (unk)\n",
      "\t\t- Skipping!\n",
      "\t- Reading: 11.000000-t2tsetra-19072  (t2_tse_tra) (T2)\n",
      "\t\t- Done!\n",
      "\t- Reading: 3.000000-t2tsesag-39645  (t2_tse_sag) (UNKNOWN)\n",
      "\t\t- Skipping!\n",
      "\t- Reading: 4.000000-t2tsetra-86431  (t2_tse_tra) (T2)\n",
      "\t\t- Done!\n",
      "\t- Reading: 5.000000-t2tsecor-61250  (t2_tse_cor) (UNKNOWN)\n",
      "\t\t- Skipping!\n",
      "\t- Reading: 6.000000-ep2ddifftraDYNDIST-82011  (ep2d_diff_tra_DYNDIST) (b)\n",
      "\t\t- Done!\n",
      "\t- Reading: 7.000000-ep2ddifftraDYNDISTADC-74301  (ep2d_diff_tra_DYNDIST_ADC) (ADC)\n",
      "\t\t- Done!\n",
      "\t- Reading: 8.000000-ep2ddifftraDYNDISTCALCBVAL-84231  (ep2d_diff_tra_DYNDISTCALC_BVAL) (diff)\n",
      "\t\t- Skipping!\n",
      "\t- Reading: 9.000000-t2tsetra-69060  (t2_tse_tra) (T2)\n",
      "\t\t- Done!\n",
      "\t- Reading: ProstateX-0074-Ktrans.mhd (Ktrans) (ktrans)\n",
      "\t\t- Done!\n",
      "\n",
      "\t\t> (Blurrying ADC) Combining 5 images: #### -> Elapsed: 1.29s\n",
      " - Lesion positions and significances:\n",
      "   - 1: [208.38239288 224.53671572  10.99998471], Sig: 10\n",
      " - Information: resampling_operation with pre_mask_growth_mm applied to channels [2] on x,y dimensions\n"
     ]
    },
    {
     "data": {
      "application/vnd.jupyter.widget-view+json": {
       "model_id": "78a7ad6bc9c74b8a9cf797b6ea2ce7a3",
       "version_major": 2,
       "version_minor": 0
      },
      "text/plain": [
       "interactive(children=(IntSlider(value=12, description='z', max=23, style=SliderStyle(handle_color='lightblue')…"
      ]
     },
     "metadata": {},
     "output_type": "display_data"
    },
    {
     "data": {
      "application/vnd.jupyter.widget-view+json": {
       "model_id": "c3cfffac835945c0aa93d7e2c3201b12",
       "version_major": 2,
       "version_minor": 0
      },
      "text/plain": [
       "interactive(children=(IntSlider(value=12, description='z', max=23, style=SliderStyle(handle_color='lightblue')…"
      ]
     },
     "metadata": {},
     "output_type": "display_data"
    },
    {
     "name": "stdout",
     "output_type": "stream",
     "text": [
      "\n",
      "ProstateX-0075\n",
      "Patient: ProstateX-0075 (date: 2011-12-12 00:00:00)\n",
      "\t- Reading: 3.000000-t2tsesag-98888  (t2_tse_sag) (UNKNOWN)\n",
      "\t\t- Skipping!\n",
      "\t- Reading: 4.000000-t2tsetra-15845  (t2_tse_tra) (T2)\n",
      "\t\t- Done!\n",
      "\t- Reading: 5.000000-t2tsecor-92467  (t2_tse_cor) (UNKNOWN)\n",
      "\t\t- Skipping!\n",
      "\t- Reading: 6.000000-ep2ddifftraDYNDIST-33133  (ep2d_diff_tra_DYNDIST) (b)\n",
      "\t\t- Done!\n",
      "\t- Reading: 7.000000-ep2ddifftraDYNDISTADC-11492  (ep2d_diff_tra_DYNDIST_ADC) (ADC)\n",
      "\t\t- Done!\n",
      "\t- Reading: 8.000000-ep2ddifftraDYNDISTCALCBVAL-53901  (ep2d_diff_tra_DYNDISTCALC_BVAL) (diff)\n",
      "\t\t- Skipping!\n",
      "\t- Reading: 9.000000-tfl3d PD reftra1.5x1.5t3-52793  (tfl_3d PD ref_tra_1.5x1.5_t3) (unk)\n",
      "\t\t- Skipping!\n",
      "\t- Reading: ProstateX-0075-Ktrans.mhd (Ktrans) (ktrans)\n",
      "\t\t- Done!\n",
      "\n",
      "\t\t> (Blurrying ADC) Combining 5 images: #### -> Elapsed: 4.18s\n",
      " - Lesion positions and significances:\n",
      "   - 1: [392.84594604 326.18940008  13.00000342], Sig: 10\n",
      " - Information: resampling_operation with pre_mask_growth_mm applied to channels [2] on x,y dimensions\n"
     ]
    },
    {
     "data": {
      "application/vnd.jupyter.widget-view+json": {
       "model_id": "2cf34aae0585476a9b7ad13c7392354c",
       "version_major": 2,
       "version_minor": 0
      },
      "text/plain": [
       "interactive(children=(IntSlider(value=12, description='z', max=23, style=SliderStyle(handle_color='lightblue')…"
      ]
     },
     "metadata": {},
     "output_type": "display_data"
    },
    {
     "data": {
      "application/vnd.jupyter.widget-view+json": {
       "model_id": "df5971af6450430a95c3a50bfdc9cc2b",
       "version_major": 2,
       "version_minor": 0
      },
      "text/plain": [
       "interactive(children=(IntSlider(value=12, description='z', max=23, style=SliderStyle(handle_color='lightblue')…"
      ]
     },
     "metadata": {},
     "output_type": "display_data"
    },
    {
     "name": "stdout",
     "output_type": "stream",
     "text": [
      "\n",
      "ProstateX-0076\n",
      "Patient: ProstateX-0076 (date: 2011-12-13 00:00:00)\n",
      "\t- Reading: 1.000000-t2localizer-82321  (t2_localizer) (UNKNOWN)\n",
      "\t\t- Skipping!\n",
      "\t- Reading: 2.000000-t2loc sag-67409  (t2_loc sag) (UNKNOWN)\n",
      "\t\t- Skipping!\n",
      "\t- Reading: 3.000000-t2tsesag-29005  (t2_tse_sag) (UNKNOWN)\n",
      "\t\t- Skipping!\n",
      "\t- Reading: 4.000000-t2tsecor-87767  (t2_tse_cor) (UNKNOWN)\n",
      "\t\t- Skipping!\n",
      "\t- Reading: 5.000000-t2tsetra-96864  (t2_tse_tra) (T2)\n",
      "\t\t- Done!\n",
      "\t- Reading: 6.000000-ep2ddifftraDYNDISTMIX-36927  (ep2d_diff_tra_DYNDIST_MIX) (b)\n",
      "\t\t- Done!\n",
      "\t- Reading: 7.000000-ep2ddifftraDYNDISTMIXADC-75119  (ep2d_diff_tra_DYNDIST_MIX_ADC) (ADC)\n",
      "\t\t- Done!\n",
      "\t- Reading: 8.000000-ep2ddifftraDYNDISTMIXCALCBVAL-66846  (ep2d_diff_tra_DYNDIST_MIXCALC_BVAL) (diff)\n",
      "\t\t- Skipping!\n",
      "\t- Reading: 9.000000-tfl3d PD reftra1.5x1.5t3-27440  (tfl_3d PD ref_tra_1.5x1.5_t3) (unk)\n",
      "\t\t- Skipping!\n",
      "\t- Reading: ProstateX-0076-Ktrans.mhd (Ktrans) (ktrans)\n",
      "\t\t- Done!\n",
      "\n",
      "\t\t> (Blurrying ADC) Combining 5 images: #### -> Elapsed: 1.37s\n",
      " - Lesion positions and significances:\n",
      "   - 1: [221.53999424 207.15324592  12.99999133], Sig: 1\n",
      " - Information: resampling_operation with pre_mask_growth_mm applied to channels [2] on x,y dimensions\n"
     ]
    },
    {
     "data": {
      "application/vnd.jupyter.widget-view+json": {
       "model_id": "537196142df44181874071cf56ab26ba",
       "version_major": 2,
       "version_minor": 0
      },
      "text/plain": [
       "interactive(children=(IntSlider(value=12, description='z', max=23, style=SliderStyle(handle_color='lightblue')…"
      ]
     },
     "metadata": {},
     "output_type": "display_data"
    },
    {
     "data": {
      "application/vnd.jupyter.widget-view+json": {
       "model_id": "307d963a6e8c4f16b0fa83ccc28fa590",
       "version_major": 2,
       "version_minor": 0
      },
      "text/plain": [
       "interactive(children=(IntSlider(value=12, description='z', max=23, style=SliderStyle(handle_color='lightblue')…"
      ]
     },
     "metadata": {},
     "output_type": "display_data"
    },
    {
     "name": "stdout",
     "output_type": "stream",
     "text": [
      "\n",
      "ProstateX-0077\n",
      "Patient: ProstateX-0077 (date: 2011-12-15 00:00:00)\n",
      "\t- Reading: 1.000000-t2localizer-72002  (t2_localizer) (UNKNOWN)\n",
      "\t\t- Skipping!\n",
      "\t- Reading: 10.000000-tfl3d PD reftra1.5x1.5t3-57828  (tfl_3d PD ref_tra_1.5x1.5_t3) (unk)\n",
      "\t\t- Skipping!\n",
      "\t- Reading: 2.000000-t2loc sag-09277  (t2_loc sag) (UNKNOWN)\n",
      "\t\t- Skipping!\n",
      "\t- Reading: 3.000000-t2tsesag-10560  (t2_tse_sag) (UNKNOWN)\n",
      "\t\t- Skipping!\n",
      "\t- Reading: 4.000000-t2tsetra-25749  (t2_tse_tra) (T2)\n",
      "\t\t- Done!\n",
      "\t- Reading: 5.000000-t2tsecor-71421  (t2_tse_cor) (UNKNOWN)\n",
      "\t\t- Skipping!\n",
      "\t- Reading: 6.000000-t2tsetra-59073  (t2_tse_tra) (T2)\n",
      "\t\t- Done!\n",
      "\t- Reading: 7.000000-ep2ddifftraDYNDIST-24670  (ep2d_diff_tra_DYNDIST) (b)\n",
      "\t\t- Done!\n",
      "\t- Reading: 8.000000-ep2ddifftraDYNDISTADC-30274  (ep2d_diff_tra_DYNDIST_ADC) (ADC)\n",
      "\t\t- Done!\n",
      "\t- Reading: 9.000000-ep2ddifftraDYNDISTCALCBVAL-34326  (ep2d_diff_tra_DYNDISTCALC_BVAL) (diff)\n",
      "\t\t- Skipping!\n",
      "\t- Reading: ProstateX-0077-Ktrans.mhd (Ktrans) (ktrans)\n",
      "\t\t- Done!\n",
      "\n",
      "\t\t> (Blurrying ADC) Combining 5 images: #### -> Elapsed: 1.34s\n",
      " - Lesion positions and significances:\n",
      "   - 1: [150.96601295 222.45891329  10.00002623], Sig: 4\n",
      " - Information: resampling_operation with pre_mask_growth_mm applied to channels [2] on x,y dimensions\n"
     ]
    },
    {
     "data": {
      "application/vnd.jupyter.widget-view+json": {
       "model_id": "c03fd1805ac645c4ad27fe1f811a7d94",
       "version_major": 2,
       "version_minor": 0
      },
      "text/plain": [
       "interactive(children=(IntSlider(value=12, description='z', max=23, style=SliderStyle(handle_color='lightblue')…"
      ]
     },
     "metadata": {},
     "output_type": "display_data"
    },
    {
     "data": {
      "application/vnd.jupyter.widget-view+json": {
       "model_id": "14d6c55b32f349e284bd63a90a1deed3",
       "version_major": 2,
       "version_minor": 0
      },
      "text/plain": [
       "interactive(children=(IntSlider(value=12, description='z', max=23, style=SliderStyle(handle_color='lightblue')…"
      ]
     },
     "metadata": {},
     "output_type": "display_data"
    },
    {
     "name": "stdout",
     "output_type": "stream",
     "text": [
      "\n",
      "ProstateX-0078\n",
      "Patient: ProstateX-0078 (date: 2011-12-15 00:00:00)\n",
      "\t- Reading: 3.000000-t2tsesag-04964  (t2_tse_sag) (UNKNOWN)\n",
      "\t\t- Skipping!\n",
      "\t- Reading: 4.000000-t2tsetra-08660  (t2_tse_tra) (T2)\n",
      "\t\t- Done!\n",
      "\t- Reading: 5.000000-t2tsecor-70205  (t2_tse_cor) (UNKNOWN)\n",
      "\t\t- Skipping!\n",
      "\t- Reading: 6.000000-ep2ddifftraDYNDIST-50713  (ep2d_diff_tra_DYNDIST) (b)\n",
      "\t\t- Done!\n",
      "\t- Reading: 7.000000-ep2ddifftraDYNDISTADC-87693  (ep2d_diff_tra_DYNDIST_ADC) (ADC)\n",
      "\t\t- Done!\n",
      "\t- Reading: 8.000000-ep2ddifftraDYNDISTCALCBVAL-25711  (ep2d_diff_tra_DYNDISTCALC_BVAL) (diff)\n",
      "\t\t- Skipping!\n",
      "\t- Reading: 9.000000-tfl3d PD reftra1.5x1.5t3-95063  (tfl_3d PD ref_tra_1.5x1.5_t3) (unk)\n",
      "\t\t- Skipping!\n",
      "\t- Reading: ProstateX-0078-Ktrans.mhd (Ktrans) (ktrans)\n",
      "\t\t- Done!\n",
      "\n",
      "\t\t> (Blurrying ADC) Combining 5 images: #### -> Elapsed: 1.33s\n",
      " - Lesion positions and significances:\n",
      "   - 1: [220.32836938 188.10437576   6.99999734], Sig: 3\n",
      " - Information: resampling_operation with pre_mask_growth_mm applied to channels [2] on x,y dimensions\n"
     ]
    },
    {
     "data": {
      "application/vnd.jupyter.widget-view+json": {
       "model_id": "18d3c02d5f344dbcb7f405f1e233b694",
       "version_major": 2,
       "version_minor": 0
      },
      "text/plain": [
       "interactive(children=(IntSlider(value=12, description='z', max=23, style=SliderStyle(handle_color='lightblue')…"
      ]
     },
     "metadata": {},
     "output_type": "display_data"
    },
    {
     "data": {
      "application/vnd.jupyter.widget-view+json": {
       "model_id": "974f308440e541759b689144be0c0596",
       "version_major": 2,
       "version_minor": 0
      },
      "text/plain": [
       "interactive(children=(IntSlider(value=12, description='z', max=23, style=SliderStyle(handle_color='lightblue')…"
      ]
     },
     "metadata": {},
     "output_type": "display_data"
    },
    {
     "name": "stdout",
     "output_type": "stream",
     "text": [
      "\n",
      "ProstateX-0079\n",
      "Patient: ProstateX-0079 (date: 2011-08-04 00:00:00)\n",
      "\t- Reading: 1.000000-t2localizer-51603  (t2_localizer) (UNKNOWN)\n",
      "\t\t- Skipping!\n",
      "\t- Reading: 10.000000-tfl3d PD reftra1.5x1.5t3-29139  (tfl_3d PD ref_tra_1.5x1.5_t3) (unk)\n",
      "\t\t- Skipping!\n",
      "\t- Reading: 2.000000-t2loc sag-02182  (t2_loc sag) (UNKNOWN)\n",
      "\t\t- Skipping!\n",
      "\t- Reading: 3.000000-t2tsesag-80749  (t2_tse_sag) (UNKNOWN)\n",
      "\t\t- Skipping!\n",
      "\t- Reading: 4.000000-t2tsetra-51114  (t2_tse_tra) (T2)\n",
      "\t\t- Done!\n",
      "\t- Reading: 5.000000-t2tsecor-04455  (t2_tse_cor) (UNKNOWN)\n",
      "\t\t- Skipping!\n",
      "\t- Reading: 6.000000-t2tsetra-45913  (t2_tse_tra) (T2)\n",
      "\t\t- Done!\n",
      "\t- Reading: 7.000000-ep2ddifftraDYNDIST-30259  (ep2d_diff_tra_DYNDIST) (b)\n",
      "\t\t- Done!\n",
      "\t- Reading: 8.000000-ep2ddifftraDYNDISTADC-11219  (ep2d_diff_tra_DYNDIST_ADC) (ADC)\n",
      "\t\t- Done!\n",
      "\t- Reading: 9.000000-ep2ddifftraDYNDISTCALCBVAL-72919  (ep2d_diff_tra_DYNDISTCALC_BVAL) (diff)\n",
      "\t\t- Skipping!\n",
      "\t- Reading: ProstateX-0079-Ktrans.mhd (Ktrans) (ktrans)\n",
      "\t\t- Done!\n",
      "\n",
      "\t\t> (Blurrying ADC) Combining 5 images: #### -> Elapsed: 1.38s\n",
      " - Lesion positions and significances:\n",
      "   - 1: [217.16999292 190.81740166   4.00000671], Sig: 10\n",
      " - Information: resampling_operation with pre_mask_growth_mm applied to channels [2] on x,y dimensions\n"
     ]
    },
    {
     "data": {
      "application/vnd.jupyter.widget-view+json": {
       "model_id": "2ed9f13c65684e6099dded976cc30501",
       "version_major": 2,
       "version_minor": 0
      },
      "text/plain": [
       "interactive(children=(IntSlider(value=12, description='z', max=23, style=SliderStyle(handle_color='lightblue')…"
      ]
     },
     "metadata": {},
     "output_type": "display_data"
    },
    {
     "data": {
      "application/vnd.jupyter.widget-view+json": {
       "model_id": "f10f445614e14b228150a0be7e78fe48",
       "version_major": 2,
       "version_minor": 0
      },
      "text/plain": [
       "interactive(children=(IntSlider(value=12, description='z', max=23, style=SliderStyle(handle_color='lightblue')…"
      ]
     },
     "metadata": {},
     "output_type": "display_data"
    },
    {
     "name": "stdout",
     "output_type": "stream",
     "text": [
      "\n",
      "ProstateX-0080\n",
      "Patient: ProstateX-0080 (date: 2011-12-15 00:00:00)\n",
      "\t- Reading: 3.000000-t2tsesag-69941  (t2_tse_sag) (UNKNOWN)\n",
      "\t\t- Skipping!\n",
      "\t- Reading: 4.000000-t2tsetra-34290  (t2_tse_tra) (T2)\n",
      "\t\t- Done!\n",
      "\t- Reading: 5.000000-t2tsecor-46064  (t2_tse_cor) (UNKNOWN)\n",
      "\t\t- Skipping!\n",
      "\t- Reading: 6.000000-ep2ddifftraDYNDISTMIX-19978  (ep2d_diff_tra_DYNDIST_MIX) (b)\n",
      "\t\t- Done!\n",
      "\t- Reading: 7.000000-ep2ddifftraDYNDISTMIXADC-82445  (ep2d_diff_tra_DYNDIST_MIX_ADC) (ADC)\n",
      "\t\t- Done!\n",
      "\t- Reading: 8.000000-ep2ddifftraDYNDISTMIXCALCBVAL-37224  (ep2d_diff_tra_DYNDIST_MIXCALC_BVAL) (diff)\n",
      "\t\t- Skipping!\n",
      "\t- Reading: 9.000000-tfl3d PD reftra1.5x1.5t3-17933  (tfl_3d PD ref_tra_1.5x1.5_t3) (unk)\n",
      "\t\t- Skipping!\n",
      "\t- Reading: ProstateX-0080-Ktrans.mhd (Ktrans) (ktrans)\n",
      "\t\t- Done!\n",
      "\n",
      "\t\t> (Blurrying ADC) Combining 5 images: #### -> Elapsed: 1.41s\n",
      " - Lesion positions and significances:\n",
      "   - 1: [152.17240716 160.33301708  19.25749819], Sig: 10\n",
      " - Information: resampling_operation with pre_mask_growth_mm applied to channels [2] on x,y dimensions\n"
     ]
    },
    {
     "data": {
      "application/vnd.jupyter.widget-view+json": {
       "model_id": "4f8886b7d08c492f9031684cbe6fb31c",
       "version_major": 2,
       "version_minor": 0
      },
      "text/plain": [
       "interactive(children=(IntSlider(value=12, description='z', max=23, style=SliderStyle(handle_color='lightblue')…"
      ]
     },
     "metadata": {},
     "output_type": "display_data"
    },
    {
     "data": {
      "application/vnd.jupyter.widget-view+json": {
       "model_id": "bfc60b1b7edf49969a42f109d9ce052f",
       "version_major": 2,
       "version_minor": 0
      },
      "text/plain": [
       "interactive(children=(IntSlider(value=12, description='z', max=23, style=SliderStyle(handle_color='lightblue')…"
      ]
     },
     "metadata": {},
     "output_type": "display_data"
    },
    {
     "name": "stdout",
     "output_type": "stream",
     "text": [
      "\n",
      "ProstateX-0081\n",
      "Patient: ProstateX-0081 (date: 2011-12-18 00:00:00)\n",
      "\t- Reading: 3.000000-t2tsesag-67127  (t2_tse_sag) (UNKNOWN)\n",
      "\t\t- Skipping!\n",
      "\t- Reading: 4.000000-t2tsetra-00858  (t2_tse_tra) (T2)\n",
      "\t\t- Done!\n",
      "\t- Reading: 5.000000-t2tsecor-50215  (t2_tse_cor) (UNKNOWN)\n",
      "\t\t- Skipping!\n",
      "\t- Reading: 6.000000-ep2ddifftraDYNDISTMIX-28870  (ep2d_diff_tra_DYNDIST_MIX) (b)\n",
      "\t\t- Done!\n",
      "\t- Reading: 7.000000-ep2ddifftraDYNDISTMIXADC-66986  (ep2d_diff_tra_DYNDIST_MIX_ADC) (ADC)\n",
      "\t\t- Done!\n",
      "\t- Reading: 8.000000-ep2ddifftraDYNDISTMIXCALCBVAL-83790  (ep2d_diff_tra_DYNDIST_MIXCALC_BVAL) (diff)\n",
      "\t\t- Skipping!\n",
      "\t- Reading: 9.000000-tfl3d PD reftra1.5x1.5t3-29262  (tfl_3d PD ref_tra_1.5x1.5_t3) (unk)\n",
      "\t\t- Skipping!\n",
      "\t- Reading: ProstateX-0081-Ktrans.mhd (Ktrans) (ktrans)\n",
      "\t\t- Done!\n",
      "\n",
      "\t\t> (Blurrying ADC) Combining 5 images: #### -> Elapsed: 1.41s\n",
      " - Lesion positions and significances:\n",
      "   - 1: [205.54291533 243.36493103   9.00000845], Sig: 10\n",
      " - Information: resampling_operation with pre_mask_growth_mm applied to channels [2] on x,y dimensions\n"
     ]
    },
    {
     "data": {
      "application/vnd.jupyter.widget-view+json": {
       "model_id": "da772bb552644b88ae55119139bab675",
       "version_major": 2,
       "version_minor": 0
      },
      "text/plain": [
       "interactive(children=(IntSlider(value=12, description='z', max=23, style=SliderStyle(handle_color='lightblue')…"
      ]
     },
     "metadata": {},
     "output_type": "display_data"
    },
    {
     "data": {
      "application/vnd.jupyter.widget-view+json": {
       "model_id": "c13f4f452c694d1fb700132b14fc623c",
       "version_major": 2,
       "version_minor": 0
      },
      "text/plain": [
       "interactive(children=(IntSlider(value=12, description='z', max=23, style=SliderStyle(handle_color='lightblue')…"
      ]
     },
     "metadata": {},
     "output_type": "display_data"
    },
    {
     "name": "stdout",
     "output_type": "stream",
     "text": [
      "\n",
      "ProstateX-0082\n",
      "Patient: ProstateX-0082 (date: 2011-12-18 00:00:00)\n",
      "\t- Reading: 1.000000-t2localizer-15987  (t2_localizer) (UNKNOWN)\n",
      "\t\t- Skipping!\n",
      "\t- Reading: 2.000000-t2loc sag-98367  (t2_loc sag) (UNKNOWN)\n",
      "\t\t- Skipping!\n",
      "\t- Reading: 3.000000-t2tsesag-89960  (t2_tse_sag) (UNKNOWN)\n",
      "\t\t- Skipping!\n",
      "\t- Reading: 4.000000-t2tsetra-77219  (t2_tse_tra) (T2)\n",
      "\t\t- Done!\n",
      "\t- Reading: 5.000000-t2tsecor-05106  (t2_tse_cor) (UNKNOWN)\n",
      "\t\t- Skipping!\n",
      "\t- Reading: 6.000000-ep2ddifftraDYNDIST-88267  (ep2d_diff_tra_DYNDIST) (b)\n",
      "\t\t- Done!\n",
      "\t- Reading: 7.000000-ep2ddifftraDYNDISTADC-85505  (ep2d_diff_tra_DYNDIST_ADC) (ADC)\n",
      "\t\t- Done!\n",
      "\t- Reading: 8.000000-ep2ddifftraDYNDISTCALCBVAL-87795  (ep2d_diff_tra_DYNDISTCALC_BVAL) (diff)\n",
      "\t\t- Skipping!\n",
      "\t- Reading: 9.000000-tfl3d PD reftra1.5x1.5t3-92118  (tfl_3d PD ref_tra_1.5x1.5_t3) (unk)\n",
      "\t\t- Skipping!\n",
      "\t- Reading: ProstateX-0082-Ktrans.mhd (Ktrans) (ktrans)\n",
      "\t\t- Done!\n",
      "\n",
      "\t\t> (Blurrying ADC) Combining 5 images: #### -> Elapsed: 1.30s\n",
      " - Lesion positions and significances:\n",
      "   - 1: [168.87839127 188.1043236   12.99999844], Sig: 2\n",
      " - Information: resampling_operation with pre_mask_growth_mm applied to channels [2] on x,y dimensions\n"
     ]
    },
    {
     "data": {
      "application/vnd.jupyter.widget-view+json": {
       "model_id": "9d2cf56a550c449d9f411d4f0d1cd0b5",
       "version_major": 2,
       "version_minor": 0
      },
      "text/plain": [
       "interactive(children=(IntSlider(value=12, description='z', max=23, style=SliderStyle(handle_color='lightblue')…"
      ]
     },
     "metadata": {},
     "output_type": "display_data"
    },
    {
     "data": {
      "application/vnd.jupyter.widget-view+json": {
       "model_id": "64fc9101091d4eff938e64ad3edd52ca",
       "version_major": 2,
       "version_minor": 0
      },
      "text/plain": [
       "interactive(children=(IntSlider(value=12, description='z', max=23, style=SliderStyle(handle_color='lightblue')…"
      ]
     },
     "metadata": {},
     "output_type": "display_data"
    },
    {
     "name": "stdout",
     "output_type": "stream",
     "text": [
      "\n",
      "ProstateX-0083\n",
      "Patient: ProstateX-0083 (date: 2011-12-18 00:00:00)\n",
      "\t- Reading: 1.000000-t2localizer-86001  (t2_localizer) (UNKNOWN)\n",
      "\t\t- Skipping!\n",
      "\t- Reading: 2.000000-t2loc sag-53512  (t2_loc sag) (UNKNOWN)\n",
      "\t\t- Skipping!\n",
      "\t- Reading: 3.000000-t2tsesag-51448  (t2_tse_sag) (UNKNOWN)\n",
      "\t\t- Skipping!\n",
      "\t- Reading: 4.000000-t2tsetra-08935  (t2_tse_tra) (T2)\n",
      "\t\t- Done!\n",
      "\t- Reading: 5.000000-t2tsecor-77563  (t2_tse_cor) (UNKNOWN)\n",
      "\t\t- Skipping!\n",
      "\t- Reading: 6.000000-ep2ddifftraDYNDIST-71885  (ep2d_diff_tra_DYNDIST) (b)\n",
      "\t\t- Done!\n",
      "\t- Reading: 7.000000-ep2ddifftraDYNDISTADC-70040  (ep2d_diff_tra_DYNDIST_ADC) (ADC)\n",
      "\t\t- Done!\n",
      "\t- Reading: 8.000000-ep2ddifftraDYNDISTCALCBVAL-63301  (ep2d_diff_tra_DYNDISTCALC_BVAL) (diff)\n",
      "\t\t- Skipping!\n",
      "\t- Reading: 9.000000-tfl3d PD reftra1.5x1.5t3-62680  (tfl_3d PD ref_tra_1.5x1.5_t3) (unk)\n",
      "\t\t- Skipping!\n",
      "\t- Reading: ProstateX-0083-Ktrans.mhd (Ktrans) (ktrans)\n",
      "\t\t- Done!\n",
      "\n",
      "\t\t> (Blurrying ADC) Combining 5 images: #### -> Elapsed: 1.30s\n",
      " - Lesion positions and significances:\n",
      "   - 1: [199.69200921 217.67201715  13.00000109], Sig: 10\n",
      "   - 2: [186.85009885 205.7400568   15.00000161], Sig: 10\n",
      " - Information: resampling_operation with pre_mask_growth_mm applied to channels [2] on x,y dimensions\n"
     ]
    },
    {
     "data": {
      "application/vnd.jupyter.widget-view+json": {
       "model_id": "1f4f71a9554d4711aec11a01e0d159c7",
       "version_major": 2,
       "version_minor": 0
      },
      "text/plain": [
       "interactive(children=(IntSlider(value=12, description='z', max=23, style=SliderStyle(handle_color='lightblue')…"
      ]
     },
     "metadata": {},
     "output_type": "display_data"
    },
    {
     "data": {
      "application/vnd.jupyter.widget-view+json": {
       "model_id": "d4a47373acc44dc7b4dd48accd1cdf81",
       "version_major": 2,
       "version_minor": 0
      },
      "text/plain": [
       "interactive(children=(IntSlider(value=12, description='z', max=23, style=SliderStyle(handle_color='lightblue')…"
      ]
     },
     "metadata": {},
     "output_type": "display_data"
    },
    {
     "name": "stdout",
     "output_type": "stream",
     "text": [
      "\n",
      "ProstateX-0084\n",
      "Patient: ProstateX-0084 (date: 2011-12-19 00:00:00)\n",
      "\t- Reading: 1.000000-t2localizer-26743  (t2_localizer) (UNKNOWN)\n",
      "\t\t- Skipping!\n",
      "\t- Reading: 2.000000-t2loc sag-31135  (t2_loc sag) (UNKNOWN)\n",
      "\t\t- Skipping!\n",
      "\t- Reading: 3.000000-t2tsesag-64409  (t2_tse_sag) (UNKNOWN)\n",
      "\t\t- Skipping!\n",
      "\t- Reading: 4.000000-t2tsecor-26039  (t2_tse_cor) (UNKNOWN)\n",
      "\t\t- Skipping!\n",
      "\t- Reading: 5.000000-t2tsetra-71210  (t2_tse_tra) (T2)\n",
      "\t\t- Done!\n",
      "\t- Reading: 6.000000-ep2ddifftraDYNDISTMIX-22054  (ep2d_diff_tra_DYNDIST_MIX) (b)\n",
      "\t\t- Done!\n",
      "\t- Reading: 7.000000-ep2ddifftraDYNDISTMIXADC-98782  (ep2d_diff_tra_DYNDIST_MIX_ADC) (ADC)\n",
      "\t\t- Done!\n",
      "\t- Reading: 8.000000-ep2ddifftraDYNDISTMIXCALCBVAL-53556  (ep2d_diff_tra_DYNDIST_MIXCALC_BVAL) (diff)\n",
      "\t\t- Skipping!\n",
      "\t- Reading: 9.000000-tfl3d PD reftra1.5x1.5t3-72025  (tfl_3d PD ref_tra_1.5x1.5_t3) (unk)\n",
      "\t\t- Skipping!\n",
      "\t- Reading: ProstateX-0084-Ktrans.mhd (Ktrans) (ktrans)\n",
      "\t\t- Done!\n",
      "\n",
      "\t\t> (Blurrying ADC) Combining 5 images: #### -> Elapsed: 1.31s\n",
      " - Lesion positions and significances:\n",
      "   - 1: [219.78679371 194.06192129   8.99999749], Sig: 10\n",
      "   - 2: [167.79523468 195.14485543   3.99999449], Sig: 1\n",
      " - Information: resampling_operation with pre_mask_growth_mm applied to channels [2] on x,y dimensions\n"
     ]
    },
    {
     "data": {
      "application/vnd.jupyter.widget-view+json": {
       "model_id": "90ab6d39072844f991889c394ec52364",
       "version_major": 2,
       "version_minor": 0
      },
      "text/plain": [
       "interactive(children=(IntSlider(value=12, description='z', max=23, style=SliderStyle(handle_color='lightblue')…"
      ]
     },
     "metadata": {},
     "output_type": "display_data"
    },
    {
     "data": {
      "application/vnd.jupyter.widget-view+json": {
       "model_id": "3b50ac60cf9d40c5b015f463add902e5",
       "version_major": 2,
       "version_minor": 0
      },
      "text/plain": [
       "interactive(children=(IntSlider(value=12, description='z', max=23, style=SliderStyle(handle_color='lightblue')…"
      ]
     },
     "metadata": {},
     "output_type": "display_data"
    },
    {
     "name": "stdout",
     "output_type": "stream",
     "text": [
      "\n",
      "ProstateX-0085\n",
      "Patient: ProstateX-0085 (date: 2011-12-19 00:00:00)\n",
      "\t- Reading: 1.000000-t2localizer-39789  (t2_localizer) (UNKNOWN)\n",
      "\t\t- Skipping!\n",
      "\t- Reading: 2.000000-t2loc sag-85887  (t2_loc sag) (UNKNOWN)\n",
      "\t\t- Skipping!\n",
      "\t- Reading: 3.000000-t2tsesag-90098  (t2_tse_sag) (UNKNOWN)\n",
      "\t\t- Skipping!\n",
      "\t- Reading: 4.000000-t2tsecor-59555  (t2_tse_cor) (UNKNOWN)\n",
      "\t\t- Skipping!\n",
      "\t- Reading: 5.000000-t2tsetra-61230  (t2_tse_tra) (T2)\n",
      "\t\t- Done!\n",
      "\t- Reading: 6.000000-ep2ddifftraDYNDISTMIX-15242  (ep2d_diff_tra_DYNDIST_MIX) (b)\n",
      "\t\t- Done!\n",
      "\t- Reading: 7.000000-ep2ddifftraDYNDISTMIXADC-37997  (ep2d_diff_tra_DYNDIST_MIX_ADC) (ADC)\n",
      "\t\t- Done!\n",
      "\t- Reading: 8.000000-ep2ddifftraDYNDISTMIXCALCBVAL-50584  (ep2d_diff_tra_DYNDIST_MIXCALC_BVAL) (diff)\n",
      "\t\t- Skipping!\n",
      "\t- Reading: 9.000000-tfl3d PD reftra1.5x1.5t3-55133  (tfl_3d PD ref_tra_1.5x1.5_t3) (unk)\n",
      "\t\t- Skipping!\n",
      "\t- Reading: ProstateX-0085-Ktrans.mhd (Ktrans) (ktrans)\n",
      "\t\t- Done!\n",
      "\n",
      "\t\t> (Blurrying ADC) Combining 5 images: #### -> Elapsed: 1.67s\n",
      " - Lesion positions and significances:\n",
      "   - 1: [136.28676223 217.11310004  13.00001082], Sig: 10\n",
      "   - 2: [153.43996048 201.06670339  17.00000857], Sig: 10\n",
      "   - 3: [191.61996461 159.56682476  13.99998562], Sig: 10\n",
      "   - 4: [198.25996399 201.06679387   8.00000032], Sig: 10\n",
      " - Information: resampling_operation with pre_mask_growth_mm applied to channels [2] on x,y dimensions\n"
     ]
    },
    {
     "data": {
      "application/vnd.jupyter.widget-view+json": {
       "model_id": "455691de13c446a096d0bb8f6439b3c7",
       "version_major": 2,
       "version_minor": 0
      },
      "text/plain": [
       "interactive(children=(IntSlider(value=12, description='z', max=23, style=SliderStyle(handle_color='lightblue')…"
      ]
     },
     "metadata": {},
     "output_type": "display_data"
    },
    {
     "data": {
      "application/vnd.jupyter.widget-view+json": {
       "model_id": "7d054e4a5d814aa89d6ec82f09719843",
       "version_major": 2,
       "version_minor": 0
      },
      "text/plain": [
       "interactive(children=(IntSlider(value=12, description='z', max=23, style=SliderStyle(handle_color='lightblue')…"
      ]
     },
     "metadata": {},
     "output_type": "display_data"
    },
    {
     "name": "stdout",
     "output_type": "stream",
     "text": [
      "\n",
      "ProstateX-0086\n",
      "Patient: ProstateX-0086 (date: 2011-12-19 00:00:00)\n",
      "\t- Reading: 1.000000-t2localizer-79159  (t2_localizer) (UNKNOWN)\n",
      "\t\t- Skipping!\n",
      "\t- Reading: 10.000000-tfl3d PD reftra1.5x1.5t3-20999  (tfl_3d PD ref_tra_1.5x1.5_t3) (unk)\n",
      "\t\t- Skipping!\n",
      "\t- Reading: 2.000000-t2loc sag-45385  (t2_loc sag) (UNKNOWN)\n",
      "\t\t- Skipping!\n",
      "\t- Reading: 3.000000-t2tsesag-21957  (t2_tse_sag) (UNKNOWN)\n",
      "\t\t- Skipping!\n",
      "\t- Reading: 4.000000-t2tsetra-82393  (t2_tse_tra) (T2)\n",
      "\t\t- Done!\n",
      "\t- Reading: 5.000000-t2tsecor-49657  (t2_tse_cor) (UNKNOWN)\n",
      "\t\t- Skipping!\n",
      "\t- Reading: 6.000000-t2tsesag-77772  (t2_tse_sag) (UNKNOWN)\n",
      "\t\t- Skipping!\n",
      "\t- Reading: 7.000000-ep2ddifftraDYNDISTMIX-83108  (ep2d_diff_tra_DYNDIST_MIX) (b)\n",
      "\t\t- Done!\n",
      "\t- Reading: 8.000000-ep2ddifftraDYNDISTMIXADC-60220  (ep2d_diff_tra_DYNDIST_MIX_ADC) (ADC)\n",
      "\t\t- Done!\n",
      "\t- Reading: 9.000000-ep2ddifftraDYNDISTMIXCALCBVAL-74908  (ep2d_diff_tra_DYNDIST_MIXCALC_BVAL) (diff)\n",
      "\t\t- Skipping!\n",
      "\t- Reading: ProstateX-0086-Ktrans.mhd (Ktrans) (ktrans)\n",
      "\t\t- Done!\n",
      "\n",
      "\t\t> (Blurrying ADC) Combining 5 images: #### -> Elapsed: 1.44s\n",
      " - Lesion positions and significances:\n",
      "   - 1: [202.72680099 132.4532062   11.99998768], Sig: 10\n",
      "   - 2: [150.71321297 175.06007674  10.99998821], Sig: 10\n",
      " - Information: resampling_operation with pre_mask_growth_mm applied to channels [2] on x,y dimensions\n"
     ]
    },
    {
     "data": {
      "application/vnd.jupyter.widget-view+json": {
       "model_id": "794d3f59ff9646bd9c1c228ee7790b80",
       "version_major": 2,
       "version_minor": 0
      },
      "text/plain": [
       "interactive(children=(IntSlider(value=12, description='z', max=23, style=SliderStyle(handle_color='lightblue')…"
      ]
     },
     "metadata": {},
     "output_type": "display_data"
    },
    {
     "data": {
      "application/vnd.jupyter.widget-view+json": {
       "model_id": "bd9a6e7df6df44fc818060fff11d0144",
       "version_major": 2,
       "version_minor": 0
      },
      "text/plain": [
       "interactive(children=(IntSlider(value=12, description='z', max=23, style=SliderStyle(handle_color='lightblue')…"
      ]
     },
     "metadata": {},
     "output_type": "display_data"
    },
    {
     "name": "stdout",
     "output_type": "stream",
     "text": [
      "\n",
      "ProstateX-0087\n",
      "Patient: ProstateX-0087 (date: 2011-12-25 00:00:00)\n",
      "\t- Reading: 3.000000-t2tsesag-42084  (t2_tse_sag) (UNKNOWN)\n",
      "\t\t- Skipping!\n",
      "\t- Reading: 4.000000-t2tsetra-46289  (t2_tse_tra) (T2)\n",
      "\t\t- Done!\n",
      "\t- Reading: 5.000000-t2tsecor-30764  (t2_tse_cor) (UNKNOWN)\n",
      "\t\t- Skipping!\n",
      "\t- Reading: 6.000000-ep2ddifftraDYNDIST-28500  (ep2d_diff_tra_DYNDIST) (b)\n",
      "\t\t- Done!\n",
      "\t- Reading: 7.000000-ep2ddifftraDYNDISTADC-26905  (ep2d_diff_tra_DYNDIST_ADC) (ADC)\n",
      "\t\t- Done!\n",
      "\t- Reading: 8.000000-ep2ddifftraDYNDISTCALCBVAL-02691  (ep2d_diff_tra_DYNDISTCALC_BVAL) (diff)\n",
      "\t\t- Skipping!\n",
      "\t- Reading: 9.000000-tfl3d PD reftra1.5x1.5t3-82615  (tfl_3d PD ref_tra_1.5x1.5_t3) (unk)\n",
      "\t\t- Skipping!\n",
      "\t- Reading: ProstateX-0087-Ktrans.mhd (Ktrans) (ktrans)\n",
      "\t\t- Done!\n",
      "\n",
      "\t\t> (Blurrying ADC) Combining 5 images: #### -> Elapsed: 1.29s\n",
      " - Lesion positions and significances:\n",
      "   - 1: [157.17516708 214.58086105   4.99999484], Sig: 10\n",
      "   - 2: [219.11396408 175.7419733    7.00000414], Sig: 10\n",
      " - Information: resampling_operation with pre_mask_growth_mm applied to channels [2] on x,y dimensions\n"
     ]
    },
    {
     "data": {
      "application/vnd.jupyter.widget-view+json": {
       "model_id": "563476a01dd44113829dafb2bb331b55",
       "version_major": 2,
       "version_minor": 0
      },
      "text/plain": [
       "interactive(children=(IntSlider(value=12, description='z', max=23, style=SliderStyle(handle_color='lightblue')…"
      ]
     },
     "metadata": {},
     "output_type": "display_data"
    },
    {
     "data": {
      "application/vnd.jupyter.widget-view+json": {
       "model_id": "26426b657ea34540b828ad6b4f8dd2be",
       "version_major": 2,
       "version_minor": 0
      },
      "text/plain": [
       "interactive(children=(IntSlider(value=12, description='z', max=23, style=SliderStyle(handle_color='lightblue')…"
      ]
     },
     "metadata": {},
     "output_type": "display_data"
    },
    {
     "name": "stdout",
     "output_type": "stream",
     "text": [
      "\n",
      "ProstateX-0088\n",
      "Patient: ProstateX-0088 (date: 2011-12-26 00:00:00)\n",
      "\t- Reading: 2.000000-t2loc sag-10560  (t2_loc sag) (UNKNOWN)\n",
      "\t\t- Skipping!\n",
      "\t- Reading: 3.000000-t2tsesag-56410  (t2_tse_sag) (UNKNOWN)\n",
      "\t\t- Skipping!\n",
      "\t- Reading: 4.000000-t2tsetra-63557  (t2_tse_tra) (T2)\n",
      "\t\t- Done!\n",
      "\t- Reading: 5.000000-t2tsecor-42267  (t2_tse_cor) (UNKNOWN)\n",
      "\t\t- Skipping!\n",
      "\t- Reading: 6.000000-ep2ddifftraDYNDIST-61857  (ep2d_diff_tra_DYNDIST) (b)\n",
      "\t\t- Done!\n",
      "\t- Reading: 7.000000-ep2ddifftraDYNDISTADC-91456  (ep2d_diff_tra_DYNDIST_ADC) (ADC)\n",
      "\t\t- Done!\n",
      "\t- Reading: 8.000000-ep2ddifftraDYNDISTCALCBVAL-06968  (ep2d_diff_tra_DYNDISTCALC_BVAL) (diff)\n",
      "\t\t- Skipping!\n",
      "\t- Reading: 9.000000-tfl3d PD reftra1.5x1.5t3-83358  (tfl_3d PD ref_tra_1.5x1.5_t3) (unk)\n",
      "\t\t- Skipping!\n",
      "\t- Reading: ProstateX-0088-Ktrans.mhd (Ktrans) (ktrans)\n",
      "\t\t- Done!\n",
      "\n",
      "\t\t> (Blurrying ADC) Combining 5 images: #### -> Elapsed: 1.31s\n",
      " - Lesion positions and significances:\n",
      "   - 1: [160.10119916 145.52075076  13.99999933], Sig: 10\n",
      "   - 2: [162.69360732 222.32235697  15.0000003 ], Sig: 10\n",
      " - Information: resampling_operation with pre_mask_growth_mm applied to channels [2] on x,y dimensions\n"
     ]
    },
    {
     "data": {
      "application/vnd.jupyter.widget-view+json": {
       "model_id": "4195a695f9bb4ba4b283c3f10dba8757",
       "version_major": 2,
       "version_minor": 0
      },
      "text/plain": [
       "interactive(children=(IntSlider(value=12, description='z', max=23, style=SliderStyle(handle_color='lightblue')…"
      ]
     },
     "metadata": {},
     "output_type": "display_data"
    },
    {
     "data": {
      "application/vnd.jupyter.widget-view+json": {
       "model_id": "577953ff2812489cb116a83c7ec5412c",
       "version_major": 2,
       "version_minor": 0
      },
      "text/plain": [
       "interactive(children=(IntSlider(value=12, description='z', max=23, style=SliderStyle(handle_color='lightblue')…"
      ]
     },
     "metadata": {},
     "output_type": "display_data"
    },
    {
     "name": "stdout",
     "output_type": "stream",
     "text": [
      "\n",
      "ProstateX-0089\n",
      "Patient: ProstateX-0089 (date: 2011-12-26 00:00:00)\n",
      "\t- Reading: 3.000000-t2tsesag-13505  (t2_tse_sag) (UNKNOWN)\n",
      "\t\t- Skipping!\n",
      "\t- Reading: 4.000000-t2tsetra-69832  (t2_tse_tra) (T2)\n",
      "\t\t- Done!\n",
      "\t- Reading: 5.000000-t2tsecor-16832  (t2_tse_cor) (UNKNOWN)\n",
      "\t\t- Skipping!\n",
      "\t- Reading: 6.000000-ep2ddifftraDYNDIST-36816  (ep2d_diff_tra_DYNDIST) (b)\n",
      "\t\t- Done!\n",
      "\t- Reading: 7.000000-ep2ddifftraDYNDISTADC-33424  (ep2d_diff_tra_DYNDIST_ADC) (ADC)\n",
      "\t\t- Done!\n",
      "\t- Reading: 8.000000-ep2ddifftraDYNDISTCALCBVAL-48558  (ep2d_diff_tra_DYNDISTCALC_BVAL) (diff)\n",
      "\t\t- Skipping!\n",
      "\t- Reading: 9.000000-tfl3d PD reftra1.5x1.5t3-62302  (tfl_3d PD ref_tra_1.5x1.5_t3) (unk)\n",
      "\t\t- Skipping!\n",
      "\t- Reading: ProstateX-0089-Ktrans.mhd (Ktrans) (ktrans)\n",
      "\t\t- Done!\n",
      "\n",
      "\t\t> (Blurrying ADC) Combining 5 images: #### -> Elapsed: 1.51s\n",
      " - Lesion positions and significances:\n",
      "   - 1: [225.35319907 160.35762782  10.00000062], Sig: 10\n",
      " - Information: resampling_operation with pre_mask_growth_mm applied to channels [2] on x,y dimensions\n"
     ]
    },
    {
     "data": {
      "application/vnd.jupyter.widget-view+json": {
       "model_id": "fde825553d3b40d58e0c460f6d3a1ba6",
       "version_major": 2,
       "version_minor": 0
      },
      "text/plain": [
       "interactive(children=(IntSlider(value=12, description='z', max=23, style=SliderStyle(handle_color='lightblue')…"
      ]
     },
     "metadata": {},
     "output_type": "display_data"
    },
    {
     "data": {
      "application/vnd.jupyter.widget-view+json": {
       "model_id": "3f259a6eb09543f2b40ddcac90327ba5",
       "version_major": 2,
       "version_minor": 0
      },
      "text/plain": [
       "interactive(children=(IntSlider(value=12, description='z', max=23, style=SliderStyle(handle_color='lightblue')…"
      ]
     },
     "metadata": {},
     "output_type": "display_data"
    },
    {
     "name": "stdout",
     "output_type": "stream",
     "text": [
      "\n",
      "ProstateX-0090\n",
      "Patient: ProstateX-0090 (date: 2011-08-04 00:00:00)\n",
      "\t- Reading: 1.000000-t2localizer-18917  (t2_localizer) (UNKNOWN)\n",
      "\t\t- Skipping!\n",
      "\t- Reading: 2.000000-t2loc sag-18709  (t2_loc sag) (UNKNOWN)\n",
      "\t\t- Skipping!\n",
      "\t- Reading: 3.000000-t2tsesag-17139  (t2_tse_sag) (UNKNOWN)\n",
      "\t\t- Skipping!\n",
      "\t- Reading: 4.000000-t2tsetra-88043  (t2_tse_tra) (T2)\n",
      "\t\t- Done!\n",
      "\t- Reading: 5.000000-t2tsecor-65545  (t2_tse_cor) (UNKNOWN)\n",
      "\t\t- Skipping!\n",
      "\t- Reading: 6.000000-ep2ddifftraDYNDISTMIX-87221  (ep2d_diff_tra_DYNDIST_MIX) (b)\n",
      "\t\t- Done!\n",
      "\t- Reading: 7.000000-ep2ddifftraDYNDISTMIXADC-38576  (ep2d_diff_tra_DYNDIST_MIX_ADC) (ADC)\n",
      "\t\t- Done!\n",
      "\t- Reading: 8.000000-ep2ddifftraDYNDISTMIXCALCBVAL-76811  (ep2d_diff_tra_DYNDIST_MIXCALC_BVAL) (diff)\n",
      "\t\t- Skipping!\n",
      "\t- Reading: 9.000000-tfl3d PD reftra1.5x1.5t3-36999  (tfl_3d PD ref_tra_1.5x1.5_t3) (unk)\n",
      "\t\t- Skipping!\n",
      "\t- Reading: ProstateX-0090-Ktrans.mhd (Ktrans) (ktrans)\n",
      "\t\t- Done!\n",
      "\n",
      "\t\t> (Blurrying ADC) Combining 5 images: #### -> Elapsed: 1.28s\n",
      " - Lesion positions and significances:\n",
      "   - 1: [202.17320895 181.97684111   8.14285667], Sig: 10\n",
      " - Information: resampling_operation with pre_mask_growth_mm applied to channels [2] on x,y dimensions\n"
     ]
    },
    {
     "data": {
      "application/vnd.jupyter.widget-view+json": {
       "model_id": "8870a19c6dbc48e192f3b50c79624d31",
       "version_major": 2,
       "version_minor": 0
      },
      "text/plain": [
       "interactive(children=(IntSlider(value=12, description='z', max=23, style=SliderStyle(handle_color='lightblue')…"
      ]
     },
     "metadata": {},
     "output_type": "display_data"
    },
    {
     "data": {
      "application/vnd.jupyter.widget-view+json": {
       "model_id": "4e54a4dc98ef4f0a89fad0d5f9d176db",
       "version_major": 2,
       "version_minor": 0
      },
      "text/plain": [
       "interactive(children=(IntSlider(value=12, description='z', max=23, style=SliderStyle(handle_color='lightblue')…"
      ]
     },
     "metadata": {},
     "output_type": "display_data"
    },
    {
     "name": "stdout",
     "output_type": "stream",
     "text": [
      "\n",
      "ProstateX-0091\n",
      "Patient: ProstateX-0091 (date: 2011-12-26 00:00:00)\n",
      "\t- Reading: 2.000000-t2loc sag-12994  (t2_loc sag) (UNKNOWN)\n",
      "\t\t- Skipping!\n",
      "\t- Reading: 3.000000-t2tsesag-00449  (t2_tse_sag) (UNKNOWN)\n",
      "\t\t- Skipping!\n",
      "\t- Reading: 4.000000-t2tsetra-83977  (t2_tse_tra) (T2)\n",
      "\t\t- Done!\n",
      "\t- Reading: 5.000000-t2tsecor-79373  (t2_tse_cor) (UNKNOWN)\n",
      "\t\t- Skipping!\n",
      "\t- Reading: 6.000000-ep2ddifftraDYNDISTMIX-15642  (ep2d_diff_tra_DYNDIST_MIX) (b)\n",
      "\t\t- Done!\n",
      "\t- Reading: 7.000000-ep2ddifftraDYNDISTMIXADC-48990  (ep2d_diff_tra_DYNDIST_MIX_ADC) (ADC)\n",
      "\t\t- Done!\n",
      "\t- Reading: 8.000000-ep2ddifftraDYNDISTMIXCALCBVAL-05322  (ep2d_diff_tra_DYNDIST_MIXCALC_BVAL) (diff)\n",
      "\t\t- Skipping!\n",
      "\t- Reading: 9.000000-tfl3d PD reftra1.5x1.5t3-49450  (tfl_3d PD ref_tra_1.5x1.5_t3) (unk)\n",
      "\t\t- Skipping!\n",
      "\t- Reading: ProstateX-0091-Ktrans.mhd (Ktrans) (ktrans)\n",
      "\t\t- Done!\n",
      "\n",
      "\t\t> (Blurrying ADC) Combining 5 images: #### -> Elapsed: 1.32s\n",
      " - Lesion positions and significances:\n",
      "   - 1: [172.085186   196.85008288   8.50000134], Sig: 10\n",
      " - Information: resampling_operation with pre_mask_growth_mm applied to channels [2] on x,y dimensions\n"
     ]
    },
    {
     "data": {
      "application/vnd.jupyter.widget-view+json": {
       "model_id": "04f17cd043df49b8b9dfe809c20e2bc9",
       "version_major": 2,
       "version_minor": 0
      },
      "text/plain": [
       "interactive(children=(IntSlider(value=12, description='z', max=23, style=SliderStyle(handle_color='lightblue')…"
      ]
     },
     "metadata": {},
     "output_type": "display_data"
    },
    {
     "data": {
      "application/vnd.jupyter.widget-view+json": {
       "model_id": "df12001f91b54b508d089df5a8a7f966",
       "version_major": 2,
       "version_minor": 0
      },
      "text/plain": [
       "interactive(children=(IntSlider(value=12, description='z', max=23, style=SliderStyle(handle_color='lightblue')…"
      ]
     },
     "metadata": {},
     "output_type": "display_data"
    },
    {
     "name": "stdout",
     "output_type": "stream",
     "text": [
      "\n",
      "ProstateX-0092\n",
      "Patient: ProstateX-0092 (date: 2011-12-26 00:00:00)\n",
      "\t- Reading: 2.000000-t2loc sag-22898  (t2_loc sag) (UNKNOWN)\n",
      "\t\t- Skipping!\n",
      "\t- Reading: 3.000000-t2tsesag-30964  (t2_tse_sag) (UNKNOWN)\n",
      "\t\t- Skipping!\n",
      "\t- Reading: 4.000000-t2tsetra-51217  (t2_tse_tra) (T2)\n",
      "\t\t- Done!\n",
      "\t- Reading: 5.000000-t2tsecor-61695  (t2_tse_cor) (UNKNOWN)\n",
      "\t\t- Skipping!\n",
      "\t- Reading: 6.000000-ep2ddifftraDYNDIST-76068  (ep2d_diff_tra_DYNDIST) (b)\n",
      "\t\t- Done!\n",
      "\t- Reading: 7.000000-ep2ddifftraDYNDISTADC-66141  (ep2d_diff_tra_DYNDIST_ADC) (ADC)\n",
      "\t\t- Done!\n",
      "\t- Reading: 8.000000-ep2ddifftraDYNDISTCALCBVAL-92657  (ep2d_diff_tra_DYNDISTCALC_BVAL) (diff)\n",
      "\t\t- Skipping!\n",
      "\t- Reading: 9.000000-tfl3d PD reftra1.5x1.5t3-01590  (tfl_3d PD ref_tra_1.5x1.5_t3) (unk)\n",
      "\t\t- Skipping!\n",
      "\t- Reading: ProstateX-0092-Ktrans.mhd (Ktrans) (ktrans)\n",
      "\t\t- Done!\n",
      "\n",
      "\t\t> (Blurrying ADC) Combining 5 images: #### -> Elapsed: 1.28s\n",
      " - Lesion positions and significances:\n",
      "   - 1: [158.25284673 177.63709416   7.00540558], Sig: 3\n",
      " - Information: resampling_operation with pre_mask_growth_mm applied to channels [2] on x,y dimensions\n"
     ]
    },
    {
     "data": {
      "application/vnd.jupyter.widget-view+json": {
       "model_id": "a5f851bb7e8946868bcf97782e29176e",
       "version_major": 2,
       "version_minor": 0
      },
      "text/plain": [
       "interactive(children=(IntSlider(value=12, description='z', max=23, style=SliderStyle(handle_color='lightblue')…"
      ]
     },
     "metadata": {},
     "output_type": "display_data"
    },
    {
     "data": {
      "application/vnd.jupyter.widget-view+json": {
       "model_id": "b09024fe3af34a52b5b055b413f19060",
       "version_major": 2,
       "version_minor": 0
      },
      "text/plain": [
       "interactive(children=(IntSlider(value=12, description='z', max=23, style=SliderStyle(handle_color='lightblue')…"
      ]
     },
     "metadata": {},
     "output_type": "display_data"
    },
    {
     "name": "stdout",
     "output_type": "stream",
     "text": [
      "\n",
      "ProstateX-0093\n",
      "Patient: ProstateX-0093 (date: 2011-12-28 00:00:00)\n",
      "\t- Reading: 3.000000-t2tsesag-37913  (t2_tse_sag) (UNKNOWN)\n",
      "\t\t- Skipping!\n",
      "\t- Reading: 4.000000-t2tsetra-09130  (t2_tse_tra) (T2)\n",
      "\t\t- Done!\n",
      "\t- Reading: 5.000000-t2tsecor-24775  (t2_tse_cor) (UNKNOWN)\n",
      "\t\t- Skipping!\n",
      "\t- Reading: 6.000000-ep2ddifftraDYNDIST-48159  (ep2d_diff_tra_DYNDIST) (b)\n",
      "\t\t- Done!\n",
      "\t- Reading: 7.000000-ep2ddifftraDYNDISTADC-62659  (ep2d_diff_tra_DYNDIST_ADC) (ADC)\n",
      "\t\t- Done!\n",
      "\t- Reading: 8.000000-ep2ddifftraDYNDISTCALCBVAL-76787  (ep2d_diff_tra_DYNDISTCALC_BVAL) (diff)\n",
      "\t\t- Skipping!\n",
      "\t- Reading: 9.000000-tfl3d PD reftra1.5x1.5t3-85822  (tfl_3d PD ref_tra_1.5x1.5_t3) (unk)\n",
      "\t\t- Skipping!\n",
      "\t- Reading: ProstateX-0093-Ktrans.mhd (Ktrans) (ktrans)\n",
      "\t\t- Done!\n",
      "\n",
      "\t\t> (Blurrying ADC) Combining 5 images: #### -> Elapsed: 1.34s\n",
      " - Lesion positions and significances:\n",
      "   - 1: [198.8250544  228.18000002   1.91906665], Sig: 10\n",
      "   - 2: [193.29178311 227.62685988  13.91907374], Sig: 10\n",
      "   - 3: [154.47700896 205.70302231  11.00000227], Sig: 10\n",
      " - Information: resampling_operation with pre_mask_growth_mm applied to channels [2] on x,y dimensions\n"
     ]
    },
    {
     "data": {
      "application/vnd.jupyter.widget-view+json": {
       "model_id": "fd604f9309824acfa0ebfc7815bf9a72",
       "version_major": 2,
       "version_minor": 0
      },
      "text/plain": [
       "interactive(children=(IntSlider(value=12, description='z', max=23, style=SliderStyle(handle_color='lightblue')…"
      ]
     },
     "metadata": {},
     "output_type": "display_data"
    },
    {
     "data": {
      "application/vnd.jupyter.widget-view+json": {
       "model_id": "82c95774e97e44c9a3207438cfc209fa",
       "version_major": 2,
       "version_minor": 0
      },
      "text/plain": [
       "interactive(children=(IntSlider(value=12, description='z', max=23, style=SliderStyle(handle_color='lightblue')…"
      ]
     },
     "metadata": {},
     "output_type": "display_data"
    },
    {
     "name": "stdout",
     "output_type": "stream",
     "text": [
      "\n",
      "ProstateX-0094\n",
      "Patient: ProstateX-0094 (date: 2011-12-29 00:00:00)\n",
      "\t- Reading: 1.000000-t2localizer-06999  (t2_localizer) (UNKNOWN)\n",
      "\t\t- Skipping!\n",
      "\t- Reading: 2.000000-t2loc sag-98114  (t2_loc sag) (UNKNOWN)\n",
      "\t\t- Skipping!\n",
      "\t- Reading: 3.000000-t2tsesag-07355  (t2_tse_sag) (UNKNOWN)\n",
      "\t\t- Skipping!\n",
      "\t- Reading: 4.000000-t2tsetra-88527  (t2_tse_tra) (T2)\n",
      "\t\t- Done!\n",
      "\t- Reading: 5.000000-t2tsecor-68510  (t2_tse_cor) (UNKNOWN)\n",
      "\t\t- Skipping!\n",
      "\t- Reading: 6.000000-ep2ddifftraDYNDIST-51040  (ep2d_diff_tra_DYNDIST) (b)\n",
      "\t\t- Done!\n",
      "\t- Reading: 7.000000-ep2ddifftraDYNDISTADC-40023  (ep2d_diff_tra_DYNDIST_ADC) (ADC)\n",
      "\t\t- Done!\n",
      "\t- Reading: 8.000000-ep2ddifftraDYNDISTCALCBVAL-06779  (ep2d_diff_tra_DYNDISTCALC_BVAL) (diff)\n",
      "\t\t- Skipping!\n",
      "\t- Reading: 9.000000-tfl3d PD reftra1.5x1.5t3-00702  (tfl_3d PD ref_tra_1.5x1.5_t3) (unk)\n",
      "\t\t- Skipping!\n",
      "\t- Reading: ProstateX-0094-Ktrans.mhd (Ktrans) (ktrans)\n",
      "\t\t- Done!\n",
      "\n",
      "\t\t> (Blurrying ADC) Combining 5 images: #### -> Elapsed: 1.38s\n",
      " - Lesion positions and significances:\n",
      "   - 1: [189.26597977 153.51902563   8.00001322], Sig: 3\n",
      " - Information: resampling_operation with pre_mask_growth_mm applied to channels [2] on x,y dimensions\n"
     ]
    },
    {
     "data": {
      "application/vnd.jupyter.widget-view+json": {
       "model_id": "8e3a21c540be4facbe7b095030b18917",
       "version_major": 2,
       "version_minor": 0
      },
      "text/plain": [
       "interactive(children=(IntSlider(value=12, description='z', max=23, style=SliderStyle(handle_color='lightblue')…"
      ]
     },
     "metadata": {},
     "output_type": "display_data"
    },
    {
     "data": {
      "application/vnd.jupyter.widget-view+json": {
       "model_id": "742415e2c8194579b8d67eceed32ddd0",
       "version_major": 2,
       "version_minor": 0
      },
      "text/plain": [
       "interactive(children=(IntSlider(value=12, description='z', max=23, style=SliderStyle(handle_color='lightblue')…"
      ]
     },
     "metadata": {},
     "output_type": "display_data"
    },
    {
     "name": "stdout",
     "output_type": "stream",
     "text": [
      "\n",
      "ProstateX-0095\n",
      "Patient: ProstateX-0095 (date: 2011-12-29 00:00:00)\n",
      "\t- Reading: 1.000000-t2localizer-87352  (t2_localizer) (UNKNOWN)\n",
      "\t\t- Skipping!\n",
      "\t- Reading: 10.000000-tfl3d PD reftra1.5x1.5t3-50055  (tfl_3d PD ref_tra_1.5x1.5_t3) (unk)\n",
      "\t\t- Skipping!\n",
      "\t- Reading: 2.000000-t2loc sag-92573  (t2_loc sag) (UNKNOWN)\n",
      "\t\t- Skipping!\n",
      "\t- Reading: 3.000000-t2tsesag-50733  (t2_tse_sag) (UNKNOWN)\n",
      "\t\t- Skipping!\n",
      "\t- Reading: 4.000000-t2tsetra-29213  (t2_tse_tra) (T2)\n",
      "\t\t- Done!\n",
      "\t- Reading: 5.000000-t2tsecor-05715  (t2_tse_cor) (UNKNOWN)\n",
      "\t\t- Skipping!\n",
      "\t- Reading: 6.000000-t2tsetra-25856  (t2_tse_tra) (T2)\n",
      "\t\t- Done!\n",
      "\t- Reading: 7.000000-ep2ddifftraDYNDISTMIX-62378  (ep2d_diff_tra_DYNDIST_MIX) (b)\n",
      "\t\t- Done!\n",
      "\t- Reading: 8.000000-ep2ddifftraDYNDISTMIXADC-49575  (ep2d_diff_tra_DYNDIST_MIX_ADC) (ADC)\n",
      "\t\t- Done!\n",
      "\t- Reading: 9.000000-ep2ddifftraDYNDISTMIXCALCBVAL-06296  (ep2d_diff_tra_DYNDIST_MIXCALC_BVAL) (diff)\n",
      "\t\t- Skipping!\n",
      "\t- Reading: ProstateX-0095-Ktrans.mhd (Ktrans) (ktrans)\n",
      "\t\t- Done!\n",
      "\n",
      "\t\t> (Blurrying ADC) Combining 5 images: #### -> Elapsed: 1.33s\n",
      " - Lesion positions and significances:\n",
      "   - 1: [170.43496322 213.84194865   9.9999966 ], Sig: 3\n",
      "   - 2: [172.8067627  167.86679558   7.00001062], Sig: 10\n",
      " - Information: resampling_operation with pre_mask_growth_mm applied to channels [2] on x,y dimensions\n"
     ]
    },
    {
     "data": {
      "application/vnd.jupyter.widget-view+json": {
       "model_id": "6de24b0835e44c89931f7c92f327f02c",
       "version_major": 2,
       "version_minor": 0
      },
      "text/plain": [
       "interactive(children=(IntSlider(value=12, description='z', max=23, style=SliderStyle(handle_color='lightblue')…"
      ]
     },
     "metadata": {},
     "output_type": "display_data"
    },
    {
     "data": {
      "application/vnd.jupyter.widget-view+json": {
       "model_id": "2414290390014d8d83b9a976fcf8109a",
       "version_major": 2,
       "version_minor": 0
      },
      "text/plain": [
       "interactive(children=(IntSlider(value=12, description='z', max=23, style=SliderStyle(handle_color='lightblue')…"
      ]
     },
     "metadata": {},
     "output_type": "display_data"
    },
    {
     "name": "stdout",
     "output_type": "stream",
     "text": [
      "\n",
      "ProstateX-0096\n",
      "Patient: ProstateX-0096 (date: 2012-01-01 00:00:00)\n",
      "\t- Reading: 1.000000-t2localizer-52079  (t2_localizer) (UNKNOWN)\n",
      "\t\t- Skipping!\n",
      "\t- Reading: 2.000000-t2loc sag-79088  (t2_loc sag) (UNKNOWN)\n",
      "\t\t- Skipping!\n",
      "\t- Reading: 3.000000-t2tsesag-56507  (t2_tse_sag) (UNKNOWN)\n",
      "\t\t- Skipping!\n",
      "\t- Reading: 4.000000-t2tsetra-62750  (t2_tse_tra) (T2)\n",
      "\t\t- Done!\n",
      "\t- Reading: 5.000000-t2tsecor-32608  (t2_tse_cor) (UNKNOWN)\n",
      "\t\t- Skipping!\n",
      "\t- Reading: 6.000000-ep2ddifftraDYNDIST-97431  (ep2d_diff_tra_DYNDIST) (b)\n",
      "\t\t- Done!\n",
      "\t- Reading: 7.000000-ep2ddifftraDYNDISTADC-89037  (ep2d_diff_tra_DYNDIST_ADC) (ADC)\n",
      "\t\t- Done!\n",
      "\t- Reading: 8.000000-ep2ddifftraDYNDISTCALCBVAL-27260  (ep2d_diff_tra_DYNDISTCALC_BVAL) (diff)\n",
      "\t\t- Skipping!\n",
      "\t- Reading: 9.000000-tfl3d PD reftra1.5x1.5t3-72913  (tfl_3d PD ref_tra_1.5x1.5_t3) (unk)\n",
      "\t\t- Skipping!\n",
      "\t- Reading: ProstateX-0096-Ktrans.mhd (Ktrans) (ktrans)\n",
      "\t\t- Done!\n",
      "\n",
      "\t\t> (Blurrying ADC) Combining 5 images: #### -> Elapsed: 1.29s\n",
      " - Lesion positions and significances:\n",
      "   - 1: [162.03902054 184.45490983   7.00000236], Sig: 10\n",
      " - Information: resampling_operation with pre_mask_growth_mm applied to channels [2] on x,y dimensions\n"
     ]
    },
    {
     "data": {
      "application/vnd.jupyter.widget-view+json": {
       "model_id": "e5f2bf1229ee447c87ec3ba92680f26c",
       "version_major": 2,
       "version_minor": 0
      },
      "text/plain": [
       "interactive(children=(IntSlider(value=12, description='z', max=23, style=SliderStyle(handle_color='lightblue')…"
      ]
     },
     "metadata": {},
     "output_type": "display_data"
    },
    {
     "data": {
      "application/vnd.jupyter.widget-view+json": {
       "model_id": "fe9874147a5e473c9ac8be5ddee2f37f",
       "version_major": 2,
       "version_minor": 0
      },
      "text/plain": [
       "interactive(children=(IntSlider(value=12, description='z', max=23, style=SliderStyle(handle_color='lightblue')…"
      ]
     },
     "metadata": {},
     "output_type": "display_data"
    },
    {
     "name": "stdout",
     "output_type": "stream",
     "text": [
      "\n",
      "ProstateX-0097\n",
      "Patient: ProstateX-0097 (date: 2012-01-01 00:00:00)\n",
      "\t- Reading: 10.000000-tfl3d PD reftra1.5x1.5t3-46242  (tfl_3d PD ref_tra_1.5x1.5_t3) (unk)\n",
      "\t\t- Skipping!\n",
      "\t- Reading: 3.000000-t2tsesag-26214  (t2_tse_sag) (UNKNOWN)\n",
      "\t\t- Skipping!\n",
      "\t- Reading: 4.000000-t2tsecor-18323  (t2_tse_cor) (UNKNOWN)\n",
      "\t\t- Skipping!\n",
      "\t- Reading: 5.000000-t2tsetra-69456  (t2_tse_tra) (T2)\n",
      "\t\t- Done!\n",
      "\t- Reading: 6.000000-ep2ddifftraDYNDISTMIX-86289  (ep2d_diff_tra_DYNDIST_MIX) (b)\n",
      "\t\t- Done!\n",
      "\t- Reading: 7.000000-ep2ddifftraDYNDISTMIXADC-05002  (ep2d_diff_tra_DYNDIST_MIX_ADC) (ADC)\n",
      "\t\t- Done!\n",
      "\t- Reading: 8.000000-ep2ddifftraDYNDISTMIXCALCBVAL-49727  (ep2d_diff_tra_DYNDIST_MIXCALC_BVAL) (diff)\n",
      "\t\t- Skipping!\n",
      "\t- Reading: 9.000000-t2tsetra-74869  (t2_tse_tra) (T2)\n",
      "\t\t- Done!\n",
      "\t- Reading: ProstateX-0097-Ktrans.mhd (Ktrans) (ktrans)\n",
      "\t\t- Done!\n",
      "\n",
      "\t\t> (Blurrying ADC) Combining 5 images: #### -> Elapsed: 1.34s\n",
      " - Lesion positions and significances:\n",
      "   - 1: [169.94631768 179.97319774  10.9999918 ], Sig: 2\n",
      " - Information: resampling_operation with pre_mask_growth_mm applied to channels [2] on x,y dimensions\n"
     ]
    },
    {
     "data": {
      "application/vnd.jupyter.widget-view+json": {
       "model_id": "9476ad21263e4424aebab385ce79882b",
       "version_major": 2,
       "version_minor": 0
      },
      "text/plain": [
       "interactive(children=(IntSlider(value=12, description='z', max=23, style=SliderStyle(handle_color='lightblue')…"
      ]
     },
     "metadata": {},
     "output_type": "display_data"
    },
    {
     "data": {
      "application/vnd.jupyter.widget-view+json": {
       "model_id": "437ba03f56224ec2a4f2be04feb060be",
       "version_major": 2,
       "version_minor": 0
      },
      "text/plain": [
       "interactive(children=(IntSlider(value=12, description='z', max=23, style=SliderStyle(handle_color='lightblue')…"
      ]
     },
     "metadata": {},
     "output_type": "display_data"
    },
    {
     "name": "stdout",
     "output_type": "stream",
     "text": [
      "\n",
      "ProstateX-0098\n",
      "Patient: ProstateX-0098 (date: 2012-01-01 00:00:00)\n",
      "\t- Reading: 1.000000-t2localizer-01523  (t2_localizer) (UNKNOWN)\n",
      "\t\t- Skipping!\n",
      "\t- Reading: 10.000000-tfl3d PD reftra1.5x1.5t3-54362  (tfl_3d PD ref_tra_1.5x1.5_t3) (unk)\n",
      "\t\t- Skipping!\n",
      "\t- Reading: 2.000000-t2loc sag-80868  (t2_loc sag) (UNKNOWN)\n",
      "\t\t- Skipping!\n",
      "\t- Reading: 3.000000-t2tsesag-78033  (t2_tse_sag) (UNKNOWN)\n",
      "\t\t- Skipping!\n",
      "\t- Reading: 4.000000-t2tsetra-97249  (t2_tse_tra) (T2)\n",
      "\t\t- Done!\n",
      "\t- Reading: 5.000000-t2tsecor-39458  (t2_tse_cor) (UNKNOWN)\n",
      "\t\t- Skipping!\n",
      "\t- Reading: 6.000000-ep2ddifftraDYNDIST-67654  (ep2d_diff_tra_DYNDIST) (b)\n",
      "\t\t- Done!\n",
      "\t- Reading: 7.000000-ep2ddifftraDYNDISTADC-96045  (ep2d_diff_tra_DYNDIST_ADC) (ADC)\n",
      "\t\t- Done!\n",
      "\t- Reading: 8.000000-ep2ddifftraDYNDISTCALCBVAL-16980  (ep2d_diff_tra_DYNDISTCALC_BVAL) (diff)\n",
      "\t\t- Skipping!\n",
      "\t- Reading: 9.000000-t2tsetra-19478  (t2_tse_tra) (T2)\n",
      "\t\t- Done!\n",
      "\t- Reading: ProstateX-0098-Ktrans.mhd (Ktrans) (ktrans)\n",
      "\t\t- Done!\n",
      "\n",
      "\t\t> (Blurrying ADC) Combining 5 images: #### -> Elapsed: 1.39s\n",
      " - Lesion positions and significances:\n",
      "   - 1: [183.31559991 229.55042639   9.33331032], Sig: 10\n",
      " - Information: resampling_operation with pre_mask_growth_mm applied to channels [2] on x,y dimensions\n"
     ]
    },
    {
     "data": {
      "application/vnd.jupyter.widget-view+json": {
       "model_id": "5aeba2e649a048e8bf3df544c21395d5",
       "version_major": 2,
       "version_minor": 0
      },
      "text/plain": [
       "interactive(children=(IntSlider(value=12, description='z', max=23, style=SliderStyle(handle_color='lightblue')…"
      ]
     },
     "metadata": {},
     "output_type": "display_data"
    },
    {
     "data": {
      "application/vnd.jupyter.widget-view+json": {
       "model_id": "428f42cdeb244c34a5f0545fb6cce0c5",
       "version_major": 2,
       "version_minor": 0
      },
      "text/plain": [
       "interactive(children=(IntSlider(value=12, description='z', max=23, style=SliderStyle(handle_color='lightblue')…"
      ]
     },
     "metadata": {},
     "output_type": "display_data"
    },
    {
     "name": "stdout",
     "output_type": "stream",
     "text": [
      "\n",
      "ProstateX-0099\n",
      "Patient: ProstateX-0099 (date: 2012-01-02 00:00:00)\n",
      "\t- Reading: 10.000000-tfl3d PD reftra1.5x1.5t3-36906  (tfl_3d PD ref_tra_1.5x1.5_t3) (unk)\n",
      "\t\t- Skipping!\n",
      "\t- Reading: 3.000000-t2tsesag-86504  (t2_tse_sag) (UNKNOWN)\n",
      "\t\t- Skipping!\n",
      "\t- Reading: 4.000000-t2tsecor-92021  (t2_tse_cor) (UNKNOWN)\n",
      "\t\t- Skipping!\n",
      "\t- Reading: 5.000000-t2tsetra-34940  (t2_tse_tra) (T2)\n",
      "\t\t- Done!\n",
      "\t- Reading: 6.000000-ep2ddifftraDYNDIST-09226  (ep2d_diff_tra_DYNDIST) (b)\n",
      "\t\t- Done!\n",
      "\t- Reading: 7.000000-ep2ddifftraDYNDISTADC-79036  (ep2d_diff_tra_DYNDIST_ADC) (ADC)\n",
      "\t\t- Done!\n",
      "\t- Reading: 8.000000-ep2ddifftraDYNDISTCALCBVAL-15770  (ep2d_diff_tra_DYNDISTCALC_BVAL) (diff)\n",
      "\t\t- Skipping!\n",
      "\t- Reading: 9.000000-t2tsetra-56098  (t2_tse_tra) (T2)\n",
      "\t\t- Done!\n",
      "\t- Reading: ProstateX-0099-Ktrans.mhd (Ktrans) (ktrans)\n",
      "\t\t- Done!\n",
      "\n",
      "\t\t> (Blurrying ADC) Combining 5 images: #### -> Elapsed: 1.33s\n",
      " - Lesion positions and significances:\n",
      "   - 1: [230.03789901 234.23140118   9.99997993], Sig: 2\n",
      "   - 2: [146.41130065 230.8984397   10.00002303], Sig: 10\n",
      " - Information: resampling_operation with pre_mask_growth_mm applied to channels [2] on x,y dimensions\n"
     ]
    },
    {
     "data": {
      "application/vnd.jupyter.widget-view+json": {
       "model_id": "4231149ac57840bf979fd99857c3bdce",
       "version_major": 2,
       "version_minor": 0
      },
      "text/plain": [
       "interactive(children=(IntSlider(value=12, description='z', max=23, style=SliderStyle(handle_color='lightblue')…"
      ]
     },
     "metadata": {},
     "output_type": "display_data"
    },
    {
     "data": {
      "application/vnd.jupyter.widget-view+json": {
       "model_id": "f119c61cc20a4b848fe3a74e68538da0",
       "version_major": 2,
       "version_minor": 0
      },
      "text/plain": [
       "interactive(children=(IntSlider(value=12, description='z', max=23, style=SliderStyle(handle_color='lightblue')…"
      ]
     },
     "metadata": {},
     "output_type": "display_data"
    },
    {
     "name": "stdout",
     "output_type": "stream",
     "text": [
      "\n",
      "ProstateX-0100\n",
      "Patient: ProstateX-0100 (date: 2012-01-05 00:00:00)\n",
      "\t- Reading: 10.000000-tfl3d PD reftra1.5x1.5t3-11589  (tfl_3d PD ref_tra_1.5x1.5_t3) (unk)\n",
      "\t\t- Skipping!\n",
      "\t- Reading: 3.000000-t2tsesag-71117  (t2_tse_sag) (UNKNOWN)\n",
      "\t\t- Skipping!\n",
      "\t- Reading: 5.000000-t2tsecor-18607  (t2_tse_cor) (UNKNOWN)\n",
      "\t\t- Skipping!\n",
      "\t- Reading: 6.000000-t2tsetra-87309  (t2_tse_tra) (T2)\n",
      "\t\t- Done!\n",
      "\t- Reading: 7.000000-ep2ddifftraDYNDIST-42695  (ep2d_diff_tra_DYNDIST) (b)\n",
      "\t\t- Done!\n",
      "\t- Reading: 8.000000-ep2ddifftraDYNDISTADC-96944  (ep2d_diff_tra_DYNDIST_ADC) (ADC)\n",
      "\t\t- Done!\n",
      "\t- Reading: 9.000000-ep2ddifftraDYNDISTCALCBVAL-88508  (ep2d_diff_tra_DYNDISTCALC_BVAL) (diff)\n",
      "\t\t- Skipping!\n",
      "\t- Reading: ProstateX-0100-Ktrans.mhd (Ktrans) (ktrans)\n",
      "\t\t- Done!\n",
      "\n",
      "\t\t> (Blurrying ADC) Combining 5 images: #### -> Elapsed: 1.31s\n",
      " - Lesion positions and significances:\n",
      "   - 1: [159.91963263 152.1207953    4.00000654], Sig: 10\n",
      "   - 2: [178.85916798 197.24161612  12.99999959], Sig: 10\n",
      "   - 3: [185.73600386 207.5120385    9.00000212], Sig: 10\n",
      " - Information: resampling_operation with pre_mask_growth_mm applied to channels [2] on x,y dimensions\n"
     ]
    },
    {
     "data": {
      "application/vnd.jupyter.widget-view+json": {
       "model_id": "543fd44333bd47a4afa0176622ab28bd",
       "version_major": 2,
       "version_minor": 0
      },
      "text/plain": [
       "interactive(children=(IntSlider(value=12, description='z', max=23, style=SliderStyle(handle_color='lightblue')…"
      ]
     },
     "metadata": {},
     "output_type": "display_data"
    },
    {
     "data": {
      "application/vnd.jupyter.widget-view+json": {
       "model_id": "c7ad0e76d78644458c28b9a2e103a9e3",
       "version_major": 2,
       "version_minor": 0
      },
      "text/plain": [
       "interactive(children=(IntSlider(value=12, description='z', max=23, style=SliderStyle(handle_color='lightblue')…"
      ]
     },
     "metadata": {},
     "output_type": "display_data"
    },
    {
     "name": "stdout",
     "output_type": "stream",
     "text": [
      "\n",
      "ProstateX-0101\n",
      "Patient: ProstateX-0101 (date: 2011-08-08 00:00:00)\n",
      "\t- Reading: 10.000000-tfl3d PD reftra1.5x1.5t3-06508  (tfl_3d PD ref_tra_1.5x1.5_t3) (unk)\n",
      "\t\t- Skipping!\n",
      "\t- Reading: 3.000000-t2tsesag-87128  (t2_tse_sag) (UNKNOWN)\n",
      "\t\t- Skipping!\n",
      "\t- Reading: 4.000000-t2tsetra-23224  (t2_tse_tra) (T2)\n",
      "\t\t- Done!\n",
      "\t- Reading: 5.000000-t2tsecor-93606  (t2_tse_cor) (UNKNOWN)\n",
      "\t\t- Skipping!\n",
      "\t- Reading: 6.000000-t2tsetra-14688  (t2_tse_tra) (T2)\n",
      "\t\t- Done!\n",
      "\t- Reading: 7.000000-ep2ddifftraDYNDISTMIX-58089  (ep2d_diff_tra_DYNDIST_MIX) (b)\n",
      "\t\t- Done!\n",
      "\t- Reading: 8.000000-ep2ddifftraDYNDISTMIXADC-61057  (ep2d_diff_tra_DYNDIST_MIX_ADC) (ADC)\n",
      "\t\t- Done!\n",
      "\t- Reading: 9.000000-ep2ddifftraDYNDISTMIXCALCBVAL-50994  (ep2d_diff_tra_DYNDIST_MIXCALC_BVAL) (diff)\n",
      "\t\t- Skipping!\n",
      "\t- Reading: ProstateX-0101-Ktrans.mhd (Ktrans) (ktrans)\n",
      "\t\t- Done!\n",
      "\n",
      "\t\t> (Blurrying ADC) Combining 5 images: #### -> Elapsed: 0.93s\n",
      " - Lesion positions and significances:\n",
      "   - 1: [158.21729999 142.7685126    2.99994752], Sig: 1\n",
      "   - 2: [189.89932895 192.68471379   8.99998494], Sig: 10\n",
      " - Information: resampling_operation with pre_mask_growth_mm applied to channels [2] on x,y dimensions\n"
     ]
    },
    {
     "data": {
      "application/vnd.jupyter.widget-view+json": {
       "model_id": "6edc1ae4c1ea4a628e40bd8aa06f5d6c",
       "version_major": 2,
       "version_minor": 0
      },
      "text/plain": [
       "interactive(children=(IntSlider(value=12, description='z', max=23, style=SliderStyle(handle_color='lightblue')…"
      ]
     },
     "metadata": {},
     "output_type": "display_data"
    },
    {
     "data": {
      "application/vnd.jupyter.widget-view+json": {
       "model_id": "e28f1e8254c1493db4de346023c1a6c4",
       "version_major": 2,
       "version_minor": 0
      },
      "text/plain": [
       "interactive(children=(IntSlider(value=12, description='z', max=23, style=SliderStyle(handle_color='lightblue')…"
      ]
     },
     "metadata": {},
     "output_type": "display_data"
    },
    {
     "name": "stdout",
     "output_type": "stream",
     "text": [
      "\n",
      "ProstateX-0102\n",
      "Patient: ProstateX-0102 (date: 2012-01-05 00:00:00)\n",
      "\t- Reading: 10.000000-tfl3d PD reftra1.5x1.5t3-03241  (tfl_3d PD ref_tra_1.5x1.5_t3) (unk)\n",
      "\t\t- Skipping!\n",
      "\t- Reading: 3.000000-t2tsesag-87213  (t2_tse_sag) (UNKNOWN)\n",
      "\t\t- Skipping!\n",
      "\t- Reading: 4.000000-t2tsecor-03404  (t2_tse_cor) (UNKNOWN)\n",
      "\t\t- Skipping!\n",
      "\t- Reading: 5.000000-t2tsetra-20088  (t2_tse_tra) (T2)\n",
      "\t\t- Done!\n",
      "\t- Reading: 6.000000-ep2ddifftraDYNDIST-23818  (ep2d_diff_tra_DYNDIST) (b)\n",
      "\t\t- Done!\n",
      "\t- Reading: 7.000000-ep2ddifftraDYNDISTADC-50340  (ep2d_diff_tra_DYNDIST_ADC) (ADC)\n",
      "\t\t- Done!\n",
      "\t- Reading: 8.000000-ep2ddifftraDYNDISTCALCBVAL-57005  (ep2d_diff_tra_DYNDISTCALC_BVAL) (diff)\n",
      "\t\t- Skipping!\n",
      "\t- Reading: 9.000000-t2tsetra-45733  (t2_tse_tra) (T2)\n",
      "\t\t- Done!\n",
      "\t- Reading: ProstateX-0102-Ktrans.mhd (Ktrans) (ktrans)\n",
      "\t\t- Done!\n",
      "\n",
      "\t\t> (Blurrying ADC) Combining 5 images: #### -> Elapsed: 0.93s\n",
      " - Lesion positions and significances:\n",
      "   - 1: [145.48197506 162.11291308   4.00001063], Sig: 2\n",
      " - Information: resampling_operation with pre_mask_growth_mm applied to channels [2] on x,y dimensions\n"
     ]
    },
    {
     "data": {
      "application/vnd.jupyter.widget-view+json": {
       "model_id": "65226df6701e458aa5d638d003d55978",
       "version_major": 2,
       "version_minor": 0
      },
      "text/plain": [
       "interactive(children=(IntSlider(value=12, description='z', max=23, style=SliderStyle(handle_color='lightblue')…"
      ]
     },
     "metadata": {},
     "output_type": "display_data"
    },
    {
     "data": {
      "application/vnd.jupyter.widget-view+json": {
       "model_id": "d3cff3c6963e4cfda3874b1661a2131d",
       "version_major": 2,
       "version_minor": 0
      },
      "text/plain": [
       "interactive(children=(IntSlider(value=12, description='z', max=23, style=SliderStyle(handle_color='lightblue')…"
      ]
     },
     "metadata": {},
     "output_type": "display_data"
    },
    {
     "name": "stdout",
     "output_type": "stream",
     "text": [
      "\n",
      "ProstateX-0103\n",
      "Patient: ProstateX-0103 (date: 2012-01-05 00:00:00)\n",
      "\t- Reading: 3.000000-t2tsesag-81218  (t2_tse_sag) (UNKNOWN)\n",
      "\t\t- Skipping!\n",
      "\t- Reading: 4.000000-t2tsecor-56825  (t2_tse_cor) (UNKNOWN)\n",
      "\t\t- Skipping!\n",
      "\t- Reading: 5.000000-t2tsetra-11450  (t2_tse_tra) (T2)\n",
      "\t\t- Done!\n",
      "\t- Reading: 6.000000-ep2ddifftraDYNDISTMIX-40592  (ep2d_diff_tra_DYNDIST_MIX) (b)\n",
      "\t\t- Done!\n",
      "\t- Reading: 7.000000-ep2ddifftraDYNDISTMIXADC-22329  (ep2d_diff_tra_DYNDIST_MIX_ADC) (ADC)\n",
      "\t\t- Done!\n",
      "\t- Reading: 8.000000-ep2ddifftraDYNDISTMIXCALCBVAL-70894  (ep2d_diff_tra_DYNDIST_MIXCALC_BVAL) (diff)\n",
      "\t\t- Skipping!\n",
      "\t- Reading: 9.000000-tfl3d PD reftra1.5x1.5t3-47666  (tfl_3d PD ref_tra_1.5x1.5_t3) (unk)\n",
      "\t\t- Skipping!\n",
      "\t- Reading: ProstateX-0103-Ktrans.mhd (Ktrans) (ktrans)\n",
      "\t\t- Done!\n",
      "\n",
      "\t\t> (Blurrying ADC) Combining 5 images: #### -> Elapsed: 1.40s\n",
      " - Lesion positions and significances:\n",
      "   - 1: [221.41276955 230.13424766  14.43335303], Sig: 5\n",
      "   - 2: [182.75840877 240.69116347  11.99998985], Sig: 10\n",
      " - Information: resampling_operation with pre_mask_growth_mm applied to channels [2] on x,y dimensions\n"
     ]
    },
    {
     "data": {
      "application/vnd.jupyter.widget-view+json": {
       "model_id": "8b0e628181ee4dadaf72bb4d1b3b2963",
       "version_major": 2,
       "version_minor": 0
      },
      "text/plain": [
       "interactive(children=(IntSlider(value=12, description='z', max=23, style=SliderStyle(handle_color='lightblue')…"
      ]
     },
     "metadata": {},
     "output_type": "display_data"
    },
    {
     "data": {
      "application/vnd.jupyter.widget-view+json": {
       "model_id": "96e1f3829e66448b8f3d8d230046361a",
       "version_major": 2,
       "version_minor": 0
      },
      "text/plain": [
       "interactive(children=(IntSlider(value=12, description='z', max=23, style=SliderStyle(handle_color='lightblue')…"
      ]
     },
     "metadata": {},
     "output_type": "display_data"
    },
    {
     "name": "stdout",
     "output_type": "stream",
     "text": [
      "\n",
      "ProstateX-0104\n",
      "Patient: ProstateX-0104 (date: 2012-01-12 00:00:00)\n",
      "\t- Reading: 3.000000-t2tsesag-91261  (t2_tse_sag) (UNKNOWN)\n",
      "\t\t- Skipping!\n",
      "\t- Reading: 4.000000-t2tsecor-55962  (t2_tse_cor) (UNKNOWN)\n",
      "\t\t- Skipping!\n",
      "\t- Reading: 5.000000-t2tsetra-33740  (t2_tse_tra) (T2)\n",
      "\t\t- Done!\n",
      "\t- Reading: 6.000000-ep2ddifftraDYNDIST-09060  (ep2d_diff_tra_DYNDIST) (b)\n",
      "\t\t- Done!\n",
      "\t- Reading: 7.000000-ep2ddifftraDYNDISTADC-02327  (ep2d_diff_tra_DYNDIST_ADC) (ADC)\n",
      "\t\t- Done!\n",
      "\t- Reading: 8.000000-ep2ddifftraDYNDISTCALCBVAL-67390  (ep2d_diff_tra_DYNDISTCALC_BVAL) (diff)\n",
      "\t\t- Skipping!\n",
      "\t- Reading: 9.000000-tfl3d PD reftra1.5x1.5t3-97949  (tfl_3d PD ref_tra_1.5x1.5_t3) (unk)\n",
      "\t\t- Skipping!\n",
      "\t- Reading: ProstateX-0104-Ktrans.mhd (Ktrans) (ktrans)\n",
      "\t\t- Done!\n",
      "\n",
      "\t\t> (Blurrying ADC) Combining 5 images: #### -> Elapsed: 1.36s\n",
      " - Lesion positions and significances:\n",
      "   - 1: [158.51999069 165.3280063    9.99999891], Sig: 2\n",
      "   - 2: [162.35899066 232.81006997  12.00000178], Sig: 10\n",
      " - Information: resampling_operation with pre_mask_growth_mm applied to channels [2] on x,y dimensions\n"
     ]
    },
    {
     "data": {
      "application/vnd.jupyter.widget-view+json": {
       "model_id": "a7b8d25f1f27472f9656e4e55b6e1a42",
       "version_major": 2,
       "version_minor": 0
      },
      "text/plain": [
       "interactive(children=(IntSlider(value=12, description='z', max=23, style=SliderStyle(handle_color='lightblue')…"
      ]
     },
     "metadata": {},
     "output_type": "display_data"
    },
    {
     "data": {
      "application/vnd.jupyter.widget-view+json": {
       "model_id": "216ef093e3d24fe3ad2bc26874cfef56",
       "version_major": 2,
       "version_minor": 0
      },
      "text/plain": [
       "interactive(children=(IntSlider(value=12, description='z', max=23, style=SliderStyle(handle_color='lightblue')…"
      ]
     },
     "metadata": {},
     "output_type": "display_data"
    },
    {
     "name": "stdout",
     "output_type": "stream",
     "text": [
      "\n",
      "ProstateX-0105\n",
      "Patient: ProstateX-0105 (date: 2012-01-12 00:00:00)\n",
      "\t- Reading: 10.000000-tfl3d PD reftra1.5x1.5t3-30189  (tfl_3d PD ref_tra_1.5x1.5_t3) (unk)\n",
      "\t\t- Skipping!\n",
      "\t- Reading: 3.000000-t2tsesag-67227  (t2_tse_sag) (UNKNOWN)\n",
      "\t\t- Skipping!\n",
      "\t- Reading: 4.000000-t2tsecor-34875  (t2_tse_cor) (UNKNOWN)\n",
      "\t\t- Skipping!\n",
      "\t- Reading: 5.000000-t2tsetra-10025  (t2_tse_tra) (T2)\n",
      "\t\t- Done!\n",
      "\t- Reading: 6.000000-ep2ddifftraDYNDIST-74414  (ep2d_diff_tra_DYNDIST) (b)\n",
      "\t\t- Done!\n",
      "\t- Reading: 7.000000-ep2ddifftraDYNDISTADC-70020  (ep2d_diff_tra_DYNDIST_ADC) (ADC)\n",
      "\t\t- Done!\n",
      "\t- Reading: 8.000000-ep2ddifftraDYNDISTCALCBVAL-56486  (ep2d_diff_tra_DYNDISTCALC_BVAL) (diff)\n",
      "\t\t- Skipping!\n",
      "\t- Reading: 9.000000-t2tsetra-82153  (t2_tse_tra) (T2)\n",
      "\t\t- Done!\n",
      "\t- Reading: ProstateX-0105-Ktrans.mhd (Ktrans) (ktrans)\n",
      "\t\t- Done!\n",
      "\n",
      "\t\t> (Blurrying ADC) Combining 5 images: #### -> Elapsed: 1.41s\n",
      " - Lesion positions and significances:\n",
      "   - 1: [204.4831934  179.41595648   6.99998735], Sig: 2\n",
      "   - 2: [181.08719926 225.09407738  15.0000043 ], Sig: 10\n",
      "   - 3: [187.01699351 232.17008763  20.00000344], Sig: 10\n",
      " - Information: resampling_operation with pre_mask_growth_mm applied to channels [2] on x,y dimensions\n"
     ]
    },
    {
     "name": "stderr",
     "output_type": "stream",
     "text": [
      "C:\\Users\\hugob\\AppData\\Local\\Packages\\PythonSoftwareFoundation.Python.3.11_qbz5n2kfra8p0\\LocalCache\\local-packages\\Python311\\site-packages\\numpy\\core\\fromnumeric.py:3504: RuntimeWarning: Mean of empty slice.\n",
      "  return _methods._mean(a, axis=axis, dtype=dtype,\n",
      "C:\\Users\\hugob\\AppData\\Local\\Packages\\PythonSoftwareFoundation.Python.3.11_qbz5n2kfra8p0\\LocalCache\\local-packages\\Python311\\site-packages\\numpy\\core\\_methods.py:129: RuntimeWarning: invalid value encountered in scalar divide\n",
      "  ret = ret.dtype.type(ret / rcount)\n"
     ]
    },
    {
     "name": "stdout",
     "output_type": "stream",
     "text": [
      " - Error: Lesion mask array is empty: no segmentations were performed\n"
     ]
    },
    {
     "data": {
      "application/vnd.jupyter.widget-view+json": {
       "model_id": "93a87a8014434233b6bf1dc1dea5fc8f",
       "version_major": 2,
       "version_minor": 0
      },
      "text/plain": [
       "interactive(children=(IntSlider(value=12, description='z', max=23, style=SliderStyle(handle_color='lightblue')…"
      ]
     },
     "metadata": {},
     "output_type": "display_data"
    },
    {
     "data": {
      "application/vnd.jupyter.widget-view+json": {
       "model_id": "0b46d729d69447229fad49ed53431b53",
       "version_major": 2,
       "version_minor": 0
      },
      "text/plain": [
       "interactive(children=(IntSlider(value=12, description='z', max=23, style=SliderStyle(handle_color='lightblue')…"
      ]
     },
     "metadata": {},
     "output_type": "display_data"
    },
    {
     "name": "stdout",
     "output_type": "stream",
     "text": [
      "\n",
      "ProstateX-0106\n",
      "Patient: ProstateX-0106 (date: 2012-01-12 00:00:00)\n",
      "\t- Reading: 10.000000-tfl3d PD reftra1.5x1.5t3-82097  (tfl_3d PD ref_tra_1.5x1.5_t3) (unk)\n",
      "\t\t- Skipping!\n",
      "\t- Reading: 4.000000-t2tsesag-25004  (t2_tse_sag) (UNKNOWN)\n",
      "\t\t- Skipping!\n",
      "\t- Reading: 5.000000-t2tsetra-03432  (t2_tse_tra) (T2)\n",
      "\t\t- Done!\n",
      "\t- Reading: 6.000000-t2tsecor-59657  (t2_tse_cor) (UNKNOWN)\n",
      "\t\t- Skipping!\n",
      "\t- Reading: 7.000000-ep2ddifftraDYNDIST-87758  (ep2d_diff_tra_DYNDIST) (b)\n",
      "\t\t- Done!\n",
      "\t- Reading: 8.000000-ep2ddifftraDYNDISTADC-29406  (ep2d_diff_tra_DYNDIST_ADC) (ADC)\n",
      "\t\t- Done!\n",
      "\t- Reading: 9.000000-ep2ddifftraDYNDISTCALCBVAL-96392  (ep2d_diff_tra_DYNDISTCALC_BVAL) (diff)\n",
      "\t\t- Skipping!\n",
      "\t- Reading: ProstateX-0106-Ktrans.mhd (Ktrans) (ktrans)\n",
      "\t\t- Done!\n",
      "\n",
      "\t\t> (Blurrying ADC) Combining 5 images: #### -> Elapsed: 1.33s\n",
      " - Lesion positions and significances:\n",
      "   - 1: [159.01313209 213.24005544  12.00001803], Sig: 10\n",
      "   - 2: [184.78493119 154.30499843   5.00000151], Sig: 3\n",
      " - Information: resampling_operation with pre_mask_growth_mm applied to channels [2] on x,y dimensions\n"
     ]
    },
    {
     "data": {
      "application/vnd.jupyter.widget-view+json": {
       "model_id": "01125b92218e4df1baf42ec305d65046",
       "version_major": 2,
       "version_minor": 0
      },
      "text/plain": [
       "interactive(children=(IntSlider(value=12, description='z', max=23, style=SliderStyle(handle_color='lightblue')…"
      ]
     },
     "metadata": {},
     "output_type": "display_data"
    },
    {
     "data": {
      "application/vnd.jupyter.widget-view+json": {
       "model_id": "a2f00e718e7f4fc3adc4d902e31c7fd1",
       "version_major": 2,
       "version_minor": 0
      },
      "text/plain": [
       "interactive(children=(IntSlider(value=12, description='z', max=23, style=SliderStyle(handle_color='lightblue')…"
      ]
     },
     "metadata": {},
     "output_type": "display_data"
    },
    {
     "name": "stdout",
     "output_type": "stream",
     "text": [
      "\n",
      "ProstateX-0107\n",
      "Patient: ProstateX-0107 (date: 2012-01-12 00:00:00)\n",
      "\t- Reading: 3.000000-t2tsesag-97543  (t2_tse_sag) (UNKNOWN)\n",
      "\t\t- Skipping!\n",
      "\t- Reading: 4.000000-t2tsecor-32687  (t2_tse_cor) (UNKNOWN)\n",
      "\t\t- Skipping!\n",
      "\t- Reading: 5.000000-t2tsetra-75238  (t2_tse_tra) (T2)\n",
      "\t\t- Done!\n",
      "\t- Reading: 6.000000-ep2ddifftraDYNDIST-75731  (ep2d_diff_tra_DYNDIST) (b)\n",
      "\t\t- Done!\n",
      "\t- Reading: 7.000000-ep2ddifftraDYNDISTADC-61258  (ep2d_diff_tra_DYNDIST_ADC) (ADC)\n",
      "\t\t- Done!\n",
      "\t- Reading: 8.000000-ep2ddifftraDYNDISTCALCBVAL-31802  (ep2d_diff_tra_DYNDISTCALC_BVAL) (diff)\n",
      "\t\t- Skipping!\n",
      "\t- Reading: 9.000000-tfl3d PD reftra1.5x1.5t3-77414  (tfl_3d PD ref_tra_1.5x1.5_t3) (unk)\n",
      "\t\t- Skipping!\n",
      "\t- Reading: ProstateX-0107-Ktrans.mhd (Ktrans) (ktrans)\n",
      "\t\t- Done!\n",
      "\n",
      "\t\t> (Blurrying ADC) Combining 5 images: #### -> Elapsed: 1.08s\n",
      " - Lesion positions and significances:\n",
      "   - 1: [168.71160472 183.95708829  13.24999367], Sig: 10\n",
      " - Information: resampling_operation with pre_mask_growth_mm applied to channels [2] on x,y dimensions\n"
     ]
    },
    {
     "data": {
      "application/vnd.jupyter.widget-view+json": {
       "model_id": "738e109b94e64146953236c4805188f4",
       "version_major": 2,
       "version_minor": 0
      },
      "text/plain": [
       "interactive(children=(IntSlider(value=12, description='z', max=23, style=SliderStyle(handle_color='lightblue')…"
      ]
     },
     "metadata": {},
     "output_type": "display_data"
    },
    {
     "data": {
      "application/vnd.jupyter.widget-view+json": {
       "model_id": "0a585ce455df48ec921402f3efccd754",
       "version_major": 2,
       "version_minor": 0
      },
      "text/plain": [
       "interactive(children=(IntSlider(value=12, description='z', max=23, style=SliderStyle(handle_color='lightblue')…"
      ]
     },
     "metadata": {},
     "output_type": "display_data"
    },
    {
     "name": "stdout",
     "output_type": "stream",
     "text": [
      "\n",
      "ProstateX-0108\n",
      "Patient: ProstateX-0108 (date: 2012-01-15 00:00:00)\n",
      "\t- Reading: 3.000000-t2tsesag-95980  (t2_tse_sag) (UNKNOWN)\n",
      "\t\t- Skipping!\n",
      "\t- Reading: 4.000000-t2tsetra-10739  (t2_tse_tra) (T2)\n",
      "\t\t- Done!\n",
      "\t- Reading: 5.000000-t2tsecor-16452  (t2_tse_cor) (UNKNOWN)\n",
      "\t\t- Skipping!\n",
      "\t- Reading: 6.000000-ep2ddifftraDYNDIST-05294  (ep2d_diff_tra_DYNDIST) (b)\n",
      "\t\t- Done!\n",
      "\t- Reading: 7.000000-ep2ddifftraDYNDISTADC-36893  (ep2d_diff_tra_DYNDIST_ADC) (ADC)\n",
      "\t\t- Done!\n",
      "\t- Reading: 8.000000-ep2ddifftraDYNDISTCALCBVAL-25538  (ep2d_diff_tra_DYNDISTCALC_BVAL) (diff)\n",
      "\t\t- Skipping!\n",
      "\t- Reading: 9.000000-tfl3d PD reftra1.5x1.5t3-43474  (tfl_3d PD ref_tra_1.5x1.5_t3) (unk)\n",
      "\t\t- Skipping!\n",
      "\t- Reading: ProstateX-0108-Ktrans.mhd (Ktrans) (ktrans)\n",
      "\t\t- Done!\n",
      "\n",
      "\t\t> (Blurrying ADC) Combining 5 images: #### -> Elapsed: 1.41s\n",
      " - Lesion positions and significances:\n",
      "   - 1: [142.24307966 210.96903949  10.00000834], Sig: 10\n",
      "   - 2: [200.96899987 177.7760175    6.99998905], Sig: 10\n",
      " - Information: resampling_operation with pre_mask_growth_mm applied to channels [2] on x,y dimensions\n"
     ]
    },
    {
     "data": {
      "application/vnd.jupyter.widget-view+json": {
       "model_id": "3e02101c825e473eb245186ed605e351",
       "version_major": 2,
       "version_minor": 0
      },
      "text/plain": [
       "interactive(children=(IntSlider(value=12, description='z', max=23, style=SliderStyle(handle_color='lightblue')…"
      ]
     },
     "metadata": {},
     "output_type": "display_data"
    },
    {
     "data": {
      "application/vnd.jupyter.widget-view+json": {
       "model_id": "04cf2bf580bf4e369e91bed8c72412e3",
       "version_major": 2,
       "version_minor": 0
      },
      "text/plain": [
       "interactive(children=(IntSlider(value=12, description='z', max=23, style=SliderStyle(handle_color='lightblue')…"
      ]
     },
     "metadata": {},
     "output_type": "display_data"
    },
    {
     "name": "stdout",
     "output_type": "stream",
     "text": [
      "\n",
      "ProstateX-0109\n",
      "Patient: ProstateX-0109 (date: 2012-01-15 00:00:00)\n",
      "\t- Reading: 1.000000-t2localizer-90431  (t2_localizer) (UNKNOWN)\n",
      "\t\t- Skipping!\n",
      "\t- Reading: 2.000000-t2loc sag-69857  (t2_loc sag) (UNKNOWN)\n",
      "\t\t- Skipping!\n",
      "\t- Reading: 3.000000-t2tsesag-89039  (t2_tse_sag) (UNKNOWN)\n",
      "\t\t- Skipping!\n",
      "\t- Reading: 4.000000-t2tsetra-06498  (t2_tse_tra) (T2)\n",
      "\t\t- Done!\n",
      "\t- Reading: 5.000000-t2tsecor-70019  (t2_tse_cor) (UNKNOWN)\n",
      "\t\t- Skipping!\n",
      "\t- Reading: 6.000000-ep2ddifftraDYNDIST-67540  (ep2d_diff_tra_DYNDIST) (b)\n",
      "\t\t- Done!\n",
      "\t- Reading: 7.000000-ep2ddifftraDYNDISTADC-09054  (ep2d_diff_tra_DYNDIST_ADC) (ADC)\n",
      "\t\t- Done!\n",
      "\t- Reading: 8.000000-ep2ddifftraDYNDISTCALCBVAL-11169  (ep2d_diff_tra_DYNDISTCALC_BVAL) (diff)\n",
      "\t\t- Skipping!\n",
      "\t- Reading: 9.000000-tfl3d PD reftra1.5x1.5t3-45197  (tfl_3d PD ref_tra_1.5x1.5_t3) (unk)\n",
      "\t\t- Skipping!\n",
      "\t- Reading: ProstateX-0109-Ktrans.mhd (Ktrans) (ktrans)\n",
      "\t\t- Done!\n",
      "\n",
      "\t\t> (Blurrying ADC) Combining 5 images: #### -> Elapsed: 1.28s\n",
      " - Lesion positions and significances:\n",
      "   - 1: [211.91108144 162.68505684   4.99999155], Sig: 10\n",
      "   - 2: [205.46420553 151.27718859   9.92500922], Sig: 10\n",
      " - Information: resampling_operation with pre_mask_growth_mm applied to channels [2] on x,y dimensions\n"
     ]
    },
    {
     "data": {
      "application/vnd.jupyter.widget-view+json": {
       "model_id": "48403ead18ea4f2b8f0d495726790488",
       "version_major": 2,
       "version_minor": 0
      },
      "text/plain": [
       "interactive(children=(IntSlider(value=12, description='z', max=23, style=SliderStyle(handle_color='lightblue')…"
      ]
     },
     "metadata": {},
     "output_type": "display_data"
    },
    {
     "data": {
      "application/vnd.jupyter.widget-view+json": {
       "model_id": "4c5304155cd144cc8f8fe3c6b2d95e24",
       "version_major": 2,
       "version_minor": 0
      },
      "text/plain": [
       "interactive(children=(IntSlider(value=12, description='z', max=23, style=SliderStyle(handle_color='lightblue')…"
      ]
     },
     "metadata": {},
     "output_type": "display_data"
    },
    {
     "name": "stdout",
     "output_type": "stream",
     "text": [
      "\n",
      "ProstateX-0110\n",
      "Patient: ProstateX-0110 (date: 2012-01-15 00:00:00)\n",
      "\t- Reading: 3.000000-t2tsesag-01166  (t2_tse_sag) (UNKNOWN)\n",
      "\t\t- Skipping!\n",
      "\t- Reading: 4.000000-t2tsetra-21466  (t2_tse_tra) (T2)\n",
      "\t\t- Done!\n",
      "\t- Reading: 5.000000-t2tsecor-70097  (t2_tse_cor) (UNKNOWN)\n",
      "\t\t- Skipping!\n",
      "\t- Reading: 6.000000-ep2ddifftraDYNDIST-12399  (ep2d_diff_tra_DYNDIST) (b)\n",
      "\t\t- Done!\n",
      "\t- Reading: 7.000000-ep2ddifftraDYNDISTADC-29724  (ep2d_diff_tra_DYNDIST_ADC) (ADC)\n",
      "\t\t- Done!\n",
      "\t- Reading: 8.000000-ep2ddifftraDYNDISTCALCBVAL-92170  (ep2d_diff_tra_DYNDISTCALC_BVAL) (diff)\n",
      "\t\t- Skipping!\n",
      "\t- Reading: 9.000000-tfl3d PD reftra1.5x1.5t3-68464  (tfl_3d PD ref_tra_1.5x1.5_t3) (unk)\n",
      "\t\t- Skipping!\n",
      "\t- Reading: ProstateX-0110-Ktrans.mhd (Ktrans) (ktrans)\n",
      "\t\t- Done!\n",
      "\n",
      "\t\t> (Blurrying ADC) Combining 5 images: #### -> Elapsed: 1.37s\n",
      " - Lesion positions and significances:\n",
      "   - 1: [201.12168885 149.11080336   3.99999691], Sig: 1\n",
      "   - 2: [151.27908898 177.09200032   8.00001485], Sig: 10\n",
      " - Information: resampling_operation with pre_mask_growth_mm applied to channels [2] on x,y dimensions\n"
     ]
    },
    {
     "data": {
      "application/vnd.jupyter.widget-view+json": {
       "model_id": "f83bf15765824d9ba209af83938c7047",
       "version_major": 2,
       "version_minor": 0
      },
      "text/plain": [
       "interactive(children=(IntSlider(value=12, description='z', max=23, style=SliderStyle(handle_color='lightblue')…"
      ]
     },
     "metadata": {},
     "output_type": "display_data"
    },
    {
     "data": {
      "application/vnd.jupyter.widget-view+json": {
       "model_id": "cd9caac38d2d41cdaccc4efcf6881281",
       "version_major": 2,
       "version_minor": 0
      },
      "text/plain": [
       "interactive(children=(IntSlider(value=12, description='z', max=23, style=SliderStyle(handle_color='lightblue')…"
      ]
     },
     "metadata": {},
     "output_type": "display_data"
    },
    {
     "name": "stdout",
     "output_type": "stream",
     "text": [
      "\n",
      "ProstateX-0111\n",
      "Patient: ProstateX-0111 (date: 2012-01-15 00:00:00)\n",
      "\t- Reading: 3.000000-t2tsesag-87793  (t2_tse_sag) (UNKNOWN)\n",
      "\t\t- Skipping!\n",
      "\t- Reading: 4.000000-t2tsetra-36831  (t2_tse_tra) (T2)\n",
      "\t\t- Done!\n",
      "\t- Reading: 5.000000-t2tsecor-73055  (t2_tse_cor) (UNKNOWN)\n",
      "\t\t- Skipping!\n",
      "\t- Reading: 6.000000-ep2ddifftraDYNDIST-13799  (ep2d_diff_tra_DYNDIST) (b)\n",
      "\t\t- Done!\n",
      "\t- Reading: 7.000000-ep2ddifftraDYNDISTADC-16141  (ep2d_diff_tra_DYNDIST_ADC) (ADC)\n",
      "\t\t- Done!\n",
      "\t- Reading: 8.000000-ep2ddifftraDYNDISTCALCBVAL-96584  (ep2d_diff_tra_DYNDISTCALC_BVAL) (diff)\n",
      "\t\t- Skipping!\n",
      "\t- Reading: 9.000000-tfl3d PD reftra1.5x1.5t3-72829  (tfl_3d PD ref_tra_1.5x1.5_t3) (unk)\n",
      "\t\t- Skipping!\n",
      "\t- Reading: ProstateX-0111-Ktrans.mhd (Ktrans) (ktrans)\n",
      "\t\t- Done!\n",
      "\n",
      "\t\t> (Blurrying ADC) Combining 5 images: #### -> Elapsed: 1.36s\n",
      " - Lesion positions and significances:\n",
      "   - 1: [173.12732125 144.97170767   9.48594442], Sig: 2\n",
      " - Information: resampling_operation with pre_mask_growth_mm applied to channels [2] on x,y dimensions\n"
     ]
    },
    {
     "data": {
      "application/vnd.jupyter.widget-view+json": {
       "model_id": "c73bacfd4c6c48328b797b40e973f1ae",
       "version_major": 2,
       "version_minor": 0
      },
      "text/plain": [
       "interactive(children=(IntSlider(value=12, description='z', max=23, style=SliderStyle(handle_color='lightblue')…"
      ]
     },
     "metadata": {},
     "output_type": "display_data"
    },
    {
     "data": {
      "application/vnd.jupyter.widget-view+json": {
       "model_id": "925a80e1d0564ced92a2c12eb63f8603",
       "version_major": 2,
       "version_minor": 0
      },
      "text/plain": [
       "interactive(children=(IntSlider(value=12, description='z', max=23, style=SliderStyle(handle_color='lightblue')…"
      ]
     },
     "metadata": {},
     "output_type": "display_data"
    },
    {
     "name": "stdout",
     "output_type": "stream",
     "text": [
      "\n",
      "ProstateX-0112\n",
      "Patient: ProstateX-0112 (date: 2011-07-08 00:00:00)\n",
      "\t- Reading: 1.000000-t2localizer-57650  (t2_localizer) (UNKNOWN)\n",
      "\t\t- Skipping!\n",
      "\t- Reading: 10.000000-tfl3d PD reftra1.5x1.5t3-46128  (tfl_3d PD ref_tra_1.5x1.5_t3) (unk)\n",
      "\t\t- Skipping!\n",
      "\t- Reading: 2.000000-t2loc sag-59641  (t2_loc sag) (UNKNOWN)\n",
      "\t\t- Skipping!\n",
      "\t- Reading: 3.000000-t2tsesag-01322  (t2_tse_sag) (UNKNOWN)\n",
      "\t\t- Skipping!\n",
      "\t- Reading: 4.000000-t2tsetra-08507  (t2_tse_tra) (T2)\n",
      "\t\t- Done!\n",
      "\t- Reading: 5.000000-t2tsecor-37374  (t2_tse_cor) (UNKNOWN)\n",
      "\t\t- Skipping!\n",
      "\t- Reading: 6.000000-ep2ddifftraDYNDIST-25934  (ep2d_diff_tra_DYNDIST) (b)\n",
      "\t\t- Done!\n",
      "\t- Reading: 7.000000-ep2ddifftraDYNDISTADC-54898  (ep2d_diff_tra_DYNDIST_ADC) (ADC)\n",
      "\t\t- Done!\n",
      "\t- Reading: 8.000000-ep2ddifftraDYNDISTCALCBVAL-31239  (ep2d_diff_tra_DYNDISTCALC_BVAL) (diff)\n",
      "\t\t- Skipping!\n",
      "\t- Reading: 9.000000-t2tsetra-27393  (t2_tse_tra) (T2)\n",
      "\t\t- Done!\n",
      "\t- Reading: ProstateX-0112-Ktrans.mhd (Ktrans) (ktrans)\n",
      "\t\t- Done!\n",
      "\n",
      "\t\t> (Blurrying ADC) Combining 5 images: #### -> Elapsed: 1.41s\n",
      " - Lesion positions and significances:\n",
      "   - 1: [217.06848525 216.79565814   4.14369545], Sig: 10\n",
      " - Information: resampling_operation with pre_mask_growth_mm applied to channels [2] on x,y dimensions\n"
     ]
    },
    {
     "data": {
      "application/vnd.jupyter.widget-view+json": {
       "model_id": "6b99e2f39b214f1dbbcce183da571ed7",
       "version_major": 2,
       "version_minor": 0
      },
      "text/plain": [
       "interactive(children=(IntSlider(value=12, description='z', max=23, style=SliderStyle(handle_color='lightblue')…"
      ]
     },
     "metadata": {},
     "output_type": "display_data"
    },
    {
     "data": {
      "application/vnd.jupyter.widget-view+json": {
       "model_id": "de4b93ce8a9c405fb37e8bc6f960a4f4",
       "version_major": 2,
       "version_minor": 0
      },
      "text/plain": [
       "interactive(children=(IntSlider(value=12, description='z', max=23, style=SliderStyle(handle_color='lightblue')…"
      ]
     },
     "metadata": {},
     "output_type": "display_data"
    },
    {
     "name": "stdout",
     "output_type": "stream",
     "text": [
      "\n",
      "ProstateX-0113\n",
      "Patient: ProstateX-0113 (date: 2011-08-09 00:00:00)\n",
      "\t- Reading: 10.000000-ep2ddifftraDYNDISTADC-65959  (ep2d_diff_tra_DYNDIST_ADC) (ADC)\n",
      "\t\t- Done!\n",
      "\t- Reading: 11.000000-ep2ddifftraDYNDISTCALCBVAL-05543  (ep2d_diff_tra_DYNDISTCALC_BVAL) (diff)\n",
      "\t\t- Skipping!\n",
      "\t- Reading: 12.000000-tfl3d PD reftra1.5x1.5t3-42087  (tfl_3d PD ref_tra_1.5x1.5_t3) (unk)\n",
      "\t\t- Skipping!\n",
      "\t- Reading: 5.000000-t2tsesag-57099  (t2_tse_sag) (UNKNOWN)\n",
      "\t\t- Skipping!\n",
      "\t- Reading: 6.000000-t2tsetra-56003  (t2_tse_tra) (T2)\n",
      "\t\t- Done!\n",
      "\t- Reading: 7.000000-t2tsecor-53381  (t2_tse_cor) (UNKNOWN)\n",
      "\t\t- Skipping!\n",
      "\t- Reading: 8.000000-t2tsetra-98073  (t2_tse_tra) (T2)\n",
      "\t\t- Done!\n",
      "\t- Reading: 9.000000-ep2ddifftraDYNDIST-97759  (ep2d_diff_tra_DYNDIST) (b)\n",
      "\t\t- Done!\n",
      "\t- Reading: ProstateX-0113-Ktrans.mhd (Ktrans) (ktrans)\n",
      "\t\t- Done!\n",
      "\n",
      "\t\t> (Blurrying ADC) Combining 5 images: #### -> Elapsed: 1.33s\n",
      " - Lesion positions and significances:\n",
      "   - 1: [224.38110161 207.12088849   9.3333238 ], Sig: 10\n",
      " - Information: resampling_operation with pre_mask_growth_mm applied to channels [2] on x,y dimensions\n"
     ]
    },
    {
     "data": {
      "application/vnd.jupyter.widget-view+json": {
       "model_id": "05602f08134b480f86cb879eb1b79c66",
       "version_major": 2,
       "version_minor": 0
      },
      "text/plain": [
       "interactive(children=(IntSlider(value=12, description='z', max=23, style=SliderStyle(handle_color='lightblue')…"
      ]
     },
     "metadata": {},
     "output_type": "display_data"
    },
    {
     "data": {
      "application/vnd.jupyter.widget-view+json": {
       "model_id": "cbb64a52bb2c4272976840b57d87ec3d",
       "version_major": 2,
       "version_minor": 0
      },
      "text/plain": [
       "interactive(children=(IntSlider(value=12, description='z', max=23, style=SliderStyle(handle_color='lightblue')…"
      ]
     },
     "metadata": {},
     "output_type": "display_data"
    },
    {
     "name": "stdout",
     "output_type": "stream",
     "text": [
      "\n",
      "ProstateX-0114\n",
      "Patient: ProstateX-0114 (date: 2012-01-16 00:00:00)\n",
      "\t- Reading: 10.000000-t2tsesag-74928  (t2_tse_sag) (UNKNOWN)\n",
      "\t\t- Skipping!\n",
      "\t- Reading: 11.000000-tfl3d PD reftra1.5x1.5t3-27744  (tfl_3d PD ref_tra_1.5x1.5_t3) (unk)\n",
      "\t\t- Skipping!\n",
      "\t- Reading: 3.000000-t2tsesag-23907  (t2_tse_sag) (UNKNOWN)\n",
      "\t\t- Skipping!\n",
      "\t- Reading: 4.000000-t2tsetra-64960  (t2_tse_tra) (T2)\n",
      "\t\t- Done!\n",
      "\t- Reading: 5.000000-t2tsecor-31183  (t2_tse_cor) (UNKNOWN)\n",
      "\t\t- Skipping!\n",
      "\t- Reading: 6.000000-ep2ddifftraDYNDISTMIX-07651  (ep2d_diff_tra_DYNDIST_MIX) (b)\n",
      "\t\t- Done!\n",
      "\t- Reading: 7.000000-ep2ddifftraDYNDISTMIXADC-46303  (ep2d_diff_tra_DYNDIST_MIX_ADC) (ADC)\n",
      "\t\t- Done!\n",
      "\t- Reading: 8.000000-ep2ddifftraDYNDISTMIXCALCBVAL-77366  (ep2d_diff_tra_DYNDIST_MIXCALC_BVAL) (diff)\n",
      "\t\t- Skipping!\n",
      "\t- Reading: 9.000000-t2tsetra-87268  (t2_tse_tra) (T2)\n",
      "\t\t- Done!\n",
      "\t- Reading: ProstateX-0114-Ktrans.mhd (Ktrans) (ktrans)\n",
      "\t\t- Done!\n",
      "\n",
      "\t\t> (Blurrying ADC) Combining 5 images: #### -> Elapsed: 1.28s\n",
      " - Lesion positions and significances:\n",
      "   - 1: [195.80200451 207.55757872  10.30689619], Sig: 3\n",
      "   - 2: [160.68679237 222.77447611   5.3464353 ], Sig: 10\n",
      " - Information: resampling_operation with pre_mask_growth_mm applied to channels [2] on x,y dimensions\n"
     ]
    },
    {
     "data": {
      "application/vnd.jupyter.widget-view+json": {
       "model_id": "5a8fcd6dcd9543dd987810c5d854d282",
       "version_major": 2,
       "version_minor": 0
      },
      "text/plain": [
       "interactive(children=(IntSlider(value=12, description='z', max=23, style=SliderStyle(handle_color='lightblue')…"
      ]
     },
     "metadata": {},
     "output_type": "display_data"
    },
    {
     "data": {
      "application/vnd.jupyter.widget-view+json": {
       "model_id": "67c28e0b4a994477bb75661826ba414e",
       "version_major": 2,
       "version_minor": 0
      },
      "text/plain": [
       "interactive(children=(IntSlider(value=12, description='z', max=23, style=SliderStyle(handle_color='lightblue')…"
      ]
     },
     "metadata": {},
     "output_type": "display_data"
    },
    {
     "name": "stdout",
     "output_type": "stream",
     "text": [
      "\n",
      "ProstateX-0115\n",
      "Patient: ProstateX-0115 (date: 2012-01-18 00:00:00)\n",
      "\t- Reading: 1.000000-t2localizer-58007  (t2_localizer) (UNKNOWN)\n",
      "\t\t- Skipping!\n",
      "\t- Reading: 2.000000-t2loc sag-07652  (t2_loc sag) (UNKNOWN)\n",
      "\t\t- Skipping!\n",
      "\t- Reading: 3.000000-t2tsesag-28219  (t2_tse_sag) (UNKNOWN)\n",
      "\t\t- Skipping!\n",
      "\t- Reading: 4.000000-t2tsetra-36588  (t2_tse_tra) (T2)\n",
      "\t\t- Done!\n",
      "\t- Reading: 5.000000-t2tsecor-07923  (t2_tse_cor) (UNKNOWN)\n",
      "\t\t- Skipping!\n",
      "\t- Reading: 6.000000-ep2ddifftraDYNDISTMIX-08741  (ep2d_diff_tra_DYNDIST_MIX) (b)\n",
      "\t\t- Done!\n",
      "\t- Reading: 7.000000-ep2ddifftraDYNDISTMIXADC-22432  (ep2d_diff_tra_DYNDIST_MIX_ADC) (ADC)\n",
      "\t\t- Done!\n",
      "\t- Reading: 8.000000-ep2ddifftraDYNDISTMIXCALCBVAL-29918  (ep2d_diff_tra_DYNDIST_MIXCALC_BVAL) (diff)\n",
      "\t\t- Skipping!\n",
      "\t- Reading: 9.000000-tfl3d PD reftra1.5x1.5t3-88166  (tfl_3d PD ref_tra_1.5x1.5_t3) (unk)\n",
      "\t\t- Skipping!\n",
      "\t- Reading: ProstateX-0115-Ktrans.mhd (Ktrans) (ktrans)\n",
      "\t\t- Done!\n",
      "\n",
      "\t\t> (Blurrying ADC) Combining 5 images: #### -> Elapsed: 1.33s\n",
      " - Lesion positions and significances:\n",
      "   - 1: [176.12678528 184.46676931  12.37217157], Sig: 2\n",
      " - Information: resampling_operation with pre_mask_growth_mm applied to channels [2] on x,y dimensions\n"
     ]
    },
    {
     "data": {
      "application/vnd.jupyter.widget-view+json": {
       "model_id": "b10d2df4ce6845d389ca39f012790daa",
       "version_major": 2,
       "version_minor": 0
      },
      "text/plain": [
       "interactive(children=(IntSlider(value=12, description='z', max=23, style=SliderStyle(handle_color='lightblue')…"
      ]
     },
     "metadata": {},
     "output_type": "display_data"
    },
    {
     "data": {
      "application/vnd.jupyter.widget-view+json": {
       "model_id": "b6466d72bdac44bb9a388470549393cd",
       "version_major": 2,
       "version_minor": 0
      },
      "text/plain": [
       "interactive(children=(IntSlider(value=12, description='z', max=23, style=SliderStyle(handle_color='lightblue')…"
      ]
     },
     "metadata": {},
     "output_type": "display_data"
    },
    {
     "name": "stdout",
     "output_type": "stream",
     "text": [
      "\n",
      "ProstateX-0116\n",
      "Patient: ProstateX-0116 (date: 2012-01-18 00:00:00)\n",
      "\t- Reading: 11.000000-tfl3d PD reftra1.5x1.5t3-84588  (tfl_3d PD ref_tra_1.5x1.5_t3) (unk)\n",
      "\t\t- Skipping!\n",
      "\t- Reading: 3.000000-t2tsesag-48748  (t2_tse_sag) (UNKNOWN)\n",
      "\t\t- Skipping!\n",
      "\t- Reading: 4.000000-t2tsetra-81051  (t2_tse_tra) (T2)\n",
      "\t\t- Done!\n",
      "\t- Reading: 5.000000-t2tsecor-11358  (t2_tse_cor) (UNKNOWN)\n",
      "\t\t- Skipping!\n",
      "\t- Reading: 6.000000-ep2ddifftraDYNDIST-98521  (ep2d_diff_tra_DYNDIST) (b)\n",
      "\t\t- Done!\n",
      "\t- Reading: 7.000000-ep2ddifftraDYNDISTADC-19828  (ep2d_diff_tra_DYNDIST_ADC) (ADC)\n",
      "\t\t- Done!\n",
      "\t- Reading: 8.000000-ep2ddifftraDYNDISTCALCBVAL-92740  (ep2d_diff_tra_DYNDISTCALC_BVAL) (diff)\n",
      "\t\t- Skipping!\n",
      "\t- Reading: 9.000000-t2tsetra-41482  (t2_tse_tra) (T2)\n",
      "\t\t- Done!\n",
      "\t- Reading: ProstateX-0116-Ktrans.mhd (Ktrans) (ktrans)\n",
      "\t\t- Done!\n",
      "\n",
      "\t\t> (Blurrying ADC) Combining 5 images: #### -> Elapsed: 0.90s\n",
      " - Lesion positions and significances:\n",
      "   - 1: [138.50568539 140.34999558   8.99999578], Sig: 1\n",
      " - Information: resampling_operation with pre_mask_growth_mm applied to channels [2] on x,y dimensions\n"
     ]
    },
    {
     "data": {
      "application/vnd.jupyter.widget-view+json": {
       "model_id": "d6be9b165a3043138c66f6565b3caaa9",
       "version_major": 2,
       "version_minor": 0
      },
      "text/plain": [
       "interactive(children=(IntSlider(value=12, description='z', max=23, style=SliderStyle(handle_color='lightblue')…"
      ]
     },
     "metadata": {},
     "output_type": "display_data"
    },
    {
     "data": {
      "application/vnd.jupyter.widget-view+json": {
       "model_id": "a64ef04c47c84de9abd995bd69375158",
       "version_major": 2,
       "version_minor": 0
      },
      "text/plain": [
       "interactive(children=(IntSlider(value=12, description='z', max=23, style=SliderStyle(handle_color='lightblue')…"
      ]
     },
     "metadata": {},
     "output_type": "display_data"
    },
    {
     "name": "stdout",
     "output_type": "stream",
     "text": [
      "\n",
      "ProstateX-0117\n",
      "Patient: ProstateX-0117 (date: 2012-01-19 00:00:00)\n",
      "\t- Reading: 1.000000-t2localizer-07901  (t2_localizer) (UNKNOWN)\n",
      "\t\t- Skipping!\n",
      "\t- Reading: 2.000000-t2loc sag-37907  (t2_loc sag) (UNKNOWN)\n",
      "\t\t- Skipping!\n",
      "\t- Reading: 3.000000-t2tsesag-57645  (t2_tse_sag) (UNKNOWN)\n",
      "\t\t- Skipping!\n",
      "\t- Reading: 4.000000-t2tsetra-52963  (t2_tse_tra) (T2)\n",
      "\t\t- Done!\n",
      "\t- Reading: 5.000000-t2tsecor-77542  (t2_tse_cor) (UNKNOWN)\n",
      "\t\t- Skipping!\n",
      "\t- Reading: 6.000000-ep2ddifftraDYNDIST-65470  (ep2d_diff_tra_DYNDIST) (b)\n",
      "\t\t- Done!\n",
      "\t- Reading: 7.000000-ep2ddifftraDYNDISTADC-85131  (ep2d_diff_tra_DYNDIST_ADC) (ADC)\n",
      "\t\t- Done!\n",
      "\t- Reading: 8.000000-ep2ddifftraDYNDISTCALCBVAL-22625  (ep2d_diff_tra_DYNDISTCALC_BVAL) (diff)\n",
      "\t\t- Skipping!\n",
      "\t- Reading: 9.000000-tfl3d PD reftra1.5x1.5t3-78133  (tfl_3d PD ref_tra_1.5x1.5_t3) (unk)\n",
      "\t\t- Skipping!\n",
      "\t- Reading: ProstateX-0117-Ktrans.mhd (Ktrans) (ktrans)\n",
      "\t\t- Done!\n",
      "\n",
      "\t\t> (Blurrying ADC) Combining 5 images: #### -> Elapsed: 1.38s\n",
      " - Lesion positions and significances:\n",
      "   - 1: [216.55993843 175.613205    13.91665379], Sig: 2\n",
      "   - 2: [214.89993858 208.81325944  11.00000318], Sig: 10\n",
      " - Information: resampling_operation with pre_mask_growth_mm applied to channels [2] on x,y dimensions\n"
     ]
    },
    {
     "data": {
      "application/vnd.jupyter.widget-view+json": {
       "model_id": "5f3bca0de2334c6c905fee1572224197",
       "version_major": 2,
       "version_minor": 0
      },
      "text/plain": [
       "interactive(children=(IntSlider(value=12, description='z', max=23, style=SliderStyle(handle_color='lightblue')…"
      ]
     },
     "metadata": {},
     "output_type": "display_data"
    },
    {
     "data": {
      "application/vnd.jupyter.widget-view+json": {
       "model_id": "89b1b5ea924f4386a48fd539e0b4d7b2",
       "version_major": 2,
       "version_minor": 0
      },
      "text/plain": [
       "interactive(children=(IntSlider(value=12, description='z', max=23, style=SliderStyle(handle_color='lightblue')…"
      ]
     },
     "metadata": {},
     "output_type": "display_data"
    },
    {
     "name": "stdout",
     "output_type": "stream",
     "text": [
      "\n",
      "ProstateX-0118\n",
      "Patient: ProstateX-0118 (date: 2012-01-19 00:00:00)\n",
      "\t- Reading: 1.000000-t2localizer-15521  (t2_localizer) (UNKNOWN)\n",
      "\t\t- Skipping!\n",
      "\t- Reading: 2.000000-t2loc sag-82949  (t2_loc sag) (UNKNOWN)\n",
      "\t\t- Skipping!\n",
      "\t- Reading: 3.000000-t2tsesag-17530  (t2_tse_sag) (UNKNOWN)\n",
      "\t\t- Skipping!\n",
      "\t- Reading: 4.000000-t2tsetra-66189  (t2_tse_tra) (T2)\n",
      "\t\t- Done!\n",
      "\t- Reading: 5.000000-t2tsecor-85632  (t2_tse_cor) (UNKNOWN)\n",
      "\t\t- Skipping!\n",
      "\t- Reading: 6.000000-ep2ddifftraDYNDIST-34851  (ep2d_diff_tra_DYNDIST) (b)\n",
      "\t\t- Done!\n",
      "\t- Reading: 7.000000-ep2ddifftraDYNDISTADC-45834  (ep2d_diff_tra_DYNDIST_ADC) (ADC)\n",
      "\t\t- Done!\n",
      "\t- Reading: 8.000000-ep2ddifftraDYNDISTCALCBVAL-08163  (ep2d_diff_tra_DYNDISTCALC_BVAL) (diff)\n",
      "\t\t- Skipping!\n",
      "\t- Reading: 9.000000-tfl3d PD reftra1.5x1.5t3-79560  (tfl_3d PD ref_tra_1.5x1.5_t3) (unk)\n",
      "\t\t- Skipping!\n",
      "\t- Reading: ProstateX-0118-Ktrans.mhd (Ktrans) (ktrans)\n",
      "\t\t- Done!\n",
      "\n",
      "\t\t> (Blurrying ADC) Combining 5 images: #### -> Elapsed: 1.33s\n",
      " - Lesion positions and significances:\n",
      "   - 1: [193.04010391 184.14985716   8.99999791], Sig: 2\n",
      "   - 2: [208.09700345 221.34205176   9.00000208], Sig: 10\n",
      " - Information: resampling_operation with pre_mask_growth_mm applied to channels [2] on x,y dimensions\n"
     ]
    },
    {
     "data": {
      "application/vnd.jupyter.widget-view+json": {
       "model_id": "7005402b4eb24413b3301d853caef211",
       "version_major": 2,
       "version_minor": 0
      },
      "text/plain": [
       "interactive(children=(IntSlider(value=12, description='z', max=23, style=SliderStyle(handle_color='lightblue')…"
      ]
     },
     "metadata": {},
     "output_type": "display_data"
    },
    {
     "data": {
      "application/vnd.jupyter.widget-view+json": {
       "model_id": "fd6dc96473a1483b98140d75b6e87a27",
       "version_major": 2,
       "version_minor": 0
      },
      "text/plain": [
       "interactive(children=(IntSlider(value=12, description='z', max=23, style=SliderStyle(handle_color='lightblue')…"
      ]
     },
     "metadata": {},
     "output_type": "display_data"
    },
    {
     "name": "stdout",
     "output_type": "stream",
     "text": [
      "\n",
      "ProstateX-0119\n",
      "Patient: ProstateX-0119 (date: 2012-01-22 00:00:00)\n",
      "\t- Reading: 1.000000-t2localizer-48037  (t2_localizer) (UNKNOWN)\n",
      "\t\t- Skipping!\n",
      "\t- Reading: 2.000000-t2loc sag-23265  (t2_loc sag) (UNKNOWN)\n",
      "\t\t- Skipping!\n",
      "\t- Reading: 3.000000-t2tsesag-31190  (t2_tse_sag) (UNKNOWN)\n",
      "\t\t- Skipping!\n",
      "\t- Reading: 4.000000-t2tsecor-07432  (t2_tse_cor) (UNKNOWN)\n",
      "\t\t- Skipping!\n",
      "\t- Reading: 5.000000-t2tsetra-31393  (t2_tse_tra) (T2)\n",
      "\t\t- Done!\n",
      "\t- Reading: 6.000000-ep2ddifftraDYNDIST-14747  (ep2d_diff_tra_DYNDIST) (b)\n",
      "\t\t- Done!\n",
      "\t- Reading: 7.000000-ep2ddifftraDYNDISTADC-98771  (ep2d_diff_tra_DYNDIST_ADC) (ADC)\n",
      "\t\t- Done!\n",
      "\t- Reading: 8.000000-ep2ddifftraDYNDISTCALCBVAL-60022  (ep2d_diff_tra_DYNDISTCALC_BVAL) (diff)\n",
      "\t\t- Skipping!\n",
      "\t- Reading: 9.000000-tfl3d PD reftra1.5x1.5t3-89202  (tfl_3d PD ref_tra_1.5x1.5_t3) (unk)\n",
      "\t\t- Skipping!\n",
      "\t- Reading: ProstateX-0119-Ktrans.mhd (Ktrans) (ktrans)\n",
      "\t\t- Done!\n",
      "\n",
      "\t\t> (Blurrying ADC) Combining 5 images: #### -> Elapsed: 1.43s\n",
      " - Lesion positions and significances:\n",
      "   - 1: [218.5999701  196.21509504   6.00004045], Sig: 2\n",
      " - Information: resampling_operation with pre_mask_growth_mm applied to channels [2] on x,y dimensions\n"
     ]
    },
    {
     "data": {
      "application/vnd.jupyter.widget-view+json": {
       "model_id": "bfa51259e3734824ae4a5e6163f403af",
       "version_major": 2,
       "version_minor": 0
      },
      "text/plain": [
       "interactive(children=(IntSlider(value=12, description='z', max=23, style=SliderStyle(handle_color='lightblue')…"
      ]
     },
     "metadata": {},
     "output_type": "display_data"
    },
    {
     "data": {
      "application/vnd.jupyter.widget-view+json": {
       "model_id": "9c4a3399a3ee48bcacb544f78b036414",
       "version_major": 2,
       "version_minor": 0
      },
      "text/plain": [
       "interactive(children=(IntSlider(value=12, description='z', max=23, style=SliderStyle(handle_color='lightblue')…"
      ]
     },
     "metadata": {},
     "output_type": "display_data"
    },
    {
     "name": "stdout",
     "output_type": "stream",
     "text": [
      "\n",
      "ProstateX-0120\n",
      "Patient: ProstateX-0120 (date: 2012-01-22 00:00:00)\n",
      "\t- Reading: 1.000000-t2localizer-83918  (t2_localizer) (UNKNOWN)\n",
      "\t\t- Skipping!\n",
      "\t- Reading: 2.000000-t2loc sag-67758  (t2_loc sag) (UNKNOWN)\n",
      "\t\t- Skipping!\n",
      "\t- Reading: 3.000000-t2tsesag-91305  (t2_tse_sag) (UNKNOWN)\n",
      "\t\t- Skipping!\n",
      "\t- Reading: 4.000000-t2tsecor-71695  (t2_tse_cor) (UNKNOWN)\n",
      "\t\t- Skipping!\n",
      "\t- Reading: 5.000000-t2tsetra-02055  (t2_tse_tra) (T2)\n",
      "\t\t- Done!\n",
      "\t- Reading: 6.000000-ep2ddifftraDYNDIST-10462  (ep2d_diff_tra_DYNDIST) (b)\n",
      "\t\t- Done!\n",
      "\t- Reading: 7.000000-ep2ddifftraDYNDISTADC-72126  (ep2d_diff_tra_DYNDIST_ADC) (ADC)\n",
      "\t\t- Done!\n",
      "\t- Reading: 8.000000-ep2ddifftraDYNDISTCALCBVAL-17283  (ep2d_diff_tra_DYNDISTCALC_BVAL) (diff)\n",
      "\t\t- Skipping!\n",
      "\t- Reading: 9.000000-tfl3d PD reftra1.5x1.5t3-65180  (tfl_3d PD ref_tra_1.5x1.5_t3) (unk)\n",
      "\t\t- Skipping!\n",
      "\t- Reading: ProstateX-0120-Ktrans.mhd (Ktrans) (ktrans)\n",
      "\t\t- Done!\n",
      "\n",
      "\t\t> (Blurrying ADC) Combining 5 images: #### -> Elapsed: 1.70s\n",
      " - Lesion positions and significances:\n",
      "   - 1: [199.38989306 182.244924     3.99998889], Sig: 10\n",
      "   - 2: [209.91999291 250.31318818  13.00000119], Sig: 10\n",
      " - Information: resampling_operation with pre_mask_growth_mm applied to channels [2] on x,y dimensions\n"
     ]
    },
    {
     "data": {
      "application/vnd.jupyter.widget-view+json": {
       "model_id": "07cc72d8c1fc495bbe86d46c30cacf57",
       "version_major": 2,
       "version_minor": 0
      },
      "text/plain": [
       "interactive(children=(IntSlider(value=12, description='z', max=23, style=SliderStyle(handle_color='lightblue')…"
      ]
     },
     "metadata": {},
     "output_type": "display_data"
    },
    {
     "data": {
      "application/vnd.jupyter.widget-view+json": {
       "model_id": "13313178d3614e1d89fab50efa084a02",
       "version_major": 2,
       "version_minor": 0
      },
      "text/plain": [
       "interactive(children=(IntSlider(value=12, description='z', max=23, style=SliderStyle(handle_color='lightblue')…"
      ]
     },
     "metadata": {},
     "output_type": "display_data"
    },
    {
     "name": "stdout",
     "output_type": "stream",
     "text": [
      "\n",
      "ProstateX-0121\n",
      "Patient: ProstateX-0121 (date: 2012-01-25 00:00:00)\n",
      "\t- Reading: 3.000000-t2tsesag-45042  (t2_tse_sag) (UNKNOWN)\n",
      "\t\t- Skipping!\n",
      "\t- Reading: 4.000000-t2tsetra-88643  (t2_tse_tra) (T2)\n",
      "\t\t- Done!\n",
      "\t- Reading: 5.000000-t2tsecor-71293  (t2_tse_cor) (UNKNOWN)\n",
      "\t\t- Skipping!\n",
      "\t- Reading: 6.000000-ep2ddifftraDYNDIST-92186  (ep2d_diff_tra_DYNDIST) (b)\n",
      "\t\t- Done!\n",
      "\t- Reading: 7.000000-ep2ddifftraDYNDISTADC-34681  (ep2d_diff_tra_DYNDIST_ADC) (ADC)\n",
      "\t\t- Done!\n",
      "\t- Reading: 8.000000-ep2ddifftraDYNDISTCALCBVAL-95153  (ep2d_diff_tra_DYNDISTCALC_BVAL) (diff)\n",
      "\t\t- Skipping!\n",
      "\t- Reading: 9.000000-tfl3d PD reftra1.5x1.5t3-12999  (tfl_3d PD ref_tra_1.5x1.5_t3) (unk)\n",
      "\t\t- Skipping!\n",
      "\t- Reading: ProstateX-0121-Ktrans.mhd (Ktrans) (ktrans)\n",
      "\t\t- Done!\n",
      "\n",
      "\t\t> (Blurrying ADC) Combining 5 images: #### -> Elapsed: 1.39s\n",
      " - Lesion positions and significances:\n",
      "   - 1: [173.21137166 165.5050091    8.17049493], Sig: 1\n",
      "   - 2: [221.5399458  203.27995857   1.99999772], Sig: 2\n",
      " - Information: resampling_operation with pre_mask_growth_mm applied to channels [2] on x,y dimensions\n"
     ]
    },
    {
     "data": {
      "application/vnd.jupyter.widget-view+json": {
       "model_id": "5734e7dffdd44ef793e0179c0ceceb92",
       "version_major": 2,
       "version_minor": 0
      },
      "text/plain": [
       "interactive(children=(IntSlider(value=12, description='z', max=23, style=SliderStyle(handle_color='lightblue')…"
      ]
     },
     "metadata": {},
     "output_type": "display_data"
    },
    {
     "data": {
      "application/vnd.jupyter.widget-view+json": {
       "model_id": "7054e09099e94e699707816e31b27010",
       "version_major": 2,
       "version_minor": 0
      },
      "text/plain": [
       "interactive(children=(IntSlider(value=12, description='z', max=23, style=SliderStyle(handle_color='lightblue')…"
      ]
     },
     "metadata": {},
     "output_type": "display_data"
    },
    {
     "name": "stdout",
     "output_type": "stream",
     "text": [
      "\n",
      "ProstateX-0122\n",
      "Patient: ProstateX-0122 (date: 2012-01-26 00:00:00)\n",
      "\t- Reading: 10.000000-ep2ddifftraDYNDISTMIXCALCBVAL-79895  (ep2d_diff_tra_DYNDIST_MIXCALC_BVAL) (diff)\n",
      "\t\t- Skipping!\n",
      "\t- Reading: 11.000000-tfl3d PD reftra1.5x1.5t3-27279  (tfl_3d PD ref_tra_1.5x1.5_t3) (unk)\n",
      "\t\t- Skipping!\n",
      "\t- Reading: 12.000000-t2tsetra-59150  (t2_tse_tra) (T2)\n",
      "\t\t- Done!\n",
      "\t- Reading: 5.000000-t2tsesag-97932  (t2_tse_sag) (UNKNOWN)\n",
      "\t\t- Skipping!\n",
      "\t- Reading: 6.000000-t2tsecor-84534  (t2_tse_cor) (UNKNOWN)\n",
      "\t\t- Skipping!\n",
      "\t- Reading: 7.000000-t2tsetra-94033  (t2_tse_tra) (T2)\n",
      "\t\t- Done!\n",
      "\t- Reading: 8.000000-ep2ddifftraDYNDISTMIX-50762  (ep2d_diff_tra_DYNDIST_MIX) (b)\n",
      "\t\t- Done!\n",
      "\t- Reading: 9.000000-ep2ddifftraDYNDISTMIXADC-76783  (ep2d_diff_tra_DYNDIST_MIX_ADC) (ADC)\n",
      "\t\t- Done!\n",
      "\t- Reading: ProstateX-0122-Ktrans.mhd (Ktrans) (ktrans)\n",
      "\t\t- Done!\n",
      "\n",
      "\t\t> (Blurrying ADC) Combining 5 images: #### -> Elapsed: 1.34s\n",
      " - Lesion positions and significances:\n",
      "   - 1: [180.55315782 141.32680015  11.0000007 ], Sig: 1\n",
      "   - 2: [179.44675827 182.80669275   3.00000986], Sig: 1\n",
      " - Information: resampling_operation with pre_mask_growth_mm applied to channels [2] on x,y dimensions\n"
     ]
    },
    {
     "data": {
      "application/vnd.jupyter.widget-view+json": {
       "model_id": "3452f2c49c5d4069a173a0502f25760b",
       "version_major": 2,
       "version_minor": 0
      },
      "text/plain": [
       "interactive(children=(IntSlider(value=12, description='z', max=23, style=SliderStyle(handle_color='lightblue')…"
      ]
     },
     "metadata": {},
     "output_type": "display_data"
    },
    {
     "data": {
      "application/vnd.jupyter.widget-view+json": {
       "model_id": "c71da434d9ba4c52961b6fea2ad1e92c",
       "version_major": 2,
       "version_minor": 0
      },
      "text/plain": [
       "interactive(children=(IntSlider(value=12, description='z', max=23, style=SliderStyle(handle_color='lightblue')…"
      ]
     },
     "metadata": {},
     "output_type": "display_data"
    },
    {
     "name": "stdout",
     "output_type": "stream",
     "text": [
      "\n",
      "ProstateX-0123\n",
      "Patient: ProstateX-0123 (date: 2012-01-30 00:00:00)\n",
      "\t- Reading: 1.000000-t2localizer-08037  (t2_localizer) (UNKNOWN)\n",
      "\t\t- Skipping!\n",
      "\t- Reading: 10.000000-t2tsetra-21161  (t2_tse_tra) (T2)\n",
      "\t\t- Done!\n",
      "\t- Reading: 11.000000-tfl3d PD reftra1.5x1.5t3-56382  (tfl_3d PD ref_tra_1.5x1.5_t3) (unk)\n",
      "\t\t- Skipping!\n",
      "\t- Reading: 2.000000-t2loc sag-31625  (t2_loc sag) (UNKNOWN)\n",
      "\t\t- Skipping!\n",
      "\t- Reading: 3.000000-t2loc tra-42032  (t2_loc tra) (UNKNOWN)\n",
      "\t\t- Skipping!\n",
      "\t- Reading: 4.000000-t2tsesag-52047  (t2_tse_sag) (UNKNOWN)\n",
      "\t\t- Skipping!\n",
      "\t- Reading: 5.000000-t2tsetra-18809  (t2_tse_tra) (T2)\n",
      "\t\t- Done!\n",
      "\t- Reading: 6.000000-t2tsecor-88561  (t2_tse_cor) (UNKNOWN)\n",
      "\t\t- Skipping!\n",
      "\t- Reading: 7.000000-ep2ddifftraDYNDIST-03113  (ep2d_diff_tra_DYNDIST) (b)\n",
      "\t\t- Done!\n",
      "\t- Reading: 8.000000-ep2ddifftraDYNDISTADC-46415  (ep2d_diff_tra_DYNDIST_ADC) (ADC)\n",
      "\t\t- Done!\n",
      "\t- Reading: 9.000000-ep2ddifftraDYNDISTCALCBVAL-93743  (ep2d_diff_tra_DYNDISTCALC_BVAL) (diff)\n",
      "\t\t- Skipping!\n",
      "\t- Reading: ProstateX-0123-Ktrans.mhd (Ktrans) (ktrans)\n",
      "\t\t- Done!\n",
      "\n",
      "\t\t> (Blurrying ADC) Combining 5 images: #### -> Elapsed: 1.40s\n",
      " - Lesion positions and significances:\n",
      "   - 1: [207.83197784 226.40501448   6.99999606], Sig: 3\n",
      " - Information: resampling_operation with pre_mask_growth_mm applied to channels [2] on x,y dimensions\n"
     ]
    },
    {
     "data": {
      "application/vnd.jupyter.widget-view+json": {
       "model_id": "ad9285e005ec446eb79f38349f341950",
       "version_major": 2,
       "version_minor": 0
      },
      "text/plain": [
       "interactive(children=(IntSlider(value=12, description='z', max=23, style=SliderStyle(handle_color='lightblue')…"
      ]
     },
     "metadata": {},
     "output_type": "display_data"
    },
    {
     "data": {
      "application/vnd.jupyter.widget-view+json": {
       "model_id": "c23add3c61984c5491c9e64004467ed5",
       "version_major": 2,
       "version_minor": 0
      },
      "text/plain": [
       "interactive(children=(IntSlider(value=12, description='z', max=23, style=SliderStyle(handle_color='lightblue')…"
      ]
     },
     "metadata": {},
     "output_type": "display_data"
    },
    {
     "name": "stdout",
     "output_type": "stream",
     "text": [
      "\n",
      "ProstateX-0124\n",
      "Patient: ProstateX-0124 (date: 2011-08-09 00:00:00)\n",
      "\t- Reading: 1.000000-t2localizer-09707  (t2_localizer) (UNKNOWN)\n",
      "\t\t- Skipping!\n",
      "\t- Reading: 2.000000-t2loc sag-47725  (t2_loc sag) (UNKNOWN)\n",
      "\t\t- Skipping!\n",
      "\t- Reading: 3.000000-t2tsesag-58915  (t2_tse_sag) (UNKNOWN)\n",
      "\t\t- Skipping!\n",
      "\t- Reading: 4.000000-t2tsecor-30166  (t2_tse_cor) (UNKNOWN)\n",
      "\t\t- Skipping!\n",
      "\t- Reading: 5.000000-t2tsetra-34670  (t2_tse_tra) (T2)\n",
      "\t\t- Done!\n",
      "\t- Reading: 6.000000-ep2ddifftraDYNDIST-25023  (ep2d_diff_tra_DYNDIST) (b)\n",
      "\t\t- Done!\n",
      "\t- Reading: 7.000000-ep2ddifftraDYNDISTADC-43518  (ep2d_diff_tra_DYNDIST_ADC) (ADC)\n",
      "\t\t- Done!\n",
      "\t- Reading: 8.000000-ep2ddifftraDYNDISTCALCBVAL-84359  (ep2d_diff_tra_DYNDISTCALC_BVAL) (diff)\n",
      "\t\t- Skipping!\n",
      "\t- Reading: 9.000000-tfl3d PD reftra1.5x1.5t3-67135  (tfl_3d PD ref_tra_1.5x1.5_t3) (unk)\n",
      "\t\t- Skipping!\n",
      "\t- Reading: ProstateX-0124-Ktrans.mhd (Ktrans) (ktrans)\n",
      "\t\t- Done!\n",
      "\n",
      "\t\t> (Blurrying ADC) Combining 5 images: #### -> Elapsed: 1.70s\n",
      " - Lesion positions and significances:\n",
      "   - 1: [239.02000092 240.13447276  12.99998936], Sig: 1\n",
      " - Information: resampling_operation with pre_mask_growth_mm applied to channels [2] on x,y dimensions\n"
     ]
    },
    {
     "data": {
      "application/vnd.jupyter.widget-view+json": {
       "model_id": "2589d0eb4a114d0791e710fafd9d41f9",
       "version_major": 2,
       "version_minor": 0
      },
      "text/plain": [
       "interactive(children=(IntSlider(value=12, description='z', max=23, style=SliderStyle(handle_color='lightblue')…"
      ]
     },
     "metadata": {},
     "output_type": "display_data"
    },
    {
     "data": {
      "application/vnd.jupyter.widget-view+json": {
       "model_id": "994a3a0b6d524feb81bcfdbe3303ed4f",
       "version_major": 2,
       "version_minor": 0
      },
      "text/plain": [
       "interactive(children=(IntSlider(value=12, description='z', max=23, style=SliderStyle(handle_color='lightblue')…"
      ]
     },
     "metadata": {},
     "output_type": "display_data"
    },
    {
     "name": "stdout",
     "output_type": "stream",
     "text": [
      "\n",
      "ProstateX-0125\n",
      "Patient: ProstateX-0125 (date: 2012-01-31 00:00:00)\n",
      "\t- Reading: 10.000000-ep2ddifftraDYNDISTADC-93861  (ep2d_diff_tra_DYNDIST_ADC) (ADC)\n",
      "\t\t- Done!\n",
      "\t- Reading: 11.000000-ep2ddifftraDYNDISTCALCBVAL-49188  (ep2d_diff_tra_DYNDISTCALC_BVAL) (diff)\n",
      "\t\t- Skipping!\n",
      "\t- Reading: 12.000000-tfl3d PD reftra1.5x1.5t3-38071  (tfl_3d PD ref_tra_1.5x1.5_t3) (unk)\n",
      "\t\t- Skipping!\n",
      "\t- Reading: 5.000000-t2tsesag-75844  (t2_tse_sag) (UNKNOWN)\n",
      "\t\t- Skipping!\n",
      "\t- Reading: 6.000000-t2tsetra-51046  (t2_tse_tra) (T2)\n",
      "\t\t- Done!\n",
      "\t- Reading: 7.000000-t2tsecor-75242  (t2_tse_cor) (UNKNOWN)\n",
      "\t\t- Skipping!\n",
      "\t- Reading: 8.000000-t2tsetra-03696  (t2_tse_tra) (T2)\n",
      "\t\t- Done!\n",
      "\t- Reading: 9.000000-ep2ddifftraDYNDIST-55839  (ep2d_diff_tra_DYNDIST) (b)\n",
      "\t\t- Done!\n",
      "\t- Reading: ProstateX-0125-Ktrans.mhd (Ktrans) (ktrans)\n",
      "\t\t- Done!\n",
      "\n",
      "\t\t> (Blurrying ADC) Combining 5 images: #### -> Elapsed: 1.33s\n",
      " - Lesion positions and significances:\n",
      "   - 1: [159.42478562 183.97767177   9.99999636], Sig: 2\n",
      " - Information: resampling_operation with pre_mask_growth_mm applied to channels [2] on x,y dimensions\n"
     ]
    },
    {
     "data": {
      "application/vnd.jupyter.widget-view+json": {
       "model_id": "de16b95f1f914d9ba30a494b8c1a6fc8",
       "version_major": 2,
       "version_minor": 0
      },
      "text/plain": [
       "interactive(children=(IntSlider(value=12, description='z', max=23, style=SliderStyle(handle_color='lightblue')…"
      ]
     },
     "metadata": {},
     "output_type": "display_data"
    },
    {
     "data": {
      "application/vnd.jupyter.widget-view+json": {
       "model_id": "f3066713018040439fb0afa9799fe430",
       "version_major": 2,
       "version_minor": 0
      },
      "text/plain": [
       "interactive(children=(IntSlider(value=12, description='z', max=23, style=SliderStyle(handle_color='lightblue')…"
      ]
     },
     "metadata": {},
     "output_type": "display_data"
    },
    {
     "name": "stdout",
     "output_type": "stream",
     "text": [
      "\n",
      "ProstateX-0126\n",
      "Patient: ProstateX-0126 (date: 2012-02-06 00:00:00)\n",
      "\t- Reading: 1.000000-t2localizer-10407  (t2_localizer) (UNKNOWN)\n",
      "\t\t- Skipping!\n",
      "\t- Reading: 10.000000-tfl3d PD reftra1.5x1.5t3-50674  (tfl_3d PD ref_tra_1.5x1.5_t3) (unk)\n",
      "\t\t- Skipping!\n",
      "\t- Reading: 2.000000-t2loc sag-40018  (t2_loc sag) (UNKNOWN)\n",
      "\t\t- Skipping!\n",
      "\t- Reading: 3.000000-t2tsesag-73923  (t2_tse_sag) (UNKNOWN)\n",
      "\t\t- Skipping!\n",
      "\t- Reading: 4.000000-t2tsetra-84889  (t2_tse_tra) (T2)\n",
      "\t\t- Done!\n",
      "\t- Reading: 5.000000-t2tsecor-38121  (t2_tse_cor) (UNKNOWN)\n",
      "\t\t- Skipping!\n",
      "\t- Reading: 6.000000-t2tsetra-33725  (t2_tse_tra) (T2)\n",
      "\t\t- Done!\n",
      "\t- Reading: 7.000000-ep2ddifftraDYNDIST-82299  (ep2d_diff_tra_DYNDIST) (b)\n",
      "\t\t- Done!\n",
      "\t- Reading: 8.000000-ep2ddifftraDYNDISTADC-41056  (ep2d_diff_tra_DYNDIST_ADC) (ADC)\n",
      "\t\t- Done!\n",
      "\t- Reading: 9.000000-ep2ddifftraDYNDISTCALCBVAL-19650  (ep2d_diff_tra_DYNDISTCALC_BVAL) (diff)\n",
      "\t\t- Skipping!\n",
      "\t- Reading: ProstateX-0126-Ktrans.mhd (Ktrans) (ktrans)\n",
      "\t\t- Done!\n",
      "\n",
      "\t\t> (Blurrying ADC) Combining 5 images: #### -> Elapsed: 1.38s\n",
      " - Lesion positions and significances:\n",
      "   - 1: [219.68107072 243.69803014  12.00000175], Sig: 10\n",
      "   - 2: [191.14215959 171.21756576   8.0085845 ], Sig: 4\n",
      " - Information: resampling_operation with pre_mask_growth_mm applied to channels [2] on x,y dimensions\n"
     ]
    },
    {
     "data": {
      "application/vnd.jupyter.widget-view+json": {
       "model_id": "f6c755610188423ab36e8396b6c86dd3",
       "version_major": 2,
       "version_minor": 0
      },
      "text/plain": [
       "interactive(children=(IntSlider(value=12, description='z', max=23, style=SliderStyle(handle_color='lightblue')…"
      ]
     },
     "metadata": {},
     "output_type": "display_data"
    },
    {
     "data": {
      "application/vnd.jupyter.widget-view+json": {
       "model_id": "4acaf49f466646a6ad369c1e71873f3a",
       "version_major": 2,
       "version_minor": 0
      },
      "text/plain": [
       "interactive(children=(IntSlider(value=12, description='z', max=23, style=SliderStyle(handle_color='lightblue')…"
      ]
     },
     "metadata": {},
     "output_type": "display_data"
    },
    {
     "name": "stdout",
     "output_type": "stream",
     "text": [
      "\n",
      "ProstateX-0127\n",
      "Patient: ProstateX-0127 (date: 2012-02-08 00:00:00)\n",
      "\t- Reading: 1.000000-t2localizer-47642  (t2_localizer) (UNKNOWN)\n",
      "\t\t- Skipping!\n",
      "\t- Reading: 2.000000-t2loc sag-48221  (t2_loc sag) (UNKNOWN)\n",
      "\t\t- Skipping!\n",
      "\t- Reading: 3.000000-t2tsesag-97547  (t2_tse_sag) (UNKNOWN)\n",
      "\t\t- Skipping!\n",
      "\t- Reading: 4.000000-t2tsetra-65367  (t2_tse_tra) (T2)\n",
      "\t\t- Done!\n",
      "\t- Reading: 5.000000-t2tsecor-91982  (t2_tse_cor) (UNKNOWN)\n",
      "\t\t- Skipping!\n",
      "\t- Reading: 6.000000-ep2ddifftraDYNDIST-87819  (ep2d_diff_tra_DYNDIST) (b)\n",
      "\t\t- Done!\n",
      "\t- Reading: 7.000000-ep2ddifftraDYNDISTADC-68688  (ep2d_diff_tra_DYNDIST_ADC) (ADC)\n",
      "\t\t- Done!\n",
      "\t- Reading: 8.000000-ep2ddifftraDYNDISTCALCBVAL-11717  (ep2d_diff_tra_DYNDISTCALC_BVAL) (diff)\n",
      "\t\t- Skipping!\n",
      "\t- Reading: 9.000000-tfl3d PD reftra1.5x1.5t3-24328  (tfl_3d PD ref_tra_1.5x1.5_t3) (unk)\n",
      "\t\t- Skipping!\n",
      "\t- Reading: ProstateX-0127-Ktrans.mhd (Ktrans) (ktrans)\n",
      "\t\t- Done!\n",
      "\n",
      "\t\t> (Blurrying ADC) Combining 5 images: #### -> Elapsed: 1.30s\n",
      " - Lesion positions and significances:\n",
      "   - 1: [151.00680201 212.8387853    7.99998605], Sig: 2\n",
      " - Information: resampling_operation with pre_mask_growth_mm applied to channels [2] on x,y dimensions\n"
     ]
    },
    {
     "data": {
      "application/vnd.jupyter.widget-view+json": {
       "model_id": "a5ad0b0278064c6d9a911ac9ec921f21",
       "version_major": 2,
       "version_minor": 0
      },
      "text/plain": [
       "interactive(children=(IntSlider(value=12, description='z', max=23, style=SliderStyle(handle_color='lightblue')…"
      ]
     },
     "metadata": {},
     "output_type": "display_data"
    },
    {
     "data": {
      "application/vnd.jupyter.widget-view+json": {
       "model_id": "d38256101e214d19af8666eec8c549a2",
       "version_major": 2,
       "version_minor": 0
      },
      "text/plain": [
       "interactive(children=(IntSlider(value=12, description='z', max=23, style=SliderStyle(handle_color='lightblue')…"
      ]
     },
     "metadata": {},
     "output_type": "display_data"
    },
    {
     "name": "stdout",
     "output_type": "stream",
     "text": [
      "\n",
      "ProstateX-0128\n",
      "Patient: ProstateX-0128 (date: 2012-02-08 00:00:00)\n",
      "\t- Reading: 1.000000-t2localizer-56708  (t2_localizer) (UNKNOWN)\n",
      "\t\t- Skipping!\n",
      "\t- Reading: 10.000000-tfl3d PD reftra1.5x1.5t3-68449  (tfl_3d PD ref_tra_1.5x1.5_t3) (unk)\n",
      "\t\t- Skipping!\n",
      "\t- Reading: 2.000000-t2loc sag-62438  (t2_loc sag) (UNKNOWN)\n",
      "\t\t- Skipping!\n",
      "\t- Reading: 3.000000-t2tsesag-10013  (t2_tse_sag) (UNKNOWN)\n",
      "\t\t- Skipping!\n",
      "\t- Reading: 4.000000-t2tsecor-22844  (t2_tse_cor) (UNKNOWN)\n",
      "\t\t- Skipping!\n",
      "\t- Reading: 5.000000-t2tsetra-35834  (t2_tse_tra) (T2)\n",
      "\t\t- Done!\n",
      "\t- Reading: 6.000000-t2tsesag-67435  (t2_tse_sag) (UNKNOWN)\n",
      "\t\t- Skipping!\n",
      "\t- Reading: 7.000000-ep2ddifftraDYNDISTMIX-74900  (ep2d_diff_tra_DYNDIST_MIX) (b)\n",
      "\t\t- Done!\n",
      "\t- Reading: 8.000000-ep2ddifftraDYNDISTMIXADC-80305  (ep2d_diff_tra_DYNDIST_MIX_ADC) (ADC)\n",
      "\t\t- Done!\n",
      "\t- Reading: 9.000000-ep2ddifftraDYNDISTMIXCALCBVAL-02128  (ep2d_diff_tra_DYNDIST_MIXCALC_BVAL) (diff)\n",
      "\t\t- Skipping!\n",
      "\t- Reading: ProstateX-0128-Ktrans.mhd (Ktrans) (ktrans)\n",
      "\t\t- Done!\n",
      "\n",
      "\t\t> (Blurrying ADC) Combining 5 images: #### -> Elapsed: 1.40s\n",
      " - Lesion positions and significances:\n",
      "   - 1: [157.13449436 217.85232892   6.99999973], Sig: 2\n",
      "   - 2: [166.07859217 198.61740678   8.97380731], Sig: 10\n",
      "   - 3: [203.40066768 202.51697116   3.97381946], Sig: 10\n",
      " - Information: resampling_operation with pre_mask_growth_mm applied to channels [2] on x,y dimensions\n"
     ]
    },
    {
     "data": {
      "application/vnd.jupyter.widget-view+json": {
       "model_id": "a974d573955b4a338c9fd4858d6aa4c2",
       "version_major": 2,
       "version_minor": 0
      },
      "text/plain": [
       "interactive(children=(IntSlider(value=12, description='z', max=23, style=SliderStyle(handle_color='lightblue')…"
      ]
     },
     "metadata": {},
     "output_type": "display_data"
    },
    {
     "data": {
      "application/vnd.jupyter.widget-view+json": {
       "model_id": "b263344d1a8e41c0bb14b40c7d655f86",
       "version_major": 2,
       "version_minor": 0
      },
      "text/plain": [
       "interactive(children=(IntSlider(value=12, description='z', max=23, style=SliderStyle(handle_color='lightblue')…"
      ]
     },
     "metadata": {},
     "output_type": "display_data"
    },
    {
     "name": "stdout",
     "output_type": "stream",
     "text": [
      "\n",
      "ProstateX-0129\n",
      "Patient: ProstateX-0129 (date: 2012-02-09 00:00:00)\n",
      "\t- Reading: 1.000000-t2localizer-93244  (t2_localizer) (UNKNOWN)\n",
      "\t\t- Skipping!\n",
      "\t- Reading: 2.000000-t2loc sag-29057  (t2_loc sag) (UNKNOWN)\n",
      "\t\t- Skipping!\n",
      "\t- Reading: 3.000000-t2tsesag-23739  (t2_tse_sag) (UNKNOWN)\n",
      "\t\t- Skipping!\n",
      "\t- Reading: 4.000000-t2tsetra-45833  (t2_tse_tra) (T2)\n",
      "\t\t- Done!\n",
      "\t- Reading: 5.000000-t2tsecor-14448  (t2_tse_cor) (UNKNOWN)\n",
      "\t\t- Skipping!\n",
      "\t- Reading: 6.000000-ep2ddifftraDYNDIST-56005  (ep2d_diff_tra_DYNDIST) (b)\n",
      "\t\t- Done!\n",
      "\t- Reading: 7.000000-ep2ddifftraDYNDISTADC-54336  (ep2d_diff_tra_DYNDIST_ADC) (ADC)\n",
      "\t\t- Done!\n",
      "\t- Reading: 8.000000-ep2ddifftraDYNDISTCALCBVAL-38563  (ep2d_diff_tra_DYNDISTCALC_BVAL) (diff)\n",
      "\t\t- Skipping!\n",
      "\t- Reading: 9.000000-tfl3d PD reftra1.5x1.5t3-55877  (tfl_3d PD ref_tra_1.5x1.5_t3) (unk)\n",
      "\t\t- Skipping!\n",
      "\t- Reading: ProstateX-0129-Ktrans.mhd (Ktrans) (ktrans)\n",
      "\t\t- Done!\n",
      "\n",
      "\t\t> (Blurrying ADC) Combining 5 images: #### -> Elapsed: 1.36s\n",
      " - Lesion positions and significances:\n",
      "   - 1: [232.72573471 215.50682369   7.98859559], Sig: 2\n",
      " - Information: resampling_operation with pre_mask_growth_mm applied to channels [2] on x,y dimensions\n"
     ]
    },
    {
     "data": {
      "application/vnd.jupyter.widget-view+json": {
       "model_id": "6fb887b0710e4cb697bac482db6b7576",
       "version_major": 2,
       "version_minor": 0
      },
      "text/plain": [
       "interactive(children=(IntSlider(value=12, description='z', max=23, style=SliderStyle(handle_color='lightblue')…"
      ]
     },
     "metadata": {},
     "output_type": "display_data"
    },
    {
     "data": {
      "application/vnd.jupyter.widget-view+json": {
       "model_id": "a67547ec3fc442c7b5294ae9057b7d33",
       "version_major": 2,
       "version_minor": 0
      },
      "text/plain": [
       "interactive(children=(IntSlider(value=12, description='z', max=23, style=SliderStyle(handle_color='lightblue')…"
      ]
     },
     "metadata": {},
     "output_type": "display_data"
    },
    {
     "name": "stdout",
     "output_type": "stream",
     "text": [
      "\n",
      "ProstateX-0130\n",
      "Patient: ProstateX-0130 (date: 2012-02-09 00:00:00)\n",
      "\t- Reading: 1.000000-t2localizer-99610  (t2_localizer) (UNKNOWN)\n",
      "\t\t- Skipping!\n",
      "\t- Reading: 2.000000-t2loc sag-78394  (t2_loc sag) (UNKNOWN)\n",
      "\t\t- Skipping!\n",
      "\t- Reading: 3.000000-t2tsesag-30499  (t2_tse_sag) (UNKNOWN)\n",
      "\t\t- Skipping!\n",
      "\t- Reading: 4.000000-t2tsetra-47643  (t2_tse_tra) (T2)\n",
      "\t\t- Done!\n",
      "\t- Reading: 5.000000-t2tsecor-49689  (t2_tse_cor) (UNKNOWN)\n",
      "\t\t- Skipping!\n",
      "\t- Reading: 6.000000-ep2ddifftraDYNDIST-82509  (ep2d_diff_tra_DYNDIST) (b)\n",
      "\t\t- Done!\n",
      "\t- Reading: 7.000000-ep2ddifftraDYNDISTADC-91323  (ep2d_diff_tra_DYNDIST_ADC) (ADC)\n",
      "\t\t- Done!\n",
      "\t- Reading: 8.000000-ep2ddifftraDYNDISTCALCBVAL-16276  (ep2d_diff_tra_DYNDISTCALC_BVAL) (diff)\n",
      "\t\t- Skipping!\n",
      "\t- Reading: 9.000000-tfl3d PD reftra1.5x1.5t3-18891  (tfl_3d PD ref_tra_1.5x1.5_t3) (unk)\n",
      "\t\t- Skipping!\n",
      "\t- Reading: ProstateX-0130-Ktrans.mhd (Ktrans) (ktrans)\n",
      "\t\t- Done!\n",
      "\n",
      "\t\t> (Blurrying ADC) Combining 5 images: #### -> Elapsed: 1.47s\n",
      " - Lesion positions and significances:\n",
      "   - 1: [122.57700347 228.96704125  11.99999788], Sig: 10\n",
      "   - 2: [228.43644332 231.22161868  18.00000007], Sig: 10\n",
      "   - 3: [220.94684219 215.45324413   7.00001471], Sig: 10\n",
      " - Information: resampling_operation with pre_mask_growth_mm applied to channels [2] on x,y dimensions\n"
     ]
    },
    {
     "data": {
      "application/vnd.jupyter.widget-view+json": {
       "model_id": "65ae7a5e70e94b3ba4679b5fa20bd448",
       "version_major": 2,
       "version_minor": 0
      },
      "text/plain": [
       "interactive(children=(IntSlider(value=12, description='z', max=23, style=SliderStyle(handle_color='lightblue')…"
      ]
     },
     "metadata": {},
     "output_type": "display_data"
    },
    {
     "data": {
      "application/vnd.jupyter.widget-view+json": {
       "model_id": "7f8af096e3e04a758e0ad86766758a28",
       "version_major": 2,
       "version_minor": 0
      },
      "text/plain": [
       "interactive(children=(IntSlider(value=12, description='z', max=23, style=SliderStyle(handle_color='lightblue')…"
      ]
     },
     "metadata": {},
     "output_type": "display_data"
    },
    {
     "name": "stdout",
     "output_type": "stream",
     "text": [
      "\n",
      "ProstateX-0131\n",
      "Patient: ProstateX-0131 (date: 2012-02-12 00:00:00)\n",
      "\t- Reading: 3.000000-t2tsesag-17409  (t2_tse_sag) (UNKNOWN)\n",
      "\t\t- Skipping!\n",
      "\t- Reading: 4.000000-t2tsetra-47327  (t2_tse_tra) (T2)\n",
      "\t\t- Done!\n",
      "\t- Reading: 5.000000-t2tsecor-22867  (t2_tse_cor) (UNKNOWN)\n",
      "\t\t- Skipping!\n",
      "\t- Reading: 6.000000-ep2ddifftraDYNDISTMIX-14559  (ep2d_diff_tra_DYNDIST_MIX) (b)\n",
      "\t\t- Done!\n",
      "\t- Reading: 7.000000-ep2ddifftraDYNDISTMIXADC-87476  (ep2d_diff_tra_DYNDIST_MIX_ADC) (ADC)\n",
      "\t\t- Done!\n",
      "\t- Reading: 8.000000-ep2ddifftraDYNDISTMIXCALCBVAL-80048  (ep2d_diff_tra_DYNDIST_MIXCALC_BVAL) (diff)\n",
      "\t\t- Skipping!\n",
      "\t- Reading: 9.000000-tfl3d PD reftra1.5x1.5t3-95427  (tfl_3d PD ref_tra_1.5x1.5_t3) (unk)\n",
      "\t\t- Skipping!\n",
      "\t- Reading: ProstateX-0131-Ktrans.mhd (Ktrans) (ktrans)\n",
      "\t\t- Done!\n",
      "\n",
      "\t\t> (Blurrying ADC) Combining 5 images: #### -> Elapsed: 1.34s\n",
      " - Lesion positions and significances:\n",
      "   - 1: [207.26835633 174.40273125  10.99998773], Sig: 5\n",
      "   - 2: [154.9295578  206.60190765   5.28973704], Sig: 10\n",
      " - Information: resampling_operation with pre_mask_growth_mm applied to channels [2] on x,y dimensions\n"
     ]
    },
    {
     "data": {
      "application/vnd.jupyter.widget-view+json": {
       "model_id": "918b5bb47a024749aa16e3b6d693eb85",
       "version_major": 2,
       "version_minor": 0
      },
      "text/plain": [
       "interactive(children=(IntSlider(value=12, description='z', max=23, style=SliderStyle(handle_color='lightblue')…"
      ]
     },
     "metadata": {},
     "output_type": "display_data"
    },
    {
     "data": {
      "application/vnd.jupyter.widget-view+json": {
       "model_id": "e7e10d84414f4a79b26f3f9829f30ff7",
       "version_major": 2,
       "version_minor": 0
      },
      "text/plain": [
       "interactive(children=(IntSlider(value=12, description='z', max=23, style=SliderStyle(handle_color='lightblue')…"
      ]
     },
     "metadata": {},
     "output_type": "display_data"
    },
    {
     "name": "stdout",
     "output_type": "stream",
     "text": [
      "\n",
      "ProstateX-0132\n",
      "Patient: ProstateX-0132 (date: 2012-02-12 00:00:00)\n",
      "\t- Reading: 1.000000-t2localizer-21934  (t2_localizer) (UNKNOWN)\n",
      "\t\t- Skipping!\n",
      "\t- Reading: 10.000000-tfl3d PD reftra1.5x1.5t3-75379  (tfl_3d PD ref_tra_1.5x1.5_t3) (unk)\n",
      "\t\t- Skipping!\n",
      "\t- Reading: 2.000000-t2loc sag-97900  (t2_loc sag) (UNKNOWN)\n",
      "\t\t- Skipping!\n",
      "\t- Reading: 3.000000-t2tsesag-19959  (t2_tse_sag) (UNKNOWN)\n",
      "\t\t- Skipping!\n",
      "\t- Reading: 4.000000-t2tsecor-95043  (t2_tse_cor) (UNKNOWN)\n",
      "\t\t- Skipping!\n",
      "\t- Reading: 5.000000-t2tsetra-05436  (t2_tse_tra) (T2)\n",
      "\t\t- Done!\n",
      "\t- Reading: 6.000000-ep2ddifftraDYNDIST-61387  (ep2d_diff_tra_DYNDIST) (b)\n",
      "\t\t- Done!\n",
      "\t- Reading: 7.000000-ep2ddifftraDYNDISTADC-09210  (ep2d_diff_tra_DYNDIST_ADC) (ADC)\n",
      "\t\t- Done!\n",
      "\t- Reading: 8.000000-ep2ddifftraDYNDISTCALCBVAL-05629  (ep2d_diff_tra_DYNDISTCALC_BVAL) (diff)\n",
      "\t\t- Skipping!\n",
      "\t- Reading: 9.000000-t2tsetra-42986  (t2_tse_tra) (T2)\n",
      "\t\t- Done!\n",
      "\t- Reading: ProstateX-0132-Ktrans.mhd (Ktrans) (ktrans)\n",
      "\t\t- Done!\n",
      "\n",
      "\t\t> (Blurrying ADC) Combining 5 images: #### -> Elapsed: 1.42s\n",
      " - Lesion positions and significances:\n",
      "   - 1: [213.74179935 212.8743417   10.0000086 ], Sig: 10\n",
      " - Information: resampling_operation with pre_mask_growth_mm applied to channels [2] on x,y dimensions\n"
     ]
    },
    {
     "data": {
      "application/vnd.jupyter.widget-view+json": {
       "model_id": "ff4990c293b84442b5f3fff6841f3f63",
       "version_major": 2,
       "version_minor": 0
      },
      "text/plain": [
       "interactive(children=(IntSlider(value=12, description='z', max=23, style=SliderStyle(handle_color='lightblue')…"
      ]
     },
     "metadata": {},
     "output_type": "display_data"
    },
    {
     "data": {
      "application/vnd.jupyter.widget-view+json": {
       "model_id": "af148119f47a4e8a99956d78d4576d07",
       "version_major": 2,
       "version_minor": 0
      },
      "text/plain": [
       "interactive(children=(IntSlider(value=12, description='z', max=23, style=SliderStyle(handle_color='lightblue')…"
      ]
     },
     "metadata": {},
     "output_type": "display_data"
    },
    {
     "name": "stdout",
     "output_type": "stream",
     "text": [
      "\n",
      "ProstateX-0133\n",
      "Patient: ProstateX-0133 (date: 2012-02-13 00:00:00)\n",
      "\t- Reading: 1.000000-t2localizer-47068  (t2_localizer) (UNKNOWN)\n",
      "\t\t- Skipping!\n",
      "\t- Reading: 2.000000-t2loc sag-18197  (t2_loc sag) (UNKNOWN)\n",
      "\t\t- Skipping!\n",
      "\t- Reading: 3.000000-t2tsesag-02913  (t2_tse_sag) (UNKNOWN)\n",
      "\t\t- Skipping!\n",
      "\t- Reading: 4.000000-t2tsetra-96021  (t2_tse_tra) (T2)\n",
      "\t\t- Done!\n",
      "\t- Reading: 5.000000-t2tsecor-39544  (t2_tse_cor) (UNKNOWN)\n",
      "\t\t- Skipping!\n",
      "\t- Reading: 6.000000-ep2ddifftraDYNDIST-42972  (ep2d_diff_tra_DYNDIST) (b)\n",
      "\t\t- Done!\n",
      "\t- Reading: 7.000000-ep2ddifftraDYNDISTADC-20071  (ep2d_diff_tra_DYNDIST_ADC) (ADC)\n",
      "\t\t- Done!\n",
      "\t- Reading: 8.000000-ep2ddifftraDYNDISTCALCBVAL-43937  (ep2d_diff_tra_DYNDISTCALC_BVAL) (diff)\n",
      "\t\t- Skipping!\n",
      "\t- Reading: 9.000000-tfl3d PD reftra1.5x1.5t3-87991  (tfl_3d PD ref_tra_1.5x1.5_t3) (unk)\n",
      "\t\t- Skipping!\n",
      "\t- Reading: ProstateX-0133-Ktrans.mhd (Ktrans) (ktrans)\n",
      "\t\t- Done!\n",
      "\n",
      "\t\t> (Blurrying ADC) Combining 5 images: #### -> Elapsed: 1.31s\n",
      " - Lesion positions and significances:\n",
      "   - 1: [194.96490861 148.23489909   9.66788905], Sig: 1\n",
      " - Information: resampling_operation with pre_mask_growth_mm applied to channels [2] on x,y dimensions\n"
     ]
    },
    {
     "data": {
      "application/vnd.jupyter.widget-view+json": {
       "model_id": "2c27804d88df4bfa913ff5d4308b343e",
       "version_major": 2,
       "version_minor": 0
      },
      "text/plain": [
       "interactive(children=(IntSlider(value=12, description='z', max=23, style=SliderStyle(handle_color='lightblue')…"
      ]
     },
     "metadata": {},
     "output_type": "display_data"
    },
    {
     "data": {
      "application/vnd.jupyter.widget-view+json": {
       "model_id": "4559b68bdde241a89a143f4a41e665be",
       "version_major": 2,
       "version_minor": 0
      },
      "text/plain": [
       "interactive(children=(IntSlider(value=12, description='z', max=23, style=SliderStyle(handle_color='lightblue')…"
      ]
     },
     "metadata": {},
     "output_type": "display_data"
    },
    {
     "name": "stdout",
     "output_type": "stream",
     "text": [
      "\n",
      "ProstateX-0134\n",
      "Patient: ProstateX-0134 (date: 2012-02-13 00:00:00)\n",
      "\t- Reading: 1.000000-t2localizer-36403  (t2_localizer) (UNKNOWN)\n",
      "\t\t- Skipping!\n",
      "\t- Reading: 2.000000-t2loc sag-41073  (t2_loc sag) (UNKNOWN)\n",
      "\t\t- Skipping!\n",
      "\t- Reading: 3.000000-t2tsesag-22284  (t2_tse_sag) (UNKNOWN)\n",
      "\t\t- Skipping!\n",
      "\t- Reading: 4.000000-t2tsetra-96443  (t2_tse_tra) (T2)\n",
      "\t\t- Done!\n",
      "\t- Reading: 5.000000-t2tsecor-69587  (t2_tse_cor) (UNKNOWN)\n",
      "\t\t- Skipping!\n",
      "\t- Reading: 6.000000-ep2ddifftraDYNDIST-72869  (ep2d_diff_tra_DYNDIST) (b)\n",
      "\t\t- Done!\n",
      "\t- Reading: 7.000000-ep2ddifftraDYNDISTADC-46263  (ep2d_diff_tra_DYNDIST_ADC) (ADC)\n",
      "\t\t- Done!\n",
      "\t- Reading: 8.000000-ep2ddifftraDYNDISTCALCBVAL-48706  (ep2d_diff_tra_DYNDISTCALC_BVAL) (diff)\n",
      "\t\t- Skipping!\n",
      "\t- Reading: 9.000000-tfl3d PD reftra1.5x1.5t3-49014  (tfl_3d PD ref_tra_1.5x1.5_t3) (unk)\n",
      "\t\t- Skipping!\n",
      "\t- Reading: ProstateX-0134-Ktrans.mhd (Ktrans) (ktrans)\n",
      "\t\t- Done!\n",
      "\n",
      "\t\t> (Blurrying ADC) Combining 5 images: #### -> Elapsed: 1.45s\n",
      " - Lesion positions and significances:\n",
      "   - 1: [189.40681838 230.94675535  10.99998838], Sig: 10\n",
      "   - 2: [217.68601799 202.38797046  11.99998899], Sig: 10\n",
      " - Information: resampling_operation with pre_mask_growth_mm applied to channels [2] on x,y dimensions\n"
     ]
    },
    {
     "data": {
      "application/vnd.jupyter.widget-view+json": {
       "model_id": "114c61b0715e457e8140cd4382df5277",
       "version_major": 2,
       "version_minor": 0
      },
      "text/plain": [
       "interactive(children=(IntSlider(value=12, description='z', max=23, style=SliderStyle(handle_color='lightblue')…"
      ]
     },
     "metadata": {},
     "output_type": "display_data"
    },
    {
     "data": {
      "application/vnd.jupyter.widget-view+json": {
       "model_id": "addfd64fac0c4b92a482412dbacf03d7",
       "version_major": 2,
       "version_minor": 0
      },
      "text/plain": [
       "interactive(children=(IntSlider(value=12, description='z', max=23, style=SliderStyle(handle_color='lightblue')…"
      ]
     },
     "metadata": {},
     "output_type": "display_data"
    },
    {
     "name": "stdout",
     "output_type": "stream",
     "text": [
      "\n",
      "ProstateX-0135\n",
      "Patient: ProstateX-0135 (date: 2011-08-10 00:00:00)\n",
      "\t- Reading: 1.000000-t2localizer-24382  (t2_localizer) (UNKNOWN)\n",
      "\t\t- Skipping!\n",
      "\t- Reading: 2.000000-t2loc sag-87438  (t2_loc sag) (UNKNOWN)\n",
      "\t\t- Skipping!\n",
      "\t- Reading: 3.000000-t2tsesag-22553  (t2_tse_sag) (UNKNOWN)\n",
      "\t\t- Skipping!\n",
      "\t- Reading: 4.000000-t2tsetra-30897  (t2_tse_tra) (T2)\n",
      "\t\t- Done!\n",
      "\t- Reading: 5.000000-t2tsecor-53576  (t2_tse_cor) (UNKNOWN)\n",
      "\t\t- Skipping!\n",
      "\t- Reading: 6.000000-ep2ddifftraDYNDIST-35582  (ep2d_diff_tra_DYNDIST) (b)\n",
      "\t\t- Done!\n",
      "\t- Reading: 7.000000-ep2ddifftraDYNDISTADC-70572  (ep2d_diff_tra_DYNDIST_ADC) (ADC)\n",
      "\t\t- Done!\n",
      "\t- Reading: 8.000000-ep2ddifftraDYNDISTCALCBVAL-59396  (ep2d_diff_tra_DYNDISTCALC_BVAL) (diff)\n",
      "\t\t- Skipping!\n",
      "\t- Reading: 9.000000-tfl3d PD reftra1.5x1.5t3-31993  (tfl_3d PD ref_tra_1.5x1.5_t3) (unk)\n",
      "\t\t- Skipping!\n",
      "\t- Reading: ProstateX-0135-Ktrans.mhd (Ktrans) (ktrans)\n",
      "\t\t- Done!\n",
      "\n",
      "\t\t> (Blurrying ADC) Combining 5 images: #### -> Elapsed: 1.35s\n",
      " - Lesion positions and significances:\n",
      "   - 1: [186.65758991 188.88605112   9.99997556], Sig: 10\n",
      "   - 2: [163.81879043 227.87930139  13.42736153], Sig: 10\n",
      " - Information: resampling_operation with pre_mask_growth_mm applied to channels [2] on x,y dimensions\n"
     ]
    },
    {
     "data": {
      "application/vnd.jupyter.widget-view+json": {
       "model_id": "e32b00829bab443dbb3625d7aa499222",
       "version_major": 2,
       "version_minor": 0
      },
      "text/plain": [
       "interactive(children=(IntSlider(value=12, description='z', max=23, style=SliderStyle(handle_color='lightblue')…"
      ]
     },
     "metadata": {},
     "output_type": "display_data"
    },
    {
     "data": {
      "application/vnd.jupyter.widget-view+json": {
       "model_id": "3ace413995074fb0be53960e7dcd3f6f",
       "version_major": 2,
       "version_minor": 0
      },
      "text/plain": [
       "interactive(children=(IntSlider(value=12, description='z', max=23, style=SliderStyle(handle_color='lightblue')…"
      ]
     },
     "metadata": {},
     "output_type": "display_data"
    },
    {
     "name": "stdout",
     "output_type": "stream",
     "text": [
      "\n",
      "ProstateX-0136\n",
      "Patient: ProstateX-0136 (date: 2012-02-14 00:00:00)\n",
      "\t- Reading: 1.000000-t2localizer-11777  (t2_localizer) (UNKNOWN)\n",
      "\t\t- Skipping!\n",
      "\t- Reading: 2.000000-t2loc sag-52260  (t2_loc sag) (UNKNOWN)\n",
      "\t\t- Skipping!\n",
      "\t- Reading: 3.000000-t2tsesag-84968  (t2_tse_sag) (UNKNOWN)\n",
      "\t\t- Skipping!\n",
      "\t- Reading: 4.000000-t2tsetra-41889  (t2_tse_tra) (T2)\n",
      "\t\t- Done!\n",
      "\t- Reading: 5.000000-t2tsecor-36425  (t2_tse_cor) (UNKNOWN)\n",
      "\t\t- Skipping!\n",
      "\t- Reading: 6.000000-ep2ddifftraDYNDIST-16516  (ep2d_diff_tra_DYNDIST) (b)\n",
      "\t\t- Done!\n",
      "\t- Reading: 7.000000-ep2ddifftraDYNDISTADC-51510  (ep2d_diff_tra_DYNDIST_ADC) (ADC)\n",
      "\t\t- Done!\n",
      "\t- Reading: 8.000000-ep2ddifftraDYNDISTCALCBVAL-26868  (ep2d_diff_tra_DYNDISTCALC_BVAL) (diff)\n",
      "\t\t- Skipping!\n",
      "\t- Reading: 9.000000-tfl3d PD reftra1.5x1.5t3-87104  (tfl_3d PD ref_tra_1.5x1.5_t3) (unk)\n",
      "\t\t- Skipping!\n",
      "\t- Reading: ProstateX-0136-Ktrans.mhd (Ktrans) (ktrans)\n",
      "\t\t- Done!\n",
      "\n",
      "\t\t> (Blurrying ADC) Combining 5 images: #### -> Elapsed: 1.37s\n",
      " - Lesion positions and significances:\n",
      "   - 1: [174.98640782 174.40286686  12.00000215], Sig: 1\n",
      "   - 2: [220.54534679 242.91964809   9.33333688], Sig: 10\n",
      " - Information: resampling_operation with pre_mask_growth_mm applied to channels [2] on x,y dimensions\n"
     ]
    },
    {
     "data": {
      "application/vnd.jupyter.widget-view+json": {
       "model_id": "b54b115baddd4432a629d6c54225d37e",
       "version_major": 2,
       "version_minor": 0
      },
      "text/plain": [
       "interactive(children=(IntSlider(value=12, description='z', max=23, style=SliderStyle(handle_color='lightblue')…"
      ]
     },
     "metadata": {},
     "output_type": "display_data"
    },
    {
     "data": {
      "application/vnd.jupyter.widget-view+json": {
       "model_id": "41389814c4b24564843dd2fda5a03701",
       "version_major": 2,
       "version_minor": 0
      },
      "text/plain": [
       "interactive(children=(IntSlider(value=12, description='z', max=23, style=SliderStyle(handle_color='lightblue')…"
      ]
     },
     "metadata": {},
     "output_type": "display_data"
    },
    {
     "name": "stdout",
     "output_type": "stream",
     "text": [
      "\n",
      "ProstateX-0137\n",
      "Patient: ProstateX-0137 (date: 2012-02-16 00:00:00)\n",
      "\t- Reading: 1.000000-t2localizer-22559  (t2_localizer) (UNKNOWN)\n",
      "\t\t- Skipping!\n",
      "\t- Reading: 2.000000-t2loc sag-57684  (t2_loc sag) (UNKNOWN)\n",
      "\t\t- Skipping!\n",
      "\t- Reading: 3.000000-t2tsesag-18357  (t2_tse_sag) (UNKNOWN)\n",
      "\t\t- Skipping!\n",
      "\t- Reading: 4.000000-t2tsetra-09869  (t2_tse_tra) (T2)\n",
      "\t\t- Done!\n",
      "\t- Reading: 5.000000-t2tsecor-31105  (t2_tse_cor) (UNKNOWN)\n",
      "\t\t- Skipping!\n",
      "\t- Reading: 6.000000-ep2ddifftraDYNDIST-30390  (ep2d_diff_tra_DYNDIST) (b)\n",
      "\t\t- Done!\n",
      "\t- Reading: 7.000000-ep2ddifftraDYNDISTADC-24938  (ep2d_diff_tra_DYNDIST_ADC) (ADC)\n",
      "\t\t- Done!\n",
      "\t- Reading: 8.000000-ep2ddifftraDYNDISTCALCBVAL-02060  (ep2d_diff_tra_DYNDISTCALC_BVAL) (diff)\n",
      "\t\t- Skipping!\n",
      "\t- Reading: 9.000000-tfl3d PD reftra1.5x1.5t3-47019  (tfl_3d PD ref_tra_1.5x1.5_t3) (unk)\n",
      "\t\t- Skipping!\n",
      "\t- Reading: ProstateX-0137-Ktrans.mhd (Ktrans) (ktrans)\n",
      "\t\t- Done!\n",
      "\n",
      "\t\t> (Blurrying ADC) Combining 5 images: #### -> Elapsed: 1.38s\n",
      " - Lesion positions and significances:\n",
      "   - 1: [160.76401328 237.74493645   9.99999749], Sig: 10\n",
      "   - 2: [228.43901252 227.87508439   7.0000026 ], Sig: 10\n",
      "   - 3: [161.00501441 238.89498824  13.99999494], Sig: 10\n",
      " - Information: resampling_operation with pre_mask_growth_mm applied to channels [2] on x,y dimensions\n"
     ]
    },
    {
     "data": {
      "application/vnd.jupyter.widget-view+json": {
       "model_id": "5553cafc5fb2434199303b58946dc1b3",
       "version_major": 2,
       "version_minor": 0
      },
      "text/plain": [
       "interactive(children=(IntSlider(value=12, description='z', max=23, style=SliderStyle(handle_color='lightblue')…"
      ]
     },
     "metadata": {},
     "output_type": "display_data"
    },
    {
     "data": {
      "application/vnd.jupyter.widget-view+json": {
       "model_id": "b6520434897f4328a14d75fb943640c2",
       "version_major": 2,
       "version_minor": 0
      },
      "text/plain": [
       "interactive(children=(IntSlider(value=12, description='z', max=23, style=SliderStyle(handle_color='lightblue')…"
      ]
     },
     "metadata": {},
     "output_type": "display_data"
    },
    {
     "name": "stdout",
     "output_type": "stream",
     "text": [
      "\n",
      "ProstateX-0138\n",
      "Patient: ProstateX-0138 (date: 2012-02-20 00:00:00)\n",
      "\t- Reading: 1.000000-t2localizer-84796  (t2_localizer) (UNKNOWN)\n",
      "\t\t- Skipping!\n",
      "\t- Reading: 2.000000-t2loc sag-36949  (t2_loc sag) (UNKNOWN)\n",
      "\t\t- Skipping!\n",
      "\t- Reading: 3.000000-t2tsesag-19530  (t2_tse_sag) (UNKNOWN)\n",
      "\t\t- Skipping!\n",
      "\t- Reading: 4.000000-t2tsetra-38866  (t2_tse_tra) (T2)\n",
      "\t\t- Done!\n",
      "\t- Reading: 5.000000-t2tsecor-75535  (t2_tse_cor) (UNKNOWN)\n",
      "\t\t- Skipping!\n",
      "\t- Reading: 6.000000-ep2ddifftraDYNDISTMIX-06058  (ep2d_diff_tra_DYNDIST_MIX) (b)\n",
      "\t\t- Done!\n",
      "\t- Reading: 7.000000-ep2ddifftraDYNDISTMIXADC-17750  (ep2d_diff_tra_DYNDIST_MIX_ADC) (ADC)\n",
      "\t\t- Done!\n",
      "\t- Reading: 8.000000-ep2ddifftraDYNDISTMIXCALCBVAL-31168  (ep2d_diff_tra_DYNDIST_MIXCALC_BVAL) (diff)\n",
      "\t\t- Skipping!\n",
      "\t- Reading: 9.000000-tfl3d PD reftra1.5x1.5t3-21088  (tfl_3d PD ref_tra_1.5x1.5_t3) (unk)\n",
      "\t\t- Skipping!\n",
      "\t- Reading: ProstateX-0138-Ktrans.mhd (Ktrans) (ktrans)\n",
      "\t\t- Done!\n",
      "\n",
      "\t\t> (Blurrying ADC) Combining 5 images: #### -> Elapsed: 1.40s\n",
      " - Lesion positions and significances:\n",
      "   - 1: [178.73294066 249.58801004   8.00000564], Sig: 10\n",
      "   - 2: [171.71194458 189.90399633   5.00000207], Sig: 10\n",
      "   - 3: [161.77993773 248.65318138  11.00001532], Sig: 10\n",
      " - Information: resampling_operation with pre_mask_growth_mm applied to channels [2] on x,y dimensions\n"
     ]
    },
    {
     "data": {
      "application/vnd.jupyter.widget-view+json": {
       "model_id": "3bf96f75826d44bcaeb1b5ff76450271",
       "version_major": 2,
       "version_minor": 0
      },
      "text/plain": [
       "interactive(children=(IntSlider(value=12, description='z', max=23, style=SliderStyle(handle_color='lightblue')…"
      ]
     },
     "metadata": {},
     "output_type": "display_data"
    },
    {
     "data": {
      "application/vnd.jupyter.widget-view+json": {
       "model_id": "616ea4f1333c4dc8b8ba17d7ed119173",
       "version_major": 2,
       "version_minor": 0
      },
      "text/plain": [
       "interactive(children=(IntSlider(value=12, description='z', max=23, style=SliderStyle(handle_color='lightblue')…"
      ]
     },
     "metadata": {},
     "output_type": "display_data"
    },
    {
     "name": "stdout",
     "output_type": "stream",
     "text": [
      "\n",
      "ProstateX-0139\n",
      "Patient: ProstateX-0139 (date: 2012-02-20 00:00:00)\n",
      "\t- Reading: 3.000000-t2tsesag-60722  (t2_tse_sag) (UNKNOWN)\n",
      "\t\t- Skipping!\n",
      "\t- Reading: 4.000000-t2tsecor-39139  (t2_tse_cor) (UNKNOWN)\n",
      "\t\t- Skipping!\n",
      "\t- Reading: 5.000000-t2tsetra-57549  (t2_tse_tra) (T2)\n",
      "\t\t- Done!\n",
      "\t- Reading: 6.000000-ep2ddifftraDYNDIST-24828  (ep2d_diff_tra_DYNDIST) (b)\n",
      "\t\t- Done!\n",
      "\t- Reading: 7.000000-ep2ddifftraDYNDISTADC-61224  (ep2d_diff_tra_DYNDIST_ADC) (ADC)\n",
      "\t\t- Done!\n",
      "\t- Reading: 8.000000-ep2ddifftraDYNDISTCALCBVAL-01416  (ep2d_diff_tra_DYNDISTCALC_BVAL) (diff)\n",
      "\t\t- Skipping!\n",
      "\t- Reading: 9.000000-tfl3d PD reftra1.5x1.5t3-13379  (tfl_3d PD ref_tra_1.5x1.5_t3) (unk)\n",
      "\t\t- Skipping!\n",
      "\t- Reading: ProstateX-0139-Ktrans.mhd (Ktrans) (ktrans)\n",
      "\t\t- Done!\n",
      "\n",
      "\t\t> (Blurrying ADC) Combining 5 images: #### -> Elapsed: 1.46s\n",
      " - Lesion positions and significances:\n",
      "   - 1: [171.73996949 208.81326481   5.00001262], Sig: 2\n",
      "   - 2: [155.69316887 225.96680818   8.99999616], Sig: 10\n",
      "   - 3: [183.91320919 233.71321524   6.00000615], Sig: 1\n",
      " - Information: resampling_operation with pre_mask_growth_mm applied to channels [2] on x,y dimensions\n"
     ]
    },
    {
     "data": {
      "application/vnd.jupyter.widget-view+json": {
       "model_id": "6c46f3f868f5456cb46075292136bbc9",
       "version_major": 2,
       "version_minor": 0
      },
      "text/plain": [
       "interactive(children=(IntSlider(value=12, description='z', max=23, style=SliderStyle(handle_color='lightblue')…"
      ]
     },
     "metadata": {},
     "output_type": "display_data"
    },
    {
     "data": {
      "application/vnd.jupyter.widget-view+json": {
       "model_id": "8a62a8356e4e452cab875886fcacd0a8",
       "version_major": 2,
       "version_minor": 0
      },
      "text/plain": [
       "interactive(children=(IntSlider(value=12, description='z', max=23, style=SliderStyle(handle_color='lightblue')…"
      ]
     },
     "metadata": {},
     "output_type": "display_data"
    },
    {
     "name": "stdout",
     "output_type": "stream",
     "text": [
      "\n",
      "ProstateX-0140\n",
      "Patient: ProstateX-0140 (date: 2012-02-22 00:00:00)\n",
      "\t- Reading: 3.000000-t2tsesag-06673  (t2_tse_sag) (UNKNOWN)\n",
      "\t\t- Skipping!\n",
      "\t- Reading: 4.000000-t2tsecor-82529  (t2_tse_cor) (UNKNOWN)\n",
      "\t\t- Skipping!\n",
      "\t- Reading: 5.000000-t2tsetra-00283  (t2_tse_tra) (T2)\n",
      "\t\t- Done!\n",
      "\t- Reading: 6.000000-ep2ddifftraDYNDIST-74241  (ep2d_diff_tra_DYNDIST) (b)\n",
      "\t\t- Done!\n",
      "\t- Reading: 7.000000-ep2ddifftraDYNDISTADC-10676  (ep2d_diff_tra_DYNDIST_ADC) (ADC)\n",
      "\t\t- Done!\n",
      "\t- Reading: 8.000000-ep2ddifftraDYNDISTCALCBVAL-39651  (ep2d_diff_tra_DYNDISTCALC_BVAL) (diff)\n",
      "\t\t- Skipping!\n",
      "\t- Reading: 9.000000-tfl3d PD reftra1.5x1.5t3-52181  (tfl_3d PD ref_tra_1.5x1.5_t3) (unk)\n",
      "\t\t- Skipping!\n",
      "\t- Reading: ProstateX-0140-Ktrans.mhd (Ktrans) (ktrans)\n",
      "\t\t- Done!\n",
      "\n",
      "\t\t> (Blurrying ADC) Combining 5 images: #### -> Elapsed: 1.48s\n",
      " - Lesion positions and significances:\n",
      "   - 1: [139.86559486 208.38235756   9.00001636], Sig: 10\n",
      "   - 2: [202.28199577 224.53671177  17.00000435], Sig: 10\n",
      " - Information: resampling_operation with pre_mask_growth_mm applied to channels [2] on x,y dimensions\n"
     ]
    },
    {
     "data": {
      "application/vnd.jupyter.widget-view+json": {
       "model_id": "0728371bb55a4ac3b0ac3ae550945f6f",
       "version_major": 2,
       "version_minor": 0
      },
      "text/plain": [
       "interactive(children=(IntSlider(value=12, description='z', max=23, style=SliderStyle(handle_color='lightblue')…"
      ]
     },
     "metadata": {},
     "output_type": "display_data"
    },
    {
     "data": {
      "application/vnd.jupyter.widget-view+json": {
       "model_id": "9fdc1bcd7dfa414cae41571d4315d4a7",
       "version_major": 2,
       "version_minor": 0
      },
      "text/plain": [
       "interactive(children=(IntSlider(value=12, description='z', max=23, style=SliderStyle(handle_color='lightblue')…"
      ]
     },
     "metadata": {},
     "output_type": "display_data"
    },
    {
     "name": "stdout",
     "output_type": "stream",
     "text": [
      "\n",
      "ProstateX-0141\n",
      "Patient: ProstateX-0141 (date: 2012-02-27 00:00:00)\n",
      "\t- Reading: 10.000000-tfl3d PD reftra1.5x1.5t3-50701  (tfl_3d PD ref_tra_1.5x1.5_t3) (unk)\n",
      "\t\t- Skipping!\n",
      "\t- Reading: 3.000000-t2tsesag-94777  (t2_tse_sag) (UNKNOWN)\n",
      "\t\t- Skipping!\n",
      "\t- Reading: 4.000000-t2tsetra-41825  (t2_tse_tra) (T2)\n",
      "\t\t- Done!\n",
      "\t- Reading: 5.000000-t2tsecor-88100  (t2_tse_cor) (UNKNOWN)\n",
      "\t\t- Skipping!\n",
      "\t- Reading: 6.000000-t2tsetra-95919  (t2_tse_tra) (T2)\n",
      "\t\t- Done!\n",
      "\t- Reading: 7.000000-ep2ddifftraDYNDIST-61241  (ep2d_diff_tra_DYNDIST) (b)\n",
      "\t\t- Done!\n",
      "\t- Reading: 8.000000-ep2ddifftraDYNDISTADC-49959  (ep2d_diff_tra_DYNDIST_ADC) (ADC)\n",
      "\t\t- Done!\n",
      "\t- Reading: 9.000000-ep2ddifftraDYNDISTCALCBVAL-68482  (ep2d_diff_tra_DYNDISTCALC_BVAL) (diff)\n",
      "\t\t- Skipping!\n",
      "\t- Reading: ProstateX-0141-Ktrans.mhd (Ktrans) (ktrans)\n",
      "\t\t- Done!\n",
      "\n",
      "\t\t> (Blurrying ADC) Combining 5 images: #### -> Elapsed: 3.75s\n",
      " - Lesion positions and significances:\n",
      "   - 1: [313.31498471 306.13332268  12.00000628], Sig: 1\n",
      "   - 2: [272.355145   372.62673901   9.00000177], Sig: 10\n",
      "   - 3: [350.30848154 359.83344247   9.99998661], Sig: 10\n",
      " - Information: resampling_operation with pre_mask_growth_mm applied to channels [2] on x,y dimensions\n"
     ]
    },
    {
     "data": {
      "application/vnd.jupyter.widget-view+json": {
       "model_id": "f3a5649a58f44bd487818befd7c243d6",
       "version_major": 2,
       "version_minor": 0
      },
      "text/plain": [
       "interactive(children=(IntSlider(value=12, description='z', max=23, style=SliderStyle(handle_color='lightblue')…"
      ]
     },
     "metadata": {},
     "output_type": "display_data"
    },
    {
     "data": {
      "application/vnd.jupyter.widget-view+json": {
       "model_id": "28e60fb6e0f04cd795b470ede9e519a1",
       "version_major": 2,
       "version_minor": 0
      },
      "text/plain": [
       "interactive(children=(IntSlider(value=12, description='z', max=23, style=SliderStyle(handle_color='lightblue')…"
      ]
     },
     "metadata": {},
     "output_type": "display_data"
    },
    {
     "name": "stdout",
     "output_type": "stream",
     "text": [
      "\n",
      "ProstateX-0142\n",
      "Patient: ProstateX-0142 (date: 2012-03-01 00:00:00)\n",
      "\t- Reading: 3.000000-t2tsesag-06524  (t2_tse_sag) (UNKNOWN)\n",
      "\t\t- Skipping!\n",
      "\t- Reading: 4.000000-t2tsetra-79128  (t2_tse_tra) (T2)\n",
      "\t\t- Done!\n",
      "\t- Reading: 5.000000-t2tsecor-63584  (t2_tse_cor) (UNKNOWN)\n",
      "\t\t- Skipping!\n",
      "\t- Reading: 6.000000-ep2ddifftraDYNDIST-51493  (ep2d_diff_tra_DYNDIST) (b)\n",
      "\t\t- Done!\n",
      "\t- Reading: 7.000000-ep2ddifftraDYNDISTADC-25871  (ep2d_diff_tra_DYNDIST_ADC) (ADC)\n",
      "\t\t- Done!\n",
      "\t- Reading: 8.000000-ep2ddifftraDYNDISTCALCBVAL-35975  (ep2d_diff_tra_DYNDISTCALC_BVAL) (diff)\n",
      "\t\t- Skipping!\n",
      "\t- Reading: 9.000000-tfl3d PD reftra1.5x1.5t3-61672  (tfl_3d PD ref_tra_1.5x1.5_t3) (unk)\n",
      "\t\t- Skipping!\n",
      "\t- Reading: ProstateX-0142-Ktrans.mhd (Ktrans) (ktrans)\n",
      "\t\t- Done!\n",
      "\n",
      "\t\t> (Blurrying ADC) Combining 5 images: #### -> Elapsed: 1.37s\n",
      " - Lesion positions and significances:\n",
      "   - 1: [196.0867157  172.84683032   5.99998964], Sig: 10\n",
      "   - 2: [237.7789154  232.19392811  11.57512646], Sig: 10\n",
      "   - 3: [175.05991364 147.39326312  13.0000088 ], Sig: 1\n",
      " - Information: resampling_operation with pre_mask_growth_mm applied to channels [2] on x,y dimensions\n"
     ]
    },
    {
     "data": {
      "application/vnd.jupyter.widget-view+json": {
       "model_id": "5843f4d7f9144b07b62420151282e20d",
       "version_major": 2,
       "version_minor": 0
      },
      "text/plain": [
       "interactive(children=(IntSlider(value=12, description='z', max=23, style=SliderStyle(handle_color='lightblue')…"
      ]
     },
     "metadata": {},
     "output_type": "display_data"
    },
    {
     "data": {
      "application/vnd.jupyter.widget-view+json": {
       "model_id": "c1313d333f194a209d131f355fd270a6",
       "version_major": 2,
       "version_minor": 0
      },
      "text/plain": [
       "interactive(children=(IntSlider(value=12, description='z', max=23, style=SliderStyle(handle_color='lightblue')…"
      ]
     },
     "metadata": {},
     "output_type": "display_data"
    },
    {
     "name": "stdout",
     "output_type": "stream",
     "text": [
      "\n",
      "ProstateX-0143\n",
      "Patient: ProstateX-0143 (date: 2012-03-01 00:00:00)\n",
      "\t- Reading: 3.000000-t2tsesag-85471  (t2_tse_sag) (UNKNOWN)\n",
      "\t\t- Skipping!\n",
      "\t- Reading: 4.000000-t2tsecor-68741  (t2_tse_cor) (UNKNOWN)\n",
      "\t\t- Skipping!\n",
      "\t- Reading: 5.000000-t2tsetra-21277  (t2_tse_tra) (T2)\n",
      "\t\t- Done!\n",
      "\t- Reading: 6.000000-ep2ddifftraDYNDIST-08716  (ep2d_diff_tra_DYNDIST) (b)\n",
      "\t\t- Done!\n",
      "\t- Reading: 7.000000-ep2ddifftraDYNDISTADC-76588  (ep2d_diff_tra_DYNDIST_ADC) (ADC)\n",
      "\t\t- Done!\n",
      "\t- Reading: 8.000000-ep2ddifftraDYNDISTCALCBVAL-89457  (ep2d_diff_tra_DYNDISTCALC_BVAL) (diff)\n",
      "\t\t- Skipping!\n",
      "\t- Reading: 9.000000-tfl3d PD reftra1.5x1.5t3-45839  (tfl_3d PD ref_tra_1.5x1.5_t3) (unk)\n",
      "\t\t- Skipping!\n",
      "\t- Reading: ProstateX-0143-Ktrans.mhd (Ktrans) (ktrans)\n",
      "\t\t- Done!\n",
      "\n",
      "\t\t> (Blurrying ADC) Combining 5 images: #### -> Elapsed: 1.43s\n",
      " - Lesion positions and significances:\n",
      "   - 1: [177.23982027 182.80681046   6.06065542], Sig: 2\n",
      " - Information: resampling_operation with pre_mask_growth_mm applied to channels [2] on x,y dimensions\n"
     ]
    },
    {
     "data": {
      "application/vnd.jupyter.widget-view+json": {
       "model_id": "24c65bcc0f684457bb2abb5e2c61eb3d",
       "version_major": 2,
       "version_minor": 0
      },
      "text/plain": [
       "interactive(children=(IntSlider(value=12, description='z', max=23, style=SliderStyle(handle_color='lightblue')…"
      ]
     },
     "metadata": {},
     "output_type": "display_data"
    },
    {
     "data": {
      "application/vnd.jupyter.widget-view+json": {
       "model_id": "7ac1473d24124b9b8e7b01d64acd6baa",
       "version_major": 2,
       "version_minor": 0
      },
      "text/plain": [
       "interactive(children=(IntSlider(value=12, description='z', max=23, style=SliderStyle(handle_color='lightblue')…"
      ]
     },
     "metadata": {},
     "output_type": "display_data"
    },
    {
     "name": "stdout",
     "output_type": "stream",
     "text": [
      "\n",
      "ProstateX-0144\n",
      "Patient: ProstateX-0144 (date: 2012-03-08 00:00:00)\n",
      "\t- Reading: 1.000000-t2localizer-96447  (t2_localizer) (UNKNOWN)\n",
      "\t\t- Skipping!\n",
      "\t- Reading: 2.000000-t2loc sag-46543  (t2_loc sag) (UNKNOWN)\n",
      "\t\t- Skipping!\n",
      "\t- Reading: 3.000000-t2tsesag-24593  (t2_tse_sag) (UNKNOWN)\n",
      "\t\t- Skipping!\n",
      "\t- Reading: 4.000000-t2tsetra-54592  (t2_tse_tra) (T2)\n",
      "\t\t- Done!\n",
      "\t- Reading: 5.000000-t2tsecor-27736  (t2_tse_cor) (UNKNOWN)\n",
      "\t\t- Skipping!\n",
      "\t- Reading: 6.000000-ep2ddifftraDYNDIST-30560  (ep2d_diff_tra_DYNDIST) (b)\n",
      "\t\t- Done!\n",
      "\t- Reading: 7.000000-ep2ddifftraDYNDISTADC-34795  (ep2d_diff_tra_DYNDIST_ADC) (ADC)\n",
      "\t\t- Done!\n",
      "\t- Reading: 8.000000-ep2ddifftraDYNDISTCALCBVAL-19178  (ep2d_diff_tra_DYNDISTCALC_BVAL) (diff)\n",
      "\t\t- Skipping!\n",
      "\t- Reading: 9.000000-tfl3d PD reftra1.5x1.5t3-76731  (tfl_3d PD ref_tra_1.5x1.5_t3) (unk)\n",
      "\t\t- Skipping!\n",
      "\t- Reading: ProstateX-0144-Ktrans.mhd (Ktrans) (ktrans)\n",
      "\t\t- Done!\n",
      "\n",
      "\t\t> (Blurrying ADC) Combining 5 images: #### -> Elapsed: 1.32s\n",
      " - Lesion positions and significances:\n",
      "   - 1: [174.50680691 208.81320577  12.00001219], Sig: 10\n",
      "   - 2: [227.24694592 195.17003693  10.99998621], Sig: 10\n",
      "   - 3: [192.76679939 195.5332503    6.00000111], Sig: 10\n",
      " - Information: resampling_operation with pre_mask_growth_mm applied to channels [2] on x,y dimensions\n"
     ]
    },
    {
     "data": {
      "application/vnd.jupyter.widget-view+json": {
       "model_id": "1ed93b629617496d8ec61de14be11a79",
       "version_major": 2,
       "version_minor": 0
      },
      "text/plain": [
       "interactive(children=(IntSlider(value=12, description='z', max=23, style=SliderStyle(handle_color='lightblue')…"
      ]
     },
     "metadata": {},
     "output_type": "display_data"
    },
    {
     "data": {
      "application/vnd.jupyter.widget-view+json": {
       "model_id": "da6d69e89fac4fba82195d0a8d9682dd",
       "version_major": 2,
       "version_minor": 0
      },
      "text/plain": [
       "interactive(children=(IntSlider(value=12, description='z', max=23, style=SliderStyle(handle_color='lightblue')…"
      ]
     },
     "metadata": {},
     "output_type": "display_data"
    },
    {
     "name": "stdout",
     "output_type": "stream",
     "text": [
      "\n",
      "ProstateX-0145\n",
      "Patient: ProstateX-0145 (date: 2011-08-11 00:00:00)\n",
      "\t- Reading: 3.000000-t2tsesag-17805  (t2_tse_sag) (UNKNOWN)\n",
      "\t\t- Skipping!\n",
      "\t- Reading: 4.000000-t2tsetra-61709  (t2_tse_tra) (T2)\n",
      "\t\t- Done!\n",
      "\t- Reading: 5.000000-t2tsecor-03972  (t2_tse_cor) (UNKNOWN)\n",
      "\t\t- Skipping!\n",
      "\t- Reading: 6.000000-ep2ddifftraDYNDISTMIX-17752  (ep2d_diff_tra_DYNDIST_MIX) (b)\n",
      "\t\t- Done!\n",
      "\t- Reading: 7.000000-ep2ddifftraDYNDISTMIXADC-83985  (ep2d_diff_tra_DYNDIST_MIX_ADC) (ADC)\n",
      "\t\t- Done!\n",
      "\t- Reading: 8.000000-ep2ddifftraDYNDISTMIXCALCBVAL-16582  (ep2d_diff_tra_DYNDIST_MIXCALC_BVAL) (diff)\n",
      "\t\t- Skipping!\n",
      "\t- Reading: 9.000000-tfl3d PD reftra1.5x1.5t3-42394  (tfl_3d PD ref_tra_1.5x1.5_t3) (unk)\n",
      "\t\t- Skipping!\n",
      "\t- Reading: ProstateX-0145-Ktrans.mhd (Ktrans) (ktrans)\n",
      "\t\t- Done!\n",
      "\n",
      "\t\t> (Blurrying ADC) Combining 5 images: #### -> Elapsed: 1.51s\n",
      " - Lesion positions and significances:\n",
      "   - 1: [187.71401787 172.57108351  12.00002969], Sig: 1\n",
      " - Information: resampling_operation with pre_mask_growth_mm applied to channels [2] on x,y dimensions\n"
     ]
    },
    {
     "data": {
      "application/vnd.jupyter.widget-view+json": {
       "model_id": "6b68667a4eee40b0bec3ffb66c939081",
       "version_major": 2,
       "version_minor": 0
      },
      "text/plain": [
       "interactive(children=(IntSlider(value=12, description='z', max=23, style=SliderStyle(handle_color='lightblue')…"
      ]
     },
     "metadata": {},
     "output_type": "display_data"
    },
    {
     "data": {
      "application/vnd.jupyter.widget-view+json": {
       "model_id": "d67a9fbad7324f66bd32657c19b28676",
       "version_major": 2,
       "version_minor": 0
      },
      "text/plain": [
       "interactive(children=(IntSlider(value=12, description='z', max=23, style=SliderStyle(handle_color='lightblue')…"
      ]
     },
     "metadata": {},
     "output_type": "display_data"
    },
    {
     "name": "stdout",
     "output_type": "stream",
     "text": [
      "\n",
      "ProstateX-0146\n",
      "Patient: ProstateX-0146 (date: 2012-03-08 00:00:00)\n",
      "\t- Reading: 1.000000-t2localizer-22698  (t2_localizer) (UNKNOWN)\n",
      "\t\t- Skipping!\n",
      "\t- Reading: 2.000000-t2loc sag-14179  (t2_loc sag) (UNKNOWN)\n",
      "\t\t- Skipping!\n",
      "\t- Reading: 3.000000-t2tsesag-57633  (t2_tse_sag) (UNKNOWN)\n",
      "\t\t- Skipping!\n",
      "\t- Reading: 4.000000-t2tsetra-76067  (t2_tse_tra) (T2)\n",
      "\t\t- Done!\n",
      "\t- Reading: 5.000000-t2tsecor-23856  (t2_tse_cor) (UNKNOWN)\n",
      "\t\t- Skipping!\n",
      "\t- Reading: 6.000000-ep2ddifftraDYNDISTMIX-40682  (ep2d_diff_tra_DYNDIST_MIX) (b)\n",
      "\t\t- Done!\n",
      "\t- Reading: 7.000000-ep2ddifftraDYNDISTMIXADC-64494  (ep2d_diff_tra_DYNDIST_MIX_ADC) (ADC)\n",
      "\t\t- Done!\n",
      "\t- Reading: 8.000000-ep2ddifftraDYNDISTMIXCALCBVAL-31346  (ep2d_diff_tra_DYNDIST_MIXCALC_BVAL) (diff)\n",
      "\t\t- Skipping!\n",
      "\t- Reading: 9.000000-tfl3d PD reftra1.5x1.5t3-83100  (tfl_3d PD ref_tra_1.5x1.5_t3) (unk)\n",
      "\t\t- Skipping!\n",
      "\t- Reading: ProstateX-0146-Ktrans.mhd (Ktrans) (ktrans)\n",
      "\t\t- Done!\n",
      "\n",
      "\t\t> (Blurrying ADC) Combining 5 images: #### -> Elapsed: 1.40s\n",
      " - Lesion positions and significances:\n",
      "   - 1: [210.31710052 218.62754093  12.99997361], Sig: 10\n",
      " - Information: resampling_operation with pre_mask_growth_mm applied to channels [2] on x,y dimensions\n"
     ]
    },
    {
     "data": {
      "application/vnd.jupyter.widget-view+json": {
       "model_id": "41d49e17c26f4b0aa630352151b7c7c3",
       "version_major": 2,
       "version_minor": 0
      },
      "text/plain": [
       "interactive(children=(IntSlider(value=12, description='z', max=23, style=SliderStyle(handle_color='lightblue')…"
      ]
     },
     "metadata": {},
     "output_type": "display_data"
    },
    {
     "data": {
      "application/vnd.jupyter.widget-view+json": {
       "model_id": "1801f8ae1c3c41c69e319c48a9273d2e",
       "version_major": 2,
       "version_minor": 0
      },
      "text/plain": [
       "interactive(children=(IntSlider(value=12, description='z', max=23, style=SliderStyle(handle_color='lightblue')…"
      ]
     },
     "metadata": {},
     "output_type": "display_data"
    },
    {
     "name": "stdout",
     "output_type": "stream",
     "text": [
      "\n",
      "ProstateX-0147\n",
      "Patient: ProstateX-0147 (date: 2012-03-11 00:00:00)\n",
      "\t- Reading: 1.000000-t2localizer-62775  (t2_localizer) (UNKNOWN)\n",
      "\t\t- Skipping!\n",
      "\t- Reading: 10.000000-tfl3d PD reftra1.5x1.5t3-27450  (tfl_3d PD ref_tra_1.5x1.5_t3) (unk)\n",
      "\t\t- Skipping!\n",
      "\t- Reading: 2.000000-t2loc sag-18334  (t2_loc sag) (UNKNOWN)\n",
      "\t\t- Skipping!\n",
      "\t- Reading: 3.000000-t2tsesag-95477  (t2_tse_sag) (UNKNOWN)\n",
      "\t\t- Skipping!\n",
      "\t- Reading: 4.000000-t2tsetra-62860  (t2_tse_tra) (T2)\n",
      "\t\t- Done!\n",
      "\t- Reading: 5.000000-t2tsecor-91155  (t2_tse_cor) (UNKNOWN)\n",
      "\t\t- Skipping!\n",
      "\t- Reading: 6.000000-ep2ddifftraDYNDIST-16402  (ep2d_diff_tra_DYNDIST) (b)\n",
      "\t\t- Done!\n",
      "\t- Reading: 7.000000-ep2ddifftraDYNDISTADC-29405  (ep2d_diff_tra_DYNDIST_ADC) (ADC)\n",
      "\t\t- Done!\n",
      "\t- Reading: 8.000000-ep2ddifftraDYNDISTCALCBVAL-33765  (ep2d_diff_tra_DYNDISTCALC_BVAL) (diff)\n",
      "\t\t- Skipping!\n",
      "\t- Reading: 9.000000-t2tsetra-48099  (t2_tse_tra) (T2)\n",
      "\t\t- Done!\n",
      "\t- Reading: ProstateX-0147-Ktrans.mhd (Ktrans) (ktrans)\n",
      "\t\t- Done!\n",
      "\n",
      "\t\t> (Blurrying ADC) Combining 5 images: #### -> Elapsed: 1.41s\n",
      " - Lesion positions and significances:\n",
      "   - 1: [153.83800163 233.31105127   7.00000819], Sig: 10\n",
      "   - 2: [196.08675023 174.50676285  10.74998946], Sig: 10\n",
      " - Information: resampling_operation with pre_mask_growth_mm applied to channels [2] on x,y dimensions\n"
     ]
    },
    {
     "data": {
      "application/vnd.jupyter.widget-view+json": {
       "model_id": "9c8d2909e677491187af505b57dedbcd",
       "version_major": 2,
       "version_minor": 0
      },
      "text/plain": [
       "interactive(children=(IntSlider(value=12, description='z', max=23, style=SliderStyle(handle_color='lightblue')…"
      ]
     },
     "metadata": {},
     "output_type": "display_data"
    },
    {
     "data": {
      "application/vnd.jupyter.widget-view+json": {
       "model_id": "e3ac2591326341d09919fa3413a74540",
       "version_major": 2,
       "version_minor": 0
      },
      "text/plain": [
       "interactive(children=(IntSlider(value=12, description='z', max=23, style=SliderStyle(handle_color='lightblue')…"
      ]
     },
     "metadata": {},
     "output_type": "display_data"
    },
    {
     "name": "stdout",
     "output_type": "stream",
     "text": [
      "\n",
      "ProstateX-0148\n",
      "Patient: ProstateX-0148 (date: 2012-03-12 00:00:00)\n",
      "\t- Reading: 10.000000-tfl3d PD reftra1.5x1.5t3-60947  (tfl_3d PD ref_tra_1.5x1.5_t3) (unk)\n",
      "\t\t- Skipping!\n",
      "\t- Reading: 2.000000-t2loc sag-30665  (t2_loc sag) (UNKNOWN)\n",
      "\t\t- Skipping!\n",
      "\t- Reading: 3.000000-t2tsesag-68119  (t2_tse_sag) (UNKNOWN)\n",
      "\t\t- Skipping!\n",
      "\t- Reading: 4.000000-t2tsetra-34347  (t2_tse_tra) (T2)\n",
      "\t\t- Done!\n",
      "\t- Reading: 5.000000-t2tsecor-75969  (t2_tse_cor) (UNKNOWN)\n",
      "\t\t- Skipping!\n",
      "\t- Reading: 6.000000-t2tsetra-64911  (t2_tse_tra) (T2)\n",
      "\t\t- Done!\n",
      "\t- Reading: 7.000000-ep2ddifftraDYNDIST-81125  (ep2d_diff_tra_DYNDIST) (b)\n",
      "\t\t- Done!\n",
      "\t- Reading: 8.000000-ep2ddifftraDYNDISTADC-26667  (ep2d_diff_tra_DYNDIST_ADC) (ADC)\n",
      "\t\t- Done!\n",
      "\t- Reading: 9.000000-ep2ddifftraDYNDISTCALCBVAL-83730  (ep2d_diff_tra_DYNDISTCALC_BVAL) (diff)\n",
      "\t\t- Skipping!\n",
      "\t- Reading: ProstateX-0148-Ktrans.mhd (Ktrans) (ktrans)\n",
      "\t\t- Done!\n",
      "\n",
      "\t\t> (Blurrying ADC) Combining 5 images: #### -> Elapsed: 1.33s\n",
      " - Lesion positions and significances:\n",
      "   - 1: [198.85323907 163.99313859   2.99999174], Sig: 2\n",
      "   - 2: [146.8400383  207.70670636   4.00001062], Sig: 10\n",
      " - Information: resampling_operation with pre_mask_growth_mm applied to channels [2] on x,y dimensions\n"
     ]
    },
    {
     "data": {
      "application/vnd.jupyter.widget-view+json": {
       "model_id": "7effc73ed5954f3d91263c5ed812e6b4",
       "version_major": 2,
       "version_minor": 0
      },
      "text/plain": [
       "interactive(children=(IntSlider(value=12, description='z', max=23, style=SliderStyle(handle_color='lightblue')…"
      ]
     },
     "metadata": {},
     "output_type": "display_data"
    },
    {
     "data": {
      "application/vnd.jupyter.widget-view+json": {
       "model_id": "bb42f4be470e408b92f7fc22c715a90c",
       "version_major": 2,
       "version_minor": 0
      },
      "text/plain": [
       "interactive(children=(IntSlider(value=12, description='z', max=23, style=SliderStyle(handle_color='lightblue')…"
      ]
     },
     "metadata": {},
     "output_type": "display_data"
    },
    {
     "name": "stdout",
     "output_type": "stream",
     "text": [
      "\n",
      "ProstateX-0149\n",
      "Patient: ProstateX-0149 (date: 2012-03-12 00:00:00)\n",
      "\t- Reading: 1.000000-t2localizer-86268  (t2_localizer) (UNKNOWN)\n",
      "\t\t- Skipping!\n",
      "\t- Reading: 10.000000-tfl3d PD reftra1.5x1.5t3-51930  (tfl_3d PD ref_tra_1.5x1.5_t3) (unk)\n",
      "\t\t- Skipping!\n",
      "\t- Reading: 2.000000-t2loc sag-57779  (t2_loc sag) (UNKNOWN)\n",
      "\t\t- Skipping!\n",
      "\t- Reading: 3.000000-t2tsesag-91607  (t2_tse_sag) (UNKNOWN)\n",
      "\t\t- Skipping!\n",
      "\t- Reading: 4.000000-t2tsetra-57840  (t2_tse_tra) (T2)\n",
      "\t\t- Done!\n",
      "\t- Reading: 5.000000-t2tsecor-63162  (t2_tse_cor) (UNKNOWN)\n",
      "\t\t- Skipping!\n",
      "\t- Reading: 6.000000-ep2ddifftraDYNDIST-65675  (ep2d_diff_tra_DYNDIST) (b)\n",
      "\t\t- Done!\n",
      "\t- Reading: 7.000000-ep2ddifftraDYNDISTADC-27543  (ep2d_diff_tra_DYNDIST_ADC) (ADC)\n",
      "\t\t- Done!\n",
      "\t- Reading: 8.000000-ep2ddifftraDYNDISTCALCBVAL-77774  (ep2d_diff_tra_DYNDISTCALC_BVAL) (diff)\n",
      "\t\t- Skipping!\n",
      "\t- Reading: 9.000000-t2tsetra-83985  (t2_tse_tra) (T2)\n",
      "\t\t- Done!\n",
      "\t- Reading: ProstateX-0149-Ktrans.mhd (Ktrans) (ktrans)\n",
      "\t\t- Done!\n",
      "\n",
      "\t\t> (Blurrying ADC) Combining 5 images: #### -> Elapsed: 1.34s\n",
      " - Lesion positions and significances:\n",
      "   - 1: [202.72499846 236.85513481   8.9999921 ], Sig: 10\n",
      "   - 2: [171.69999646 235.37315585   9.00001222], Sig: 10\n",
      " - Information: resampling_operation with pre_mask_growth_mm applied to channels [2] on x,y dimensions\n"
     ]
    },
    {
     "data": {
      "application/vnd.jupyter.widget-view+json": {
       "model_id": "62d3d3a6521648a19a69900e72183a4e",
       "version_major": 2,
       "version_minor": 0
      },
      "text/plain": [
       "interactive(children=(IntSlider(value=12, description='z', max=23, style=SliderStyle(handle_color='lightblue')…"
      ]
     },
     "metadata": {},
     "output_type": "display_data"
    },
    {
     "data": {
      "application/vnd.jupyter.widget-view+json": {
       "model_id": "efa5b958b654413eb518bb0102426d3f",
       "version_major": 2,
       "version_minor": 0
      },
      "text/plain": [
       "interactive(children=(IntSlider(value=12, description='z', max=23, style=SliderStyle(handle_color='lightblue')…"
      ]
     },
     "metadata": {},
     "output_type": "display_data"
    },
    {
     "name": "stdout",
     "output_type": "stream",
     "text": [
      "\n",
      "ProstateX-0150\n",
      "Patient: ProstateX-0150 (date: 2012-03-15 00:00:00)\n",
      "\t- Reading: 3.000000-t2tsesag-33696  (t2_tse_sag) (UNKNOWN)\n",
      "\t\t- Skipping!\n",
      "\t- Reading: 4.000000-t2tsetra-41386  (t2_tse_tra) (T2)\n",
      "\t\t- Done!\n",
      "\t- Reading: 5.000000-t2tsecor-17114  (t2_tse_cor) (UNKNOWN)\n",
      "\t\t- Skipping!\n",
      "\t- Reading: 6.000000-ep2ddifftraDYNDIST-80669  (ep2d_diff_tra_DYNDIST) (b)\n",
      "\t\t- Done!\n",
      "\t- Reading: 7.000000-ep2ddifftraDYNDISTADC-74668  (ep2d_diff_tra_DYNDIST_ADC) (ADC)\n",
      "\t\t- Done!\n",
      "\t- Reading: 8.000000-ep2ddifftraDYNDISTCALCBVAL-41823  (ep2d_diff_tra_DYNDISTCALC_BVAL) (diff)\n",
      "\t\t- Skipping!\n",
      "\t- Reading: 9.000000-tfl3d PD reftra1.5x1.5t3-94951  (tfl_3d PD ref_tra_1.5x1.5_t3) (unk)\n",
      "\t\t- Skipping!\n",
      "\t- Reading: ProstateX-0150-Ktrans.mhd (Ktrans) (ktrans)\n",
      "\t\t- Done!\n",
      "\n",
      "\t\t> (Blurrying ADC) Combining 5 images: #### -> Elapsed: 1.43s\n",
      " - Lesion positions and significances:\n",
      "   - 1: [144.50148766 172.68448126   9.89579654], Sig: 1\n",
      "   - 2: [209.90452604 178.14035928  10.89578143], Sig: 1\n",
      " - Information: resampling_operation with pre_mask_growth_mm applied to channels [2] on x,y dimensions\n"
     ]
    },
    {
     "data": {
      "application/vnd.jupyter.widget-view+json": {
       "model_id": "5ae0d2860e824812afda8288f29b03cd",
       "version_major": 2,
       "version_minor": 0
      },
      "text/plain": [
       "interactive(children=(IntSlider(value=12, description='z', max=23, style=SliderStyle(handle_color='lightblue')…"
      ]
     },
     "metadata": {},
     "output_type": "display_data"
    },
    {
     "data": {
      "application/vnd.jupyter.widget-view+json": {
       "model_id": "6eda4040489b45fe8b4d987831992069",
       "version_major": 2,
       "version_minor": 0
      },
      "text/plain": [
       "interactive(children=(IntSlider(value=12, description='z', max=23, style=SliderStyle(handle_color='lightblue')…"
      ]
     },
     "metadata": {},
     "output_type": "display_data"
    },
    {
     "name": "stdout",
     "output_type": "stream",
     "text": [
      "\n",
      "ProstateX-0151\n",
      "Patient: ProstateX-0151 (date: 2012-03-18 00:00:00)\n",
      "\t- Reading: 3.000000-t2tsesag-58664  (t2_tse_sag) (UNKNOWN)\n",
      "\t\t- Skipping!\n",
      "\t- Reading: 4.000000-t2tsecor-18927  (t2_tse_cor) (UNKNOWN)\n",
      "\t\t- Skipping!\n",
      "\t- Reading: 5.000000-t2tsetra-96224  (t2_tse_tra) (T2)\n",
      "\t\t- Done!\n",
      "\t- Reading: 6.000000-ep2ddifftraDYNDIST-92325  (ep2d_diff_tra_DYNDIST) (b)\n",
      "\t\t- Done!\n",
      "\t- Reading: 7.000000-ep2ddifftraDYNDISTADC-75959  (ep2d_diff_tra_DYNDIST_ADC) (ADC)\n",
      "\t\t- Done!\n",
      "\t- Reading: 8.000000-ep2ddifftraDYNDISTCALCBVAL-17964  (ep2d_diff_tra_DYNDISTCALC_BVAL) (diff)\n",
      "\t\t- Skipping!\n",
      "\t- Reading: 9.000000-tfl3d PD reftra1.5x1.5t3-08695  (tfl_3d PD ref_tra_1.5x1.5_t3) (unk)\n",
      "\t\t- Skipping!\n",
      "\t- Reading: ProstateX-0151-Ktrans.mhd (Ktrans) (ktrans)\n",
      "\t\t- Done!\n",
      "\n",
      "\t\t> (Blurrying ADC) Combining 5 images: #### -> Elapsed: 1.48s\n",
      " - Lesion positions and significances:\n",
      "   - 1: [150.08563827 239.22282087   5.08158661], Sig: 10\n",
      "   - 2: [183.55199647 185.00294574   8.00000476], Sig: 10\n",
      " - Information: resampling_operation with pre_mask_growth_mm applied to channels [2] on x,y dimensions\n"
     ]
    },
    {
     "data": {
      "application/vnd.jupyter.widget-view+json": {
       "model_id": "db767dc062d742e984bb2b51f8b5ecc2",
       "version_major": 2,
       "version_minor": 0
      },
      "text/plain": [
       "interactive(children=(IntSlider(value=12, description='z', max=23, style=SliderStyle(handle_color='lightblue')…"
      ]
     },
     "metadata": {},
     "output_type": "display_data"
    },
    {
     "data": {
      "application/vnd.jupyter.widget-view+json": {
       "model_id": "411d275e7bc74ec4af24fb1de86378f0",
       "version_major": 2,
       "version_minor": 0
      },
      "text/plain": [
       "interactive(children=(IntSlider(value=12, description='z', max=23, style=SliderStyle(handle_color='lightblue')…"
      ]
     },
     "metadata": {},
     "output_type": "display_data"
    },
    {
     "name": "stdout",
     "output_type": "stream",
     "text": [
      "\n",
      "ProstateX-0152\n",
      "Patient: ProstateX-0152 (date: 2012-03-18 00:00:00)\n",
      "\t- Reading: 10.000000-tfl3d PD reftra1.5x1.5t3-27694  (tfl_3d PD ref_tra_1.5x1.5_t3) (unk)\n",
      "\t\t- Skipping!\n",
      "\t- Reading: 3.000000-t2tsesag-00516  (t2_tse_sag) (UNKNOWN)\n",
      "\t\t- Skipping!\n",
      "\t- Reading: 4.000000-t2tsetra-41517  (t2_tse_tra) (T2)\n",
      "\t\t- Done!\n",
      "\t- Reading: 5.000000-t2tsecor-13878  (t2_tse_cor) (UNKNOWN)\n",
      "\t\t- Skipping!\n",
      "\t- Reading: 6.000000-ep2ddifftraDYNDIST-95491  (ep2d_diff_tra_DYNDIST) (b)\n",
      "\t\t- Done!\n",
      "\t- Reading: 7.000000-ep2ddifftraDYNDISTADC-15493  (ep2d_diff_tra_DYNDIST_ADC) (ADC)\n",
      "\t\t- Done!\n",
      "\t- Reading: 8.000000-ep2ddifftraDYNDISTCALCBVAL-64201  (ep2d_diff_tra_DYNDISTCALC_BVAL) (diff)\n",
      "\t\t- Skipping!\n",
      "\t- Reading: 9.000000-t2tsetra-93280  (t2_tse_tra) (T2)\n",
      "\t\t- Done!\n",
      "\t- Reading: ProstateX-0152-Ktrans.mhd (Ktrans) (ktrans)\n",
      "\t\t- Done!\n",
      "\n",
      "\t\t> (Blurrying ADC) Combining 5 images: #### -> Elapsed: 0.95s\n",
      " - Lesion positions and significances:\n",
      "   - 1: [148.36200825 165.35868095   9.0000009 ], Sig: 1\n",
      " - Information: resampling_operation with pre_mask_growth_mm applied to channels [2] on x,y dimensions\n"
     ]
    },
    {
     "data": {
      "application/vnd.jupyter.widget-view+json": {
       "model_id": "8542d60205f44c019ab006babd2256b6",
       "version_major": 2,
       "version_minor": 0
      },
      "text/plain": [
       "interactive(children=(IntSlider(value=12, description='z', max=23, style=SliderStyle(handle_color='lightblue')…"
      ]
     },
     "metadata": {},
     "output_type": "display_data"
    },
    {
     "data": {
      "application/vnd.jupyter.widget-view+json": {
       "model_id": "172839c71b5c4f69af38272edc88c4d5",
       "version_major": 2,
       "version_minor": 0
      },
      "text/plain": [
       "interactive(children=(IntSlider(value=12, description='z', max=23, style=SliderStyle(handle_color='lightblue')…"
      ]
     },
     "metadata": {},
     "output_type": "display_data"
    },
    {
     "name": "stdout",
     "output_type": "stream",
     "text": [
      "\n",
      "ProstateX-0153\n",
      "Patient: ProstateX-0153 (date: 2012-03-19 00:00:00)\n",
      "\t- Reading: 1.000000-t2localizer-63905  (t2_localizer) (UNKNOWN)\n",
      "\t\t- Skipping!\n",
      "\t- Reading: 2.000000-t2loc sag-31309  (t2_loc sag) (UNKNOWN)\n",
      "\t\t- Skipping!\n",
      "\t- Reading: 3.000000-t2tsesag-56198  (t2_tse_sag) (UNKNOWN)\n",
      "\t\t- Skipping!\n",
      "\t- Reading: 4.000000-t2tsetra-60973  (t2_tse_tra) (T2)\n",
      "\t\t- Done!\n",
      "\t- Reading: 5.000000-t2tsecor-37865  (t2_tse_cor) (UNKNOWN)\n",
      "\t\t- Skipping!\n",
      "\t- Reading: 6.000000-ep2ddifftraDYNDIST-96783  (ep2d_diff_tra_DYNDIST) (b)\n",
      "\t\t- Done!\n",
      "\t- Reading: 60.000000-t2tsetra-85955  (t2_tse_tra) (T2)\n",
      "\t\t- Done!\n",
      "\t- Reading: 7.000000-ep2ddifftraDYNDISTADC-13536  (ep2d_diff_tra_DYNDIST_ADC) (ADC)\n",
      "\t\t- Done!\n",
      "\t- Reading: 8.000000-ep2ddifftraDYNDISTCALCBVAL-81510  (ep2d_diff_tra_DYNDISTCALC_BVAL) (diff)\n",
      "\t\t- Skipping!\n",
      "\t- Reading: 9.000000-tfl3d PD reftra1.5x1.5t3-43677  (tfl_3d PD ref_tra_1.5x1.5_t3) (unk)\n",
      "\t\t- Skipping!\n",
      "\t- Reading: ProstateX-0153-Ktrans.mhd (Ktrans) (ktrans)\n",
      "\t\t- Done!\n",
      "\n",
      "\t\t> (Blurrying ADC) Combining 5 images: #### -> Elapsed: 1.43s\n",
      " - Lesion positions and significances:\n",
      "   - 1: [216.00671387 183.91328129   7.99999731], Sig: 1\n",
      "   - 2: [172.29311371 189.44681867   4.99999999], Sig: 10\n",
      "   - 3: [208.09691619 242.88592849   6.30719721], Sig: 10\n",
      " - Information: resampling_operation with pre_mask_growth_mm applied to channels [2] on x,y dimensions\n"
     ]
    },
    {
     "data": {
      "application/vnd.jupyter.widget-view+json": {
       "model_id": "ff401a000d10423ea15416a6886635b3",
       "version_major": 2,
       "version_minor": 0
      },
      "text/plain": [
       "interactive(children=(IntSlider(value=12, description='z', max=23, style=SliderStyle(handle_color='lightblue')…"
      ]
     },
     "metadata": {},
     "output_type": "display_data"
    },
    {
     "data": {
      "application/vnd.jupyter.widget-view+json": {
       "model_id": "689848bd4e274e2d9fe22065250febe6",
       "version_major": 2,
       "version_minor": 0
      },
      "text/plain": [
       "interactive(children=(IntSlider(value=12, description='z', max=23, style=SliderStyle(handle_color='lightblue')…"
      ]
     },
     "metadata": {},
     "output_type": "display_data"
    },
    {
     "name": "stdout",
     "output_type": "stream",
     "text": [
      "\n",
      "ProstateX-0154\n",
      "Patient: ProstateX-0154 (date: 2012-03-21 00:00:00)\n",
      "\t- Reading: 3.000000-t2tsesag-96015  (t2_tse_sag) (UNKNOWN)\n",
      "\t\t- Skipping!\n",
      "\t- Reading: 4.000000-t2tsetra-89111  (t2_tse_tra) (T2)\n",
      "\t\t- Done!\n",
      "\t- Reading: 5.000000-t2tsecor-44650  (t2_tse_cor) (UNKNOWN)\n",
      "\t\t- Skipping!\n",
      "\t- Reading: 6.000000-ep2ddifftraDYNDIST-76165  (ep2d_diff_tra_DYNDIST) (b)\n",
      "\t\t- Done!\n",
      "\t- Reading: 7.000000-ep2ddifftraDYNDISTADC-06140  (ep2d_diff_tra_DYNDIST_ADC) (ADC)\n",
      "\t\t- Done!\n",
      "\t- Reading: 8.000000-ep2ddifftraDYNDISTCALCBVAL-73920  (ep2d_diff_tra_DYNDISTCALC_BVAL) (diff)\n",
      "\t\t- Skipping!\n",
      "\t- Reading: 9.000000-tfl3d PD reftra1.5x1.5t3-66409  (tfl_3d PD ref_tra_1.5x1.5_t3) (unk)\n",
      "\t\t- Skipping!\n",
      "\t- Reading: ProstateX-0154-Ktrans.mhd (Ktrans) (ktrans)\n",
      "\t\t- Done!\n",
      "\n",
      "\t\t> (Blurrying ADC) Combining 5 images: #### -> Elapsed: 1.37s\n",
      " - Lesion positions and significances:\n",
      "   - 1: [162.29329299 227.62673769   6.00000946], Sig: 10\n",
      "   - 2: [168.61509323 215.35399721  19.00001685], Sig: 10\n",
      " - Information: resampling_operation with pre_mask_growth_mm applied to channels [2] on x,y dimensions\n"
     ]
    },
    {
     "data": {
      "application/vnd.jupyter.widget-view+json": {
       "model_id": "23b66fdb74c64b27b000bc70965c1ffe",
       "version_major": 2,
       "version_minor": 0
      },
      "text/plain": [
       "interactive(children=(IntSlider(value=12, description='z', max=23, style=SliderStyle(handle_color='lightblue')…"
      ]
     },
     "metadata": {},
     "output_type": "display_data"
    },
    {
     "data": {
      "application/vnd.jupyter.widget-view+json": {
       "model_id": "541979944ed649bdb21c0861446befab",
       "version_major": 2,
       "version_minor": 0
      },
      "text/plain": [
       "interactive(children=(IntSlider(value=12, description='z', max=23, style=SliderStyle(handle_color='lightblue')…"
      ]
     },
     "metadata": {},
     "output_type": "display_data"
    },
    {
     "name": "stdout",
     "output_type": "stream",
     "text": [
      "\n",
      "ProstateX-0155\n",
      "Patient: ProstateX-0155 (date: 2012-03-22 00:00:00)\n",
      "\t- Reading: 10.000000-tfl3d PD reftra1.5x1.5t3-10885  (tfl_3d PD ref_tra_1.5x1.5_t3) (unk)\n",
      "\t\t- Skipping!\n",
      "\t- Reading: 3.000000-t2tsesag-07032  (t2_tse_sag) (UNKNOWN)\n",
      "\t\t- Skipping!\n",
      "\t- Reading: 4.000000-t2tsetra-95861  (t2_tse_tra) (T2)\n",
      "\t\t- Done!\n",
      "\t- Reading: 5.000000-t2tsecor-70139  (t2_tse_cor) (UNKNOWN)\n",
      "\t\t- Skipping!\n",
      "\t- Reading: 6.000000-t2tsetra-32002  (t2_tse_tra) (T2)\n",
      "\t\t- Done!\n",
      "\t- Reading: 7.000000-ep2ddifftraDYNDISTMIX-89423  (ep2d_diff_tra_DYNDIST_MIX) (b)\n",
      "\t\t- Done!\n",
      "\t- Reading: 8.000000-ep2ddifftraDYNDISTMIXADC-21524  (ep2d_diff_tra_DYNDIST_MIX_ADC) (ADC)\n",
      "\t\t- Done!\n",
      "\t- Reading: 9.000000-ep2ddifftraDYNDISTMIXCALCBVAL-09410  (ep2d_diff_tra_DYNDIST_MIXCALC_BVAL) (diff)\n",
      "\t\t- Skipping!\n",
      "\t- Reading: ProstateX-0155-Ktrans.mhd (Ktrans) (ktrans)\n",
      "\t\t- Done!\n",
      "\n",
      "\t\t> (Blurrying ADC) Combining 5 images: #### -> Elapsed: 1.35s\n",
      " - Lesion positions and significances:\n",
      "   - 1: [222.32600402 229.79909553   5.99999647], Sig: 10\n",
      " - Information: resampling_operation with pre_mask_growth_mm applied to channels [2] on x,y dimensions\n"
     ]
    },
    {
     "data": {
      "application/vnd.jupyter.widget-view+json": {
       "model_id": "3a122d5903ae47be9a777552fe67452a",
       "version_major": 2,
       "version_minor": 0
      },
      "text/plain": [
       "interactive(children=(IntSlider(value=12, description='z', max=23, style=SliderStyle(handle_color='lightblue')…"
      ]
     },
     "metadata": {},
     "output_type": "display_data"
    },
    {
     "data": {
      "application/vnd.jupyter.widget-view+json": {
       "model_id": "6227ed2d555049378fbe9652f91fe258",
       "version_major": 2,
       "version_minor": 0
      },
      "text/plain": [
       "interactive(children=(IntSlider(value=12, description='z', max=23, style=SliderStyle(handle_color='lightblue')…"
      ]
     },
     "metadata": {},
     "output_type": "display_data"
    },
    {
     "name": "stdout",
     "output_type": "stream",
     "text": [
      "\n",
      "ProstateX-0156\n",
      "Patient: ProstateX-0156 (date: 2011-08-11 00:00:00)\n",
      "\t- Reading: 3.000000-t2tsesag-18398  (t2_tse_sag) (UNKNOWN)\n",
      "\t\t- Skipping!\n",
      "\t- Reading: 4.000000-t2tsetra-26985  (t2_tse_tra) (T2)\n",
      "\t\t- Done!\n",
      "\t- Reading: 5.000000-t2tsecor-17983  (t2_tse_cor) (UNKNOWN)\n",
      "\t\t- Skipping!\n",
      "\t- Reading: 6.000000-ep2ddifftraDYNDIST-49247  (ep2d_diff_tra_DYNDIST) (b)\n",
      "\t\t- Done!\n",
      "\t- Reading: 7.000000-ep2ddifftraDYNDISTADC-69057  (ep2d_diff_tra_DYNDIST_ADC) (ADC)\n",
      "\t\t- Done!\n",
      "\t- Reading: 8.000000-ep2ddifftraDYNDISTCALCBVAL-00290  (ep2d_diff_tra_DYNDISTCALC_BVAL) (diff)\n",
      "\t\t- Skipping!\n",
      "\t- Reading: 9.000000-tfl3d PD reftra1.5x1.5t3-41257  (tfl_3d PD ref_tra_1.5x1.5_t3) (unk)\n",
      "\t\t- Skipping!\n",
      "\t- Reading: ProstateX-0156-Ktrans.mhd (Ktrans) (ktrans)\n",
      "\t\t- Done!\n",
      "\n",
      "\t\t> (Blurrying ADC) Combining 5 images: #### -> Elapsed: 1.41s\n",
      " - Lesion positions and significances:\n",
      "   - 1: [213.99501609 237.49020846   8.000001  ], Sig: 10\n",
      " - Information: resampling_operation with pre_mask_growth_mm applied to channels [2] on x,y dimensions\n"
     ]
    },
    {
     "data": {
      "application/vnd.jupyter.widget-view+json": {
       "model_id": "08a7e5f59ff94865ad2c7a844451d34d",
       "version_major": 2,
       "version_minor": 0
      },
      "text/plain": [
       "interactive(children=(IntSlider(value=12, description='z', max=23, style=SliderStyle(handle_color='lightblue')…"
      ]
     },
     "metadata": {},
     "output_type": "display_data"
    },
    {
     "data": {
      "application/vnd.jupyter.widget-view+json": {
       "model_id": "aee5713e9f3a41919d83932c42f19ebd",
       "version_major": 2,
       "version_minor": 0
      },
      "text/plain": [
       "interactive(children=(IntSlider(value=12, description='z', max=23, style=SliderStyle(handle_color='lightblue')…"
      ]
     },
     "metadata": {},
     "output_type": "display_data"
    },
    {
     "name": "stdout",
     "output_type": "stream",
     "text": [
      "\n",
      "ProstateX-0157\n",
      "Patient: ProstateX-0157 (date: 2012-03-22 00:00:00)\n",
      "\t- Reading: 1.000000-t2localizer-33082  (t2_localizer) (UNKNOWN)\n",
      "\t\t- Skipping!\n",
      "\t- Reading: 2.000000-t2loc sag-99580  (t2_loc sag) (UNKNOWN)\n",
      "\t\t- Skipping!\n",
      "\t- Reading: 3.000000-t2tsesag-04106  (t2_tse_sag) (UNKNOWN)\n",
      "\t\t- Skipping!\n",
      "\t- Reading: 4.000000-t2tsecor-28114  (t2_tse_cor) (UNKNOWN)\n",
      "\t\t- Skipping!\n",
      "\t- Reading: 5.000000-t2tsetra-75191  (t2_tse_tra) (T2)\n",
      "\t\t- Done!\n",
      "\t- Reading: 6.000000-ep2ddifftraDYNDISTMIX-24868  (ep2d_diff_tra_DYNDIST_MIX) (b)\n",
      "\t\t- Done!\n",
      "\t- Reading: 7.000000-ep2ddifftraDYNDISTMIXADC-25249  (ep2d_diff_tra_DYNDIST_MIX_ADC) (ADC)\n",
      "\t\t- Done!\n",
      "\t- Reading: 8.000000-ep2ddifftraDYNDISTMIXCALCBVAL-02933  (ep2d_diff_tra_DYNDIST_MIXCALC_BVAL) (diff)\n",
      "\t\t- Skipping!\n",
      "\t- Reading: 9.000000-tfl3d PD reftra1.5x1.5t3-73384  (tfl_3d PD ref_tra_1.5x1.5_t3) (unk)\n",
      "\t\t- Skipping!\n",
      "\t- Reading: ProstateX-0157-Ktrans.mhd (Ktrans) (ktrans)\n",
      "\t\t- Done!\n",
      "\n",
      "\t\t> (Blurrying ADC) Combining 5 images: #### -> Elapsed: 1.32s\n",
      " - Lesion positions and significances:\n",
      "   - 1: [166.9239931  238.41707623  13.99999906], Sig: 10\n",
      "   - 2: [186.08679342 183.63682058  11.99999322], Sig: 10\n",
      " - Information: resampling_operation with pre_mask_growth_mm applied to channels [2] on x,y dimensions\n"
     ]
    },
    {
     "data": {
      "application/vnd.jupyter.widget-view+json": {
       "model_id": "8b6d511a8f24408ca78127b1067e6b84",
       "version_major": 2,
       "version_minor": 0
      },
      "text/plain": [
       "interactive(children=(IntSlider(value=12, description='z', max=23, style=SliderStyle(handle_color='lightblue')…"
      ]
     },
     "metadata": {},
     "output_type": "display_data"
    },
    {
     "data": {
      "application/vnd.jupyter.widget-view+json": {
       "model_id": "dc2f2e63b2dd4d46a36e6fcb29dc4906",
       "version_major": 2,
       "version_minor": 0
      },
      "text/plain": [
       "interactive(children=(IntSlider(value=12, description='z', max=23, style=SliderStyle(handle_color='lightblue')…"
      ]
     },
     "metadata": {},
     "output_type": "display_data"
    },
    {
     "name": "stdout",
     "output_type": "stream",
     "text": [
      "\n",
      "ProstateX-0158\n",
      "Patient: ProstateX-0158 (date: 2012-03-26 00:00:00)\n",
      "\t- Reading: 1.000000-t2localizer-38106  (t2_localizer) (UNKNOWN)\n",
      "\t\t- Skipping!\n",
      "\t- Reading: 2.000000-t2loc sag-14683  (t2_loc sag) (UNKNOWN)\n",
      "\t\t- Skipping!\n",
      "\t- Reading: 3.000000-t2tsesag-41348  (t2_tse_sag) (UNKNOWN)\n",
      "\t\t- Skipping!\n",
      "\t- Reading: 4.000000-t2tsetra-92411  (t2_tse_tra) (T2)\n",
      "\t\t- Done!\n",
      "\t- Reading: 5.000000-t2tsecor-80123  (t2_tse_cor) (UNKNOWN)\n",
      "\t\t- Skipping!\n",
      "\t- Reading: 6.000000-ep2ddifftraDYNDIST-98847  (ep2d_diff_tra_DYNDIST) (b)\n",
      "\t\t- Done!\n",
      "\t- Reading: 7.000000-ep2ddifftraDYNDISTADC-95983  (ep2d_diff_tra_DYNDIST_ADC) (ADC)\n",
      "\t\t- Done!\n",
      "\t- Reading: 8.000000-ep2ddifftraDYNDISTCALCBVAL-09788  (ep2d_diff_tra_DYNDISTCALC_BVAL) (diff)\n",
      "\t\t- Skipping!\n",
      "\t- Reading: 9.000000-tfl3d PD reftra1.5x1.5t3-13104  (tfl_3d PD ref_tra_1.5x1.5_t3) (unk)\n",
      "\t\t- Skipping!\n",
      "\t- Reading: ProstateX-0158-Ktrans.mhd (Ktrans) (ktrans)\n",
      "\t\t- Done!\n",
      "\n",
      "\t\t> (Blurrying ADC) Combining 5 images: #### -> Elapsed: 1.36s\n",
      " - Lesion positions and significances:\n",
      "   - 1: [154.05200576 226.44893694  11.99999394], Sig: 10\n",
      " - Information: resampling_operation with pre_mask_growth_mm applied to channels [2] on x,y dimensions\n"
     ]
    },
    {
     "data": {
      "application/vnd.jupyter.widget-view+json": {
       "model_id": "0d18cfcd98f045fabac826be69d74734",
       "version_major": 2,
       "version_minor": 0
      },
      "text/plain": [
       "interactive(children=(IntSlider(value=12, description='z', max=23, style=SliderStyle(handle_color='lightblue')…"
      ]
     },
     "metadata": {},
     "output_type": "display_data"
    },
    {
     "data": {
      "application/vnd.jupyter.widget-view+json": {
       "model_id": "002f1acdbe7842b9b676580b0aa2c739",
       "version_major": 2,
       "version_minor": 0
      },
      "text/plain": [
       "interactive(children=(IntSlider(value=12, description='z', max=23, style=SliderStyle(handle_color='lightblue')…"
      ]
     },
     "metadata": {},
     "output_type": "display_data"
    },
    {
     "name": "stdout",
     "output_type": "stream",
     "text": [
      "\n",
      "ProstateX-0159\n",
      "Patient: ProstateX-0159 (date: 2012-03-26 00:00:00)\n",
      "\t- Reading: 1.000000-t2localizer-85422  (t2_localizer) (UNKNOWN)\n",
      "\t\t- Skipping!\n",
      "\t- Reading: 2.000000-t2loc sag-18191  (t2_loc sag) (UNKNOWN)\n",
      "\t\t- Skipping!\n",
      "\t- Reading: 3.000000-t2tsesag-11709  (t2_tse_sag) (UNKNOWN)\n",
      "\t\t- Skipping!\n",
      "\t- Reading: 4.000000-t2tsetra-07078  (t2_tse_tra) (T2)\n",
      "\t\t- Done!\n",
      "\t- Reading: 5.000000-t2tsecor-80334  (t2_tse_cor) (UNKNOWN)\n",
      "\t\t- Skipping!\n",
      "\t- Reading: 6.000000-ep2ddifftraDYNDISTMIX-89500  (ep2d_diff_tra_DYNDIST_MIX) (b)\n",
      "\t\t- Done!\n",
      "\t- Reading: 7.000000-ep2ddifftraDYNDISTMIXADC-25420  (ep2d_diff_tra_DYNDIST_MIX_ADC) (ADC)\n",
      "\t\t- Done!\n",
      "\t- Reading: 8.000000-ep2ddifftraDYNDISTMIXCALCBVAL-01747  (ep2d_diff_tra_DYNDIST_MIXCALC_BVAL) (diff)\n",
      "\t\t- Skipping!\n",
      "\t- Reading: 9.000000-tfl3d PD reftra1.5x1.5t3-50362  (tfl_3d PD ref_tra_1.5x1.5_t3) (unk)\n",
      "\t\t- Skipping!\n",
      "\t- Reading: ProstateX-0159-Ktrans.mhd (Ktrans) (ktrans)\n",
      "\t\t- Done!\n",
      "\n",
      "\t\t> (Blurrying ADC) Combining 5 images: #### -> Elapsed: 1.42s\n",
      " - Lesion positions and significances:\n",
      "   - 1: [204.75400137 225.01190919   6.99999785], Sig: 10\n",
      "   - 2: [186.68000125 229.84000375  10.00000139], Sig: 10\n",
      "   - 3: [142.98690224 189.90390479   9.99999763], Sig: 10\n",
      " - Information: resampling_operation with pre_mask_growth_mm applied to channels [2] on x,y dimensions\n"
     ]
    },
    {
     "data": {
      "application/vnd.jupyter.widget-view+json": {
       "model_id": "ed54432788f1497b8451760b5074276c",
       "version_major": 2,
       "version_minor": 0
      },
      "text/plain": [
       "interactive(children=(IntSlider(value=12, description='z', max=23, style=SliderStyle(handle_color='lightblue')…"
      ]
     },
     "metadata": {},
     "output_type": "display_data"
    },
    {
     "data": {
      "application/vnd.jupyter.widget-view+json": {
       "model_id": "61f93af8ae5b4b66a6c83dc555a17b83",
       "version_major": 2,
       "version_minor": 0
      },
      "text/plain": [
       "interactive(children=(IntSlider(value=12, description='z', max=23, style=SliderStyle(handle_color='lightblue')…"
      ]
     },
     "metadata": {},
     "output_type": "display_data"
    },
    {
     "name": "stdout",
     "output_type": "stream",
     "text": [
      "\n",
      "ProstateX-0160\n",
      "Patient: ProstateX-0160 (date: 2012-03-26 00:00:00)\n",
      "\t- Reading: 10.000000-tfl3d PD reftra1.5x1.5t3-24594  (tfl_3d PD ref_tra_1.5x1.5_t3) (unk)\n",
      "\t\t- Skipping!\n",
      "\t- Reading: 3.000000-t2tsesag-88021  (t2_tse_sag) (UNKNOWN)\n",
      "\t\t- Skipping!\n",
      "\t- Reading: 4.000000-t2tsetra-45543  (t2_tse_tra) (T2)\n",
      "\t\t- Done!\n",
      "\t- Reading: 5.000000-t2tsecor-40100  (t2_tse_cor) (UNKNOWN)\n",
      "\t\t- Skipping!\n",
      "\t- Reading: 6.000000-t2tsetra-19489  (t2_tse_tra) (T2)\n",
      "\t\t- Done!\n",
      "\t- Reading: 7.000000-ep2ddifftraDYNDIST-57265  (ep2d_diff_tra_DYNDIST) (b)\n",
      "\t\t- Done!\n",
      "\t- Reading: 8.000000-ep2ddifftraDYNDISTADC-66335  (ep2d_diff_tra_DYNDIST_ADC) (ADC)\n",
      "\t\t- Done!\n",
      "\t- Reading: 9.000000-ep2ddifftraDYNDISTCALCBVAL-82740  (ep2d_diff_tra_DYNDISTCALC_BVAL) (diff)\n",
      "\t\t- Skipping!\n",
      "\t- Reading: ProstateX-0160-Ktrans.mhd (Ktrans) (ktrans)\n",
      "\t\t- Done!\n",
      "\n",
      "\t\t> (Blurrying ADC) Combining 5 images: #### -> Elapsed: 3.89s\n",
      " - Lesion positions and significances:\n",
      "   - 1: [275.16665795 376.61134821  14.00001013], Sig: 10\n",
      "   - 2: [331.25848883 389.46706987  14.08333395], Sig: 10\n",
      " - Information: resampling_operation with pre_mask_growth_mm applied to channels [2] on x,y dimensions\n"
     ]
    },
    {
     "data": {
      "application/vnd.jupyter.widget-view+json": {
       "model_id": "7ad6dc99515f4e0aa4538b7b7ac96bbd",
       "version_major": 2,
       "version_minor": 0
      },
      "text/plain": [
       "interactive(children=(IntSlider(value=12, description='z', max=23, style=SliderStyle(handle_color='lightblue')…"
      ]
     },
     "metadata": {},
     "output_type": "display_data"
    },
    {
     "data": {
      "application/vnd.jupyter.widget-view+json": {
       "model_id": "aa8addb9b01448589e56addb85874116",
       "version_major": 2,
       "version_minor": 0
      },
      "text/plain": [
       "interactive(children=(IntSlider(value=12, description='z', max=23, style=SliderStyle(handle_color='lightblue')…"
      ]
     },
     "metadata": {},
     "output_type": "display_data"
    },
    {
     "name": "stdout",
     "output_type": "stream",
     "text": [
      "\n",
      "ProstateX-0161\n",
      "Patient: ProstateX-0161 (date: 2012-03-27 00:00:00)\n",
      "\t- Reading: 1.000000-t2localizer-93062  (t2_localizer) (UNKNOWN)\n",
      "\t\t- Skipping!\n",
      "\t- Reading: 2.000000-t2loc sag-17725  (t2_loc sag) (UNKNOWN)\n",
      "\t\t- Skipping!\n",
      "\t- Reading: 3.000000-t2tsesag-57039  (t2_tse_sag) (UNKNOWN)\n",
      "\t\t- Skipping!\n",
      "\t- Reading: 4.000000-t2tsetra-42619  (t2_tse_tra) (T2)\n",
      "\t\t- Done!\n",
      "\t- Reading: 5.000000-t2tsecor-74281  (t2_tse_cor) (UNKNOWN)\n",
      "\t\t- Skipping!\n",
      "\t- Reading: 6.000000-ep2ddifftraDYNDIST-71969  (ep2d_diff_tra_DYNDIST) (b)\n",
      "\t\t- Done!\n",
      "\t- Reading: 7.000000-ep2ddifftraDYNDISTADC-01409  (ep2d_diff_tra_DYNDIST_ADC) (ADC)\n",
      "\t\t- Done!\n",
      "\t- Reading: 8.000000-ep2ddifftraDYNDISTCALCBVAL-74448  (ep2d_diff_tra_DYNDISTCALC_BVAL) (diff)\n",
      "\t\t- Skipping!\n",
      "\t- Reading: 9.000000-tfl3d PD reftra1.5x1.5t3-17060  (tfl_3d PD ref_tra_1.5x1.5_t3) (unk)\n",
      "\t\t- Skipping!\n",
      "\t- Reading: ProstateX-0161-Ktrans.mhd (Ktrans) (ktrans)\n",
      "\t\t- Done!\n",
      "\n",
      "\t\t> (Blurrying ADC) Combining 5 images: #### -> Elapsed: 1.52s\n",
      " - Lesion positions and significances:\n",
      "   - 1: [169.52685355 261.93325747   8.00000349], Sig: 10\n",
      "   - 2: [219.87999534 208.81332075   6.99998976], Sig: 10\n",
      "   - 3: [157.66805458 205.06502553  11.00000798], Sig: 10\n",
      " - Information: resampling_operation with pre_mask_growth_mm applied to channels [2] on x,y dimensions\n"
     ]
    },
    {
     "data": {
      "application/vnd.jupyter.widget-view+json": {
       "model_id": "3201f15013da40139c7515ca12b5b363",
       "version_major": 2,
       "version_minor": 0
      },
      "text/plain": [
       "interactive(children=(IntSlider(value=12, description='z', max=23, style=SliderStyle(handle_color='lightblue')…"
      ]
     },
     "metadata": {},
     "output_type": "display_data"
    },
    {
     "data": {
      "application/vnd.jupyter.widget-view+json": {
       "model_id": "f51654c6aa13430996df91ae4e27ca26",
       "version_major": 2,
       "version_minor": 0
      },
      "text/plain": [
       "interactive(children=(IntSlider(value=12, description='z', max=23, style=SliderStyle(handle_color='lightblue')…"
      ]
     },
     "metadata": {},
     "output_type": "display_data"
    },
    {
     "name": "stdout",
     "output_type": "stream",
     "text": [
      "\n",
      "ProstateX-0162\n",
      "Patient: ProstateX-0162 (date: 2012-03-30 00:00:00)\n",
      "\t- Reading: 3.000000-t2tsesag-69293  (t2_tse_sag) (UNKNOWN)\n",
      "\t\t- Skipping!\n",
      "\t- Reading: 4.000000-t2tsecor-96848  (t2_tse_cor) (UNKNOWN)\n",
      "\t\t- Skipping!\n",
      "\t- Reading: 5.000000-t2tsetra-06154  (t2_tse_tra) (T2)\n",
      "\t\t- Done!\n",
      "\t- Reading: 6.000000-ep2ddifftraDYNDIST-83521  (ep2d_diff_tra_DYNDIST) (b)\n",
      "\t\t- Done!\n",
      "\t- Reading: 7.000000-ep2ddifftraDYNDISTADC-65863  (ep2d_diff_tra_DYNDIST_ADC) (ADC)\n",
      "\t\t- Done!\n",
      "\t- Reading: 8.000000-ep2ddifftraDYNDISTCALCBVAL-72405  (ep2d_diff_tra_DYNDISTCALC_BVAL) (diff)\n",
      "\t\t- Skipping!\n",
      "\t- Reading: 9.000000-tfl3d PD reftra1.5x1.5t3-18223  (tfl_3d PD ref_tra_1.5x1.5_t3) (unk)\n",
      "\t\t- Skipping!\n",
      "\t- Reading: ProstateX-0162-Ktrans.mhd (Ktrans) (ktrans)\n",
      "\t\t- Done!\n",
      "\n",
      "\t\t> (Blurrying ADC) Combining 5 images: #### -> Elapsed: 1.44s\n",
      " - Lesion positions and significances:\n",
      "   - 1: [178.88599491 218.96634511   4.9999983 ], Sig: 1\n",
      " - Information: resampling_operation with pre_mask_growth_mm applied to channels [2] on x,y dimensions\n"
     ]
    },
    {
     "data": {
      "application/vnd.jupyter.widget-view+json": {
       "model_id": "29414434275b418f89481ad5f4ba8e48",
       "version_major": 2,
       "version_minor": 0
      },
      "text/plain": [
       "interactive(children=(IntSlider(value=12, description='z', max=23, style=SliderStyle(handle_color='lightblue')…"
      ]
     },
     "metadata": {},
     "output_type": "display_data"
    },
    {
     "data": {
      "application/vnd.jupyter.widget-view+json": {
       "model_id": "5b3ef261b0a64d49a8292fde02267f2b",
       "version_major": 2,
       "version_minor": 0
      },
      "text/plain": [
       "interactive(children=(IntSlider(value=12, description='z', max=23, style=SliderStyle(handle_color='lightblue')…"
      ]
     },
     "metadata": {},
     "output_type": "display_data"
    },
    {
     "name": "stdout",
     "output_type": "stream",
     "text": [
      "\n",
      "ProstateX-0163\n",
      "Patient: ProstateX-0163 (date: 2012-03-30 00:00:00)\n",
      "\t- Reading: 3.000000-t2tsesag-43934  (t2_tse_sag) (UNKNOWN)\n",
      "\t\t- Skipping!\n",
      "\t- Reading: 4.000000-t2tsecor-70408  (t2_tse_cor) (UNKNOWN)\n",
      "\t\t- Skipping!\n",
      "\t- Reading: 5.000000-t2tsetra-84249  (t2_tse_tra) (T2)\n",
      "\t\t- Done!\n",
      "\t- Reading: 6.000000-ep2ddifftraDYNDIST-26582  (ep2d_diff_tra_DYNDIST) (b)\n",
      "\t\t- Done!\n",
      "\t- Reading: 7.000000-ep2ddifftraDYNDISTADC-97254  (ep2d_diff_tra_DYNDIST_ADC) (ADC)\n",
      "\t\t- Done!\n",
      "\t- Reading: 8.000000-ep2ddifftraDYNDISTCALCBVAL-71041  (ep2d_diff_tra_DYNDISTCALC_BVAL) (diff)\n",
      "\t\t- Skipping!\n",
      "\t- Reading: 9.000000-tfl3d PD reftra1.5x1.5t3-24671  (tfl_3d PD ref_tra_1.5x1.5_t3) (unk)\n",
      "\t\t- Skipping!\n",
      "\t- Reading: ProstateX-0163-Ktrans.mhd (Ktrans) (ktrans)\n",
      "\t\t- Done!\n",
      "\n",
      "\t\t> (Blurrying ADC) Combining 5 images: #### -> Elapsed: 1.41s\n",
      " - Lesion positions and significances:\n",
      "   - 1: [218.39997292 159.47697411   6.00001051], Sig: 10\n",
      "   - 2: [186.02519129 250.9103178    7.12499431], Sig: 10\n",
      "   - 3: [201.74397086 251.06951151  10.11566194], Sig: 10\n",
      " - Information: resampling_operation with pre_mask_growth_mm applied to channels [2] on x,y dimensions\n"
     ]
    },
    {
     "data": {
      "application/vnd.jupyter.widget-view+json": {
       "model_id": "614c655c2d32431bbb234f5d42c01584",
       "version_major": 2,
       "version_minor": 0
      },
      "text/plain": [
       "interactive(children=(IntSlider(value=12, description='z', max=23, style=SliderStyle(handle_color='lightblue')…"
      ]
     },
     "metadata": {},
     "output_type": "display_data"
    },
    {
     "data": {
      "application/vnd.jupyter.widget-view+json": {
       "model_id": "6aac269f9f9c43609f2c08fad50c26ab",
       "version_major": 2,
       "version_minor": 0
      },
      "text/plain": [
       "interactive(children=(IntSlider(value=12, description='z', max=23, style=SliderStyle(handle_color='lightblue')…"
      ]
     },
     "metadata": {},
     "output_type": "display_data"
    },
    {
     "name": "stdout",
     "output_type": "stream",
     "text": [
      "\n",
      "ProstateX-0164\n",
      "Patient: ProstateX-0164 (date: 2012-04-02 00:00:00)\n",
      "\t- Reading: 3.000000-t2tsesag-16346  (t2_tse_sag) (UNKNOWN)\n",
      "\t\t- Skipping!\n",
      "\t- Reading: 4.000000-t2tsecor-12246  (t2_tse_cor) (UNKNOWN)\n",
      "\t\t- Skipping!\n",
      "\t- Reading: 5.000000-t2tsetra-03926  (t2_tse_tra) (T2)\n",
      "\t\t- Done!\n",
      "\t- Reading: 6.000000-ep2ddifftraDYNDIST-39267  (ep2d_diff_tra_DYNDIST) (b)\n",
      "\t\t- Done!\n",
      "\t- Reading: 7.000000-ep2ddifftraDYNDISTADC-31478  (ep2d_diff_tra_DYNDIST_ADC) (ADC)\n",
      "\t\t- Done!\n",
      "\t- Reading: 8.000000-ep2ddifftraDYNDISTCALCBVAL-75319  (ep2d_diff_tra_DYNDISTCALC_BVAL) (diff)\n",
      "\t\t- Skipping!\n",
      "\t- Reading: 9.000000-tfl3d PD reftra1.5x1.5t3-13189  (tfl_3d PD ref_tra_1.5x1.5_t3) (unk)\n",
      "\t\t- Skipping!\n",
      "\t- Reading: ProstateX-0164-Ktrans.mhd (Ktrans) (ktrans)\n",
      "\t\t- Done!\n",
      "\n",
      "\t\t> (Blurrying ADC) Combining 5 images: #### -> Elapsed: 1.39s\n",
      " - Lesion positions and significances:\n",
      "   - 1: [189.11569595 186.19219589   9.99998489], Sig: 3\n",
      " - Information: resampling_operation with pre_mask_growth_mm applied to channels [2] on x,y dimensions\n"
     ]
    },
    {
     "data": {
      "application/vnd.jupyter.widget-view+json": {
       "model_id": "df79b17643ea42b89c624515790a2e29",
       "version_major": 2,
       "version_minor": 0
      },
      "text/plain": [
       "interactive(children=(IntSlider(value=12, description='z', max=23, style=SliderStyle(handle_color='lightblue')…"
      ]
     },
     "metadata": {},
     "output_type": "display_data"
    },
    {
     "data": {
      "application/vnd.jupyter.widget-view+json": {
       "model_id": "6638fc82c2e84c4fa35719836929bd9f",
       "version_major": 2,
       "version_minor": 0
      },
      "text/plain": [
       "interactive(children=(IntSlider(value=12, description='z', max=23, style=SliderStyle(handle_color='lightblue')…"
      ]
     },
     "metadata": {},
     "output_type": "display_data"
    },
    {
     "name": "stdout",
     "output_type": "stream",
     "text": [
      "\n",
      "ProstateX-0165\n",
      "Patient: ProstateX-0165 (date: 2012-04-03 00:00:00)\n",
      "\t- Reading: 3.000000-t2tsesag-53936  (t2_tse_sag) (UNKNOWN)\n",
      "\t\t- Skipping!\n",
      "\t- Reading: 4.000000-t2tsetra-16387  (t2_tse_tra) (T2)\n",
      "\t\t- Done!\n",
      "\t- Reading: 5.000000-t2tsecor-86905  (t2_tse_cor) (UNKNOWN)\n",
      "\t\t- Skipping!\n",
      "\t- Reading: 55.000000-t2tsetra-05271  (t2_tse_tra) (T2)\n",
      "\t\t- Done!\n",
      "\t- Reading: 6.000000-ep2ddifftraDYNDISTMIX-33716  (ep2d_diff_tra_DYNDIST_MIX) (b)\n",
      "\t\t- Done!\n",
      "\t- Reading: 7.000000-ep2ddifftraDYNDISTMIXADC-89443  (ep2d_diff_tra_DYNDIST_MIX_ADC) (ADC)\n",
      "\t\t- Done!\n",
      "\t- Reading: 8.000000-ep2ddifftraDYNDISTMIXCALCBVAL-58861  (ep2d_diff_tra_DYNDIST_MIXCALC_BVAL) (diff)\n",
      "\t\t- Skipping!\n",
      "\t- Reading: 9.000000-tfl3d PD reftra1.5x1.5t3-51785  (tfl_3d PD ref_tra_1.5x1.5_t3) (unk)\n",
      "\t\t- Skipping!\n",
      "\t- Reading: ProstateX-0165-Ktrans.mhd (Ktrans) (ktrans)\n",
      "\t\t- Done!\n",
      "\n",
      "\t\t> (Blurrying ADC) Combining 5 images: #### -> Elapsed: 3.59s\n",
      " - Lesion positions and significances:\n",
      "   - 1: [277.89864311 286.88860385   7.00001067], Sig: 1\n",
      "   - 2: [279.55949227 386.89106787   9.74999233], Sig: 10\n",
      " - Information: resampling_operation with pre_mask_growth_mm applied to channels [2] on x,y dimensions\n"
     ]
    },
    {
     "data": {
      "application/vnd.jupyter.widget-view+json": {
       "model_id": "116c37a8b7dc43dc87dfea8f123b2b8e",
       "version_major": 2,
       "version_minor": 0
      },
      "text/plain": [
       "interactive(children=(IntSlider(value=12, description='z', max=23, style=SliderStyle(handle_color='lightblue')…"
      ]
     },
     "metadata": {},
     "output_type": "display_data"
    },
    {
     "data": {
      "application/vnd.jupyter.widget-view+json": {
       "model_id": "c184a60f36c7491e9590f85234e4e120",
       "version_major": 2,
       "version_minor": 0
      },
      "text/plain": [
       "interactive(children=(IntSlider(value=12, description='z', max=23, style=SliderStyle(handle_color='lightblue')…"
      ]
     },
     "metadata": {},
     "output_type": "display_data"
    },
    {
     "name": "stdout",
     "output_type": "stream",
     "text": [
      "\n",
      "ProstateX-0166\n",
      "Patient: ProstateX-0166 (date: 2012-04-03 00:00:00)\n",
      "\t- Reading: 3.000000-t2tsesag-65020  (t2_tse_sag) (UNKNOWN)\n",
      "\t\t- Skipping!\n",
      "\t- Reading: 4.000000-t2tsetra-57947  (t2_tse_tra) (T2)\n",
      "\t\t- Done!\n",
      "\t- Reading: 5.000000-t2tsecor-08700  (t2_tse_cor) (UNKNOWN)\n",
      "\t\t- Skipping!\n",
      "\t- Reading: 55.000000-t2tsetra-41397  (t2_tse_tra) (T2)\n",
      "\t\t- Done!\n",
      "\t- Reading: 56.000000-t2tsesag-91715  (t2_tse_sag) (UNKNOWN)\n",
      "\t\t- Skipping!\n",
      "\t- Reading: 6.000000-ep2ddifftraDYNDIST-59064  (ep2d_diff_tra_DYNDIST) (b)\n",
      "\t\t- Done!\n",
      "\t- Reading: 7.000000-ep2ddifftraDYNDISTADC-72161  (ep2d_diff_tra_DYNDIST_ADC) (ADC)\n",
      "\t\t- Done!\n",
      "\t- Reading: 8.000000-ep2ddifftraDYNDISTCALCBVAL-65536  (ep2d_diff_tra_DYNDISTCALC_BVAL) (diff)\n",
      "\t\t- Skipping!\n",
      "\t- Reading: 9.000000-tfl3d PD reftra1.5x1.5t3-58100  (tfl_3d PD ref_tra_1.5x1.5_t3) (unk)\n",
      "\t\t- Skipping!\n",
      "\t- Reading: ProstateX-0166-Ktrans.mhd (Ktrans) (ktrans)\n",
      "\t\t- Done!\n",
      "\n",
      "\t\t> (Blurrying ADC) Combining 5 images: #### -> Elapsed: 3.62s\n",
      " - Lesion positions and significances:\n",
      "   - 1: [351.73783059 387.8853986    2.86489983], Sig: 10\n",
      " - Information: resampling_operation with pre_mask_growth_mm applied to channels [2] on x,y dimensions\n"
     ]
    },
    {
     "data": {
      "application/vnd.jupyter.widget-view+json": {
       "model_id": "366249ab9a0145deb391a2fce00b6114",
       "version_major": 2,
       "version_minor": 0
      },
      "text/plain": [
       "interactive(children=(IntSlider(value=12, description='z', max=23, style=SliderStyle(handle_color='lightblue')…"
      ]
     },
     "metadata": {},
     "output_type": "display_data"
    },
    {
     "data": {
      "application/vnd.jupyter.widget-view+json": {
       "model_id": "f71280c5e8f447b1874b53c9fc4461a5",
       "version_major": 2,
       "version_minor": 0
      },
      "text/plain": [
       "interactive(children=(IntSlider(value=12, description='z', max=23, style=SliderStyle(handle_color='lightblue')…"
      ]
     },
     "metadata": {},
     "output_type": "display_data"
    },
    {
     "name": "stdout",
     "output_type": "stream",
     "text": [
      "\n",
      "ProstateX-0167\n",
      "Patient: ProstateX-0167 (date: 2011-08-11 00:00:00)\n",
      "\t- Reading: 2.000000-t2loc sag-96551  (t2_loc sag) (UNKNOWN)\n",
      "\t\t- Skipping!\n",
      "\t- Reading: 3.000000-t2tsesag-04995  (t2_tse_sag) (UNKNOWN)\n",
      "\t\t- Skipping!\n",
      "\t- Reading: 4.000000-t2tsetra-26050  (t2_tse_tra) (T2)\n",
      "\t\t- Done!\n",
      "\t- Reading: 5.000000-t2tsecor-95943  (t2_tse_cor) (UNKNOWN)\n",
      "\t\t- Skipping!\n",
      "\t- Reading: 6.000000-ep2ddifftraDYNDISTMIX-06183  (ep2d_diff_tra_DYNDIST_MIX) (b)\n",
      "\t\t- Done!\n",
      "\t- Reading: 7.000000-ep2ddifftraDYNDISTMIXADC-09887  (ep2d_diff_tra_DYNDIST_MIX_ADC) (ADC)\n",
      "\t\t- Done!\n",
      "\t- Reading: 8.000000-ep2ddifftraDYNDISTMIXCALCBVAL-74078  (ep2d_diff_tra_DYNDIST_MIXCALC_BVAL) (diff)\n",
      "\t\t- Skipping!\n",
      "\t- Reading: 9.000000-tfl3d PD reftra1.5x1.5t3-46974  (tfl_3d PD ref_tra_1.5x1.5_t3) (unk)\n",
      "\t\t- Skipping!\n",
      "\t- Reading: ProstateX-0167-Ktrans.mhd (Ktrans) (ktrans)\n",
      "\t\t- Done!\n",
      "\n",
      "\t\t> (Blurrying ADC) Combining 5 images: #### -> Elapsed: 1.38s\n",
      " - Lesion positions and significances:\n",
      "   - 1: [188.1200018  155.57492799   3.00000926], Sig: 10\n",
      " - Information: resampling_operation with pre_mask_growth_mm applied to channels [2] on x,y dimensions\n"
     ]
    },
    {
     "data": {
      "application/vnd.jupyter.widget-view+json": {
       "model_id": "fbca94916b3d44d68946fa7d0dc81f61",
       "version_major": 2,
       "version_minor": 0
      },
      "text/plain": [
       "interactive(children=(IntSlider(value=12, description='z', max=23, style=SliderStyle(handle_color='lightblue')…"
      ]
     },
     "metadata": {},
     "output_type": "display_data"
    },
    {
     "data": {
      "application/vnd.jupyter.widget-view+json": {
       "model_id": "26455ed893584d36a1601c97efe05b86",
       "version_major": 2,
       "version_minor": 0
      },
      "text/plain": [
       "interactive(children=(IntSlider(value=12, description='z', max=23, style=SliderStyle(handle_color='lightblue')…"
      ]
     },
     "metadata": {},
     "output_type": "display_data"
    },
    {
     "name": "stdout",
     "output_type": "stream",
     "text": [
      "\n",
      "ProstateX-0168\n",
      "Patient: ProstateX-0168 (date: 2012-04-03 00:00:00)\n",
      "\t- Reading: 3.000000-t2tsesag-99091  (t2_tse_sag) (UNKNOWN)\n",
      "\t\t- Skipping!\n",
      "\t- Reading: 4.000000-t2tsecor-28750  (t2_tse_cor) (UNKNOWN)\n",
      "\t\t- Skipping!\n",
      "\t- Reading: 5.000000-t2tsetra-72819  (t2_tse_tra) (T2)\n",
      "\t\t- Done!\n",
      "\t- Reading: 55.000000-t2tsetra-21258  (t2_tse_tra) (T2)\n",
      "\t\t- Done!\n",
      "\t- Reading: 56.000000-t2tsecor-13078  (t2_tse_cor) (UNKNOWN)\n",
      "\t\t- Skipping!\n",
      "\t- Reading: 6.000000-ep2ddifftraDYNDIST-95213  (ep2d_diff_tra_DYNDIST) (b)\n",
      "\t\t- Done!\n",
      "\t- Reading: 7.000000-ep2ddifftraDYNDISTADC-28836  (ep2d_diff_tra_DYNDIST_ADC) (ADC)\n",
      "\t\t- Done!\n",
      "\t- Reading: 8.000000-ep2ddifftraDYNDISTCALCBVAL-05730  (ep2d_diff_tra_DYNDISTCALC_BVAL) (diff)\n",
      "\t\t- Skipping!\n",
      "\t- Reading: 9.000000-tfl3d PD reftra1.5x1.5t3-23930  (tfl_3d PD ref_tra_1.5x1.5_t3) (unk)\n",
      "\t\t- Skipping!\n",
      "\t- Reading: ProstateX-0168-Ktrans.mhd (Ktrans) (ktrans)\n",
      "\t\t- Done!\n",
      "\n",
      "\t\t> (Blurrying ADC) Combining 5 images: #### -> Elapsed: 3.51s\n",
      " - Lesion positions and significances:\n",
      "   - 1: [281.78340587 338.66649496   6.00000951], Sig: 1\n",
      " - Information: resampling_operation with pre_mask_growth_mm applied to channels [2] on x,y dimensions\n"
     ]
    },
    {
     "data": {
      "application/vnd.jupyter.widget-view+json": {
       "model_id": "6faee01d71e64632ae00fcfbd2c0f3a2",
       "version_major": 2,
       "version_minor": 0
      },
      "text/plain": [
       "interactive(children=(IntSlider(value=12, description='z', max=23, style=SliderStyle(handle_color='lightblue')…"
      ]
     },
     "metadata": {},
     "output_type": "display_data"
    },
    {
     "data": {
      "application/vnd.jupyter.widget-view+json": {
       "model_id": "0957495b0a1048beb6f95f9e39151ef0",
       "version_major": 2,
       "version_minor": 0
      },
      "text/plain": [
       "interactive(children=(IntSlider(value=12, description='z', max=23, style=SliderStyle(handle_color='lightblue')…"
      ]
     },
     "metadata": {},
     "output_type": "display_data"
    },
    {
     "name": "stdout",
     "output_type": "stream",
     "text": [
      "\n",
      "ProstateX-0169\n",
      "Patient: ProstateX-0169 (date: 2012-04-05 00:00:00)\n",
      "\t- Reading: 1.000000-t2localizer-29829  (t2_localizer) (UNKNOWN)\n",
      "\t\t- Skipping!\n",
      "\t- Reading: 2.000000-t2loc sag-94732  (t2_loc sag) (UNKNOWN)\n",
      "\t\t- Skipping!\n",
      "\t- Reading: 3.000000-t2tsesag-40400  (t2_tse_sag) (UNKNOWN)\n",
      "\t\t- Skipping!\n",
      "\t- Reading: 4.000000-t2tsetra-35230  (t2_tse_tra) (T2)\n",
      "\t\t- Done!\n",
      "\t- Reading: 5.000000-t2tsecor-27813  (t2_tse_cor) (UNKNOWN)\n",
      "\t\t- Skipping!\n",
      "\t- Reading: 6.000000-ep2ddifftraDYNDIST-16818  (ep2d_diff_tra_DYNDIST) (b)\n",
      "\t\t- Done!\n",
      "\t- Reading: 7.000000-ep2ddifftraDYNDISTADC-73780  (ep2d_diff_tra_DYNDIST_ADC) (ADC)\n",
      "\t\t- Done!\n",
      "\t- Reading: 8.000000-ep2ddifftraDYNDISTCALCBVAL-79374  (ep2d_diff_tra_DYNDISTCALC_BVAL) (diff)\n",
      "\t\t- Skipping!\n",
      "\t- Reading: 9.000000-tfl3d PD reftra1.5x1.5t3-62971  (tfl_3d PD ref_tra_1.5x1.5_t3) (unk)\n",
      "\t\t- Skipping!\n",
      "\t- Reading: ProstateX-0169-Ktrans.mhd (Ktrans) (ktrans)\n",
      "\t\t- Done!\n",
      "\n",
      "\t\t> (Blurrying ADC) Combining 5 images: #### -> Elapsed: 1.39s\n",
      " - Lesion positions and significances:\n",
      "   - 1: [199.9600029  206.59991338  10.00000833], Sig: 3\n",
      " - Information: resampling_operation with pre_mask_growth_mm applied to channels [2] on x,y dimensions\n"
     ]
    },
    {
     "data": {
      "application/vnd.jupyter.widget-view+json": {
       "model_id": "87871488a7144c0498df857bc556e281",
       "version_major": 2,
       "version_minor": 0
      },
      "text/plain": [
       "interactive(children=(IntSlider(value=12, description='z', max=23, style=SliderStyle(handle_color='lightblue')…"
      ]
     },
     "metadata": {},
     "output_type": "display_data"
    },
    {
     "data": {
      "application/vnd.jupyter.widget-view+json": {
       "model_id": "20bffec13baa408c94d2d6b857455178",
       "version_major": 2,
       "version_minor": 0
      },
      "text/plain": [
       "interactive(children=(IntSlider(value=12, description='z', max=23, style=SliderStyle(handle_color='lightblue')…"
      ]
     },
     "metadata": {},
     "output_type": "display_data"
    },
    {
     "name": "stdout",
     "output_type": "stream",
     "text": [
      "\n",
      "ProstateX-0170\n",
      "Patient: ProstateX-0170 (date: 2012-04-06 00:00:00)\n",
      "\t- Reading: 10.000000-tfl3d PD reftra1.5x1.5t3-17936  (tfl_3d PD ref_tra_1.5x1.5_t3) (unk)\n",
      "\t\t- Skipping!\n",
      "\t- Reading: 4.000000-t2tsesag-95360  (t2_tse_sag) (UNKNOWN)\n",
      "\t\t- Skipping!\n",
      "\t- Reading: 5.000000-t2tsetra-86613  (t2_tse_tra) (T2)\n",
      "\t\t- Done!\n",
      "\t- Reading: 6.000000-t2tsecor-12130  (t2_tse_cor) (UNKNOWN)\n",
      "\t\t- Skipping!\n",
      "\t- Reading: 7.000000-ep2ddifftraDYNDIST-33748  (ep2d_diff_tra_DYNDIST) (b)\n",
      "\t\t- Done!\n",
      "\t- Reading: 8.000000-ep2ddifftraDYNDISTADC-95460  (ep2d_diff_tra_DYNDIST_ADC) (ADC)\n",
      "\t\t- Done!\n",
      "\t- Reading: 9.000000-ep2ddifftraDYNDISTCALCBVAL-51940  (ep2d_diff_tra_DYNDISTCALC_BVAL) (diff)\n",
      "\t\t- Skipping!\n",
      "\t- Reading: ProstateX-0170-Ktrans.mhd (Ktrans) (ktrans)\n",
      "\t\t- Done!\n",
      "\n",
      "\t\t> (Blurrying ADC) Combining 5 images: #### -> Elapsed: 1.32s\n",
      " - Lesion positions and significances:\n",
      "   - 1: [213.39594543 211.16765633  16.00001665], Sig: 10\n",
      "   - 2: [169.40430048 216.07056187  12.33333833], Sig: 10\n",
      " - Information: resampling_operation with pre_mask_growth_mm applied to channels [2] on x,y dimensions\n"
     ]
    },
    {
     "data": {
      "application/vnd.jupyter.widget-view+json": {
       "model_id": "df62acff9dd04f7ab140eb877c464cfa",
       "version_major": 2,
       "version_minor": 0
      },
      "text/plain": [
       "interactive(children=(IntSlider(value=12, description='z', max=23, style=SliderStyle(handle_color='lightblue')…"
      ]
     },
     "metadata": {},
     "output_type": "display_data"
    },
    {
     "data": {
      "application/vnd.jupyter.widget-view+json": {
       "model_id": "aeaf54755050434b93471fc99e5cf85a",
       "version_major": 2,
       "version_minor": 0
      },
      "text/plain": [
       "interactive(children=(IntSlider(value=12, description='z', max=23, style=SliderStyle(handle_color='lightblue')…"
      ]
     },
     "metadata": {},
     "output_type": "display_data"
    },
    {
     "name": "stdout",
     "output_type": "stream",
     "text": [
      "\n",
      "ProstateX-0171\n",
      "Patient: ProstateX-0171 (date: 2012-04-06 00:00:00)\n",
      "\t- Reading: 10.000000-tfl3d PD reftra1.5x1.5t3-89534  (tfl_3d PD ref_tra_1.5x1.5_t3) (unk)\n",
      "\t\t- Skipping!\n",
      "\t- Reading: 3.000000-t2tsesag-39963  (t2_tse_sag) (UNKNOWN)\n",
      "\t\t- Skipping!\n",
      "\t- Reading: 4.000000-t2tsetra-57019  (t2_tse_tra) (T2)\n",
      "\t\t- Done!\n",
      "\t- Reading: 5.000000-t2tsecor-81565  (t2_tse_cor) (UNKNOWN)\n",
      "\t\t- Skipping!\n",
      "\t- Reading: 6.000000-t2tsetra-65300  (t2_tse_tra) (T2)\n",
      "\t\t- Done!\n",
      "\t- Reading: 7.000000-ep2ddifftraDYNDIST-36916  (ep2d_diff_tra_DYNDIST) (b)\n",
      "\t\t- Done!\n",
      "\t- Reading: 8.000000-ep2ddifftraDYNDISTADC-44621  (ep2d_diff_tra_DYNDIST_ADC) (ADC)\n",
      "\t\t- Done!\n",
      "\t- Reading: 9.000000-ep2ddifftraDYNDISTCALCBVAL-95063  (ep2d_diff_tra_DYNDISTCALC_BVAL) (diff)\n",
      "\t\t- Skipping!\n",
      "\t- Reading: ProstateX-0171-Ktrans.mhd (Ktrans) (ktrans)\n",
      "\t\t- Done!\n",
      "\n",
      "\t\t> (Blurrying ADC) Combining 5 images: #### -> Elapsed: 1.52s\n",
      " - Lesion positions and significances:\n",
      "   - 1: [216.14077376 234.55882831  10.83633478], Sig: 10\n",
      "   - 2: [201.06677246 181.69994588   9.99998128], Sig: 10\n",
      "   - 3: [161.65248489 225.32490205  10.83633437], Sig: 10\n",
      " - Information: resampling_operation with pre_mask_growth_mm applied to channels [2] on x,y dimensions\n"
     ]
    },
    {
     "data": {
      "application/vnd.jupyter.widget-view+json": {
       "model_id": "09f120f89c1e47cbb5f3050703d360e5",
       "version_major": 2,
       "version_minor": 0
      },
      "text/plain": [
       "interactive(children=(IntSlider(value=12, description='z', max=23, style=SliderStyle(handle_color='lightblue')…"
      ]
     },
     "metadata": {},
     "output_type": "display_data"
    },
    {
     "data": {
      "application/vnd.jupyter.widget-view+json": {
       "model_id": "b404c9123dec4449b4eb3d42f944a71c",
       "version_major": 2,
       "version_minor": 0
      },
      "text/plain": [
       "interactive(children=(IntSlider(value=12, description='z', max=23, style=SliderStyle(handle_color='lightblue')…"
      ]
     },
     "metadata": {},
     "output_type": "display_data"
    },
    {
     "name": "stdout",
     "output_type": "stream",
     "text": [
      "\n",
      "ProstateX-0172\n",
      "Patient: ProstateX-0172 (date: 2012-04-09 00:00:00)\n",
      "\t- Reading: 1.000000-t2localizer-58625  (t2_localizer) (UNKNOWN)\n",
      "\t\t- Skipping!\n",
      "\t- Reading: 2.000000-t2loc sag-75563  (t2_loc sag) (UNKNOWN)\n",
      "\t\t- Skipping!\n",
      "\t- Reading: 3.000000-t2tsesag-72299  (t2_tse_sag) (UNKNOWN)\n",
      "\t\t- Skipping!\n",
      "\t- Reading: 4.000000-t2tsetra-36757  (t2_tse_tra) (T2)\n",
      "\t\t- Done!\n",
      "\t- Reading: 5.000000-t2tsecor-90913  (t2_tse_cor) (UNKNOWN)\n",
      "\t\t- Skipping!\n",
      "\t- Reading: 6.000000-ep2ddifftraDYNDIST-59526  (ep2d_diff_tra_DYNDIST) (b)\n",
      "\t\t- Done!\n",
      "\t- Reading: 7.000000-ep2ddifftraDYNDISTADC-39473  (ep2d_diff_tra_DYNDIST_ADC) (ADC)\n",
      "\t\t- Done!\n",
      "\t- Reading: 8.000000-ep2ddifftraDYNDISTCALCBVAL-06479  (ep2d_diff_tra_DYNDISTCALC_BVAL) (diff)\n",
      "\t\t- Skipping!\n",
      "\t- Reading: 9.000000-tfl3d PD reftra1.5x1.5t3-45744  (tfl_3d PD ref_tra_1.5x1.5_t3) (unk)\n",
      "\t\t- Skipping!\n",
      "\t- Reading: ProstateX-0172-Ktrans.mhd (Ktrans) (ktrans)\n",
      "\t\t- Done!\n",
      "\n",
      "\t\t> (Blurrying ADC) Combining 5 images: #### -> Elapsed: 1.30s\n",
      " - Lesion positions and significances:\n",
      "   - 1: [138.32346535 196.43673684   9.88422316], Sig: 10\n",
      "   - 2: [163.68935203 220.38007078   8.99996961], Sig: 10\n",
      "   - 3: [186.07491112 159.03551105   1.99998034], Sig: 1\n",
      " - Information: resampling_operation with pre_mask_growth_mm applied to channels [2] on x,y dimensions\n"
     ]
    },
    {
     "data": {
      "application/vnd.jupyter.widget-view+json": {
       "model_id": "4040daf3e2e94e11a7778a18d6c2ca5e",
       "version_major": 2,
       "version_minor": 0
      },
      "text/plain": [
       "interactive(children=(IntSlider(value=12, description='z', max=23, style=SliderStyle(handle_color='lightblue')…"
      ]
     },
     "metadata": {},
     "output_type": "display_data"
    },
    {
     "data": {
      "application/vnd.jupyter.widget-view+json": {
       "model_id": "3973832ed7684c319029882607bb2e41",
       "version_major": 2,
       "version_minor": 0
      },
      "text/plain": [
       "interactive(children=(IntSlider(value=12, description='z', max=23, style=SliderStyle(handle_color='lightblue')…"
      ]
     },
     "metadata": {},
     "output_type": "display_data"
    },
    {
     "name": "stdout",
     "output_type": "stream",
     "text": [
      "\n",
      "ProstateX-0173\n",
      "Patient: ProstateX-0173 (date: 2012-04-19 00:00:00)\n",
      "\t- Reading: 1.000000-t2localizer-61233  (t2_localizer) (UNKNOWN)\n",
      "\t\t- Skipping!\n",
      "\t- Reading: 10.000000-tfl3d PD reftra1.5x1.5t3-53278  (tfl_3d PD ref_tra_1.5x1.5_t3) (unk)\n",
      "\t\t- Skipping!\n",
      "\t- Reading: 2.000000-t2loc sag-01927  (t2_loc sag) (UNKNOWN)\n",
      "\t\t- Skipping!\n",
      "\t- Reading: 3.000000-t2tsesag-58091  (t2_tse_sag) (UNKNOWN)\n",
      "\t\t- Skipping!\n",
      "\t- Reading: 4.000000-t2tsecor-16352  (t2_tse_cor) (UNKNOWN)\n",
      "\t\t- Skipping!\n",
      "\t- Reading: 5.000000-t2tsetra-72186  (t2_tse_tra) (T2)\n",
      "\t\t- Done!\n",
      "\t- Reading: 56.000000-t2tsesag-47792  (t2_tse_sag) (UNKNOWN)\n",
      "\t\t- Skipping!\n",
      "\t- Reading: 57.000000-t2tsetra-46063  (t2_tse_tra) (T2)\n",
      "\t\t- Done!\n",
      "\t- Reading: 6.000000-ep2ddifftraDYNDIST-61087  (ep2d_diff_tra_DYNDIST) (b)\n",
      "\t\t- Done!\n",
      "\t- Reading: 7.000000-ep2ddifftraDYNDISTADC-19038  (ep2d_diff_tra_DYNDIST_ADC) (ADC)\n",
      "\t\t- Done!\n",
      "\t- Reading: 8.000000-ep2ddifftraDYNDISTCALCBVAL-32581  (ep2d_diff_tra_DYNDISTCALC_BVAL) (diff)\n",
      "\t\t- Skipping!\n",
      "\t- Reading: 9.000000-t2tsetra-09122  (t2_tse_tra) (T2)\n",
      "\t\t- Done!\n",
      "\t- Reading: ProstateX-0173-Ktrans.mhd (Ktrans) (ktrans)\n",
      "\t\t- Done!\n",
      "\n",
      "\t\t> (Blurrying ADC) Combining 5 images: #### -> Elapsed: 1.33s\n",
      " - Lesion positions and significances:\n",
      "   - 1: [156.24676919 177.27326163  11.99999353], Sig: 1\n",
      "   - 2: [157.90676903 203.83324836   7.00000863], Sig: 1\n",
      " - Information: resampling_operation with pre_mask_growth_mm applied to channels [2] on x,y dimensions\n"
     ]
    },
    {
     "data": {
      "application/vnd.jupyter.widget-view+json": {
       "model_id": "0196d7a2c3cf4a669433b7810e859ff3",
       "version_major": 2,
       "version_minor": 0
      },
      "text/plain": [
       "interactive(children=(IntSlider(value=12, description='z', max=23, style=SliderStyle(handle_color='lightblue')…"
      ]
     },
     "metadata": {},
     "output_type": "display_data"
    },
    {
     "data": {
      "application/vnd.jupyter.widget-view+json": {
       "model_id": "f9ad901c72d44db8990224e5ca00a5e7",
       "version_major": 2,
       "version_minor": 0
      },
      "text/plain": [
       "interactive(children=(IntSlider(value=12, description='z', max=23, style=SliderStyle(handle_color='lightblue')…"
      ]
     },
     "metadata": {},
     "output_type": "display_data"
    },
    {
     "name": "stdout",
     "output_type": "stream",
     "text": [
      "\n",
      "ProstateX-0174\n",
      "Patient: ProstateX-0174 (date: 2012-04-20 00:00:00)\n",
      "\t- Reading: 1.000000-t2localizer-41882  (t2_localizer) (UNKNOWN)\n",
      "\t\t- Skipping!\n",
      "\t- Reading: 2.000000-t2loc sag-69733  (t2_loc sag) (UNKNOWN)\n",
      "\t\t- Skipping!\n",
      "\t- Reading: 3.000000-t2tsesag-28829  (t2_tse_sag) (UNKNOWN)\n",
      "\t\t- Skipping!\n",
      "\t- Reading: 4.000000-t2tsetra-54225  (t2_tse_tra) (T2)\n",
      "\t\t- Done!\n",
      "\t- Reading: 5.000000-t2tsecor-00175  (t2_tse_cor) (UNKNOWN)\n",
      "\t\t- Skipping!\n",
      "\t- Reading: 6.000000-ep2ddifftraDYNDIST-45026  (ep2d_diff_tra_DYNDIST) (b)\n",
      "\t\t- Done!\n",
      "\t- Reading: 7.000000-ep2ddifftraDYNDISTADC-93142  (ep2d_diff_tra_DYNDIST_ADC) (ADC)\n",
      "\t\t- Done!\n",
      "\t- Reading: 8.000000-ep2ddifftraDYNDISTCALCBVAL-74266  (ep2d_diff_tra_DYNDISTCALC_BVAL) (diff)\n",
      "\t\t- Skipping!\n",
      "\t- Reading: 9.000000-tfl3d PD reftra1.5x1.5t3-72401  (tfl_3d PD ref_tra_1.5x1.5_t3) (unk)\n",
      "\t\t- Skipping!\n",
      "\t- Reading: ProstateX-0174-Ktrans.mhd (Ktrans) (ktrans)\n",
      "\t\t- Done!\n",
      "\n",
      "\t\t> (Blurrying ADC) Combining 5 images: #### -> Elapsed: 1.36s\n",
      " - Lesion positions and significances:\n",
      "   - 1: [214.1404097  219.38833794   9.27074913], Sig: 1\n",
      " - Information: resampling_operation with pre_mask_growth_mm applied to channels [2] on x,y dimensions\n"
     ]
    },
    {
     "data": {
      "application/vnd.jupyter.widget-view+json": {
       "model_id": "21521d5c66f54737ac067930f955cae8",
       "version_major": 2,
       "version_minor": 0
      },
      "text/plain": [
       "interactive(children=(IntSlider(value=12, description='z', max=23, style=SliderStyle(handle_color='lightblue')…"
      ]
     },
     "metadata": {},
     "output_type": "display_data"
    },
    {
     "data": {
      "application/vnd.jupyter.widget-view+json": {
       "model_id": "49d453071161465d832f2e8922e2c076",
       "version_major": 2,
       "version_minor": 0
      },
      "text/plain": [
       "interactive(children=(IntSlider(value=12, description='z', max=23, style=SliderStyle(handle_color='lightblue')…"
      ]
     },
     "metadata": {},
     "output_type": "display_data"
    },
    {
     "name": "stdout",
     "output_type": "stream",
     "text": [
      "\n",
      "ProstateX-0175\n",
      "Patient: ProstateX-0175 (date: 2012-04-26 00:00:00)\n",
      "\t- Reading: 1.000000-t2localizer-50334  (t2_localizer) (UNKNOWN)\n",
      "\t\t- Skipping!\n",
      "\t- Reading: 2.000000-t2loc sag-39443  (t2_loc sag) (UNKNOWN)\n",
      "\t\t- Skipping!\n",
      "\t- Reading: 3.000000-t2tsesag-42360  (t2_tse_sag) (UNKNOWN)\n",
      "\t\t- Skipping!\n",
      "\t- Reading: 4.000000-t2tsetra-16017  (t2_tse_tra) (T2)\n",
      "\t\t- Done!\n",
      "\t- Reading: 5.000000-t2tsecor-99257  (t2_tse_cor) (UNKNOWN)\n",
      "\t\t- Skipping!\n",
      "\t- Reading: 6.000000-ep2ddifftraDYNDIST-52570  (ep2d_diff_tra_DYNDIST) (b)\n",
      "\t\t- Done!\n",
      "\t- Reading: 7.000000-ep2ddifftraDYNDISTADC-34313  (ep2d_diff_tra_DYNDIST_ADC) (ADC)\n",
      "\t\t- Done!\n",
      "\t- Reading: 8.000000-ep2ddifftraDYNDISTCALCBVAL-35415  (ep2d_diff_tra_DYNDISTCALC_BVAL) (diff)\n",
      "\t\t- Skipping!\n",
      "\t- Reading: 9.000000-tfl3d PD reftra1.5x1.5t3-12596  (tfl_3d PD ref_tra_1.5x1.5_t3) (unk)\n",
      "\t\t- Skipping!\n",
      "\t- Reading: ProstateX-0175-Ktrans.mhd (Ktrans) (ktrans)\n",
      "\t\t- Done!\n",
      "\n",
      "\t\t> (Blurrying ADC) Combining 5 images: #### -> Elapsed: 1.32s\n",
      " - Lesion positions and significances:\n",
      "   - 1: [214.39103699 184.55097989  11.99999783], Sig: 10\n",
      "   - 2: [216.07043838 216.07056662  12.0000115 ], Sig: 10\n",
      " - Information: resampling_operation with pre_mask_growth_mm applied to channels [2] on x,y dimensions\n"
     ]
    },
    {
     "data": {
      "application/vnd.jupyter.widget-view+json": {
       "model_id": "a19d52878f694f349f1de4e11ab7502d",
       "version_major": 2,
       "version_minor": 0
      },
      "text/plain": [
       "interactive(children=(IntSlider(value=12, description='z', max=23, style=SliderStyle(handle_color='lightblue')…"
      ]
     },
     "metadata": {},
     "output_type": "display_data"
    },
    {
     "data": {
      "application/vnd.jupyter.widget-view+json": {
       "model_id": "8ea473444578469cb4af7dff6dd666fb",
       "version_major": 2,
       "version_minor": 0
      },
      "text/plain": [
       "interactive(children=(IntSlider(value=12, description='z', max=23, style=SliderStyle(handle_color='lightblue')…"
      ]
     },
     "metadata": {},
     "output_type": "display_data"
    },
    {
     "name": "stdout",
     "output_type": "stream",
     "text": [
      "\n",
      "ProstateX-0176\n",
      "Patient: ProstateX-0176 (date: 2012-04-27 00:00:00)\n",
      "\t- Reading: 10.000000-tfl3d PD reftra1.5x1.5t3-75883  (tfl_3d PD ref_tra_1.5x1.5_t3) (unk)\n",
      "\t\t- Skipping!\n",
      "\t- Reading: 3.000000-t2tsesag-05773  (t2_tse_sag) (UNKNOWN)\n",
      "\t\t- Skipping!\n",
      "\t- Reading: 4.000000-t2tsetra-97964  (t2_tse_tra) (T2)\n",
      "\t\t- Done!\n",
      "\t- Reading: 5.000000-t2tsetra-95625  (t2_tse_tra) (T2)\n",
      "\t\t- Done!\n",
      "\t- Reading: 6.000000-t2tsecor-14993  (t2_tse_cor) (UNKNOWN)\n",
      "\t\t- Skipping!\n",
      "\t- Reading: 7.000000-ep2ddifftraDYNDIST-00257  (ep2d_diff_tra_DYNDIST) (b)\n",
      "\t\t- Done!\n",
      "\t- Reading: 8.000000-ep2ddifftraDYNDISTADC-06891  (ep2d_diff_tra_DYNDIST_ADC) (ADC)\n",
      "\t\t- Done!\n",
      "\t- Reading: 9.000000-ep2ddifftraDYNDISTCALCBVAL-20167  (ep2d_diff_tra_DYNDISTCALC_BVAL) (diff)\n",
      "\t\t- Skipping!\n",
      "\t- Reading: ProstateX-0176-Ktrans.mhd (Ktrans) (ktrans)\n",
      "\t\t- Done!\n",
      "\n",
      "\t\t> (Blurrying ADC) Combining 5 images: #### -> Elapsed: 1.48s\n",
      " - Lesion positions and significances:\n",
      "   - 1: [205.59719849 184.42966492   6.00000622], Sig: 10\n",
      "   - 2: [218.62779617 203.28552267  11.99999444], Sig: 10\n",
      " - Information: resampling_operation with pre_mask_growth_mm applied to channels [2] on x,y dimensions\n"
     ]
    },
    {
     "data": {
      "application/vnd.jupyter.widget-view+json": {
       "model_id": "5f3e688b303649d7be55302ebb0b5611",
       "version_major": 2,
       "version_minor": 0
      },
      "text/plain": [
       "interactive(children=(IntSlider(value=12, description='z', max=23, style=SliderStyle(handle_color='lightblue')…"
      ]
     },
     "metadata": {},
     "output_type": "display_data"
    },
    {
     "data": {
      "application/vnd.jupyter.widget-view+json": {
       "model_id": "884c554928ab4f7096898891c80b9156",
       "version_major": 2,
       "version_minor": 0
      },
      "text/plain": [
       "interactive(children=(IntSlider(value=12, description='z', max=23, style=SliderStyle(handle_color='lightblue')…"
      ]
     },
     "metadata": {},
     "output_type": "display_data"
    },
    {
     "name": "stdout",
     "output_type": "stream",
     "text": [
      "\n",
      "ProstateX-0177\n",
      "Patient: ProstateX-0177 (date: 2011-08-11 00:00:00)\n",
      "\t- Reading: 3.000000-t2tsesag-97771  (t2_tse_sag) (UNKNOWN)\n",
      "\t\t- Skipping!\n",
      "\t- Reading: 4.000000-t2tsetra-69815  (t2_tse_tra) (T2)\n",
      "\t\t- Done!\n",
      "\t- Reading: 5.000000-t2tsecor-61620  (t2_tse_cor) (UNKNOWN)\n",
      "\t\t- Skipping!\n",
      "\t- Reading: 6.000000-ep2ddifftraDYNDISTMIX-46445  (ep2d_diff_tra_DYNDIST_MIX) (b)\n",
      "\t\t- Done!\n",
      "\t- Reading: 7.000000-ep2ddifftraDYNDISTMIXADC-70506  (ep2d_diff_tra_DYNDIST_MIX_ADC) (ADC)\n",
      "\t\t- Done!\n",
      "\t- Reading: 8.000000-ep2ddifftraDYNDISTMIXCALCBVAL-89233  (ep2d_diff_tra_DYNDIST_MIXCALC_BVAL) (diff)\n",
      "\t\t- Skipping!\n",
      "\t- Reading: 9.000000-tfl3d PD reftra1.5x1.5t3-44896  (tfl_3d PD ref_tra_1.5x1.5_t3) (unk)\n",
      "\t\t- Skipping!\n",
      "\t- Reading: ProstateX-0177-Ktrans.mhd (Ktrans) (ktrans)\n",
      "\t\t- Done!\n",
      "\n",
      "\t\t> (Blurrying ADC) Combining 5 images: #### -> Elapsed: 1.32s\n",
      " - Lesion positions and significances:\n",
      "   - 1: [150.22641793 176.49907527   7.95057025], Sig: 10\n",
      "   - 2: [170.18000245 205.74009452   7.99999666], Sig: 10\n",
      "   - 3: [188.20639826 167.8819903    5.95057253], Sig: 10\n",
      " - Information: resampling_operation with pre_mask_growth_mm applied to channels [2] on x,y dimensions\n"
     ]
    },
    {
     "data": {
      "application/vnd.jupyter.widget-view+json": {
       "model_id": "723f698941734969b1f1a123587bcb1c",
       "version_major": 2,
       "version_minor": 0
      },
      "text/plain": [
       "interactive(children=(IntSlider(value=12, description='z', max=23, style=SliderStyle(handle_color='lightblue')…"
      ]
     },
     "metadata": {},
     "output_type": "display_data"
    },
    {
     "data": {
      "application/vnd.jupyter.widget-view+json": {
       "model_id": "61a5708a04b34bfea54a46311120dba5",
       "version_major": 2,
       "version_minor": 0
      },
      "text/plain": [
       "interactive(children=(IntSlider(value=12, description='z', max=23, style=SliderStyle(handle_color='lightblue')…"
      ]
     },
     "metadata": {},
     "output_type": "display_data"
    },
    {
     "name": "stdout",
     "output_type": "stream",
     "text": [
      "\n",
      "ProstateX-0178\n",
      "Patient: ProstateX-0178 (date: 2012-04-30 00:00:00)\n",
      "\t- Reading: 3.000000-t2tsesag-57494  (t2_tse_sag) (UNKNOWN)\n",
      "\t\t- Skipping!\n",
      "\t- Reading: 4.000000-t2tsetra-47871  (t2_tse_tra) (T2)\n",
      "\t\t- Done!\n",
      "\t- Reading: 5.000000-t2tsecor-80019  (t2_tse_cor) (UNKNOWN)\n",
      "\t\t- Skipping!\n",
      "\t- Reading: 6.000000-ep2ddifftraDYNDIST-12226  (ep2d_diff_tra_DYNDIST) (b)\n",
      "\t\t- Done!\n",
      "\t- Reading: 7.000000-ep2ddifftraDYNDISTADC-41139  (ep2d_diff_tra_DYNDIST_ADC) (ADC)\n",
      "\t\t- Done!\n",
      "\t- Reading: 8.000000-ep2ddifftraDYNDISTCALCBVAL-05020  (ep2d_diff_tra_DYNDISTCALC_BVAL) (diff)\n",
      "\t\t- Skipping!\n",
      "\t- Reading: 9.000000-tfl3d PD reftra1.5x1.5t3-81145  (tfl_3d PD ref_tra_1.5x1.5_t3) (unk)\n",
      "\t\t- Skipping!\n",
      "\t- Reading: ProstateX-0178-Ktrans.mhd (Ktrans) (ktrans)\n",
      "\t\t- Done!\n",
      "\n",
      "\t\t> (Blurrying ADC) Combining 5 images: #### -> Elapsed: 1.45s\n",
      " - Lesion positions and significances:\n",
      "   - 1: [206.35757447 136.15562405  10.99998547], Sig: 10\n",
      " - Information: resampling_operation with pre_mask_growth_mm applied to channels [2] on x,y dimensions\n"
     ]
    },
    {
     "data": {
      "application/vnd.jupyter.widget-view+json": {
       "model_id": "3308ea1a114c41949cbfe8c395eefad5",
       "version_major": 2,
       "version_minor": 0
      },
      "text/plain": [
       "interactive(children=(IntSlider(value=12, description='z', max=23, style=SliderStyle(handle_color='lightblue')…"
      ]
     },
     "metadata": {},
     "output_type": "display_data"
    },
    {
     "data": {
      "application/vnd.jupyter.widget-view+json": {
       "model_id": "d35e39d1122d418799e1630b7662ff64",
       "version_major": 2,
       "version_minor": 0
      },
      "text/plain": [
       "interactive(children=(IntSlider(value=12, description='z', max=23, style=SliderStyle(handle_color='lightblue')…"
      ]
     },
     "metadata": {},
     "output_type": "display_data"
    },
    {
     "name": "stdout",
     "output_type": "stream",
     "text": [
      "\n",
      "ProstateX-0179\n",
      "Patient: ProstateX-0179 (date: 2012-05-08 00:00:00)\n",
      "\t- Reading: 1.000000-t2localizer-22018  (t2_localizer) (UNKNOWN)\n",
      "\t\t- Skipping!\n",
      "\t- Reading: 10.000000-ep2ddifftraDYNDISTCALCBVAL-49070  (ep2d_diff_tra_DYNDISTCALC_BVAL) (diff)\n",
      "\t\t- Skipping!\n",
      "\t- Reading: 11.000000-tfl3d PD reftra1.5x1.5t3-36154  (tfl_3d PD ref_tra_1.5x1.5_t3) (unk)\n",
      "\t\t- Skipping!\n",
      "\t- Reading: 2.000000-t2loc sag-08631  (t2_loc sag) (UNKNOWN)\n",
      "\t\t- Skipping!\n",
      "\t- Reading: 3.000000-t2tsesag-30047  (t2_tse_sag) (UNKNOWN)\n",
      "\t\t- Skipping!\n",
      "\t- Reading: 4.000000-t2tsecor-46811  (t2_tse_cor) (UNKNOWN)\n",
      "\t\t- Skipping!\n",
      "\t- Reading: 5.000000-t2tsetra-29801  (t2_tse_tra) (T2)\n",
      "\t\t- Done!\n",
      "\t- Reading: 6.000000-t2tsesag-08957  (t2_tse_sag) (UNKNOWN)\n",
      "\t\t- Skipping!\n",
      "\t- Reading: 7.000000-t2tsetra-10183  (t2_tse_tra) (T2)\n",
      "\t\t- Done!\n",
      "\t- Reading: 8.000000-ep2ddifftraDYNDIST-18015  (ep2d_diff_tra_DYNDIST) (b)\n",
      "\t\t- Done!\n",
      "\t- Reading: 9.000000-ep2ddifftraDYNDISTADC-68865  (ep2d_diff_tra_DYNDIST_ADC) (ADC)\n",
      "\t\t- Done!\n",
      "\t- Reading: ProstateX-0179-Ktrans.mhd (Ktrans) (ktrans)\n",
      "\t\t- Done!\n",
      "\n",
      "\t\t> (Blurrying ADC) Combining 5 images: #### -> Elapsed: 1.35s\n",
      " - Lesion positions and significances:\n",
      "   - 1: [149.89272404 176.90919736   9.99999795], Sig: 2\n",
      "   - 2: [190.00000381 214.23170694   4.99999641], Sig: 2\n",
      " - Information: resampling_operation with pre_mask_growth_mm applied to channels [2] on x,y dimensions\n"
     ]
    },
    {
     "data": {
      "application/vnd.jupyter.widget-view+json": {
       "model_id": "ebd9f95d852e45dfa9eb4b39fbfa042c",
       "version_major": 2,
       "version_minor": 0
      },
      "text/plain": [
       "interactive(children=(IntSlider(value=12, description='z', max=23, style=SliderStyle(handle_color='lightblue')…"
      ]
     },
     "metadata": {},
     "output_type": "display_data"
    },
    {
     "data": {
      "application/vnd.jupyter.widget-view+json": {
       "model_id": "a348c393ecee4e159c825216b1a382ce",
       "version_major": 2,
       "version_minor": 0
      },
      "text/plain": [
       "interactive(children=(IntSlider(value=12, description='z', max=23, style=SliderStyle(handle_color='lightblue')…"
      ]
     },
     "metadata": {},
     "output_type": "display_data"
    },
    {
     "name": "stdout",
     "output_type": "stream",
     "text": [
      "\n",
      "ProstateX-0180\n",
      "Patient: ProstateX-0180 (date: 2012-05-10 00:00:00)\n",
      "\t- Reading: 1.000000-t2localizer-89618  (t2_localizer) (UNKNOWN)\n",
      "\t\t- Skipping!\n",
      "\t- Reading: 2.000000-t2loc sag-89191  (t2_loc sag) (UNKNOWN)\n",
      "\t\t- Skipping!\n",
      "\t- Reading: 3.000000-t2tsesag-20976  (t2_tse_sag) (UNKNOWN)\n",
      "\t\t- Skipping!\n",
      "\t- Reading: 4.000000-t2tsetra-98795  (t2_tse_tra) (T2)\n",
      "\t\t- Done!\n",
      "\t- Reading: 5.000000-t2tsecor-91742  (t2_tse_cor) (UNKNOWN)\n",
      "\t\t- Skipping!\n",
      "\t- Reading: 6.000000-ep2ddifftraDYNDIST-25237  (ep2d_diff_tra_DYNDIST) (b)\n",
      "\t\t- Done!\n",
      "\t- Reading: 7.000000-ep2ddifftraDYNDISTADC-13070  (ep2d_diff_tra_DYNDIST_ADC) (ADC)\n",
      "\t\t- Done!\n",
      "\t- Reading: 8.000000-ep2ddifftraDYNDISTCALCBVAL-28206  (ep2d_diff_tra_DYNDISTCALC_BVAL) (diff)\n",
      "\t\t- Skipping!\n",
      "\t- Reading: 9.000000-tfl3d PD reftra1.5x1.5t3-13207  (tfl_3d PD ref_tra_1.5x1.5_t3) (unk)\n",
      "\t\t- Skipping!\n",
      "\t- Reading: ProstateX-0180-Ktrans.mhd (Ktrans) (ktrans)\n",
      "\t\t- Done!\n",
      "\n",
      "\t\t> (Blurrying ADC) Combining 5 images: #### -> Elapsed: 1.23s\n",
      " - Lesion positions and significances:\n",
      "   - 1: [138.22161101 238.46316155  10.49999844], Sig: 10\n",
      " - Information: resampling_operation with pre_mask_growth_mm applied to channels [2] on x,y dimensions\n"
     ]
    },
    {
     "data": {
      "application/vnd.jupyter.widget-view+json": {
       "model_id": "9fea36f4872b4f29a45d7ff88ebdde8b",
       "version_major": 2,
       "version_minor": 0
      },
      "text/plain": [
       "interactive(children=(IntSlider(value=12, description='z', max=23, style=SliderStyle(handle_color='lightblue')…"
      ]
     },
     "metadata": {},
     "output_type": "display_data"
    },
    {
     "data": {
      "application/vnd.jupyter.widget-view+json": {
       "model_id": "f6d414c1bcbe4956a612b3a6c513545a",
       "version_major": 2,
       "version_minor": 0
      },
      "text/plain": [
       "interactive(children=(IntSlider(value=12, description='z', max=23, style=SliderStyle(handle_color='lightblue')…"
      ]
     },
     "metadata": {},
     "output_type": "display_data"
    },
    {
     "name": "stdout",
     "output_type": "stream",
     "text": [
      "\n",
      "ProstateX-0181\n",
      "Patient: ProstateX-0181 (date: 2012-05-15 00:00:00)\n",
      "\t- Reading: 1.000000-t2localizer-60342  (t2_localizer) (UNKNOWN)\n",
      "\t\t- Skipping!\n",
      "\t- Reading: 10.000000-tfl3d PD reftra1.5x1.5t3-78743  (tfl_3d PD ref_tra_1.5x1.5_t3) (unk)\n",
      "\t\t- Skipping!\n",
      "\t- Reading: 2.000000-t2loc sag-57596  (t2_loc sag) (UNKNOWN)\n",
      "\t\t- Skipping!\n",
      "\t- Reading: 3.000000-t2tsesag-51025  (t2_tse_sag) (UNKNOWN)\n",
      "\t\t- Skipping!\n",
      "\t- Reading: 4.000000-t2tsetra-22004  (t2_tse_tra) (T2)\n",
      "\t\t- Done!\n",
      "\t- Reading: 5.000000-t2tsecor-58745  (t2_tse_cor) (UNKNOWN)\n",
      "\t\t- Skipping!\n",
      "\t- Reading: 6.000000-ep2ddifftraDYNDIST-13352  (ep2d_diff_tra_DYNDIST) (b)\n",
      "\t\t- Done!\n",
      "\t- Reading: 7.000000-ep2ddifftraDYNDISTADC-09799  (ep2d_diff_tra_DYNDIST_ADC) (ADC)\n",
      "\t\t- Done!\n",
      "\t- Reading: 8.000000-ep2ddifftraDYNDISTCALCBVAL-52953  (ep2d_diff_tra_DYNDISTCALC_BVAL) (diff)\n",
      "\t\t- Skipping!\n",
      "\t- Reading: 9.000000-t2tsetra-48063  (t2_tse_tra) (T2)\n",
      "\t\t- Done!\n",
      "\t- Reading: ProstateX-0181-Ktrans.mhd (Ktrans) (ktrans)\n",
      "\t\t- Done!\n",
      "\n",
      "\t\t> (Blurrying ADC) Combining 5 images: #### -> Elapsed: 4.81s\n",
      " - Lesion positions and significances:\n",
      "   - 1: [309.70333142 243.73731005   9.00000784], Sig: 5\n",
      " - Information: resampling_operation with pre_mask_growth_mm applied to channels [2] on x,y dimensions\n"
     ]
    },
    {
     "data": {
      "application/vnd.jupyter.widget-view+json": {
       "model_id": "32a9e452641b43138511bac01cc986cc",
       "version_major": 2,
       "version_minor": 0
      },
      "text/plain": [
       "interactive(children=(IntSlider(value=12, description='z', max=23, style=SliderStyle(handle_color='lightblue')…"
      ]
     },
     "metadata": {},
     "output_type": "display_data"
    },
    {
     "data": {
      "application/vnd.jupyter.widget-view+json": {
       "model_id": "bb87883694fa4aaa8478c2bbd599d961",
       "version_major": 2,
       "version_minor": 0
      },
      "text/plain": [
       "interactive(children=(IntSlider(value=12, description='z', max=23, style=SliderStyle(handle_color='lightblue')…"
      ]
     },
     "metadata": {},
     "output_type": "display_data"
    },
    {
     "name": "stdout",
     "output_type": "stream",
     "text": [
      "\n",
      "ProstateX-0182\n",
      "Patient: ProstateX-0182 (date: 2012-05-17 00:00:00)\n",
      "\t- Reading: 3.000000-t2tsesag-39836  (t2_tse_sag) (UNKNOWN)\n",
      "\t\t- Skipping!\n",
      "\t- Reading: 4.000000-t2tsetra-88478  (t2_tse_tra) (T2)\n",
      "\t\t- Done!\n",
      "\t- Reading: 5.000000-t2tsecor-25419  (t2_tse_cor) (UNKNOWN)\n",
      "\t\t- Skipping!\n",
      "\t- Reading: 6.000000-ep2ddifftraDYNDIST-18612  (ep2d_diff_tra_DYNDIST) (b)\n",
      "\t\t- Done!\n",
      "\t- Reading: 7.000000-ep2ddifftraDYNDISTADC-03535  (ep2d_diff_tra_DYNDIST_ADC) (ADC)\n",
      "\t\t- Done!\n",
      "\t- Reading: 8.000000-ep2ddifftraDYNDISTCALCBVAL-55641  (ep2d_diff_tra_DYNDISTCALC_BVAL) (diff)\n",
      "\t\t- Skipping!\n",
      "\t- Reading: 9.000000-tfl3d PD reftra1.5x1.5t3-45770  (tfl_3d PD ref_tra_1.5x1.5_t3) (unk)\n",
      "\t\t- Skipping!\n",
      "\t- Reading: ProstateX-0182-Ktrans.mhd (Ktrans) (ktrans)\n",
      "\t\t- Done!\n",
      "\n",
      "\t\t> (Blurrying ADC) Combining 5 images: #### -> Elapsed: 1.50s\n",
      " - Lesion positions and significances:\n",
      "   - 1: [214.045125   226.84000003   4.00001506], Sig: 1\n",
      " - Information: resampling_operation with pre_mask_growth_mm applied to channels [2] on x,y dimensions\n"
     ]
    },
    {
     "data": {
      "application/vnd.jupyter.widget-view+json": {
       "model_id": "f6c144bbcaf3449886524eef19b4eebd",
       "version_major": 2,
       "version_minor": 0
      },
      "text/plain": [
       "interactive(children=(IntSlider(value=12, description='z', max=23, style=SliderStyle(handle_color='lightblue')…"
      ]
     },
     "metadata": {},
     "output_type": "display_data"
    },
    {
     "data": {
      "application/vnd.jupyter.widget-view+json": {
       "model_id": "6dc873020e774cf6b4133d27e3722ed5",
       "version_major": 2,
       "version_minor": 0
      },
      "text/plain": [
       "interactive(children=(IntSlider(value=12, description='z', max=23, style=SliderStyle(handle_color='lightblue')…"
      ]
     },
     "metadata": {},
     "output_type": "display_data"
    },
    {
     "name": "stdout",
     "output_type": "stream",
     "text": [
      "\n",
      "ProstateX-0183\n",
      "Patient: ProstateX-0183 (date: 2012-05-18 00:00:00)\n",
      "\t- Reading: 3.000000-t2tsesag-48574  (t2_tse_sag) (UNKNOWN)\n",
      "\t\t- Skipping!\n",
      "\t- Reading: 4.000000-t2tsetra-23454  (t2_tse_tra) (T2)\n",
      "\t\t- Done!\n",
      "\t- Reading: 5.000000-t2tsecor-86599  (t2_tse_cor) (UNKNOWN)\n",
      "\t\t- Skipping!\n",
      "\t- Reading: 6.000000-ep2ddifftraDYNDIST-63483  (ep2d_diff_tra_DYNDIST) (b)\n",
      "\t\t- Done!\n",
      "\t- Reading: 7.000000-ep2ddifftraDYNDISTADC-59725  (ep2d_diff_tra_DYNDIST_ADC) (ADC)\n",
      "\t\t- Done!\n",
      "\t- Reading: 8.000000-ep2ddifftraDYNDISTCALCBVAL-24189  (ep2d_diff_tra_DYNDISTCALC_BVAL) (diff)\n",
      "\t\t- Skipping!\n",
      "\t- Reading: 9.000000-tfl3d PD reftra1.5x1.5t3-24922  (tfl_3d PD ref_tra_1.5x1.5_t3) (unk)\n",
      "\t\t- Skipping!\n",
      "\t- Reading: ProstateX-0183-Ktrans.mhd (Ktrans) (ktrans)\n",
      "\t\t- Done!\n",
      "\n",
      "\t\t> (Blurrying ADC) Combining 5 images: #### -> Elapsed: 1.35s\n",
      " - Lesion positions and significances:\n",
      "   - 1: [205.66248321 196.39729267   1.99999008], Sig: 3\n",
      " - Information: resampling_operation with pre_mask_growth_mm applied to channels [2] on x,y dimensions\n"
     ]
    },
    {
     "data": {
      "application/vnd.jupyter.widget-view+json": {
       "model_id": "5404a5be803c45a5bbe0c816941d4024",
       "version_major": 2,
       "version_minor": 0
      },
      "text/plain": [
       "interactive(children=(IntSlider(value=12, description='z', max=23, style=SliderStyle(handle_color='lightblue')…"
      ]
     },
     "metadata": {},
     "output_type": "display_data"
    },
    {
     "data": {
      "application/vnd.jupyter.widget-view+json": {
       "model_id": "b15da58df1444e618151da2685c070d9",
       "version_major": 2,
       "version_minor": 0
      },
      "text/plain": [
       "interactive(children=(IntSlider(value=12, description='z', max=23, style=SliderStyle(handle_color='lightblue')…"
      ]
     },
     "metadata": {},
     "output_type": "display_data"
    },
    {
     "name": "stdout",
     "output_type": "stream",
     "text": [
      "\n",
      "ProstateX-0184\n",
      "Patient: ProstateX-0184 (date: 2012-05-21 00:00:00)\n",
      "\t- Reading: 3.000000-t2tsesag-11422  (t2_tse_sag) (UNKNOWN)\n",
      "\t\t- Skipping!\n",
      "\t- Reading: 4.000000-t2tsetra-53679  (t2_tse_tra) (T2)\n",
      "\t\t- Done!\n",
      "\t- Reading: 5.000000-t2tsecor-51548  (t2_tse_cor) (UNKNOWN)\n",
      "\t\t- Skipping!\n",
      "\t- Reading: 6.000000-ep2ddifftraDYNDIST-64502  (ep2d_diff_tra_DYNDIST) (b)\n",
      "\t\t- Done!\n",
      "\t- Reading: 7.000000-ep2ddifftraDYNDISTADC-26559  (ep2d_diff_tra_DYNDIST_ADC) (ADC)\n",
      "\t\t- Done!\n",
      "\t- Reading: 8.000000-ep2ddifftraDYNDISTCALCBVAL-41211  (ep2d_diff_tra_DYNDISTCALC_BVAL) (diff)\n",
      "\t\t- Skipping!\n",
      "\t- Reading: 9.000000-tfl3d PD reftra1.5x1.5t3-57715  (tfl_3d PD ref_tra_1.5x1.5_t3) (unk)\n",
      "\t\t- Skipping!\n",
      "\t- Reading: ProstateX-0184-Ktrans.mhd (Ktrans) (ktrans)\n",
      "\t\t- Done!\n",
      "\n",
      "\t\t> (Blurrying ADC) Combining 5 images: #### -> Elapsed: 1.40s\n",
      " - Lesion positions and significances:\n",
      "   - 1: [193.72559635 211.47594215  12.99999456], Sig: 10\n",
      "   - 2: [226.59685512 202.71050167  12.99999259], Sig: 3\n",
      " - Information: resampling_operation with pre_mask_growth_mm applied to channels [2] on x,y dimensions\n"
     ]
    },
    {
     "data": {
      "application/vnd.jupyter.widget-view+json": {
       "model_id": "a180c1951aeb4106ab331a5ba6a5918f",
       "version_major": 2,
       "version_minor": 0
      },
      "text/plain": [
       "interactive(children=(IntSlider(value=12, description='z', max=23, style=SliderStyle(handle_color='lightblue')…"
      ]
     },
     "metadata": {},
     "output_type": "display_data"
    },
    {
     "data": {
      "application/vnd.jupyter.widget-view+json": {
       "model_id": "1d518ddb136248f2a8031ee4c0b6fbed",
       "version_major": 2,
       "version_minor": 0
      },
      "text/plain": [
       "interactive(children=(IntSlider(value=12, description='z', max=23, style=SliderStyle(handle_color='lightblue')…"
      ]
     },
     "metadata": {},
     "output_type": "display_data"
    },
    {
     "name": "stdout",
     "output_type": "stream",
     "text": [
      "\n",
      "ProstateX-0185\n",
      "Patient: ProstateX-0185 (date: 2012-05-22 00:00:00)\n",
      "\t- Reading: 10.000000-tfl3d PD reftra1.5x1.5t3-83827  (tfl_3d PD ref_tra_1.5x1.5_t3) (unk)\n",
      "\t\t- Skipping!\n",
      "\t- Reading: 3.000000-t2tsesag-21465  (t2_tse_sag) (UNKNOWN)\n",
      "\t\t- Skipping!\n",
      "\t- Reading: 4.000000-t2tsecor-59225  (t2_tse_cor) (UNKNOWN)\n",
      "\t\t- Skipping!\n",
      "\t- Reading: 5.000000-t2tsetra-54929  (t2_tse_tra) (T2)\n",
      "\t\t- Done!\n",
      "\t- Reading: 6.000000-ep2ddifftraDYNDIST-44677  (ep2d_diff_tra_DYNDIST) (b)\n",
      "\t\t- Done!\n",
      "\t- Reading: 7.000000-ep2ddifftraDYNDISTADC-28646  (ep2d_diff_tra_DYNDIST_ADC) (ADC)\n",
      "\t\t- Done!\n",
      "\t- Reading: 8.000000-ep2ddifftraDYNDISTCALCBVAL-53986  (ep2d_diff_tra_DYNDISTCALC_BVAL) (diff)\n",
      "\t\t- Skipping!\n",
      "\t- Reading: 9.000000-t2tsetra-11409  (t2_tse_tra) (T2)\n",
      "\t\t- Done!\n",
      "\t- Reading: ProstateX-0185-Ktrans.mhd (Ktrans) (ktrans)\n",
      "\t\t- Done!\n",
      "\n",
      "\t\t> (Blurrying ADC) Combining 5 images: #### -> Elapsed: 1.34s\n",
      " - Lesion positions and significances:\n",
      "   - 1: [213.00997925 192.19161068   8.99999306], Sig: 10\n",
      " - Information: resampling_operation with pre_mask_growth_mm applied to channels [2] on x,y dimensions\n"
     ]
    },
    {
     "data": {
      "application/vnd.jupyter.widget-view+json": {
       "model_id": "a36040b797d64a08be568b75873aa33b",
       "version_major": 2,
       "version_minor": 0
      },
      "text/plain": [
       "interactive(children=(IntSlider(value=12, description='z', max=23, style=SliderStyle(handle_color='lightblue')…"
      ]
     },
     "metadata": {},
     "output_type": "display_data"
    },
    {
     "data": {
      "application/vnd.jupyter.widget-view+json": {
       "model_id": "0e1be07833db417aa3ee799fee5f931f",
       "version_major": 2,
       "version_minor": 0
      },
      "text/plain": [
       "interactive(children=(IntSlider(value=12, description='z', max=23, style=SliderStyle(handle_color='lightblue')…"
      ]
     },
     "metadata": {},
     "output_type": "display_data"
    },
    {
     "name": "stdout",
     "output_type": "stream",
     "text": [
      "\n",
      "ProstateX-0186\n",
      "Patient: ProstateX-0186 (date: 2011-08-15 00:00:00)\n",
      "\t- Reading: 1.000000-t2localizer-99138  (t2_localizer) (UNKNOWN)\n",
      "\t\t- Skipping!\n",
      "\t- Reading: 10.000000-t2tsetra-15751  (t2_tse_tra) (T2)\n",
      "\t\t- Done!\n",
      "\t- Reading: 2.000000-t2loc sag-46526  (t2_loc sag) (UNKNOWN)\n",
      "\t\t- Skipping!\n",
      "\t- Reading: 3.000000-t2tsesag-96237  (t2_tse_sag) (UNKNOWN)\n",
      "\t\t- Skipping!\n",
      "\t- Reading: 4.000000-t2tsecor-14124  (t2_tse_cor) (UNKNOWN)\n",
      "\t\t- Skipping!\n",
      "\t- Reading: 5.000000-t2tsetra-30334  (t2_tse_tra) (T2)\n",
      "\t\t- Done!\n",
      "\t- Reading: 6.000000-ep2ddifftraDYNDISTMIX-93631  (ep2d_diff_tra_DYNDIST_MIX) (b)\n",
      "\t\t- Done!\n",
      "\t- Reading: 7.000000-ep2ddifftraDYNDISTMIXADC-84202  (ep2d_diff_tra_DYNDIST_MIX_ADC) (ADC)\n",
      "\t\t- Done!\n",
      "\t- Reading: 8.000000-ep2ddifftraDYNDISTMIXCALCBVAL-08574  (ep2d_diff_tra_DYNDIST_MIXCALC_BVAL) (diff)\n",
      "\t\t- Skipping!\n",
      "\t- Reading: 9.000000-tfl3d PD reftra1.5x1.5t3-23193  (tfl_3d PD ref_tra_1.5x1.5_t3) (unk)\n",
      "\t\t- Skipping!\n",
      "\t- Reading: ProstateX-0186-Ktrans.mhd (Ktrans) (ktrans)\n",
      "\t\t- Done!\n",
      "\n",
      "\t\t> (Blurrying ADC) Combining 5 images: #### -> Elapsed: 1.31s\n",
      " - Lesion positions and significances:\n",
      "   - 1: [183.51509982 190.49991067   6.00000284], Sig: 2\n",
      "   - 2: [207.64490318 216.53520552   6.99998177], Sig: 10\n",
      " - Information: resampling_operation with pre_mask_growth_mm applied to channels [2] on x,y dimensions\n"
     ]
    },
    {
     "data": {
      "application/vnd.jupyter.widget-view+json": {
       "model_id": "8a4c89e2fa174f8cb76f16e59bded1e3",
       "version_major": 2,
       "version_minor": 0
      },
      "text/plain": [
       "interactive(children=(IntSlider(value=12, description='z', max=23, style=SliderStyle(handle_color='lightblue')…"
      ]
     },
     "metadata": {},
     "output_type": "display_data"
    },
    {
     "data": {
      "application/vnd.jupyter.widget-view+json": {
       "model_id": "a12f5c18bcd8408a89b5cd56aaad17f1",
       "version_major": 2,
       "version_minor": 0
      },
      "text/plain": [
       "interactive(children=(IntSlider(value=12, description='z', max=23, style=SliderStyle(handle_color='lightblue')…"
      ]
     },
     "metadata": {},
     "output_type": "display_data"
    },
    {
     "name": "stdout",
     "output_type": "stream",
     "text": [
      "\n",
      "ProstateX-0187\n",
      "Patient: ProstateX-0187 (date: 2012-05-25 00:00:00)\n",
      "\t- Reading: 3.000000-t2tsesag-51821  (t2_tse_sag) (UNKNOWN)\n",
      "\t\t- Skipping!\n",
      "\t- Reading: 4.000000-t2tsetra-67369  (t2_tse_tra) (T2)\n",
      "\t\t- Done!\n",
      "\t- Reading: 5.000000-t2tsecor-43559  (t2_tse_cor) (UNKNOWN)\n",
      "\t\t- Skipping!\n",
      "\t- Reading: 6.000000-ep2ddifftraDYNDIST-70864  (ep2d_diff_tra_DYNDIST) (b)\n",
      "\t\t- Done!\n",
      "\t- Reading: 7.000000-ep2ddifftraDYNDISTADC-17685  (ep2d_diff_tra_DYNDIST_ADC) (ADC)\n",
      "\t\t- Done!\n",
      "\t- Reading: 8.000000-ep2ddifftraDYNDISTCALCBVAL-71107  (ep2d_diff_tra_DYNDISTCALC_BVAL) (diff)\n",
      "\t\t- Skipping!\n",
      "\t- Reading: 9.000000-tfl3d PD reftra1.5x1.5t3-23090  (tfl_3d PD ref_tra_1.5x1.5_t3) (unk)\n",
      "\t\t- Skipping!\n",
      "\t- Reading: ProstateX-0187-Ktrans.mhd (Ktrans) (ktrans)\n",
      "\t\t- Done!\n",
      "\n",
      "\t\t> (Blurrying ADC) Combining 5 images: #### -> Elapsed: 1.47s\n",
      " - Lesion positions and significances:\n",
      "   - 1: [198.75417403 170.14606935   7.04281023], Sig: 3\n",
      "   - 2: [186.24999684 163.08719568  11.99999329], Sig: 10\n",
      "   - 3: [225.30525046 172.37755966  16.04281813], Sig: 10\n",
      " - Information: resampling_operation with pre_mask_growth_mm applied to channels [2] on x,y dimensions\n"
     ]
    },
    {
     "data": {
      "application/vnd.jupyter.widget-view+json": {
       "model_id": "f580f14e971b442a9e3ef7429db09606",
       "version_major": 2,
       "version_minor": 0
      },
      "text/plain": [
       "interactive(children=(IntSlider(value=12, description='z', max=23, style=SliderStyle(handle_color='lightblue')…"
      ]
     },
     "metadata": {},
     "output_type": "display_data"
    },
    {
     "data": {
      "application/vnd.jupyter.widget-view+json": {
       "model_id": "cfb9c472e2e54dbdb8f03a1a208cdd25",
       "version_major": 2,
       "version_minor": 0
      },
      "text/plain": [
       "interactive(children=(IntSlider(value=12, description='z', max=23, style=SliderStyle(handle_color='lightblue')…"
      ]
     },
     "metadata": {},
     "output_type": "display_data"
    },
    {
     "name": "stdout",
     "output_type": "stream",
     "text": [
      "\n",
      "ProstateX-0188\n",
      "Patient: ProstateX-0188 (date: 2012-05-25 00:00:00)\n",
      "\t- Reading: 1.000000-t2localizer-27314  (t2_localizer) (UNKNOWN)\n",
      "\t\t- Skipping!\n",
      "\t- Reading: 2.000000-t2loc sag-54003  (t2_loc sag) (UNKNOWN)\n",
      "\t\t- Skipping!\n",
      "\t- Reading: 3.000000-t2tsesag-81989  (t2_tse_sag) (UNKNOWN)\n",
      "\t\t- Skipping!\n",
      "\t- Reading: 4.000000-t2tsetra-56177  (t2_tse_tra) (T2)\n",
      "\t\t- Done!\n",
      "\t- Reading: 5.000000-t2tsecor-98271  (t2_tse_cor) (UNKNOWN)\n",
      "\t\t- Skipping!\n",
      "\t- Reading: 6.000000-ep2ddifftraDYNDIST-16737  (ep2d_diff_tra_DYNDIST) (b)\n",
      "\t\t- Done!\n",
      "\t- Reading: 7.000000-ep2ddifftraDYNDISTADC-74412  (ep2d_diff_tra_DYNDIST_ADC) (ADC)\n",
      "\t\t- Done!\n",
      "\t- Reading: 8.000000-ep2ddifftraDYNDISTCALCBVAL-38258  (ep2d_diff_tra_DYNDISTCALC_BVAL) (diff)\n",
      "\t\t- Skipping!\n",
      "\t- Reading: 9.000000-tfl3d PD reftra1.5x1.5t3-41105  (tfl_3d PD ref_tra_1.5x1.5_t3) (unk)\n",
      "\t\t- Skipping!\n",
      "\t- Reading: ProstateX-0188-Ktrans.mhd (Ktrans) (ktrans)\n",
      "\t\t- Done!\n",
      "\n",
      "\t\t> (Blurrying ADC) Combining 5 images: #### -> Elapsed: 1.43s\n",
      " - Lesion positions and significances:\n",
      "   - 1: [148.45432378 160.44001678  10.00000057], Sig: 1\n",
      " - Information: resampling_operation with pre_mask_growth_mm applied to channels [2] on x,y dimensions\n"
     ]
    },
    {
     "data": {
      "application/vnd.jupyter.widget-view+json": {
       "model_id": "5ad2f323dc29464690ddccf8b00d6ea8",
       "version_major": 2,
       "version_minor": 0
      },
      "text/plain": [
       "interactive(children=(IntSlider(value=12, description='z', max=23, style=SliderStyle(handle_color='lightblue')…"
      ]
     },
     "metadata": {},
     "output_type": "display_data"
    },
    {
     "data": {
      "application/vnd.jupyter.widget-view+json": {
       "model_id": "c63b9e2f4e094e7db3b45fb0d88ef115",
       "version_major": 2,
       "version_minor": 0
      },
      "text/plain": [
       "interactive(children=(IntSlider(value=12, description='z', max=23, style=SliderStyle(handle_color='lightblue')…"
      ]
     },
     "metadata": {},
     "output_type": "display_data"
    },
    {
     "name": "stdout",
     "output_type": "stream",
     "text": [
      "\n",
      "ProstateX-0189\n",
      "Patient: ProstateX-0189 (date: 2012-05-26 00:00:00)\n",
      "\t- Reading: 10.000000-t2tsecor-75543  (t2_tse_cor) (UNKNOWN)\n",
      "\t\t- Skipping!\n",
      "\t- Reading: 3.000000-t2tsesag-84097  (t2_tse_sag) (UNKNOWN)\n",
      "\t\t- Skipping!\n",
      "\t- Reading: 4.000000-t2tsetra-09288  (t2_tse_tra) (T2)\n",
      "\t\t- Done!\n",
      "\t- Reading: 5.000000-t2tsecor-66237  (t2_tse_cor) (UNKNOWN)\n",
      "\t\t- Skipping!\n",
      "\t- Reading: 6.000000-ep2ddifftraDYNDIST-17189  (ep2d_diff_tra_DYNDIST) (b)\n",
      "\t\t- Done!\n",
      "\t- Reading: 7.000000-ep2ddifftraDYNDISTADC-01801  (ep2d_diff_tra_DYNDIST_ADC) (ADC)\n",
      "\t\t- Done!\n",
      "\t- Reading: 8.000000-ep2ddifftraDYNDISTCALCBVAL-19162  (ep2d_diff_tra_DYNDISTCALC_BVAL) (diff)\n",
      "\t\t- Skipping!\n",
      "\t- Reading: 9.000000-tfl3d PD reftra1.5x1.5t3-39981  (tfl_3d PD ref_tra_1.5x1.5_t3) (unk)\n",
      "\t\t- Skipping!\n",
      "\t- Reading: ProstateX-0189-Ktrans.mhd (Ktrans) (ktrans)\n",
      "\t\t- Done!\n",
      "\n",
      "\t\t> (Blurrying ADC) Combining 5 images: #### -> Elapsed: 1.39s\n",
      " - Lesion positions and significances:\n",
      "   - 1: [203.42230796 211.4383859    4.99997867], Sig: 10\n",
      "   - 2: [178.44200611 209.57442608   9.85714264], Sig: 10\n",
      "   - 3: [183.28880691 194.28750295   1.00002884], Sig: 10\n",
      " - Information: resampling_operation with pre_mask_growth_mm applied to channels [2] on x,y dimensions\n"
     ]
    },
    {
     "data": {
      "application/vnd.jupyter.widget-view+json": {
       "model_id": "f7d69e52f843467688207e4760f41025",
       "version_major": 2,
       "version_minor": 0
      },
      "text/plain": [
       "interactive(children=(IntSlider(value=12, description='z', max=23, style=SliderStyle(handle_color='lightblue')…"
      ]
     },
     "metadata": {},
     "output_type": "display_data"
    },
    {
     "data": {
      "application/vnd.jupyter.widget-view+json": {
       "model_id": "0af42ae760494eb48927c4d49d883e02",
       "version_major": 2,
       "version_minor": 0
      },
      "text/plain": [
       "interactive(children=(IntSlider(value=12, description='z', max=23, style=SliderStyle(handle_color='lightblue')…"
      ]
     },
     "metadata": {},
     "output_type": "display_data"
    },
    {
     "name": "stdout",
     "output_type": "stream",
     "text": [
      "\n",
      "ProstateX-0190\n",
      "Patient: ProstateX-0190 (date: 2012-05-29 00:00:00)\n",
      "\t- Reading: 10.000000-ep2ddifftraDYNDIST-35965  (ep2d_diff_tra_DYNDIST) (b)\n",
      "\t\t- Done!\n",
      "\t- Reading: 11.000000-ep2ddifftraDYNDISTADC-46731  (ep2d_diff_tra_DYNDIST_ADC) (ADC)\n",
      "\t\t- Done!\n",
      "\t- Reading: 12.000000-ep2ddifftraDYNDISTCALCBVAL-55630  (ep2d_diff_tra_DYNDISTCALC_BVAL) (diff)\n",
      "\t\t- Skipping!\n",
      "\t- Reading: 3.000000-t2tsesag-18943  (t2_tse_sag) (UNKNOWN)\n",
      "\t\t- Skipping!\n",
      "\t- Reading: 4.000000-t2tsetra-82713  (t2_tse_tra) (T2)\n",
      "\t\t- Done!\n",
      "\t- Reading: 5.000000-t2tsecor-54212  (t2_tse_cor) (UNKNOWN)\n",
      "\t\t- Skipping!\n",
      "\t- Reading: 6.000000-ep2ddifftraDYNDIST-76917  (ep2d_diff_tra_DYNDIST) (b)\n",
      "\t\t- Done!\n",
      "\t- Reading: 7.000000-ep2ddifftraDYNDISTADC-45873  (ep2d_diff_tra_DYNDIST_ADC) (ADC)\n",
      "\t\t- Done!\n",
      "\t- Reading: 8.000000-ep2ddifftraDYNDISTCALCBVAL-80950  (ep2d_diff_tra_DYNDISTCALC_BVAL) (diff)\n",
      "\t\t- Skipping!\n",
      "\t- Reading: 9.000000-tfl3d PD reftra1.5x1.5t3-59820  (tfl_3d PD ref_tra_1.5x1.5_t3) (unk)\n",
      "\t\t- Skipping!\n",
      "\t- Reading: ProstateX-0190-Ktrans.mhd (Ktrans) (ktrans)\n",
      "\t\t- Done!\n",
      "\n",
      "\t\t> (Blurrying ADC) Combining 5 images: #### -> Elapsed: 1.43s\n",
      " - Lesion positions and significances:\n",
      "   - 1: [192.86760377 190.22049389   3.99999047], Sig: 2\n",
      "   - 2: [213.16277808 186.69124661   7.50000013], Sig: 10\n",
      " - Information: resampling_operation with pre_mask_growth_mm applied to channels [2] on x,y dimensions\n"
     ]
    },
    {
     "data": {
      "application/vnd.jupyter.widget-view+json": {
       "model_id": "d0382cd2b5a84c6080840b79564e700b",
       "version_major": 2,
       "version_minor": 0
      },
      "text/plain": [
       "interactive(children=(IntSlider(value=12, description='z', max=23, style=SliderStyle(handle_color='lightblue')…"
      ]
     },
     "metadata": {},
     "output_type": "display_data"
    },
    {
     "data": {
      "application/vnd.jupyter.widget-view+json": {
       "model_id": "6e7dd4f2676c4baaba86e73a6087691d",
       "version_major": 2,
       "version_minor": 0
      },
      "text/plain": [
       "interactive(children=(IntSlider(value=12, description='z', max=23, style=SliderStyle(handle_color='lightblue')…"
      ]
     },
     "metadata": {},
     "output_type": "display_data"
    },
    {
     "name": "stdout",
     "output_type": "stream",
     "text": [
      "\n",
      "ProstateX-0191\n",
      "Patient: ProstateX-0191 (date: 2012-05-29 00:00:00)\n",
      "\t- Reading: 1.000000-t2localizer-83679  (t2_localizer) (UNKNOWN)\n",
      "\t\t- Skipping!\n",
      "\t- Reading: 10.000000-ADCS32-13343  (ADC_S3_2) (UNKNOWN)\n",
      "\t\t- Skipping!\n",
      "\t- Reading: 100.000000-Perfusiet1twist1.3x1.3x3temp2sTT109.3s-11693  (Perfusie_t1_twist_1.3x1.3x3_temp_2s_TT=109.3s) (UNKNOWN)\n",
      "\t\t- Skipping!\n",
      "\t- Reading: 101.000000-Perfusiet1twist1.3x1.3x3temp2sTT110.5s-13799  (Perfusie_t1_twist_1.3x1.3x3_temp_2s_TT=110.5s) (UNKNOWN)\n",
      "\t\t- Skipping!\n",
      "\t- Reading: 102.000000-Perfusiet1twist1.3x1.3x3temp2sTT111.8s-27764  (Perfusie_t1_twist_1.3x1.3x3_temp_2s_TT=111.8s) (UNKNOWN)\n",
      "\t\t- Skipping!\n",
      "\t- Reading: 103.000000-Perfusiet1twist1.3x1.3x3temp2sTT113.0s-11551  (Perfusie_t1_twist_1.3x1.3x3_temp_2s_TT=113.0s) (UNKNOWN)\n",
      "\t\t- Skipping!\n",
      "\t- Reading: 104.000000-Perfusiet1twist1.3x1.3x3temp2sTT114.3s-96994  (Perfusie_t1_twist_1.3x1.3x3_temp_2s_TT=114.3s) (UNKNOWN)\n",
      "\t\t- Skipping!\n",
      "\t- Reading: 105.000000-Perfusiet1twist1.3x1.3x3temp2sTT115.5s-74574  (Perfusie_t1_twist_1.3x1.3x3_temp_2s_TT=115.5s) (UNKNOWN)\n",
      "\t\t- Skipping!\n",
      "\t- Reading: 106.000000-Perfusiet1twist1.3x1.3x3temp2sTT116.8s-69354  (Perfusie_t1_twist_1.3x1.3x3_temp_2s_TT=116.8s) (UNKNOWN)\n",
      "\t\t- Skipping!\n",
      "\t- Reading: 107.000000-Perfusiet1twist1.3x1.3x3temp2sTT118.0s-29512  (Perfusie_t1_twist_1.3x1.3x3_temp_2s_TT=118.0s) (UNKNOWN)\n",
      "\t\t- Skipping!\n",
      "\t- Reading: 108.000000-Perfusiet1twist1.3x1.3x3temp2sTT119.3s-01989  (Perfusie_t1_twist_1.3x1.3x3_temp_2s_TT=119.3s) (UNKNOWN)\n",
      "\t\t- Skipping!\n",
      "\t- Reading: 109.000000-Perfusiet1twist1.3x1.3x3temp2sTT120.6s-90253  (Perfusie_t1_twist_1.3x1.3x3_temp_2s_TT=120.6s) (UNKNOWN)\n",
      "\t\t- Skipping!\n",
      "\t- Reading: 11.000000-ep2ddifftra2x2Noise0FSDYNDIST-38300  (ep2d_diff_tra2x2_Noise0_FS_DYNDIST) (UNKNOWN)\n",
      "\t\t- Skipping!\n",
      "\t- Reading: 110.000000-Perfusiet1twist1.3x1.3x3temp2sTT121.8s-79462  (Perfusie_t1_twist_1.3x1.3x3_temp_2s_TT=121.8s) (UNKNOWN)\n",
      "\t\t- Skipping!\n",
      "\t- Reading: 111.000000-Perfusiet1twist1.3x1.3x3temp2sTT123.1s-58036  (Perfusie_t1_twist_1.3x1.3x3_temp_2s_TT=123.1s) (UNKNOWN)\n",
      "\t\t- Skipping!\n",
      "\t- Reading: 112.000000-Perfusiet1twist1.3x1.3x3temp2sTT124.3s-76792  (Perfusie_t1_twist_1.3x1.3x3_temp_2s_TT=124.3s) (UNKNOWN)\n",
      "\t\t- Skipping!\n",
      "\t- Reading: 113.000000-Perfusiet1twist1.3x1.3x3temp2sTT125.6s-05901  (Perfusie_t1_twist_1.3x1.3x3_temp_2s_TT=125.6s) (UNKNOWN)\n",
      "\t\t- Skipping!\n",
      "\t- Reading: 114.000000-Perfusiet1twist1.3x1.3x3temp2sTT126.8s-78423  (Perfusie_t1_twist_1.3x1.3x3_temp_2s_TT=126.8s) (UNKNOWN)\n",
      "\t\t- Skipping!\n",
      "\t- Reading: 115.000000-Perfusiet1twist1.3x1.3x3temp2sTT128.1s-56037  (Perfusie_t1_twist_1.3x1.3x3_temp_2s_TT=128.1s) (UNKNOWN)\n",
      "\t\t- Skipping!\n",
      "\t- Reading: 116.000000-Perfusiet1twist1.3x1.3x3temp2sTT129.3s-90137  (Perfusie_t1_twist_1.3x1.3x3_temp_2s_TT=129.3s) (UNKNOWN)\n",
      "\t\t- Skipping!\n",
      "\t- Reading: 117.000000-Perfusiet1twist1.3x1.3x3temp2sTT130.6s-56703  (Perfusie_t1_twist_1.3x1.3x3_temp_2s_TT=130.6s) (UNKNOWN)\n",
      "\t\t- Skipping!\n",
      "\t- Reading: 12.000000-ep2ddifftra2x2Noise0FSDYNDISTADC-99319  (ep2d_diff_tra2x2_Noise0_FS_DYNDIST_ADC) (UNKNOWN)\n",
      "\t\t- Skipping!\n",
      "\t- Reading: 13.000000-ep2ddifftra2x2Noise0FSDYNDISTCALCBVAL-60707  (ep2d_diff_tra2x2_Noise0_FS_DYNDISTCALC_BVAL) (b)\n",
      "\t\t- Done!\n",
      "\t- Reading: 14.000000-t2tsesag-29944  (t2_tse_sag) (UNKNOWN)\n",
      "\t\t- Skipping!\n",
      "\t- Reading: 15.000000-t2tsecor-09310  (t2_tse_cor) (UNKNOWN)\n",
      "\t\t- Skipping!\n",
      "\t- Reading: 16.000000-tfl3d PD reftra1.3x1.3x3-05881  (tfl_3d PD ref_tra_1.3x1.3x3) (UNKNOWN)\n",
      "\t\t- Skipping!\n",
      "\t- Reading: 17.000000-Perfusiet1twist1.3x1.3x3temp2sTT6.4s-19107  (Perfusie_t1_twist_1.3x1.3x3_temp_2s_TT=6.4s) (UNKNOWN)\n",
      "\t\t- Skipping!\n",
      "\t- Reading: 18.000000-Perfusiet1twist1.3x1.3x3temp2sTT7.7s-15086  (Perfusie_t1_twist_1.3x1.3x3_temp_2s_TT=7.7s) (UNKNOWN)\n",
      "\t\t- Skipping!\n",
      "\t- Reading: 19.000000-Perfusiet1twist1.3x1.3x3temp2sTT8.9s-90932  (Perfusie_t1_twist_1.3x1.3x3_temp_2s_TT=8.9s) (UNKNOWN)\n",
      "\t\t- Skipping!\n",
      "\t- Reading: 2.000000-t2tsetraGrappa3-70574  (t2_tse_tra_Grappa3) (T2)\n",
      "\t\t- Done!\n",
      "\t- Reading: 20.000000-Perfusiet1twist1.3x1.3x3temp2sTT10.2s-65200  (Perfusie_t1_twist_1.3x1.3x3_temp_2s_TT=10.2s) (UNKNOWN)\n",
      "\t\t- Skipping!\n",
      "\t- Reading: 21.000000-Perfusiet1twist1.3x1.3x3temp2sTT11.5s-33292  (Perfusie_t1_twist_1.3x1.3x3_temp_2s_TT=11.5s) (UNKNOWN)\n",
      "\t\t- Skipping!\n",
      "\t- Reading: 22.000000-Perfusiet1twist1.3x1.3x3temp2sTT12.7s-29947  (Perfusie_t1_twist_1.3x1.3x3_temp_2s_TT=12.7s) (UNKNOWN)\n",
      "\t\t- Skipping!\n",
      "\t- Reading: 23.000000-Perfusiet1twist1.3x1.3x3temp2sTT14.0s-45958  (Perfusie_t1_twist_1.3x1.3x3_temp_2s_TT=14.0s) (UNKNOWN)\n",
      "\t\t- Skipping!\n",
      "\t- Reading: 24.000000-Perfusiet1twist1.3x1.3x3temp2sTT15.2s-28542  (Perfusie_t1_twist_1.3x1.3x3_temp_2s_TT=15.2s) (UNKNOWN)\n",
      "\t\t- Skipping!\n",
      "\t- Reading: 25.000000-Perfusiet1twist1.3x1.3x3temp2sTT16.5s-37358  (Perfusie_t1_twist_1.3x1.3x3_temp_2s_TT=16.5s) (UNKNOWN)\n",
      "\t\t- Skipping!\n",
      "\t- Reading: 26.000000-Perfusiet1twist1.3x1.3x3temp2sTT17.7s-45589  (Perfusie_t1_twist_1.3x1.3x3_temp_2s_TT=17.7s) (UNKNOWN)\n",
      "\t\t- Skipping!\n",
      "\t- Reading: 27.000000-Perfusiet1twist1.3x1.3x3temp2sTT19.0s-57010  (Perfusie_t1_twist_1.3x1.3x3_temp_2s_TT=19.0s) (UNKNOWN)\n",
      "\t\t- Skipping!\n",
      "\t- Reading: 28.000000-Perfusiet1twist1.3x1.3x3temp2sTT20.2s-51043  (Perfusie_t1_twist_1.3x1.3x3_temp_2s_TT=20.2s) (UNKNOWN)\n",
      "\t\t- Skipping!\n",
      "\t- Reading: 29.000000-Perfusiet1twist1.3x1.3x3temp2sTT21.5s-11352  (Perfusie_t1_twist_1.3x1.3x3_temp_2s_TT=21.5s) (UNKNOWN)\n",
      "\t\t- Skipping!\n",
      "\t- Reading: 3.000000-ep2ddifftra2x2Noise0FSDYNDIST-08741  (ep2d_diff_tra2x2_Noise0_FS_DYNDIST) (UNKNOWN)\n",
      "\t\t- Skipping!\n",
      "\t- Reading: 30.000000-Perfusiet1twist1.3x1.3x3temp2sTT22.7s-55498  (Perfusie_t1_twist_1.3x1.3x3_temp_2s_TT=22.7s) (UNKNOWN)\n",
      "\t\t- Skipping!\n",
      "\t- Reading: 31.000000-Perfusiet1twist1.3x1.3x3temp2sTT24.0s-67190  (Perfusie_t1_twist_1.3x1.3x3_temp_2s_TT=24.0s) (UNKNOWN)\n",
      "\t\t- Skipping!\n",
      "\t- Reading: 32.000000-Perfusiet1twist1.3x1.3x3temp2sTT25.2s-76476  (Perfusie_t1_twist_1.3x1.3x3_temp_2s_TT=25.2s) (UNKNOWN)\n",
      "\t\t- Skipping!\n",
      "\t- Reading: 33.000000-Perfusiet1twist1.3x1.3x3temp2sTT26.5s-60701  (Perfusie_t1_twist_1.3x1.3x3_temp_2s_TT=26.5s) (UNKNOWN)\n",
      "\t\t- Skipping!\n",
      "\t- Reading: 34.000000-Perfusiet1twist1.3x1.3x3temp2sTT27.8s-19794  (Perfusie_t1_twist_1.3x1.3x3_temp_2s_TT=27.8s) (UNKNOWN)\n",
      "\t\t- Skipping!\n",
      "\t- Reading: 35.000000-Perfusiet1twist1.3x1.3x3temp2sTT29.0s-60574  (Perfusie_t1_twist_1.3x1.3x3_temp_2s_TT=29.0s) (UNKNOWN)\n",
      "\t\t- Skipping!\n",
      "\t- Reading: 36.000000-Perfusiet1twist1.3x1.3x3temp2sTT30.3s-65143  (Perfusie_t1_twist_1.3x1.3x3_temp_2s_TT=30.3s) (UNKNOWN)\n",
      "\t\t- Skipping!\n",
      "\t- Reading: 37.000000-Perfusiet1twist1.3x1.3x3temp2sTT31.5s-09098  (Perfusie_t1_twist_1.3x1.3x3_temp_2s_TT=31.5s) (UNKNOWN)\n",
      "\t\t- Skipping!\n",
      "\t- Reading: 38.000000-Perfusiet1twist1.3x1.3x3temp2sTT32.8s-79581  (Perfusie_t1_twist_1.3x1.3x3_temp_2s_TT=32.8s) (UNKNOWN)\n",
      "\t\t- Skipping!\n",
      "\t- Reading: 39.000000-Perfusiet1twist1.3x1.3x3temp2sTT34.0s-31189  (Perfusie_t1_twist_1.3x1.3x3_temp_2s_TT=34.0s) (UNKNOWN)\n",
      "\t\t- Skipping!\n",
      "\t- Reading: 4.000000-ep2ddifftra2x2Noise0FSDYNDISTADC-45703  (ep2d_diff_tra2x2_Noise0_FS_DYNDIST_ADC) (UNKNOWN)\n",
      "\t\t- Skipping!\n",
      "\t- Reading: 40.000000-Perfusiet1twist1.3x1.3x3temp2sTT35.3s-01767  (Perfusie_t1_twist_1.3x1.3x3_temp_2s_TT=35.3s) (UNKNOWN)\n",
      "\t\t- Skipping!\n",
      "\t- Reading: 41.000000-Perfusiet1twist1.3x1.3x3temp2sTT36.5s-18694  (Perfusie_t1_twist_1.3x1.3x3_temp_2s_TT=36.5s) (UNKNOWN)\n",
      "\t\t- Skipping!\n",
      "\t- Reading: 42.000000-Perfusiet1twist1.3x1.3x3temp2sTT37.8s-24128  (Perfusie_t1_twist_1.3x1.3x3_temp_2s_TT=37.8s) (UNKNOWN)\n",
      "\t\t- Skipping!\n",
      "\t- Reading: 43.000000-Perfusiet1twist1.3x1.3x3temp2sTT39.0s-16152  (Perfusie_t1_twist_1.3x1.3x3_temp_2s_TT=39.0s) (UNKNOWN)\n",
      "\t\t- Skipping!\n",
      "\t- Reading: 44.000000-Perfusiet1twist1.3x1.3x3temp2sTT40.3s-43784  (Perfusie_t1_twist_1.3x1.3x3_temp_2s_TT=40.3s) (UNKNOWN)\n",
      "\t\t- Skipping!\n",
      "\t- Reading: 45.000000-Perfusiet1twist1.3x1.3x3temp2sTT41.6s-25765  (Perfusie_t1_twist_1.3x1.3x3_temp_2s_TT=41.6s) (UNKNOWN)\n",
      "\t\t- Skipping!\n",
      "\t- Reading: 46.000000-Perfusiet1twist1.3x1.3x3temp2sTT42.8s-52513  (Perfusie_t1_twist_1.3x1.3x3_temp_2s_TT=42.8s) (UNKNOWN)\n",
      "\t\t- Skipping!\n",
      "\t- Reading: 47.000000-Perfusiet1twist1.3x1.3x3temp2sTT44.1s-33295  (Perfusie_t1_twist_1.3x1.3x3_temp_2s_TT=44.1s) (UNKNOWN)\n",
      "\t\t- Skipping!\n",
      "\t- Reading: 48.000000-Perfusiet1twist1.3x1.3x3temp2sTT45.3s-85722  (Perfusie_t1_twist_1.3x1.3x3_temp_2s_TT=45.3s) (UNKNOWN)\n",
      "\t\t- Skipping!\n",
      "\t- Reading: 49.000000-Perfusiet1twist1.3x1.3x3temp2sTT46.6s-05565  (Perfusie_t1_twist_1.3x1.3x3_temp_2s_TT=46.6s) (UNKNOWN)\n",
      "\t\t- Skipping!\n",
      "\t- Reading: 5.000000-ep2ddifftra2x2Noise0FSDYNDISTCALCBVAL-14420  (ep2d_diff_tra2x2_Noise0_FS_DYNDISTCALC_BVAL) (b)\n",
      "\t\t- Done!\n",
      "\t- Reading: 50.000000-Perfusiet1twist1.3x1.3x3temp2sTT47.8s-11442  (Perfusie_t1_twist_1.3x1.3x3_temp_2s_TT=47.8s) (UNKNOWN)\n",
      "\t\t- Skipping!\n",
      "\t- Reading: 51.000000-Perfusiet1twist1.3x1.3x3temp2sTT49.1s-64244  (Perfusie_t1_twist_1.3x1.3x3_temp_2s_TT=49.1s) (UNKNOWN)\n",
      "\t\t- Skipping!\n",
      "\t- Reading: 52.000000-Perfusiet1twist1.3x1.3x3temp2sTT50.3s-77423  (Perfusie_t1_twist_1.3x1.3x3_temp_2s_TT=50.3s) (UNKNOWN)\n",
      "\t\t- Skipping!\n",
      "\t- Reading: 53.000000-Perfusiet1twist1.3x1.3x3temp2sTT51.6s-56641  (Perfusie_t1_twist_1.3x1.3x3_temp_2s_TT=51.6s) (UNKNOWN)\n",
      "\t\t- Skipping!\n",
      "\t- Reading: 54.000000-Perfusiet1twist1.3x1.3x3temp2sTT52.8s-76159  (Perfusie_t1_twist_1.3x1.3x3_temp_2s_TT=52.8s) (UNKNOWN)\n",
      "\t\t- Skipping!\n",
      "\t- Reading: 55.000000-Perfusiet1twist1.3x1.3x3temp2sTT54.1s-47766  (Perfusie_t1_twist_1.3x1.3x3_temp_2s_TT=54.1s) (UNKNOWN)\n",
      "\t\t- Skipping!\n",
      "\t- Reading: 56.000000-Perfusiet1twist1.3x1.3x3temp2sTT55.3s-10791  (Perfusie_t1_twist_1.3x1.3x3_temp_2s_TT=55.3s) (UNKNOWN)\n",
      "\t\t- Skipping!\n",
      "\t- Reading: 57.000000-Perfusiet1twist1.3x1.3x3temp2sTT56.6s-47200  (Perfusie_t1_twist_1.3x1.3x3_temp_2s_TT=56.6s) (UNKNOWN)\n",
      "\t\t- Skipping!\n",
      "\t- Reading: 58.000000-Perfusiet1twist1.3x1.3x3temp2sTT57.9s-28401  (Perfusie_t1_twist_1.3x1.3x3_temp_2s_TT=57.9s) (UNKNOWN)\n",
      "\t\t- Skipping!\n",
      "\t- Reading: 59.000000-Perfusiet1twist1.3x1.3x3temp2sTT59.1s-33587  (Perfusie_t1_twist_1.3x1.3x3_temp_2s_TT=59.1s) (UNKNOWN)\n",
      "\t\t- Skipping!\n",
      "\t- Reading: 6.000000-ADCS31-33071  (ADC_S3_1) (ADC)\n",
      "\t\t- Done!\n",
      "\t- Reading: 60.000000-Perfusiet1twist1.3x1.3x3temp2sTT60.4s-48088  (Perfusie_t1_twist_1.3x1.3x3_temp_2s_TT=60.4s) (UNKNOWN)\n",
      "\t\t- Skipping!\n",
      "\t- Reading: 61.000000-Perfusiet1twist1.3x1.3x3temp2sTT61.6s-36315  (Perfusie_t1_twist_1.3x1.3x3_temp_2s_TT=61.6s) (UNKNOWN)\n",
      "\t\t- Skipping!\n",
      "\t- Reading: 62.000000-Perfusiet1twist1.3x1.3x3temp2sTT62.9s-30728  (Perfusie_t1_twist_1.3x1.3x3_temp_2s_TT=62.9s) (UNKNOWN)\n",
      "\t\t- Skipping!\n",
      "\t- Reading: 63.000000-Perfusiet1twist1.3x1.3x3temp2sTT64.1s-04258  (Perfusie_t1_twist_1.3x1.3x3_temp_2s_TT=64.1s) (UNKNOWN)\n",
      "\t\t- Skipping!\n",
      "\t- Reading: 64.000000-Perfusiet1twist1.3x1.3x3temp2sTT65.4s-35697  (Perfusie_t1_twist_1.3x1.3x3_temp_2s_TT=65.4s) (UNKNOWN)\n",
      "\t\t- Skipping!\n",
      "\t- Reading: 65.000000-Perfusiet1twist1.3x1.3x3temp2sTT66.6s-95469  (Perfusie_t1_twist_1.3x1.3x3_temp_2s_TT=66.6s) (UNKNOWN)\n",
      "\t\t- Skipping!\n",
      "\t- Reading: 66.000000-Perfusiet1twist1.3x1.3x3temp2sTT67.9s-63175  (Perfusie_t1_twist_1.3x1.3x3_temp_2s_TT=67.9s) (UNKNOWN)\n",
      "\t\t- Skipping!\n",
      "\t- Reading: 67.000000-Perfusiet1twist1.3x1.3x3temp2sTT69.1s-16919  (Perfusie_t1_twist_1.3x1.3x3_temp_2s_TT=69.1s) (UNKNOWN)\n",
      "\t\t- Skipping!\n",
      "\t- Reading: 68.000000-Perfusiet1twist1.3x1.3x3temp2sTT70.4s-91872  (Perfusie_t1_twist_1.3x1.3x3_temp_2s_TT=70.4s) (UNKNOWN)\n",
      "\t\t- Skipping!\n",
      "\t- Reading: 69.000000-Perfusiet1twist1.3x1.3x3temp2sTT71.6s-65538  (Perfusie_t1_twist_1.3x1.3x3_temp_2s_TT=71.6s) (UNKNOWN)\n",
      "\t\t- Skipping!\n",
      "\t- Reading: 7.000000-ep2ddifftra2x2Noise0NoFSDYNDIST-58366  (ep2d_diff_tra2x2_Noise0_NoFS_DYNDIST) (UNKNOWN)\n",
      "\t\t- Skipping!\n",
      "\t- Reading: 70.000000-Perfusiet1twist1.3x1.3x3temp2sTT72.9s-09330  (Perfusie_t1_twist_1.3x1.3x3_temp_2s_TT=72.9s) (UNKNOWN)\n",
      "\t\t- Skipping!\n",
      "\t- Reading: 71.000000-Perfusiet1twist1.3x1.3x3temp2sTT74.2s-12201  (Perfusie_t1_twist_1.3x1.3x3_temp_2s_TT=74.2s) (UNKNOWN)\n",
      "\t\t- Skipping!\n",
      "\t- Reading: 72.000000-Perfusiet1twist1.3x1.3x3temp2sTT75.4s-26586  (Perfusie_t1_twist_1.3x1.3x3_temp_2s_TT=75.4s) (UNKNOWN)\n",
      "\t\t- Skipping!\n",
      "\t- Reading: 73.000000-Perfusiet1twist1.3x1.3x3temp2sTT76.7s-12873  (Perfusie_t1_twist_1.3x1.3x3_temp_2s_TT=76.7s) (UNKNOWN)\n",
      "\t\t- Skipping!\n",
      "\t- Reading: 74.000000-Perfusiet1twist1.3x1.3x3temp2sTT77.9s-91697  (Perfusie_t1_twist_1.3x1.3x3_temp_2s_TT=77.9s) (UNKNOWN)\n",
      "\t\t- Skipping!\n",
      "\t- Reading: 75.000000-Perfusiet1twist1.3x1.3x3temp2sTT79.2s-14354  (Perfusie_t1_twist_1.3x1.3x3_temp_2s_TT=79.2s) (UNKNOWN)\n",
      "\t\t- Skipping!\n",
      "\t- Reading: 76.000000-Perfusiet1twist1.3x1.3x3temp2sTT80.4s-64842  (Perfusie_t1_twist_1.3x1.3x3_temp_2s_TT=80.4s) (UNKNOWN)\n",
      "\t\t- Skipping!\n",
      "\t- Reading: 77.000000-Perfusiet1twist1.3x1.3x3temp2sTT81.7s-58781  (Perfusie_t1_twist_1.3x1.3x3_temp_2s_TT=81.7s) (UNKNOWN)\n",
      "\t\t- Skipping!\n",
      "\t- Reading: 78.000000-Perfusiet1twist1.3x1.3x3temp2sTT82.9s-34866  (Perfusie_t1_twist_1.3x1.3x3_temp_2s_TT=82.9s) (UNKNOWN)\n",
      "\t\t- Skipping!\n",
      "\t- Reading: 79.000000-Perfusiet1twist1.3x1.3x3temp2sTT84.2s-22021  (Perfusie_t1_twist_1.3x1.3x3_temp_2s_TT=84.2s) (UNKNOWN)\n",
      "\t\t- Skipping!\n",
      "\t- Reading: 8.000000-ep2ddifftra2x2Noise0NoFSDYNDISTADC-95114  (ep2d_diff_tra2x2_Noise0_NoFS_DYNDIST_ADC) (UNKNOWN)\n",
      "\t\t- Skipping!\n",
      "\t- Reading: 80.000000-Perfusiet1twist1.3x1.3x3temp2sTT85.4s-27594  (Perfusie_t1_twist_1.3x1.3x3_temp_2s_TT=85.4s) (UNKNOWN)\n",
      "\t\t- Skipping!\n",
      "\t- Reading: 81.000000-Perfusiet1twist1.3x1.3x3temp2sTT86.7s-85662  (Perfusie_t1_twist_1.3x1.3x3_temp_2s_TT=86.7s) (UNKNOWN)\n",
      "\t\t- Skipping!\n",
      "\t- Reading: 82.000000-Perfusiet1twist1.3x1.3x3temp2sTT87.9s-76097  (Perfusie_t1_twist_1.3x1.3x3_temp_2s_TT=87.9s) (UNKNOWN)\n",
      "\t\t- Skipping!\n",
      "\t- Reading: 83.000000-Perfusiet1twist1.3x1.3x3temp2sTT89.2s-57827  (Perfusie_t1_twist_1.3x1.3x3_temp_2s_TT=89.2s) (UNKNOWN)\n",
      "\t\t- Skipping!\n",
      "\t- Reading: 84.000000-Perfusiet1twist1.3x1.3x3temp2sTT90.5s-17501  (Perfusie_t1_twist_1.3x1.3x3_temp_2s_TT=90.5s) (UNKNOWN)\n",
      "\t\t- Skipping!\n",
      "\t- Reading: 85.000000-Perfusiet1twist1.3x1.3x3temp2sTT91.7s-43095  (Perfusie_t1_twist_1.3x1.3x3_temp_2s_TT=91.7s) (UNKNOWN)\n",
      "\t\t- Skipping!\n",
      "\t- Reading: 86.000000-Perfusiet1twist1.3x1.3x3temp2sTT93.0s-43706  (Perfusie_t1_twist_1.3x1.3x3_temp_2s_TT=93.0s) (UNKNOWN)\n",
      "\t\t- Skipping!\n",
      "\t- Reading: 87.000000-Perfusiet1twist1.3x1.3x3temp2sTT94.2s-37683  (Perfusie_t1_twist_1.3x1.3x3_temp_2s_TT=94.2s) (UNKNOWN)\n",
      "\t\t- Skipping!\n",
      "\t- Reading: 88.000000-Perfusiet1twist1.3x1.3x3temp2sTT95.5s-36965  (Perfusie_t1_twist_1.3x1.3x3_temp_2s_TT=95.5s) (UNKNOWN)\n",
      "\t\t- Skipping!\n",
      "\t- Reading: 89.000000-Perfusiet1twist1.3x1.3x3temp2sTT96.7s-70539  (Perfusie_t1_twist_1.3x1.3x3_temp_2s_TT=96.7s) (UNKNOWN)\n",
      "\t\t- Skipping!\n",
      "\t- Reading: 9.000000-ep2ddifftra2x2Noise0NoFSDYNDISTCALCBVAL-44700  (ep2d_diff_tra2x2_Noise0_NoFS_DYNDISTCALC_BVAL) (UNKNOWN)\n",
      "\t\t- Skipping!\n",
      "\t- Reading: 90.000000-Perfusiet1twist1.3x1.3x3temp2sTT98.0s-80132  (Perfusie_t1_twist_1.3x1.3x3_temp_2s_TT=98.0s) (UNKNOWN)\n",
      "\t\t- Skipping!\n",
      "\t- Reading: 91.000000-Perfusiet1twist1.3x1.3x3temp2sTT99.2s-21531  (Perfusie_t1_twist_1.3x1.3x3_temp_2s_TT=99.2s) (UNKNOWN)\n",
      "\t\t- Skipping!\n",
      "\t- Reading: 92.000000-Perfusiet1twist1.3x1.3x3temp2sTT100.5s-76028  (Perfusie_t1_twist_1.3x1.3x3_temp_2s_TT=100.5s) (UNKNOWN)\n",
      "\t\t- Skipping!\n",
      "\t- Reading: 93.000000-Perfusiet1twist1.3x1.3x3temp2sTT101.7s-83053  (Perfusie_t1_twist_1.3x1.3x3_temp_2s_TT=101.7s) (UNKNOWN)\n",
      "\t\t- Skipping!\n",
      "\t- Reading: 94.000000-Perfusiet1twist1.3x1.3x3temp2sTT103.0s-86684  (Perfusie_t1_twist_1.3x1.3x3_temp_2s_TT=103.0s) (UNKNOWN)\n",
      "\t\t- Skipping!\n",
      "\t- Reading: 95.000000-Perfusiet1twist1.3x1.3x3temp2sTT104.2s-96890  (Perfusie_t1_twist_1.3x1.3x3_temp_2s_TT=104.2s) (UNKNOWN)\n",
      "\t\t- Skipping!\n",
      "\t- Reading: 96.000000-Perfusiet1twist1.3x1.3x3temp2sTT105.5s-64500  (Perfusie_t1_twist_1.3x1.3x3_temp_2s_TT=105.5s) (UNKNOWN)\n",
      "\t\t- Skipping!\n",
      "\t- Reading: 97.000000-Perfusiet1twist1.3x1.3x3temp2sTT106.8s-78133  (Perfusie_t1_twist_1.3x1.3x3_temp_2s_TT=106.8s) (UNKNOWN)\n",
      "\t\t- Skipping!\n",
      "\t- Reading: 98.000000-Perfusiet1twist1.3x1.3x3temp2sTT108.0s-46728  (Perfusie_t1_twist_1.3x1.3x3_temp_2s_TT=108.0s) (UNKNOWN)\n",
      "\t\t- Skipping!\n",
      "\t- Reading: ProstateX-0191-Ktrans.mhd (Ktrans) (ktrans)\n",
      "\t\t- Done!\n",
      "\n",
      "\t\t> (Blurrying ADC) Combining 5 images: #### -> Elapsed: 1.57s\n",
      " - Lesion positions and significances:\n",
      "   - 1: [180.95557786 157.79278294   6.99999995], Sig: 1\n",
      " - Information: resampling_operation with pre_mask_growth_mm applied to channels [2] on x,y dimensions\n"
     ]
    },
    {
     "data": {
      "application/vnd.jupyter.widget-view+json": {
       "model_id": "df6d669acd204283ba93b6b635855dee",
       "version_major": 2,
       "version_minor": 0
      },
      "text/plain": [
       "interactive(children=(IntSlider(value=12, description='z', max=23, style=SliderStyle(handle_color='lightblue')…"
      ]
     },
     "metadata": {},
     "output_type": "display_data"
    },
    {
     "data": {
      "application/vnd.jupyter.widget-view+json": {
       "model_id": "4f3121494a4b409eab636bdecfaae3b3",
       "version_major": 2,
       "version_minor": 0
      },
      "text/plain": [
       "interactive(children=(IntSlider(value=12, description='z', max=23, style=SliderStyle(handle_color='lightblue')…"
      ]
     },
     "metadata": {},
     "output_type": "display_data"
    },
    {
     "name": "stdout",
     "output_type": "stream",
     "text": [
      "\n",
      "ProstateX-0192\n",
      "Patient: ProstateX-0192 (date: 2012-06-02 00:00:00)\n",
      "\t- Reading: 3.000000-t2tsesag-00541  (t2_tse_sag) (UNKNOWN)\n",
      "\t\t- Skipping!\n",
      "\t- Reading: 4.000000-t2tsetra-62626  (t2_tse_tra) (T2)\n",
      "\t\t- Done!\n",
      "\t- Reading: 5.000000-t2tsecor-41913  (t2_tse_cor) (UNKNOWN)\n",
      "\t\t- Skipping!\n",
      "\t- Reading: 6.000000-ep2ddifftraDYNDIST-55863  (ep2d_diff_tra_DYNDIST) (b)\n",
      "\t\t- Done!\n",
      "\t- Reading: 7.000000-ep2ddifftraDYNDISTADC-37107  (ep2d_diff_tra_DYNDIST_ADC) (ADC)\n",
      "\t\t- Done!\n",
      "\t- Reading: 8.000000-ep2ddifftraDYNDISTCALCBVAL-54159  (ep2d_diff_tra_DYNDISTCALC_BVAL) (diff)\n",
      "\t\t- Skipping!\n",
      "\t- Reading: 9.000000-tfl3d PD reftra1.5x1.5t3-40574  (tfl_3d PD ref_tra_1.5x1.5_t3) (unk)\n",
      "\t\t- Skipping!\n",
      "\t- Reading: ProstateX-0192-Ktrans.mhd (Ktrans) (ktrans)\n",
      "\t\t- Done!\n",
      "\n",
      "\t\t> (Blurrying ADC) Combining 5 images: #### -> Elapsed: 1.48s\n",
      " - Lesion positions and significances:\n",
      "   - 1: [221.31166076 218.46470601   5.99999517], Sig: 4\n",
      "   - 2: [167.64000225 217.93196748  10.99998518], Sig: 10\n",
      " - Information: resampling_operation with pre_mask_growth_mm applied to channels [2] on x,y dimensions\n"
     ]
    },
    {
     "data": {
      "application/vnd.jupyter.widget-view+json": {
       "model_id": "905b1c5f97b64c79ab79d15119dae215",
       "version_major": 2,
       "version_minor": 0
      },
      "text/plain": [
       "interactive(children=(IntSlider(value=12, description='z', max=23, style=SliderStyle(handle_color='lightblue')…"
      ]
     },
     "metadata": {},
     "output_type": "display_data"
    },
    {
     "data": {
      "application/vnd.jupyter.widget-view+json": {
       "model_id": "705ce948309a4f3d9d2c06c6496c4334",
       "version_major": 2,
       "version_minor": 0
      },
      "text/plain": [
       "interactive(children=(IntSlider(value=12, description='z', max=23, style=SliderStyle(handle_color='lightblue')…"
      ]
     },
     "metadata": {},
     "output_type": "display_data"
    },
    {
     "name": "stdout",
     "output_type": "stream",
     "text": [
      "\n",
      "ProstateX-0193\n",
      "Patient: ProstateX-0193 (date: 2012-06-02 00:00:00)\n",
      "\t- Reading: 1.000000-t2localizer-68630  (t2_localizer) (UNKNOWN)\n",
      "\t\t- Skipping!\n",
      "\t- Reading: 2.000000-t2loc sag-46184  (t2_loc sag) (UNKNOWN)\n",
      "\t\t- Skipping!\n",
      "\t- Reading: 3.000000-t2tsesag-46320  (t2_tse_sag) (UNKNOWN)\n",
      "\t\t- Skipping!\n",
      "\t- Reading: 4.000000-t2tsetra-90291  (t2_tse_tra) (T2)\n",
      "\t\t- Done!\n",
      "\t- Reading: 5.000000-t2tsecor-45586  (t2_tse_cor) (UNKNOWN)\n",
      "\t\t- Skipping!\n",
      "\t- Reading: 6.000000-ep2ddifftraDYNDIST-26905  (ep2d_diff_tra_DYNDIST) (b)\n",
      "\t\t- Done!\n",
      "\t- Reading: 7.000000-ep2ddifftraDYNDISTADC-04182  (ep2d_diff_tra_DYNDIST_ADC) (ADC)\n",
      "\t\t- Done!\n",
      "\t- Reading: 8.000000-ep2ddifftraDYNDISTCALCBVAL-27743  (ep2d_diff_tra_DYNDISTCALC_BVAL) (diff)\n",
      "\t\t- Skipping!\n",
      "\t- Reading: 9.000000-tfl3d PD reftra1.5x1.5t3-19551  (tfl_3d PD ref_tra_1.5x1.5_t3) (unk)\n",
      "\t\t- Skipping!\n",
      "\t- Reading: ProstateX-0193-Ktrans.mhd (Ktrans) (ktrans)\n",
      "\t\t- Done!\n",
      "\n",
      "\t\t> (Blurrying ADC) Combining 5 images: #### -> Elapsed: 1.44s\n",
      " - Lesion positions and significances:\n",
      "   - 1: [183.3579979  144.13952065   7.9999839 ], Sig: 10\n",
      "   - 2: [208.78801918 208.7989934   10.14793765], Sig: 10\n",
      "   - 3: [163.55899763 200.16306     13.99999335], Sig: 10\n",
      "   - 4: [183.35799789 211.82311469   6.99999674], Sig: 2\n",
      " - Information: resampling_operation with pre_mask_growth_mm applied to channels [2] on x,y dimensions\n"
     ]
    },
    {
     "data": {
      "application/vnd.jupyter.widget-view+json": {
       "model_id": "933d568d8fb742c5ba09ede2e521ae14",
       "version_major": 2,
       "version_minor": 0
      },
      "text/plain": [
       "interactive(children=(IntSlider(value=12, description='z', max=23, style=SliderStyle(handle_color='lightblue')…"
      ]
     },
     "metadata": {},
     "output_type": "display_data"
    },
    {
     "data": {
      "application/vnd.jupyter.widget-view+json": {
       "model_id": "f3e6a7c7db324e58a4ff23035672711b",
       "version_major": 2,
       "version_minor": 0
      },
      "text/plain": [
       "interactive(children=(IntSlider(value=12, description='z', max=23, style=SliderStyle(handle_color='lightblue')…"
      ]
     },
     "metadata": {},
     "output_type": "display_data"
    },
    {
     "name": "stdout",
     "output_type": "stream",
     "text": [
      "\n",
      "ProstateX-0194\n",
      "Patient: ProstateX-0194 (date: 2012-06-03 00:00:00)\n",
      "\t- Reading: 3.000000-t2tsesag-87191  (t2_tse_sag) (UNKNOWN)\n",
      "\t\t- Skipping!\n",
      "\t- Reading: 4.000000-t2tsetra-74399  (t2_tse_tra) (T2)\n",
      "\t\t- Done!\n",
      "\t- Reading: 5.000000-t2tsecor-45961  (t2_tse_cor) (UNKNOWN)\n",
      "\t\t- Skipping!\n",
      "\t- Reading: 6.000000-ep2ddifftraDYNDIST-29548  (ep2d_diff_tra_DYNDIST) (b)\n",
      "\t\t- Done!\n",
      "\t- Reading: 7.000000-ep2ddifftraDYNDISTADC-35731  (ep2d_diff_tra_DYNDIST_ADC) (ADC)\n",
      "\t\t- Done!\n",
      "\t- Reading: 8.000000-ep2ddifftraDYNDISTCALCBVAL-23193  (ep2d_diff_tra_DYNDISTCALC_BVAL) (diff)\n",
      "\t\t- Skipping!\n",
      "\t- Reading: 9.000000-tfl3d PD reftra1.5x1.5t3-21918  (tfl_3d PD ref_tra_1.5x1.5_t3) (unk)\n",
      "\t\t- Skipping!\n",
      "\t- Reading: ProstateX-0194-Ktrans.mhd (Ktrans) (ktrans)\n",
      "\t\t- Done!\n",
      "\n",
      "\t\t> (Blurrying ADC) Combining 5 images: #### -> Elapsed: 1.57s\n",
      " - Lesion positions and significances:\n",
      "   - 1: [146.63614655 174.05103609   5.0000101 ], Sig: 2\n",
      " - Information: resampling_operation with pre_mask_growth_mm applied to channels [2] on x,y dimensions\n"
     ]
    },
    {
     "data": {
      "application/vnd.jupyter.widget-view+json": {
       "model_id": "f2b926618d5a47b89340b1445993e00c",
       "version_major": 2,
       "version_minor": 0
      },
      "text/plain": [
       "interactive(children=(IntSlider(value=12, description='z', max=23, style=SliderStyle(handle_color='lightblue')…"
      ]
     },
     "metadata": {},
     "output_type": "display_data"
    },
    {
     "data": {
      "application/vnd.jupyter.widget-view+json": {
       "model_id": "7dbe58ee21964805baa7eb6bc3a727da",
       "version_major": 2,
       "version_minor": 0
      },
      "text/plain": [
       "interactive(children=(IntSlider(value=12, description='z', max=23, style=SliderStyle(handle_color='lightblue')…"
      ]
     },
     "metadata": {},
     "output_type": "display_data"
    },
    {
     "name": "stdout",
     "output_type": "stream",
     "text": [
      "\n",
      "ProstateX-0195\n",
      "Patient: ProstateX-0195 (date: 2012-06-04 00:00:00)\n",
      "\t- Reading: 3.000000-t2tsesag-63323  (t2_tse_sag) (UNKNOWN)\n",
      "\t\t- Skipping!\n",
      "\t- Reading: 4.000000-t2tsetra-87564  (t2_tse_tra) (T2)\n",
      "\t\t- Done!\n",
      "\t- Reading: 5.000000-t2tsecor-27253  (t2_tse_cor) (UNKNOWN)\n",
      "\t\t- Skipping!\n",
      "\t- Reading: 6.000000-ep2ddifftraDYNDIST-19875  (ep2d_diff_tra_DYNDIST) (b)\n",
      "\t\t- Done!\n",
      "\t- Reading: 7.000000-ep2ddifftraDYNDISTADC-23818  (ep2d_diff_tra_DYNDIST_ADC) (ADC)\n",
      "\t\t- Done!\n",
      "\t- Reading: 8.000000-ep2ddifftraDYNDISTCALCBVAL-84306  (ep2d_diff_tra_DYNDISTCALC_BVAL) (diff)\n",
      "\t\t- Skipping!\n",
      "\t- Reading: 9.000000-tfl3d PD reftra1.5x1.5t3-81613  (tfl_3d PD ref_tra_1.5x1.5_t3) (unk)\n",
      "\t\t- Skipping!\n",
      "\t- Reading: ProstateX-0195-Ktrans.mhd (Ktrans) (ktrans)\n",
      "\t\t- Done!\n",
      "\n",
      "\t\t> (Blurrying ADC) Combining 5 images: #### -> Elapsed: 1.46s\n",
      " - Lesion positions and significances:\n",
      "   - 1: [168.17673516 208.02801013   4.99999873], Sig: 4\n",
      " - Information: resampling_operation with pre_mask_growth_mm applied to channels [2] on x,y dimensions\n"
     ]
    },
    {
     "data": {
      "application/vnd.jupyter.widget-view+json": {
       "model_id": "b192a72798d8441cbf0f94ecf0c7bbc5",
       "version_major": 2,
       "version_minor": 0
      },
      "text/plain": [
       "interactive(children=(IntSlider(value=12, description='z', max=23, style=SliderStyle(handle_color='lightblue')…"
      ]
     },
     "metadata": {},
     "output_type": "display_data"
    },
    {
     "data": {
      "application/vnd.jupyter.widget-view+json": {
       "model_id": "85f4b53524b04076bf79e70d76f0d593",
       "version_major": 2,
       "version_minor": 0
      },
      "text/plain": [
       "interactive(children=(IntSlider(value=12, description='z', max=23, style=SliderStyle(handle_color='lightblue')…"
      ]
     },
     "metadata": {},
     "output_type": "display_data"
    },
    {
     "name": "stdout",
     "output_type": "stream",
     "text": [
      "\n",
      "ProstateX-0196\n",
      "Patient: ProstateX-0196 (date: 2012-06-08 00:00:00)\n",
      "\t- Reading: 1.000000-t2localizer-56224  (t2_localizer) (UNKNOWN)\n",
      "\t\t- Skipping!\n",
      "\t- Reading: 2.000000-t2loc sag-35957  (t2_loc sag) (UNKNOWN)\n",
      "\t\t- Skipping!\n",
      "\t- Reading: 3.000000-t2tsesag-36407  (t2_tse_sag) (UNKNOWN)\n",
      "\t\t- Skipping!\n",
      "\t- Reading: 4.000000-t2tsetra-56593  (t2_tse_tra) (T2)\n",
      "\t\t- Done!\n",
      "\t- Reading: 5.000000-t2tsecor-82794  (t2_tse_cor) (UNKNOWN)\n",
      "\t\t- Skipping!\n",
      "\t- Reading: 6.000000-ep2ddifftraDYNDIST-75867  (ep2d_diff_tra_DYNDIST) (b)\n",
      "\t\t- Done!\n",
      "\t- Reading: 7.000000-ep2ddifftraDYNDISTADC-66828  (ep2d_diff_tra_DYNDIST_ADC) (ADC)\n",
      "\t\t- Done!\n",
      "\t- Reading: 8.000000-ep2ddifftraDYNDISTCALCBVAL-01268  (ep2d_diff_tra_DYNDISTCALC_BVAL) (diff)\n",
      "\t\t- Skipping!\n",
      "\t- Reading: 9.000000-tfl3d PD reftra1.5x1.5t3-66195  (tfl_3d PD ref_tra_1.5x1.5_t3) (unk)\n",
      "\t\t- Skipping!\n",
      "\t- Reading: ProstateX-0196-Ktrans.mhd (Ktrans) (ktrans)\n",
      "\t\t- Done!\n",
      "\n",
      "\t\t> (Blurrying ADC) Combining 5 images: #### -> Elapsed: 1.57s\n",
      " - Lesion positions and significances:\n",
      "   - 1: [171.54599762 195.1459861    6.00000032], Sig: 5\n",
      "   - 2: [217.85919953 186.32446099   5.00000176], Sig: 5\n",
      "   - 3: [162.72439671 168.68122358   5.00000153], Sig: 3\n",
      " - Information: resampling_operation with pre_mask_growth_mm applied to channels [2] on x,y dimensions\n"
     ]
    },
    {
     "data": {
      "application/vnd.jupyter.widget-view+json": {
       "model_id": "411a11c8beac412bb0d0ff6788c3a871",
       "version_major": 2,
       "version_minor": 0
      },
      "text/plain": [
       "interactive(children=(IntSlider(value=12, description='z', max=23, style=SliderStyle(handle_color='lightblue')…"
      ]
     },
     "metadata": {},
     "output_type": "display_data"
    },
    {
     "data": {
      "application/vnd.jupyter.widget-view+json": {
       "model_id": "062d36677dde4426a04777d8f790ac89",
       "version_major": 2,
       "version_minor": 0
      },
      "text/plain": [
       "interactive(children=(IntSlider(value=12, description='z', max=23, style=SliderStyle(handle_color='lightblue')…"
      ]
     },
     "metadata": {},
     "output_type": "display_data"
    },
    {
     "name": "stdout",
     "output_type": "stream",
     "text": [
      "\n",
      "ProstateX-0197\n",
      "Patient: ProstateX-0197 (date: 2011-08-16 00:00:00)\n",
      "\t- Reading: 1.000000-t2localizer-14928  (t2_localizer) (UNKNOWN)\n",
      "\t\t- Skipping!\n",
      "\t- Reading: 10.000000-tfl3d PD reftra1.5x1.5t3-03564  (tfl_3d PD ref_tra_1.5x1.5_t3) (unk)\n",
      "\t\t- Skipping!\n",
      "\t- Reading: 2.000000-t2loc sag-16748  (t2_loc sag) (UNKNOWN)\n",
      "\t\t- Skipping!\n",
      "\t- Reading: 3.000000-t2tsesag-07774  (t2_tse_sag) (UNKNOWN)\n",
      "\t\t- Skipping!\n",
      "\t- Reading: 4.000000-t2tsecor-97783  (t2_tse_cor) (UNKNOWN)\n",
      "\t\t- Skipping!\n",
      "\t- Reading: 5.000000-t2tsetra-80802  (t2_tse_tra) (T2)\n",
      "\t\t- Done!\n",
      "\t- Reading: 56.000000-t2tsesag-87596  (t2_tse_sag) (UNKNOWN)\n",
      "\t\t- Skipping!\n",
      "\t- Reading: 6.000000-ep2ddifftraDYNDIST-34639  (ep2d_diff_tra_DYNDIST) (b)\n",
      "\t\t- Done!\n",
      "\t- Reading: 7.000000-ep2ddifftraDYNDISTADC-56552  (ep2d_diff_tra_DYNDIST_ADC) (ADC)\n",
      "\t\t- Done!\n",
      "\t- Reading: 8.000000-ep2ddifftraDYNDISTCALCBVAL-68416  (ep2d_diff_tra_DYNDISTCALC_BVAL) (diff)\n",
      "\t\t- Skipping!\n",
      "\t- Reading: 9.000000-t2tsetra-53368  (t2_tse_tra) (T2)\n",
      "\t\t- Done!\n",
      "\t- Reading: ProstateX-0197-Ktrans.mhd (Ktrans) (ktrans)\n",
      "\t\t- Done!\n",
      "\n",
      "\t\t> (Blurrying ADC) Combining 5 images: #### -> Elapsed: 1.52s\n",
      " - Lesion positions and significances:\n",
      "   - 1: [170.38219643 196.58579949   5.66664501], Sig: 2\n",
      " - Information: resampling_operation with pre_mask_growth_mm applied to channels [2] on x,y dimensions\n"
     ]
    },
    {
     "data": {
      "application/vnd.jupyter.widget-view+json": {
       "model_id": "8e63ce48b33a4d7484094c7732298015",
       "version_major": 2,
       "version_minor": 0
      },
      "text/plain": [
       "interactive(children=(IntSlider(value=12, description='z', max=23, style=SliderStyle(handle_color='lightblue')…"
      ]
     },
     "metadata": {},
     "output_type": "display_data"
    },
    {
     "data": {
      "application/vnd.jupyter.widget-view+json": {
       "model_id": "6170178e3a824b0b89bdd0b4c6212e39",
       "version_major": 2,
       "version_minor": 0
      },
      "text/plain": [
       "interactive(children=(IntSlider(value=12, description='z', max=23, style=SliderStyle(handle_color='lightblue')…"
      ]
     },
     "metadata": {},
     "output_type": "display_data"
    },
    {
     "name": "stdout",
     "output_type": "stream",
     "text": [
      "\n",
      "ProstateX-0198\n",
      "Patient: ProstateX-0198 (date: 2012-06-15 00:00:00)\n",
      "\t- Reading: 3.000000-t2tsesag-17080  (t2_tse_sag) (UNKNOWN)\n",
      "\t\t- Skipping!\n",
      "\t- Reading: 4.000000-t2tsecor-77037  (t2_tse_cor) (UNKNOWN)\n",
      "\t\t- Skipping!\n",
      "\t- Reading: 5.000000-t2tsetra-07777  (t2_tse_tra) (T2)\n",
      "\t\t- Done!\n",
      "\t- Reading: 6.000000-ep2ddifftraDYNDIST-20885  (ep2d_diff_tra_DYNDIST) (b)\n",
      "\t\t- Done!\n",
      "\t- Reading: 7.000000-ep2ddifftraDYNDISTADC-29009  (ep2d_diff_tra_DYNDIST_ADC) (ADC)\n",
      "\t\t- Done!\n",
      "\t- Reading: 8.000000-ep2ddifftraDYNDISTCALCBVAL-17373  (ep2d_diff_tra_DYNDISTCALC_BVAL) (diff)\n",
      "\t\t- Skipping!\n",
      "\t- Reading: 9.000000-tfl3d PD reftra1.5x1.5t3-44890  (tfl_3d PD ref_tra_1.5x1.5_t3) (unk)\n",
      "\t\t- Skipping!\n",
      "\t- Reading: ProstateX-0198-Ktrans.mhd (Ktrans) (ktrans)\n",
      "\t\t- Done!\n",
      "\n",
      "\t\t> (Blurrying ADC) Combining 5 images: #### -> Elapsed: 1.49s\n",
      " - Lesion positions and significances:\n",
      "   - 1: [185.25600935 152.04669091   6.00010673], Sig: 5\n",
      " - Information: resampling_operation with pre_mask_growth_mm applied to channels [2] on x,y dimensions\n"
     ]
    },
    {
     "data": {
      "application/vnd.jupyter.widget-view+json": {
       "model_id": "daaa1ed5b4074556be83c0d5fc5f19e3",
       "version_major": 2,
       "version_minor": 0
      },
      "text/plain": [
       "interactive(children=(IntSlider(value=12, description='z', max=23, style=SliderStyle(handle_color='lightblue')…"
      ]
     },
     "metadata": {},
     "output_type": "display_data"
    },
    {
     "data": {
      "application/vnd.jupyter.widget-view+json": {
       "model_id": "cdc302a53a5942edbfe625b72bb37411",
       "version_major": 2,
       "version_minor": 0
      },
      "text/plain": [
       "interactive(children=(IntSlider(value=12, description='z', max=23, style=SliderStyle(handle_color='lightblue')…"
      ]
     },
     "metadata": {},
     "output_type": "display_data"
    },
    {
     "name": "stdout",
     "output_type": "stream",
     "text": [
      "\n",
      "ProstateX-0199\n",
      "Patient: ProstateX-0199 (date: 2011-07-27 00:00:00)\n",
      "\t- Reading: 10.000000-tfl3d PD reference-13565  (tfl_3d PD reference) (UNKNOWN)\n",
      "\t\t- Skipping!\n",
      "\t- Reading: 11.000000-tfl3d dynamisch fast-61963  (tfl_3d dynamisch fast) (UNKNOWN)\n",
      "\t\t- Skipping!\n",
      "\t- Reading: 12.000000-tfl3d dynamisch fast-89238  (tfl_3d dynamisch fast) (UNKNOWN)\n",
      "\t\t- Skipping!\n",
      "\t- Reading: 13.000000-tfl3d dynamisch fast-76210  (tfl_3d dynamisch fast) (UNKNOWN)\n",
      "\t\t- Skipping!\n",
      "\t- Reading: 14.000000-tfl3d dynamisch fast-54232  (tfl_3d dynamisch fast) (UNKNOWN)\n",
      "\t\t- Skipping!\n",
      "\t- Reading: 15.000000-tfl3d dynamisch fast-15252  (tfl_3d dynamisch fast) (UNKNOWN)\n",
      "\t\t- Skipping!\n",
      "\t- Reading: 16.000000-tfl3d dynamisch fast-85629  (tfl_3d dynamisch fast) (UNKNOWN)\n",
      "\t\t- Skipping!\n",
      "\t- Reading: 17.000000-tfl3d dynamisch fast-16142  (tfl_3d dynamisch fast) (UNKNOWN)\n",
      "\t\t- Skipping!\n",
      "\t- Reading: 18.000000-tfl3d dynamisch fast-18701  (tfl_3d dynamisch fast) (UNKNOWN)\n",
      "\t\t- Skipping!\n",
      "\t- Reading: 19.000000-tfl3d dynamisch fast-58157  (tfl_3d dynamisch fast) (UNKNOWN)\n",
      "\t\t- Skipping!\n",
      "\t- Reading: 20.000000-tfl3d dynamisch fast-30288  (tfl_3d dynamisch fast) (UNKNOWN)\n",
      "\t\t- Skipping!\n",
      "\t- Reading: 21.000000-tfl3d dynamisch fast-45887  (tfl_3d dynamisch fast) (UNKNOWN)\n",
      "\t\t- Skipping!\n",
      "\t- Reading: 22.000000-tfl3d dynamisch fast-87249  (tfl_3d dynamisch fast) (UNKNOWN)\n",
      "\t\t- Skipping!\n",
      "\t- Reading: 23.000000-tfl3d dynamisch fast-10132  (tfl_3d dynamisch fast) (UNKNOWN)\n",
      "\t\t- Skipping!\n",
      "\t- Reading: 24.000000-tfl3d dynamisch fast-30100  (tfl_3d dynamisch fast) (UNKNOWN)\n",
      "\t\t- Skipping!\n",
      "\t- Reading: 25.000000-tfl3d dynamisch fast-93694  (tfl_3d dynamisch fast) (UNKNOWN)\n",
      "\t\t- Skipping!\n",
      "\t- Reading: 26.000000-tfl3d dynamisch fast-39982  (tfl_3d dynamisch fast) (UNKNOWN)\n",
      "\t\t- Skipping!\n",
      "\t- Reading: 27.000000-tfl3d dynamisch fast-98887  (tfl_3d dynamisch fast) (UNKNOWN)\n",
      "\t\t- Skipping!\n",
      "\t- Reading: 28.000000-tfl3d dynamisch fast-10633  (tfl_3d dynamisch fast) (UNKNOWN)\n",
      "\t\t- Skipping!\n",
      "\t- Reading: 29.000000-tfl3d dynamisch fast-86106  (tfl_3d dynamisch fast) (UNKNOWN)\n",
      "\t\t- Skipping!\n",
      "\t- Reading: 30.000000-tfl3d dynamisch fast-15280  (tfl_3d dynamisch fast) (UNKNOWN)\n",
      "\t\t- Skipping!\n",
      "\t- Reading: 31.000000-tfl3d dynamisch fast-29166  (tfl_3d dynamisch fast) (UNKNOWN)\n",
      "\t\t- Skipping!\n",
      "\t- Reading: 32.000000-tfl3d dynamisch fast-28758  (tfl_3d dynamisch fast) (UNKNOWN)\n",
      "\t\t- Skipping!\n",
      "\t- Reading: 33.000000-tfl3d dynamisch fast-82049  (tfl_3d dynamisch fast) (UNKNOWN)\n",
      "\t\t- Skipping!\n",
      "\t- Reading: 34.000000-tfl3d dynamisch fast-00935  (tfl_3d dynamisch fast) (UNKNOWN)\n",
      "\t\t- Skipping!\n",
      "\t- Reading: 35.000000-tfl3d dynamisch fast-28183  (tfl_3d dynamisch fast) (UNKNOWN)\n",
      "\t\t- Skipping!\n",
      "\t- Reading: 36.000000-tfl3d dynamisch fast-26576  (tfl_3d dynamisch fast) (UNKNOWN)\n",
      "\t\t- Skipping!\n",
      "\t- Reading: 37.000000-tfl3d dynamisch fast-56552  (tfl_3d dynamisch fast) (UNKNOWN)\n",
      "\t\t- Skipping!\n",
      "\t- Reading: 38.000000-tfl3d dynamisch fast-55962  (tfl_3d dynamisch fast) (UNKNOWN)\n",
      "\t\t- Skipping!\n",
      "\t- Reading: 39.000000-tfl3d dynamisch fast-01564  (tfl_3d dynamisch fast) (UNKNOWN)\n",
      "\t\t- Skipping!\n",
      "\t- Reading: 4.000000-t2tsetra-99785  (t2_tse_tra) (T2)\n",
      "\t\t- Done!\n",
      "\t- Reading: 40.000000-tfl3d dynamisch fast-75586  (tfl_3d dynamisch fast) (UNKNOWN)\n",
      "\t\t- Skipping!\n",
      "\t- Reading: 41.000000-tfl3d dynamisch fast-28519  (tfl_3d dynamisch fast) (UNKNOWN)\n",
      "\t\t- Skipping!\n",
      "\t- Reading: 42.000000-tfl3d dynamisch fast-31264  (tfl_3d dynamisch fast) (UNKNOWN)\n",
      "\t\t- Skipping!\n",
      "\t- Reading: 43.000000-tfl3d dynamisch fast-26819  (tfl_3d dynamisch fast) (UNKNOWN)\n",
      "\t\t- Skipping!\n",
      "\t- Reading: 44.000000-tfl3d dynamisch fast-99313  (tfl_3d dynamisch fast) (UNKNOWN)\n",
      "\t\t- Skipping!\n",
      "\t- Reading: 45.000000-tfl3d dynamisch fast-53440  (tfl_3d dynamisch fast) (UNKNOWN)\n",
      "\t\t- Skipping!\n",
      "\t- Reading: 5.000000-t2tsesag-11390  (t2_tse_sag) (UNKNOWN)\n",
      "\t\t- Skipping!\n",
      "\t- Reading: 6.000000-t2tsecor-90294  (t2_tse_cor) (UNKNOWN)\n",
      "\t\t- Skipping!\n",
      "\t- Reading: 7.000000-diffusie-3Scan-4bvalfs-24158  (diffusie-3Scan-4bval_fs) (b)\n",
      "\t\t- Done!\n",
      "\t- Reading: 8.000000-diffusie-3Scan-4bvalfsADC-44250  (diffusie-3Scan-4bval_fs_ADC) (ADC)\n",
      "\t\t- Done!\n",
      "\t- Reading: 9.000000-diffusie-3Scan-4bvalfsCALCBVAL-27173  (diffusie-3Scan-4bval_fsCALC_BVAL) (UNKNOWN)\n",
      "\t\t- Skipping!\n",
      "\t- Reading: ProstateX-0199-Ktrans.mhd (Ktrans) (ktrans)\n",
      "\t\t- Done!\n",
      "\n",
      "\t\t> Combining 5 images: #### -> Elapsed: 1.02s\n",
      " - Lesion positions and significances:\n",
      "   - 1: [164.46604327 136.34280026  11.99997715], Sig: 4\n",
      "   - 2: [135.89166599 148.76767246   6.72223157], Sig: 4\n",
      " - Information: resampling_operation with pre_mask_growth_mm applied to channels [2] on x,y dimensions\n"
     ]
    },
    {
     "data": {
      "application/vnd.jupyter.widget-view+json": {
       "model_id": "80ae0e46c56048f1bd6b9c9382a9b3ba",
       "version_major": 2,
       "version_minor": 0
      },
      "text/plain": [
       "interactive(children=(IntSlider(value=12, description='z', max=23, style=SliderStyle(handle_color='lightblue')…"
      ]
     },
     "metadata": {},
     "output_type": "display_data"
    },
    {
     "data": {
      "application/vnd.jupyter.widget-view+json": {
       "model_id": "f656b3e8b0814da8a2310f2151a7d5b7",
       "version_major": 2,
       "version_minor": 0
      },
      "text/plain": [
       "interactive(children=(IntSlider(value=12, description='z', max=23, style=SliderStyle(handle_color='lightblue')…"
      ]
     },
     "metadata": {},
     "output_type": "display_data"
    },
    {
     "name": "stdout",
     "output_type": "stream",
     "text": [
      "\n",
      "ProstateX-0200\n",
      "Patient: ProstateX-0200 (date: 2011-08-12 00:00:00)\n",
      "\t- Reading: 10.000000-diffusie-3Scan-4bvalfsCALCBVAL-80995  (diffusie-3Scan-4bval_fsCALC_BVAL) (UNKNOWN)\n",
      "\t\t- Skipping!\n",
      "\t- Reading: 11.000000-tfl3d PD reference-05899  (tfl_3d PD reference) (UNKNOWN)\n",
      "\t\t- Skipping!\n",
      "\t- Reading: 12.000000-tfl3d dynamisch fast-91435  (tfl_3d dynamisch fast) (UNKNOWN)\n",
      "\t\t- Skipping!\n",
      "\t- Reading: 13.000000-tfl3d dynamisch fast-54982  (tfl_3d dynamisch fast) (UNKNOWN)\n",
      "\t\t- Skipping!\n",
      "\t- Reading: 14.000000-tfl3d dynamisch fast-56102  (tfl_3d dynamisch fast) (UNKNOWN)\n",
      "\t\t- Skipping!\n",
      "\t- Reading: 15.000000-tfl3d dynamisch fast-95832  (tfl_3d dynamisch fast) (UNKNOWN)\n",
      "\t\t- Skipping!\n",
      "\t- Reading: 16.000000-tfl3d dynamisch fast-89011  (tfl_3d dynamisch fast) (UNKNOWN)\n",
      "\t\t- Skipping!\n",
      "\t- Reading: 17.000000-tfl3d dynamisch fast-29822  (tfl_3d dynamisch fast) (UNKNOWN)\n",
      "\t\t- Skipping!\n",
      "\t- Reading: 18.000000-tfl3d dynamisch fast-81145  (tfl_3d dynamisch fast) (UNKNOWN)\n",
      "\t\t- Skipping!\n",
      "\t- Reading: 19.000000-tfl3d dynamisch fast-45580  (tfl_3d dynamisch fast) (UNKNOWN)\n",
      "\t\t- Skipping!\n",
      "\t- Reading: 20.000000-tfl3d dynamisch fast-41012  (tfl_3d dynamisch fast) (UNKNOWN)\n",
      "\t\t- Skipping!\n",
      "\t- Reading: 21.000000-tfl3d dynamisch fast-67177  (tfl_3d dynamisch fast) (UNKNOWN)\n",
      "\t\t- Skipping!\n",
      "\t- Reading: 22.000000-tfl3d dynamisch fast-43760  (tfl_3d dynamisch fast) (UNKNOWN)\n",
      "\t\t- Skipping!\n",
      "\t- Reading: 23.000000-tfl3d dynamisch fast-24256  (tfl_3d dynamisch fast) (UNKNOWN)\n",
      "\t\t- Skipping!\n",
      "\t- Reading: 24.000000-tfl3d dynamisch fast-33696  (tfl_3d dynamisch fast) (UNKNOWN)\n",
      "\t\t- Skipping!\n",
      "\t- Reading: 25.000000-tfl3d dynamisch fast-66768  (tfl_3d dynamisch fast) (UNKNOWN)\n",
      "\t\t- Skipping!\n",
      "\t- Reading: 26.000000-tfl3d dynamisch fast-50821  (tfl_3d dynamisch fast) (UNKNOWN)\n",
      "\t\t- Skipping!\n",
      "\t- Reading: 27.000000-tfl3d dynamisch fast-87480  (tfl_3d dynamisch fast) (UNKNOWN)\n",
      "\t\t- Skipping!\n",
      "\t- Reading: 28.000000-tfl3d dynamisch fast-58089  (tfl_3d dynamisch fast) (UNKNOWN)\n",
      "\t\t- Skipping!\n",
      "\t- Reading: 29.000000-tfl3d dynamisch fast-36152  (tfl_3d dynamisch fast) (UNKNOWN)\n",
      "\t\t- Skipping!\n",
      "\t- Reading: 3.000000-t2localizerprostate-13604  (t2_localizer_prostate) (UNKNOWN)\n",
      "\t\t- Skipping!\n",
      "\t- Reading: 30.000000-tfl3d dynamisch fast-31530  (tfl_3d dynamisch fast) (UNKNOWN)\n",
      "\t\t- Skipping!\n",
      "\t- Reading: 31.000000-tfl3d dynamisch fast-77049  (tfl_3d dynamisch fast) (UNKNOWN)\n",
      "\t\t- Skipping!\n",
      "\t- Reading: 32.000000-tfl3d dynamisch fast-02749  (tfl_3d dynamisch fast) (UNKNOWN)\n",
      "\t\t- Skipping!\n",
      "\t- Reading: 33.000000-tfl3d dynamisch fast-49816  (tfl_3d dynamisch fast) (UNKNOWN)\n",
      "\t\t- Skipping!\n",
      "\t- Reading: 34.000000-tfl3d dynamisch fast-64289  (tfl_3d dynamisch fast) (UNKNOWN)\n",
      "\t\t- Skipping!\n",
      "\t- Reading: 35.000000-tfl3d dynamisch fast-89344  (tfl_3d dynamisch fast) (UNKNOWN)\n",
      "\t\t- Skipping!\n",
      "\t- Reading: 36.000000-tfl3d dynamisch fast-29990  (tfl_3d dynamisch fast) (UNKNOWN)\n",
      "\t\t- Skipping!\n",
      "\t- Reading: 37.000000-tfl3d dynamisch fast-03317  (tfl_3d dynamisch fast) (UNKNOWN)\n",
      "\t\t- Skipping!\n",
      "\t- Reading: 38.000000-tfl3d dynamisch fast-51267  (tfl_3d dynamisch fast) (UNKNOWN)\n",
      "\t\t- Skipping!\n",
      "\t- Reading: 39.000000-tfl3d dynamisch fast-48704  (tfl_3d dynamisch fast) (UNKNOWN)\n",
      "\t\t- Skipping!\n",
      "\t- Reading: 4.000000-t2tsesag-26181  (t2_tse_sag) (UNKNOWN)\n",
      "\t\t- Skipping!\n",
      "\t- Reading: 40.000000-tfl3d dynamisch fast-24978  (tfl_3d dynamisch fast) (UNKNOWN)\n",
      "\t\t- Skipping!\n",
      "\t- Reading: 41.000000-tfl3d dynamisch fast-70573  (tfl_3d dynamisch fast) (UNKNOWN)\n",
      "\t\t- Skipping!\n",
      "\t- Reading: 42.000000-tfl3d dynamisch fast-49503  (tfl_3d dynamisch fast) (UNKNOWN)\n",
      "\t\t- Skipping!\n",
      "\t- Reading: 43.000000-tfl3d dynamisch fast-07613  (tfl_3d dynamisch fast) (UNKNOWN)\n",
      "\t\t- Skipping!\n",
      "\t- Reading: 44.000000-tfl3d dynamisch fast-87547  (tfl_3d dynamisch fast) (UNKNOWN)\n",
      "\t\t- Skipping!\n",
      "\t- Reading: 45.000000-tfl3d dynamisch fast-53797  (tfl_3d dynamisch fast) (UNKNOWN)\n",
      "\t\t- Skipping!\n",
      "\t- Reading: 46.000000-tfl3d dynamisch fast-13344  (tfl_3d dynamisch fast) (UNKNOWN)\n",
      "\t\t- Skipping!\n",
      "\t- Reading: 5.000000-t2tsetra-48364  (t2_tse_tra) (T2)\n",
      "\t\t- Done!\n",
      "\t- Reading: 6.000000-t2tsecor-15598  (t2_tse_cor) (UNKNOWN)\n",
      "\t\t- Skipping!\n",
      "\t- Reading: 7.000000-t2tsetra-76372  (t2_tse_tra) (T2)\n",
      "\t\t- Done!\n",
      "\t- Reading: 8.000000-diffusie-3Scan-4bvalfs-09079  (diffusie-3Scan-4bval_fs) (b)\n",
      "\t\t- Done!\n",
      "\t- Reading: 9.000000-diffusie-3Scan-4bvalfsADC-58422  (diffusie-3Scan-4bval_fs_ADC) (ADC)\n",
      "\t\t- Done!\n",
      "\t- Reading: ProstateX-0200-Ktrans.mhd (Ktrans) (ktrans)\n",
      "\t\t- Done!\n",
      "\n",
      "\t\t> Combining 5 images: #### -> Elapsed: 1.17s\n",
      " - Lesion positions and significances:\n",
      "   - 1: [192.08880191 171.01615792   9.00000803], Sig: 5\n",
      "   - 2: [119.38858626 158.60775018   9.99997324], Sig: 10\n",
      " - Information: resampling_operation with pre_mask_growth_mm applied to channels [2] on x,y dimensions\n"
     ]
    },
    {
     "data": {
      "application/vnd.jupyter.widget-view+json": {
       "model_id": "f7e5f32e71cd45129619a758edd09a91",
       "version_major": 2,
       "version_minor": 0
      },
      "text/plain": [
       "interactive(children=(IntSlider(value=12, description='z', max=23, style=SliderStyle(handle_color='lightblue')…"
      ]
     },
     "metadata": {},
     "output_type": "display_data"
    },
    {
     "data": {
      "application/vnd.jupyter.widget-view+json": {
       "model_id": "de161e0d6fe44809913b72df3d06a6bf",
       "version_major": 2,
       "version_minor": 0
      },
      "text/plain": [
       "interactive(children=(IntSlider(value=12, description='z', max=23, style=SliderStyle(handle_color='lightblue')…"
      ]
     },
     "metadata": {},
     "output_type": "display_data"
    },
    {
     "name": "stdout",
     "output_type": "stream",
     "text": [
      "\n",
      "ProstateX-0201\n",
      "Patient: ProstateX-0201 (date: 2011-09-01 00:00:00)\n",
      "\t- Reading: 1.000000-t2localizerprostate-03400  (t2_localizer_prostate) (UNKNOWN)\n",
      "\t\t- Skipping!\n",
      "\t- Reading: 10.000000-tfl3d dynamisch fast-53469  (tfl_3d dynamisch fast) (UNKNOWN)\n",
      "\t\t- Skipping!\n",
      "\t- Reading: 11.000000-tfl3d dynamisch fast-33701  (tfl_3d dynamisch fast) (UNKNOWN)\n",
      "\t\t- Skipping!\n",
      "\t- Reading: 12.000000-tfl3d dynamisch fast-21849  (tfl_3d dynamisch fast) (UNKNOWN)\n",
      "\t\t- Skipping!\n",
      "\t- Reading: 13.000000-tfl3d dynamisch fast-38970  (tfl_3d dynamisch fast) (UNKNOWN)\n",
      "\t\t- Skipping!\n",
      "\t- Reading: 14.000000-tfl3d dynamisch fast-00817  (tfl_3d dynamisch fast) (UNKNOWN)\n",
      "\t\t- Skipping!\n",
      "\t- Reading: 15.000000-tfl3d dynamisch fast-60818  (tfl_3d dynamisch fast) (UNKNOWN)\n",
      "\t\t- Skipping!\n",
      "\t- Reading: 16.000000-tfl3d dynamisch fast-84962  (tfl_3d dynamisch fast) (UNKNOWN)\n",
      "\t\t- Skipping!\n",
      "\t- Reading: 17.000000-tfl3d dynamisch fast-25615  (tfl_3d dynamisch fast) (UNKNOWN)\n",
      "\t\t- Skipping!\n",
      "\t- Reading: 18.000000-tfl3d dynamisch fast-96521  (tfl_3d dynamisch fast) (UNKNOWN)\n",
      "\t\t- Skipping!\n",
      "\t- Reading: 19.000000-tfl3d dynamisch fast-44978  (tfl_3d dynamisch fast) (UNKNOWN)\n",
      "\t\t- Skipping!\n",
      "\t- Reading: 2.000000-t2localizerprostate-97325  (t2_localizer_prostate) (UNKNOWN)\n",
      "\t\t- Skipping!\n",
      "\t- Reading: 20.000000-tfl3d dynamisch fast-20062  (tfl_3d dynamisch fast) (UNKNOWN)\n",
      "\t\t- Skipping!\n",
      "\t- Reading: 21.000000-tfl3d dynamisch fast-45518  (tfl_3d dynamisch fast) (UNKNOWN)\n",
      "\t\t- Skipping!\n",
      "\t- Reading: 22.000000-tfl3d dynamisch fast-52668  (tfl_3d dynamisch fast) (UNKNOWN)\n",
      "\t\t- Skipping!\n",
      "\t- Reading: 23.000000-tfl3d dynamisch fast-47283  (tfl_3d dynamisch fast) (UNKNOWN)\n",
      "\t\t- Skipping!\n",
      "\t- Reading: 24.000000-tfl3d dynamisch fast-62133  (tfl_3d dynamisch fast) (UNKNOWN)\n",
      "\t\t- Skipping!\n",
      "\t- Reading: 25.000000-tfl3d dynamisch fast-68250  (tfl_3d dynamisch fast) (UNKNOWN)\n",
      "\t\t- Skipping!\n",
      "\t- Reading: 26.000000-tfl3d dynamisch fast-20147  (tfl_3d dynamisch fast) (UNKNOWN)\n",
      "\t\t- Skipping!\n",
      "\t- Reading: 27.000000-tfl3d dynamisch fast-99162  (tfl_3d dynamisch fast) (UNKNOWN)\n",
      "\t\t- Skipping!\n",
      "\t- Reading: 28.000000-tfl3d dynamisch fast-56461  (tfl_3d dynamisch fast) (UNKNOWN)\n",
      "\t\t- Skipping!\n",
      "\t- Reading: 29.000000-tfl3d dynamisch fast-03571  (tfl_3d dynamisch fast) (UNKNOWN)\n",
      "\t\t- Skipping!\n",
      "\t- Reading: 3.000000-t2tsesag-33412  (t2_tse_sag) (UNKNOWN)\n",
      "\t\t- Skipping!\n",
      "\t- Reading: 30.000000-tfl3d dynamisch fast-89738  (tfl_3d dynamisch fast) (UNKNOWN)\n",
      "\t\t- Skipping!\n",
      "\t- Reading: 31.000000-tfl3d dynamisch fast-33732  (tfl_3d dynamisch fast) (UNKNOWN)\n",
      "\t\t- Skipping!\n",
      "\t- Reading: 32.000000-tfl3d dynamisch fast-80459  (tfl_3d dynamisch fast) (UNKNOWN)\n",
      "\t\t- Skipping!\n",
      "\t- Reading: 33.000000-tfl3d dynamisch fast-84751  (tfl_3d dynamisch fast) (UNKNOWN)\n",
      "\t\t- Skipping!\n",
      "\t- Reading: 34.000000-tfl3d dynamisch fast-21953  (tfl_3d dynamisch fast) (UNKNOWN)\n",
      "\t\t- Skipping!\n",
      "\t- Reading: 35.000000-tfl3d dynamisch fast-33616  (tfl_3d dynamisch fast) (UNKNOWN)\n",
      "\t\t- Skipping!\n",
      "\t- Reading: 36.000000-tfl3d dynamisch fast-40105  (tfl_3d dynamisch fast) (UNKNOWN)\n",
      "\t\t- Skipping!\n",
      "\t- Reading: 37.000000-tfl3d dynamisch fast-20325  (tfl_3d dynamisch fast) (UNKNOWN)\n",
      "\t\t- Skipping!\n",
      "\t- Reading: 38.000000-tfl3d dynamisch fast-92720  (tfl_3d dynamisch fast) (UNKNOWN)\n",
      "\t\t- Skipping!\n",
      "\t- Reading: 39.000000-tfl3d dynamisch fast-96025  (tfl_3d dynamisch fast) (UNKNOWN)\n",
      "\t\t- Skipping!\n",
      "\t- Reading: 4.000000-t2tsetra-83535  (t2_tse_tra) (T2)\n",
      "\t\t- Done!\n",
      "\t- Reading: 40.000000-tfl3d dynamisch fast-70377  (tfl_3d dynamisch fast) (UNKNOWN)\n",
      "\t\t- Skipping!\n",
      "\t- Reading: 41.000000-tfl3d dynamisch fast-29105  (tfl_3d dynamisch fast) (UNKNOWN)\n",
      "\t\t- Skipping!\n",
      "\t- Reading: 42.000000-tfl3d dynamisch fast-80009  (tfl_3d dynamisch fast) (UNKNOWN)\n",
      "\t\t- Skipping!\n",
      "\t- Reading: 43.000000-tfl3d dynamisch fast-65084  (tfl_3d dynamisch fast) (UNKNOWN)\n",
      "\t\t- Skipping!\n",
      "\t- Reading: 44.000000-tfl3d dynamisch fast-20862  (tfl_3d dynamisch fast) (UNKNOWN)\n",
      "\t\t- Skipping!\n",
      "\t- Reading: 5.000000-t2tsecor-78380  (t2_tse_cor) (UNKNOWN)\n",
      "\t\t- Skipping!\n",
      "\t- Reading: 6.000000-diffusie-3Scan-4bvalfs-66523  (diffusie-3Scan-4bval_fs) (b)\n",
      "\t\t- Done!\n",
      "\t- Reading: 7.000000-diffusie-3Scan-4bvalfsADC-89710  (diffusie-3Scan-4bval_fs_ADC) (ADC)\n",
      "\t\t- Done!\n",
      "\t- Reading: 8.000000-diffusie-3Scan-4bvalfsCALCBVAL-95193  (diffusie-3Scan-4bval_fsCALC_BVAL) (UNKNOWN)\n",
      "\t\t- Skipping!\n",
      "\t- Reading: 9.000000-tfl3d PD reference-48775  (tfl_3d PD reference) (UNKNOWN)\n",
      "\t\t- Skipping!\n",
      "\t- Reading: ProstateX-0201-Ktrans.mhd (Ktrans) (ktrans)\n",
      "\t\t- Done!\n",
      "\n",
      "\t\t> Combining 5 images: #### -> Elapsed: 1.30s\n",
      " - Lesion positions and significances:\n",
      "   - 1: [190.85862861 162.45934298  15.66665395], Sig: 2\n",
      " - Information: resampling_operation with pre_mask_growth_mm applied to channels [2] on x,y dimensions\n"
     ]
    },
    {
     "data": {
      "application/vnd.jupyter.widget-view+json": {
       "model_id": "2c51acd3c9ae48f2ac1eae8ef7ce3158",
       "version_major": 2,
       "version_minor": 0
      },
      "text/plain": [
       "interactive(children=(IntSlider(value=12, description='z', max=23, style=SliderStyle(handle_color='lightblue')…"
      ]
     },
     "metadata": {},
     "output_type": "display_data"
    },
    {
     "data": {
      "application/vnd.jupyter.widget-view+json": {
       "model_id": "950460d77839430e9a913268fb4ab708",
       "version_major": 2,
       "version_minor": 0
      },
      "text/plain": [
       "interactive(children=(IntSlider(value=12, description='z', max=23, style=SliderStyle(handle_color='lightblue')…"
      ]
     },
     "metadata": {},
     "output_type": "display_data"
    },
    {
     "name": "stdout",
     "output_type": "stream",
     "text": [
      "\n",
      "ProstateX-0202\n",
      "Patient: ProstateX-0202 (date: 2011-09-01 00:00:00)\n",
      "\t- Reading: 10.000000-tfl3d dynamisch fast-11758  (tfl_3d dynamisch fast) (UNKNOWN)\n",
      "\t\t- Skipping!\n",
      "\t- Reading: 11.000000-tfl3d dynamisch fast-91910  (tfl_3d dynamisch fast) (UNKNOWN)\n",
      "\t\t- Skipping!\n",
      "\t- Reading: 12.000000-tfl3d dynamisch fast-42651  (tfl_3d dynamisch fast) (UNKNOWN)\n",
      "\t\t- Skipping!\n",
      "\t- Reading: 13.000000-tfl3d dynamisch fast-96227  (tfl_3d dynamisch fast) (UNKNOWN)\n",
      "\t\t- Skipping!\n",
      "\t- Reading: 14.000000-tfl3d dynamisch fast-56805  (tfl_3d dynamisch fast) (UNKNOWN)\n",
      "\t\t- Skipping!\n",
      "\t- Reading: 15.000000-tfl3d dynamisch fast-38916  (tfl_3d dynamisch fast) (UNKNOWN)\n",
      "\t\t- Skipping!\n",
      "\t- Reading: 16.000000-tfl3d dynamisch fast-95887  (tfl_3d dynamisch fast) (UNKNOWN)\n",
      "\t\t- Skipping!\n",
      "\t- Reading: 17.000000-tfl3d dynamisch fast-14835  (tfl_3d dynamisch fast) (UNKNOWN)\n",
      "\t\t- Skipping!\n",
      "\t- Reading: 18.000000-tfl3d dynamisch fast-14435  (tfl_3d dynamisch fast) (UNKNOWN)\n",
      "\t\t- Skipping!\n",
      "\t- Reading: 19.000000-tfl3d dynamisch fast-89853  (tfl_3d dynamisch fast) (UNKNOWN)\n",
      "\t\t- Skipping!\n",
      "\t- Reading: 20.000000-tfl3d dynamisch fast-87520  (tfl_3d dynamisch fast) (UNKNOWN)\n",
      "\t\t- Skipping!\n",
      "\t- Reading: 21.000000-tfl3d dynamisch fast-85811  (tfl_3d dynamisch fast) (UNKNOWN)\n",
      "\t\t- Skipping!\n",
      "\t- Reading: 22.000000-tfl3d dynamisch fast-28762  (tfl_3d dynamisch fast) (UNKNOWN)\n",
      "\t\t- Skipping!\n",
      "\t- Reading: 23.000000-tfl3d dynamisch fast-59726  (tfl_3d dynamisch fast) (UNKNOWN)\n",
      "\t\t- Skipping!\n",
      "\t- Reading: 24.000000-tfl3d dynamisch fast-95090  (tfl_3d dynamisch fast) (UNKNOWN)\n",
      "\t\t- Skipping!\n",
      "\t- Reading: 25.000000-tfl3d dynamisch fast-53006  (tfl_3d dynamisch fast) (UNKNOWN)\n",
      "\t\t- Skipping!\n",
      "\t- Reading: 26.000000-tfl3d dynamisch fast-94909  (tfl_3d dynamisch fast) (UNKNOWN)\n",
      "\t\t- Skipping!\n",
      "\t- Reading: 27.000000-tfl3d dynamisch fast-04769  (tfl_3d dynamisch fast) (UNKNOWN)\n",
      "\t\t- Skipping!\n",
      "\t- Reading: 28.000000-tfl3d dynamisch fast-15059  (tfl_3d dynamisch fast) (UNKNOWN)\n",
      "\t\t- Skipping!\n",
      "\t- Reading: 29.000000-tfl3d dynamisch fast-40001  (tfl_3d dynamisch fast) (UNKNOWN)\n",
      "\t\t- Skipping!\n",
      "\t- Reading: 3.000000-t2tsesag-40864  (t2_tse_sag) (UNKNOWN)\n",
      "\t\t- Skipping!\n",
      "\t- Reading: 30.000000-tfl3d dynamisch fast-93488  (tfl_3d dynamisch fast) (UNKNOWN)\n",
      "\t\t- Skipping!\n",
      "\t- Reading: 31.000000-tfl3d dynamisch fast-08162  (tfl_3d dynamisch fast) (UNKNOWN)\n",
      "\t\t- Skipping!\n",
      "\t- Reading: 32.000000-tfl3d dynamisch fast-00944  (tfl_3d dynamisch fast) (UNKNOWN)\n",
      "\t\t- Skipping!\n",
      "\t- Reading: 33.000000-tfl3d dynamisch fast-32493  (tfl_3d dynamisch fast) (UNKNOWN)\n",
      "\t\t- Skipping!\n",
      "\t- Reading: 34.000000-tfl3d dynamisch fast-10024  (tfl_3d dynamisch fast) (UNKNOWN)\n",
      "\t\t- Skipping!\n",
      "\t- Reading: 35.000000-tfl3d dynamisch fast-24588  (tfl_3d dynamisch fast) (UNKNOWN)\n",
      "\t\t- Skipping!\n",
      "\t- Reading: 36.000000-tfl3d dynamisch fast-22280  (tfl_3d dynamisch fast) (UNKNOWN)\n",
      "\t\t- Skipping!\n",
      "\t- Reading: 37.000000-tfl3d dynamisch fast-01750  (tfl_3d dynamisch fast) (UNKNOWN)\n",
      "\t\t- Skipping!\n",
      "\t- Reading: 38.000000-tfl3d dynamisch fast-82553  (tfl_3d dynamisch fast) (UNKNOWN)\n",
      "\t\t- Skipping!\n",
      "\t- Reading: 39.000000-tfl3d dynamisch fast-18282  (tfl_3d dynamisch fast) (UNKNOWN)\n",
      "\t\t- Skipping!\n",
      "\t- Reading: 4.000000-t2tsetra-43194  (t2_tse_tra) (T2)\n",
      "\t\t- Done!\n",
      "\t- Reading: 40.000000-tfl3d dynamisch fast-20365  (tfl_3d dynamisch fast) (UNKNOWN)\n",
      "\t\t- Skipping!\n",
      "\t- Reading: 41.000000-tfl3d dynamisch fast-69966  (tfl_3d dynamisch fast) (UNKNOWN)\n",
      "\t\t- Skipping!\n",
      "\t- Reading: 42.000000-tfl3d dynamisch fast-70653  (tfl_3d dynamisch fast) (UNKNOWN)\n",
      "\t\t- Skipping!\n",
      "\t- Reading: 43.000000-tfl3d dynamisch fast-52577  (tfl_3d dynamisch fast) (UNKNOWN)\n",
      "\t\t- Skipping!\n",
      "\t- Reading: 44.000000-tfl3d dynamisch fast-77095  (tfl_3d dynamisch fast) (UNKNOWN)\n",
      "\t\t- Skipping!\n",
      "\t- Reading: 5.000000-t2tsecor-31813  (t2_tse_cor) (UNKNOWN)\n",
      "\t\t- Skipping!\n",
      "\t- Reading: 6.000000-diffusie-3Scan-4bvalfs-17835  (diffusie-3Scan-4bval_fs) (b)\n",
      "\t\t- Done!\n",
      "\t- Reading: 7.000000-diffusie-3Scan-4bvalfsADC-93612  (diffusie-3Scan-4bval_fs_ADC) (ADC)\n",
      "\t\t- Done!\n",
      "\t- Reading: 8.000000-diffusie-3Scan-4bvalfsCALCBVAL-46713  (diffusie-3Scan-4bval_fsCALC_BVAL) (UNKNOWN)\n",
      "\t\t- Skipping!\n",
      "\t- Reading: 9.000000-tfl3d PD reference-91244  (tfl_3d PD reference) (UNKNOWN)\n",
      "\t\t- Skipping!\n",
      "\t- Reading: ProstateX-0202-Ktrans.mhd (Ktrans) (ktrans)\n",
      "\t\t- Done!\n",
      "\n",
      "\t\t> Combining 5 images: #### -> Elapsed: 1.05s\n",
      " - Lesion positions and significances:\n",
      "   - 1: [166.87510163 147.69131107   9.9999772 ], Sig: 4\n",
      "   - 2: [144.0412356  189.9579348    8.00002943], Sig: 10\n",
      " - Information: resampling_operation with pre_mask_growth_mm applied to channels [2] on x,y dimensions\n"
     ]
    },
    {
     "data": {
      "application/vnd.jupyter.widget-view+json": {
       "model_id": "fae470a4b8c24913a2804f8c8bef3896",
       "version_major": 2,
       "version_minor": 0
      },
      "text/plain": [
       "interactive(children=(IntSlider(value=12, description='z', max=23, style=SliderStyle(handle_color='lightblue')…"
      ]
     },
     "metadata": {},
     "output_type": "display_data"
    },
    {
     "data": {
      "application/vnd.jupyter.widget-view+json": {
       "model_id": "c6cd80630c9248a5ac3a539cb36c9771",
       "version_major": 2,
       "version_minor": 0
      },
      "text/plain": [
       "interactive(children=(IntSlider(value=12, description='z', max=23, style=SliderStyle(handle_color='lightblue')…"
      ]
     },
     "metadata": {},
     "output_type": "display_data"
    },
    {
     "name": "stdout",
     "output_type": "stream",
     "text": [
      "\n",
      "ProstateX-0203\n",
      "Patient: ProstateX-0203 (date: 2011-09-05 00:00:00)\n",
      "\t- Reading: 10.000000-tfl3d PD reference-39299  (tfl_3d PD reference) (UNKNOWN)\n",
      "\t\t- Skipping!\n",
      "\t- Reading: 11.000000-tfl3d dynamisch fast-13459  (tfl_3d dynamisch fast) (UNKNOWN)\n",
      "\t\t- Skipping!\n",
      "\t- Reading: 12.000000-tfl3d dynamisch fast-14163  (tfl_3d dynamisch fast) (UNKNOWN)\n",
      "\t\t- Skipping!\n",
      "\t- Reading: 13.000000-tfl3d dynamisch fast-26578  (tfl_3d dynamisch fast) (UNKNOWN)\n",
      "\t\t- Skipping!\n",
      "\t- Reading: 14.000000-tfl3d dynamisch fast-91786  (tfl_3d dynamisch fast) (UNKNOWN)\n",
      "\t\t- Skipping!\n",
      "\t- Reading: 15.000000-tfl3d dynamisch fast-31274  (tfl_3d dynamisch fast) (UNKNOWN)\n",
      "\t\t- Skipping!\n",
      "\t- Reading: 16.000000-tfl3d dynamisch fast-99116  (tfl_3d dynamisch fast) (UNKNOWN)\n",
      "\t\t- Skipping!\n",
      "\t- Reading: 17.000000-tfl3d dynamisch fast-54439  (tfl_3d dynamisch fast) (UNKNOWN)\n",
      "\t\t- Skipping!\n",
      "\t- Reading: 18.000000-tfl3d dynamisch fast-68860  (tfl_3d dynamisch fast) (UNKNOWN)\n",
      "\t\t- Skipping!\n",
      "\t- Reading: 19.000000-tfl3d dynamisch fast-02540  (tfl_3d dynamisch fast) (UNKNOWN)\n",
      "\t\t- Skipping!\n",
      "\t- Reading: 20.000000-tfl3d dynamisch fast-37607  (tfl_3d dynamisch fast) (UNKNOWN)\n",
      "\t\t- Skipping!\n",
      "\t- Reading: 21.000000-tfl3d dynamisch fast-95359  (tfl_3d dynamisch fast) (UNKNOWN)\n",
      "\t\t- Skipping!\n",
      "\t- Reading: 22.000000-tfl3d dynamisch fast-75959  (tfl_3d dynamisch fast) (UNKNOWN)\n",
      "\t\t- Skipping!\n",
      "\t- Reading: 23.000000-tfl3d dynamisch fast-49806  (tfl_3d dynamisch fast) (UNKNOWN)\n",
      "\t\t- Skipping!\n",
      "\t- Reading: 24.000000-tfl3d dynamisch fast-68841  (tfl_3d dynamisch fast) (UNKNOWN)\n",
      "\t\t- Skipping!\n",
      "\t- Reading: 25.000000-tfl3d dynamisch fast-26252  (tfl_3d dynamisch fast) (UNKNOWN)\n",
      "\t\t- Skipping!\n",
      "\t- Reading: 26.000000-tfl3d dynamisch fast-07295  (tfl_3d dynamisch fast) (UNKNOWN)\n",
      "\t\t- Skipping!\n",
      "\t- Reading: 27.000000-tfl3d dynamisch fast-41332  (tfl_3d dynamisch fast) (UNKNOWN)\n",
      "\t\t- Skipping!\n",
      "\t- Reading: 28.000000-tfl3d dynamisch fast-56742  (tfl_3d dynamisch fast) (UNKNOWN)\n",
      "\t\t- Skipping!\n",
      "\t- Reading: 29.000000-tfl3d dynamisch fast-54914  (tfl_3d dynamisch fast) (UNKNOWN)\n",
      "\t\t- Skipping!\n",
      "\t- Reading: 3.000000-t2tsesag-06846  (t2_tse_sag) (UNKNOWN)\n",
      "\t\t- Skipping!\n",
      "\t- Reading: 30.000000-tfl3d dynamisch fast-36744  (tfl_3d dynamisch fast) (UNKNOWN)\n",
      "\t\t- Skipping!\n",
      "\t- Reading: 31.000000-tfl3d dynamisch fast-46902  (tfl_3d dynamisch fast) (UNKNOWN)\n",
      "\t\t- Skipping!\n",
      "\t- Reading: 32.000000-tfl3d dynamisch fast-97498  (tfl_3d dynamisch fast) (UNKNOWN)\n",
      "\t\t- Skipping!\n",
      "\t- Reading: 33.000000-tfl3d dynamisch fast-03253  (tfl_3d dynamisch fast) (UNKNOWN)\n",
      "\t\t- Skipping!\n",
      "\t- Reading: 34.000000-tfl3d dynamisch fast-64103  (tfl_3d dynamisch fast) (UNKNOWN)\n",
      "\t\t- Skipping!\n",
      "\t- Reading: 35.000000-tfl3d dynamisch fast-12667  (tfl_3d dynamisch fast) (UNKNOWN)\n",
      "\t\t- Skipping!\n",
      "\t- Reading: 36.000000-tfl3d dynamisch fast-60881  (tfl_3d dynamisch fast) (UNKNOWN)\n",
      "\t\t- Skipping!\n",
      "\t- Reading: 37.000000-tfl3d dynamisch fast-90267  (tfl_3d dynamisch fast) (UNKNOWN)\n",
      "\t\t- Skipping!\n",
      "\t- Reading: 38.000000-tfl3d dynamisch fast-73202  (tfl_3d dynamisch fast) (UNKNOWN)\n",
      "\t\t- Skipping!\n",
      "\t- Reading: 39.000000-tfl3d dynamisch fast-65153  (tfl_3d dynamisch fast) (UNKNOWN)\n",
      "\t\t- Skipping!\n",
      "\t- Reading: 4.000000-t2tsetra-70756  (t2_tse_tra) (T2)\n",
      "\t\t- Done!\n",
      "\t- Reading: 40.000000-tfl3d dynamisch fast-17782  (tfl_3d dynamisch fast) (UNKNOWN)\n",
      "\t\t- Skipping!\n",
      "\t- Reading: 41.000000-tfl3d dynamisch fast-96418  (tfl_3d dynamisch fast) (UNKNOWN)\n",
      "\t\t- Skipping!\n",
      "\t- Reading: 42.000000-tfl3d dynamisch fast-48067  (tfl_3d dynamisch fast) (UNKNOWN)\n",
      "\t\t- Skipping!\n",
      "\t- Reading: 43.000000-tfl3d dynamisch fast-89688  (tfl_3d dynamisch fast) (UNKNOWN)\n",
      "\t\t- Skipping!\n",
      "\t- Reading: 44.000000-tfl3d dynamisch fast-14255  (tfl_3d dynamisch fast) (UNKNOWN)\n",
      "\t\t- Skipping!\n",
      "\t- Reading: 45.000000-tfl3d dynamisch fast-69913  (tfl_3d dynamisch fast) (UNKNOWN)\n",
      "\t\t- Skipping!\n",
      "\t- Reading: 5.000000-t2tsecor-49254  (t2_tse_cor) (UNKNOWN)\n",
      "\t\t- Skipping!\n",
      "\t- Reading: 6.000000-diffusie-3Scan-4bvalfs-56990  (diffusie-3Scan-4bval_fs) (b)\n",
      "\t\t- Done!\n",
      "\t- Reading: 7.000000-diffusie-3Scan-4bvalfsADC-93156  (diffusie-3Scan-4bval_fs_ADC) (ADC)\n",
      "\t\t- Done!\n",
      "\t- Reading: 8.000000-diffusie-3Scan-4bvalfsCALCBVAL-81289  (diffusie-3Scan-4bval_fsCALC_BVAL) (UNKNOWN)\n",
      "\t\t- Skipping!\n",
      "\t- Reading: 9.000000-t2tsesag-13480  (t2_tse_sag) (UNKNOWN)\n",
      "\t\t- Skipping!\n",
      "\t- Reading: ProstateX-0203-Ktrans.mhd (Ktrans) (ktrans)\n",
      "\t\t- Done!\n",
      "\n",
      "\t\t> Combining 5 images: #### -> Elapsed: 1.04s\n",
      " - Lesion positions and significances:\n",
      "   - 1: [143.94616679 131.6749576   10.99997851], Sig: 2\n",
      "   - 2: [179.59924295 161.54766981   7.00002543], Sig: 3\n",
      " - Information: resampling_operation with pre_mask_growth_mm applied to channels [2] on x,y dimensions\n"
     ]
    },
    {
     "data": {
      "application/vnd.jupyter.widget-view+json": {
       "model_id": "335bc10968dd442e9141c23a8dbb3295",
       "version_major": 2,
       "version_minor": 0
      },
      "text/plain": [
       "interactive(children=(IntSlider(value=12, description='z', max=23, style=SliderStyle(handle_color='lightblue')…"
      ]
     },
     "metadata": {},
     "output_type": "display_data"
    },
    {
     "data": {
      "application/vnd.jupyter.widget-view+json": {
       "model_id": "a01a8ef42aa3413695233efeddba8eb9",
       "version_major": 2,
       "version_minor": 0
      },
      "text/plain": [
       "interactive(children=(IntSlider(value=12, description='z', max=23, style=SliderStyle(handle_color='lightblue')…"
      ]
     },
     "metadata": {},
     "output_type": "display_data"
    }
   ],
   "source": [
    "for ID in os.listdir(dicom_path):\n",
    "    try:\n",
    "        #Print patient ID\n",
    "        print('\\n%s'%ID) \n",
    "        \n",
    "        #Check if registration transform exists and load it\n",
    "        if apply_registration and os.path.exists(os.path.join(transforms_path, ID + '.tfm')):\n",
    "            transform= sitk.ReadTransform(os.path.join(transforms_path, ID + '.tfm'))\n",
    "        else:\n",
    "            transform= sitk.Euler3DTransform()\n",
    "            print('No transform was found (or apply_registration is off). Image might be unregistered')\n",
    "\n",
    "        #---------------Read all images and masks, and then combine them---------------\n",
    "        \n",
    "        #Read all the modalities for a given ProstateX patient ID\n",
    "        #There might be multiple directories (or not)\n",
    "        patient_directories= os.listdir(os.path.join(dicom_path, ID))\n",
    "        if len(patient_directories) != 1: \n",
    "             print(' - Warning: Multiple directories!')\n",
    "        patient_directories= patient_directories[0]\n",
    "        images_path= os.path.join(dicom_path, ID, patient_directories)\n",
    "        images_list= read_prostatex_patient(ID, images_path, ktrans_path, verbose=True)\n",
    "\n",
    "        #Read Prostate segmentation mask\n",
    "        mask = sitk.ReadImage(os.path.join(masks_path, ID + '_msk.nrrd'))\n",
    "\n",
    "        #Read CZ segmentation mask\n",
    "        cz_mask= sitk.ReadImage(os.path.join(masks_path, ID + '_cz_msk.nrrd'))\n",
    "        \n",
    "        #Combine all images in images_list as single multichannel image using the first as reference\n",
    "        img_final= join_sitk_images(images_list, resampler=sitk.sitkBSpline, cast_type=sitk.sitkFloat32)\n",
    "        \n",
    "        #Join all masks\n",
    "        prostate_mask= join_masks(mask, cz_mask > 1.5, mode='append')\n",
    "\n",
    "        #---------------Lesion region growing preparation---------------\n",
    "        \n",
    "        #Load lesions information for current ID\n",
    "        try:\n",
    "            lesions= lesion_info.loc[ID].values\n",
    "            lesions= lesions[np.newaxis, ] if len(lesions.shape) == 1 else lesions\n",
    "            positions= np.array([np.fromstring(p[1], dtype=np.float32, sep=' ') for p in lesions])\n",
    "            positions_img= np.array([images_list[0].TransformPhysicalPointToContinuousIndex(p.astype(np.float64)) \n",
    "                                         for p in positions])\n",
    "            significances= [p[4] for p in lesions] if TRAIN else [20 for _ in lesions]\n",
    "            print(' - Lesion positions and significances:')\n",
    "            for i, (pos, sig) in enumerate(zip(positions_img, significances)):\n",
    "                print('   - %d: %s, Sig: %d'%(i+1, str(pos), sig))\n",
    "            \n",
    "        except Exception as e:\n",
    "            positions, positions_img, significances= [], [], []\n",
    "            print(' - Error: No lesion information found!')\n",
    "            raise e\n",
    "            \n",
    "        #We now create a small mask around the positions where lesions are located,\n",
    "        #which will be used as the seed to grow the lesions later\n",
    "        lesion_mask_id_seed= get_lesion_mask_id_seed(positions_img, mask)\n",
    "        prostate_mask_intermediate= join_masks(prostate_mask, lesion_mask_id_seed, mode='append')\n",
    "            \n",
    "        #---------------Get ROI and apply computed registration (if available)---------------\n",
    "               \n",
    "        #Rescale intensity (must be converted to numpy first)\n",
    "        img_backup= sitk.Image(img_final)\n",
    "        img_array= sitk.GetArrayFromImage(img_final)\n",
    "        img_array= rescale_intensity(img_array)\n",
    "        img_final= sitk.GetImageFromArray(img_array, isVector=True)\n",
    "        img_final.CopyInformation(img_backup)\n",
    "        \n",
    "        #Keep only the central area of size (160,160,24) around the prostate centroid \n",
    "        img_final, prostate_mask_intermediate= center_image(\n",
    "                                    img_final, prostate_mask_intermediate, center_around_roi=True,\n",
    "                                    size=(160,160,24), spacing=(0.5,0.5,3),\n",
    "                                    transform_channels=[1,2,3], per_channel_transform=transform,\n",
    "                                    pre_mask_growth_mm=2, pre_mask_growth_mm_channels= [2])\n",
    "        \n",
    "        #---------------Actual lesion region growing---------------\n",
    "        \n",
    "        #Create the automatic lesion segmentation mask\n",
    "        lesion_mask_id, _= grow_lesions( prostate_mask_intermediate, img_final, significances, transform, \n",
    "                                            iters_max=120, factors= [2.5,2.5,3.5,4] )\n",
    "        \n",
    "        #Join all masks\n",
    "        prostate_mask= join_masks(sitk.VectorIndexSelectionCast(prostate_mask_intermediate, 0), \n",
    "                                  sitk.VectorIndexSelectionCast(prostate_mask_intermediate, 1), mode='append')\n",
    "        prostate_mask= join_masks(prostate_mask, lesion_mask_id, mode='append')\n",
    "        \n",
    "        #---------------Plot results---------------\n",
    "        \n",
    "        #info(img_final)\n",
    "        for c in [0,3]:\n",
    "            plot_multi_mask(sitk.VectorIndexSelectionCast(img_final, c), prostate_mask, title='All masks')\n",
    "\n",
    "        #---------------Save them---------------\n",
    "        \n",
    "        #Generate needed arrays and information\n",
    "        img_final_arr= sitk.GetArrayFromImage(img_final)\n",
    "        prostate_mask_arr= sitk.GetArrayFromImage(prostate_mask)  \n",
    "\n",
    "        final_rois= prostate_mask_arr[...,2][..., np.newaxis]\n",
    "        img_arr= np.concatenate([img_final_arr, #C0-4 Image \n",
    "                                 prostate_mask_arr[...,[0,1]], #C5-6: Prostate & CZ mask\n",
    "                                 (prostate_mask_arr[...,0] - prostate_mask_arr[...,1])[...,np.newaxis]], #C7: PZ mask\n",
    "                                 axis=-1)\n",
    "        fg_slices= [ii for ii in np.unique(np.argwhere(final_rois != 0)[:, 0])]    \n",
    "\n",
    "        #Save all information: ID_rois.npy, ID_img.npy, meta_info_ID.pickle\n",
    "        np.save(os.path.join(output_path, '{}_rois.npy'.format(ID)), final_rois)\n",
    "        np.save(os.path.join(output_path, '{}_img.npy'.format(ID)), img_arr)\n",
    "        with open(os.path.join(output_path, 'meta_info_{}.pickle'.format(ID)), 'wb') as handle:\n",
    "            meta_info_dict = {'pid': ID, 'class_target': significances, \n",
    "                              'spacing': img_final.GetSpacing(), 'fg_slices': fg_slices}\n",
    "            pickle.dump(meta_info_dict, handle)\n",
    "            \n",
    "    except Exception as e:\n",
    "        print(' - Error: Unhandled exception: %s'%e)\n",
    "        traceback.print_exc()\n",
    "        "
   ]
  },
  {
   "cell_type": "code",
   "execution_count": 17,
   "metadata": {},
   "outputs": [
    {
     "name": "stdout",
     "output_type": "stream",
     "text": [
      "Aggregated meta info to df with length 204\n"
     ]
    }
   ],
   "source": [
    "#Generate info_df.pickle for all the images\n",
    "files = [os.path.join(output_path, f) for f in os.listdir(output_path) if 'meta_info' in f]\n",
    "df = pd.DataFrame(columns=['pid', 'class_target', 'spacing', 'fg_slices'])\n",
    "for f in files:\n",
    "    with open(f, 'rb') as handle:\n",
    "        df.loc[len(df)] = pickle.load(handle)\n",
    "df.to_pickle(os.path.join(output_path, 'info_df.pickle'))\n",
    "print (\"Aggregated meta info to df with length\", len(df))"
   ]
  },
  {
   "cell_type": "code",
   "execution_count": 20,
   "metadata": {},
   "outputs": [
    {
     "name": "stdout",
     "output_type": "stream",
     "text": [
      "{'pid': 'ProstateX-0000', 'class_target': [3], 'spacing': (0.5, 0.5, 3.0), 'fg_slices': [7, 8, 9, 10, 11, 12, 13]}\n"
     ]
    }
   ],
   "source": [
    "filename = os.path.join(os.getcwd(), \"out\", \"meta_info_ProstateX-0000.pickle\")\n",
    "with open(filename, 'rb') as f:\n",
    "    x = pickle.load(f)\n",
    "    print(x)"
   ]
  },
  {
   "cell_type": "code",
   "execution_count": 24,
   "metadata": {},
   "outputs": [
    {
     "name": "stdout",
     "output_type": "stream",
     "text": [
      "[[[[0.12237007 0.4055749  0.446084   ... 0.         0.\n",
      "    0.        ]\n",
      "   [0.16704613 0.32439873 0.3565068  ... 0.         0.\n",
      "    0.        ]\n",
      "   [0.14624798 0.2504596  0.2753947  ... 0.         0.\n",
      "    0.        ]\n",
      "   ...\n",
      "   [0.08230853 0.02652503 0.06228165 ... 0.         0.\n",
      "    0.        ]\n",
      "   [0.08934021 0.02752288 0.06783246 ... 0.         0.\n",
      "    0.        ]\n",
      "   [0.08218993 0.0251156  0.06832637 ... 0.         0.\n",
      "    0.        ]]\n",
      "\n",
      "  [[0.09326579 0.4451559  0.49818757 ... 0.         0.\n",
      "    0.        ]\n",
      "   [0.13176921 0.35260132 0.3969642  ... 0.         0.\n",
      "    0.        ]\n",
      "   [0.14046167 0.2670694  0.30382326 ... 0.         0.\n",
      "    0.        ]\n",
      "   ...\n",
      "   [0.0653102  0.0305003  0.05617821 ... 0.         0.\n",
      "    0.        ]\n",
      "   [0.08373793 0.03372151 0.05925164 ... 0.         0.\n",
      "    0.        ]\n",
      "   [0.08055562 0.03247163 0.05737899 ... 0.         0.\n",
      "    0.        ]]\n",
      "\n",
      "  [[0.10941108 0.49350694 0.55930984 ... 0.         0.\n",
      "    0.        ]\n",
      "   [0.13254666 0.38949564 0.4500783  ... 0.         0.\n",
      "    0.        ]\n",
      "   [0.17049699 0.29081324 0.34590513 ... 0.         0.\n",
      "    0.        ]\n",
      "   ...\n",
      "   [0.06587493 0.04021658 0.04704874 ... 0.         0.\n",
      "    0.        ]\n",
      "   [0.08572258 0.0460314  0.04547781 ... 0.         0.\n",
      "    0.        ]\n",
      "   [0.10361286 0.04682684 0.04089609 ... 0.         0.\n",
      "    0.        ]]\n",
      "\n",
      "  ...\n",
      "\n",
      "  [[0.54727226 0.         0.         ... 0.         0.\n",
      "    0.        ]\n",
      "   [0.5085614  0.         0.         ... 0.         0.\n",
      "    0.        ]\n",
      "   [0.51128757 0.         0.         ... 0.         0.\n",
      "    0.        ]\n",
      "   ...\n",
      "   [0.5899108  0.         0.         ... 0.         0.\n",
      "    0.        ]\n",
      "   [0.48644435 0.         0.         ... 0.         0.\n",
      "    0.        ]\n",
      "   [0.38071254 0.         0.         ... 0.         0.\n",
      "    0.        ]]\n",
      "\n",
      "  [[0.53786236 0.         0.         ... 0.         0.\n",
      "    0.        ]\n",
      "   [0.53582525 0.         0.         ... 0.         0.\n",
      "    0.        ]\n",
      "   [0.52003247 0.         0.         ... 0.         0.\n",
      "    0.        ]\n",
      "   ...\n",
      "   [0.6426252  0.         0.         ... 0.         0.\n",
      "    0.        ]\n",
      "   [0.5650337  0.         0.         ... 0.         0.\n",
      "    0.        ]\n",
      "   [0.35341412 0.         0.         ... 0.         0.\n",
      "    0.        ]]\n",
      "\n",
      "  [[0.53630966 0.         0.         ... 0.         0.\n",
      "    0.        ]\n",
      "   [0.54609334 0.         0.         ... 0.         0.\n",
      "    0.        ]\n",
      "   [0.5353187  0.         0.         ... 0.         0.\n",
      "    0.        ]\n",
      "   ...\n",
      "   [0.6648119  0.         0.         ... 0.         0.\n",
      "    0.        ]\n",
      "   [0.66656333 0.         0.         ... 0.         0.\n",
      "    0.        ]\n",
      "   [0.48844802 0.         0.         ... 0.         0.\n",
      "    0.        ]]]\n",
      "\n",
      "\n",
      " [[[0.16003339 0.5622347  0.5591823  ... 0.         0.\n",
      "    0.        ]\n",
      "   [0.13470966 0.53105307 0.5455088  ... 0.         0.\n",
      "    0.        ]\n",
      "   [0.11768012 0.50075215 0.531559   ... 0.         0.\n",
      "    0.        ]\n",
      "   ...\n",
      "   [0.09366902 0.05000614 0.0626381  ... 0.         0.\n",
      "    0.        ]\n",
      "   [0.10039906 0.04774954 0.07191204 ... 0.         0.\n",
      "    0.        ]\n",
      "   [0.10851996 0.04192831 0.07758077 ... 0.         0.\n",
      "    0.        ]]\n",
      "\n",
      "  [[0.12226968 0.5726471  0.56571156 ... 0.         0.\n",
      "    0.        ]\n",
      "   [0.09265343 0.65527457 0.68432623 ... 0.         0.\n",
      "    0.        ]\n",
      "   [0.11987176 0.6401067  0.6774378  ... 0.         0.\n",
      "    0.        ]\n",
      "   ...\n",
      "   [0.10237528 0.04561336 0.07804022 ... 0.         0.\n",
      "    0.        ]\n",
      "   [0.11969977 0.04741096 0.06442724 ... 0.         0.\n",
      "    0.        ]\n",
      "   [0.11259534 0.05193717 0.0479784  ... 0.         0.\n",
      "    0.        ]]\n",
      "\n",
      "  [[0.14281833 0.5774468  0.56825715 ... 0.         0.\n",
      "    0.        ]\n",
      "   [0.1454101  0.63707554 0.63909954 ... 0.         0.\n",
      "    0.        ]\n",
      "   [0.16960901 0.6268656  0.6308979  ... 0.         0.\n",
      "    0.        ]\n",
      "   ...\n",
      "   [0.09199741 0.05318284 0.08463731 ... 0.         0.\n",
      "    0.        ]\n",
      "   [0.10248934 0.04977176 0.0709176  ... 0.         0.\n",
      "    0.        ]\n",
      "   [0.07900248 0.04947723 0.05612244 ... 0.         0.\n",
      "    0.        ]]\n",
      "\n",
      "  ...\n",
      "\n",
      "  [[0.5226623  0.         0.         ... 0.         0.\n",
      "    0.        ]\n",
      "   [0.5726767  0.         0.         ... 0.         0.\n",
      "    0.        ]\n",
      "   [0.57323337 0.         0.         ... 0.         0.\n",
      "    0.        ]\n",
      "   ...\n",
      "   [0.48954704 0.         0.         ... 0.         0.\n",
      "    0.        ]\n",
      "   [0.5390191  0.         0.         ... 0.         0.\n",
      "    0.        ]\n",
      "   [0.59346676 0.         0.         ... 0.         0.\n",
      "    0.        ]]\n",
      "\n",
      "  [[0.51985383 0.         0.         ... 0.         0.\n",
      "    0.        ]\n",
      "   [0.5789311  0.         0.         ... 0.         0.\n",
      "    0.        ]\n",
      "   [0.5610042  0.         0.         ... 0.         0.\n",
      "    0.        ]\n",
      "   ...\n",
      "   [0.52620953 0.         0.         ... 0.         0.\n",
      "    0.        ]\n",
      "   [0.45976034 0.         0.         ... 0.         0.\n",
      "    0.        ]\n",
      "   [0.568335   0.         0.         ... 0.         0.\n",
      "    0.        ]]\n",
      "\n",
      "  [[0.5380525  0.         0.         ... 0.         0.\n",
      "    0.        ]\n",
      "   [0.5564527  0.         0.         ... 0.         0.\n",
      "    0.        ]\n",
      "   [0.51919657 0.         0.         ... 0.         0.\n",
      "    0.        ]\n",
      "   ...\n",
      "   [0.54292464 0.         0.         ... 0.         0.\n",
      "    0.        ]\n",
      "   [0.514693   0.         0.         ... 0.         0.\n",
      "    0.        ]\n",
      "   [0.5390027  0.         0.         ... 0.         0.\n",
      "    0.        ]]]\n",
      "\n",
      "\n",
      " [[[0.12537447 0.55615497 0.5112223  ... 0.         0.\n",
      "    0.        ]\n",
      "   [0.10036949 0.50193727 0.485877   ... 0.         0.\n",
      "    0.        ]\n",
      "   [0.1049025  0.4682365  0.47503543 ... 0.         0.\n",
      "    0.        ]\n",
      "   ...\n",
      "   [0.09896564 0.05341848 0.07596137 ... 0.         0.\n",
      "    0.        ]\n",
      "   [0.11290143 0.04777354 0.07718314 ... 0.         0.\n",
      "    0.        ]\n",
      "   [0.09289183 0.04671738 0.07715252 ... 0.         0.\n",
      "    0.        ]]\n",
      "\n",
      "  [[0.11499396 0.58265746 0.5309613  ... 0.         0.\n",
      "    0.        ]\n",
      "   [0.09632684 0.3981695  0.3390028  ... 0.         0.\n",
      "    0.        ]\n",
      "   [0.11358849 0.4350624  0.38416296 ... 0.         0.\n",
      "    0.        ]\n",
      "   ...\n",
      "   [0.09886609 0.0389475  0.05712706 ... 0.         0.\n",
      "    0.        ]\n",
      "   [0.07248512 0.04175755 0.05171074 ... 0.         0.\n",
      "    0.        ]\n",
      "   [0.03477513 0.04526252 0.04581995 ... 0.         0.\n",
      "    0.        ]]\n",
      "\n",
      "  [[0.11729185 0.60674924 0.5527328  ... 0.         0.\n",
      "    0.        ]\n",
      "   [0.08396796 0.3244486  0.2791279  ... 0.         0.\n",
      "    0.        ]\n",
      "   [0.10393854 0.3682495  0.33318463 ... 0.         0.\n",
      "    0.        ]\n",
      "   ...\n",
      "   [0.10290019 0.04688128 0.07356521 ... 0.         0.\n",
      "    0.        ]\n",
      "   [0.08595655 0.0484643  0.06988753 ... 0.         0.\n",
      "    0.        ]\n",
      "   [0.06081886 0.0508155  0.06533733 ... 0.         0.\n",
      "    0.        ]]\n",
      "\n",
      "  ...\n",
      "\n",
      "  [[0.574747   0.         0.         ... 0.         0.\n",
      "    0.        ]\n",
      "   [0.57764655 0.         0.         ... 0.         0.\n",
      "    0.        ]\n",
      "   [0.56382716 0.         0.         ... 0.         0.\n",
      "    0.        ]\n",
      "   ...\n",
      "   [0.58277315 0.         0.         ... 0.         0.\n",
      "    0.        ]\n",
      "   [0.5956081  0.         0.         ... 0.         0.\n",
      "    0.        ]\n",
      "   [0.61977667 0.         0.         ... 0.         0.\n",
      "    0.        ]]\n",
      "\n",
      "  [[0.5770874  0.         0.         ... 0.         0.\n",
      "    0.        ]\n",
      "   [0.5664906  0.         0.         ... 0.         0.\n",
      "    0.        ]\n",
      "   [0.572204   0.         0.         ... 0.         0.\n",
      "    0.        ]\n",
      "   ...\n",
      "   [0.63267314 0.         0.         ... 0.         0.\n",
      "    0.        ]\n",
      "   [0.66645277 0.         0.         ... 0.         0.\n",
      "    0.        ]\n",
      "   [0.6912481  0.         0.         ... 0.         0.\n",
      "    0.        ]]\n",
      "\n",
      "  [[0.5557697  0.         0.         ... 0.         0.\n",
      "    0.        ]\n",
      "   [0.5740068  0.         0.         ... 0.         0.\n",
      "    0.        ]\n",
      "   [0.5897817  0.         0.         ... 0.         0.\n",
      "    0.        ]\n",
      "   ...\n",
      "   [0.57549113 0.         0.         ... 0.         0.\n",
      "    0.        ]\n",
      "   [0.61433965 0.         0.         ... 0.         0.\n",
      "    0.        ]\n",
      "   [0.660694   0.         0.         ... 0.         0.\n",
      "    0.        ]]]\n",
      "\n",
      "\n",
      " ...\n",
      "\n",
      "\n",
      " [[[0.7093535  0.19795634 0.37093207 ... 0.         0.\n",
      "    0.        ]\n",
      "   [0.6944417  0.19714595 0.37565395 ... 0.         0.\n",
      "    0.        ]\n",
      "   [0.61080974 0.19761428 0.37339956 ... 0.         0.\n",
      "    0.        ]\n",
      "   ...\n",
      "   [0.5397751  0.30654785 0.23682924 ... 0.         0.\n",
      "    0.        ]\n",
      "   [0.6749797  0.31710538 0.24930799 ... 0.         0.\n",
      "    0.        ]\n",
      "   [0.7385844  0.31827843 0.25582117 ... 0.         0.\n",
      "    0.        ]]\n",
      "\n",
      "  [[0.716886   0.1891758  0.36726847 ... 0.         0.\n",
      "    0.        ]\n",
      "   [0.6587567  0.20795695 0.27355    ... 0.         0.\n",
      "    0.        ]\n",
      "   [0.5636889  0.22927998 0.27902937 ... 0.         0.\n",
      "    0.        ]\n",
      "   ...\n",
      "   [0.54177743 0.11734752 0.09331685 ... 0.         0.\n",
      "    0.        ]\n",
      "   [0.6218586  0.11693028 0.0951701  ... 0.         0.\n",
      "    0.        ]\n",
      "   [0.7756989  0.12125493 0.1019357  ... 0.         0.\n",
      "    0.        ]]\n",
      "\n",
      "  [[0.5968514  0.18531114 0.36335793 ... 0.         0.\n",
      "    0.        ]\n",
      "   [0.5523048  0.21776113 0.28533846 ... 0.         0.\n",
      "    0.        ]\n",
      "   [0.4569208  0.24110301 0.29419696 ... 0.         0.\n",
      "    0.        ]\n",
      "   ...\n",
      "   [0.5929658  0.09064943 0.07393717 ... 0.         0.\n",
      "    0.        ]\n",
      "   [0.59624285 0.09221786 0.07369279 ... 0.         0.\n",
      "    0.        ]\n",
      "   [0.7419514  0.10111509 0.08193035 ... 0.         0.\n",
      "    0.        ]]\n",
      "\n",
      "  ...\n",
      "\n",
      "  [[0.74813193 0.         0.         ... 0.         0.\n",
      "    0.        ]\n",
      "   [0.6248382  0.         0.         ... 0.         0.\n",
      "    0.        ]\n",
      "   [0.45141777 0.         0.         ... 0.         0.\n",
      "    0.        ]\n",
      "   ...\n",
      "   [0.5525872  0.         0.         ... 0.         0.\n",
      "    0.        ]\n",
      "   [0.5208195  0.         0.         ... 0.         0.\n",
      "    0.        ]\n",
      "   [0.51792747 0.         0.         ... 0.         0.\n",
      "    0.        ]]\n",
      "\n",
      "  [[0.7271868  0.         0.         ... 0.         0.\n",
      "    0.        ]\n",
      "   [0.6889802  0.         0.         ... 0.         0.\n",
      "    0.        ]\n",
      "   [0.5003435  0.         0.         ... 0.         0.\n",
      "    0.        ]\n",
      "   ...\n",
      "   [0.5551847  0.         0.         ... 0.         0.\n",
      "    0.        ]\n",
      "   [0.5432605  0.         0.         ... 0.         0.\n",
      "    0.        ]\n",
      "   [0.49710116 0.         0.         ... 0.         0.\n",
      "    0.        ]]\n",
      "\n",
      "  [[0.7062615  0.         0.         ... 0.         0.\n",
      "    0.        ]\n",
      "   [0.7174761  0.         0.         ... 0.         0.\n",
      "    0.        ]\n",
      "   [0.5539897  0.         0.         ... 0.         0.\n",
      "    0.        ]\n",
      "   ...\n",
      "   [0.5146804  0.         0.         ... 0.         0.\n",
      "    0.        ]\n",
      "   [0.49861443 0.         0.         ... 0.         0.\n",
      "    0.        ]\n",
      "   [0.4573723  0.         0.         ... 0.         0.\n",
      "    0.        ]]]\n",
      "\n",
      "\n",
      " [[[0.6322412  0.269184   0.39510822 ... 0.         0.\n",
      "    0.        ]\n",
      "   [0.7025231  0.26092532 0.41120633 ... 0.         0.\n",
      "    0.        ]\n",
      "   [0.74373454 0.25466174 0.42335147 ... 0.         0.\n",
      "    0.        ]\n",
      "   ...\n",
      "   [0.5123431  0.29215175 0.274828   ... 0.         0.\n",
      "    0.        ]\n",
      "   [0.64927226 0.28499943 0.25513333 ... 0.         0.\n",
      "    0.        ]\n",
      "   [0.5879793  0.2814222  0.24475546 ... 0.         0.\n",
      "    0.        ]]\n",
      "\n",
      "  [[0.575489   0.24501003 0.41265845 ... 0.         0.\n",
      "    0.        ]\n",
      "   [0.632689   0.2212306  0.44467023 ... 0.         0.\n",
      "    0.        ]\n",
      "   [0.6813398  0.21241775 0.4434306  ... 0.         0.\n",
      "    0.        ]\n",
      "   ...\n",
      "   [0.53674036 0.29681954 0.23408546 ... 0.         0.\n",
      "    0.        ]\n",
      "   [0.63730437 0.3146231  0.23075281 ... 0.         0.\n",
      "    0.        ]\n",
      "   [0.63517773 0.3247374  0.22536087 ... 0.         0.\n",
      "    0.        ]]\n",
      "\n",
      "  [[0.61483705 0.2286779  0.42498982 ... 0.         0.\n",
      "    0.        ]\n",
      "   [0.58398765 0.22609767 0.43161193 ... 0.         0.\n",
      "    0.        ]\n",
      "   [0.60157746 0.21805046 0.43060312 ... 0.         0.\n",
      "    0.        ]\n",
      "   ...\n",
      "   [0.6112316  0.26826963 0.21236177 ... 0.         0.\n",
      "    0.        ]\n",
      "   [0.63255584 0.28433916 0.1992141  ... 0.         0.\n",
      "    0.        ]\n",
      "   [0.6964717  0.29318917 0.1872677  ... 0.         0.\n",
      "    0.        ]]\n",
      "\n",
      "  ...\n",
      "\n",
      "  [[0.78102875 0.         0.         ... 0.         0.\n",
      "    0.        ]\n",
      "   [0.6695233  0.         0.         ... 0.         0.\n",
      "    0.        ]\n",
      "   [0.47338155 0.         0.         ... 0.         0.\n",
      "    0.        ]\n",
      "   ...\n",
      "   [0.69892234 0.         0.         ... 0.         0.\n",
      "    0.        ]\n",
      "   [0.6980755  0.         0.         ... 0.         0.\n",
      "    0.        ]\n",
      "   [0.68240887 0.         0.         ... 0.         0.\n",
      "    0.        ]]\n",
      "\n",
      "  [[0.75585485 0.         0.         ... 0.         0.\n",
      "    0.        ]\n",
      "   [0.72297376 0.         0.         ... 0.         0.\n",
      "    0.        ]\n",
      "   [0.50614405 0.         0.         ... 0.         0.\n",
      "    0.        ]\n",
      "   ...\n",
      "   [0.6891348  0.         0.         ... 0.         0.\n",
      "    0.        ]\n",
      "   [0.6867088  0.         0.         ... 0.         0.\n",
      "    0.        ]\n",
      "   [0.706512   0.         0.         ... 0.         0.\n",
      "    0.        ]]\n",
      "\n",
      "  [[0.7064147  0.         0.         ... 0.         0.\n",
      "    0.        ]\n",
      "   [0.7509793  0.         0.         ... 0.         0.\n",
      "    0.        ]\n",
      "   [0.5647549  0.         0.         ... 0.         0.\n",
      "    0.        ]\n",
      "   ...\n",
      "   [0.6642402  0.         0.         ... 0.         0.\n",
      "    0.        ]\n",
      "   [0.69003177 0.         0.         ... 0.         0.\n",
      "    0.        ]\n",
      "   [0.70938545 0.         0.         ... 0.         0.\n",
      "    0.        ]]]\n",
      "\n",
      "\n",
      " [[[0.         0.24018042 0.2760865  ... 0.         0.\n",
      "    0.        ]\n",
      "   [0.         0.22491303 0.2899856  ... 0.         0.\n",
      "    0.        ]\n",
      "   [0.         0.21419556 0.29552767 ... 0.         0.\n",
      "    0.        ]\n",
      "   ...\n",
      "   [0.         0.         0.         ... 0.         0.\n",
      "    0.        ]\n",
      "   [0.         0.         0.         ... 0.         0.\n",
      "    0.        ]\n",
      "   [0.         0.         0.         ... 0.         0.\n",
      "    0.        ]]\n",
      "\n",
      "  [[0.         0.22114044 0.29107618 ... 0.         0.\n",
      "    0.        ]\n",
      "   [0.         0.22788225 0.3024111  ... 0.         0.\n",
      "    0.        ]\n",
      "   [0.         0.22121826 0.31195584 ... 0.         0.\n",
      "    0.        ]\n",
      "   ...\n",
      "   [0.         0.3011651  0.24841078 ... 0.         0.\n",
      "    0.        ]\n",
      "   [0.         0.30887088 0.24198124 ... 0.         0.\n",
      "    0.        ]\n",
      "   [0.         0.3145119  0.23660146 ... 0.         0.\n",
      "    0.        ]]\n",
      "\n",
      "  [[0.         0.20815356 0.30238688 ... 0.         0.\n",
      "    0.        ]\n",
      "   [0.         0.23864803 0.28882712 ... 0.         0.\n",
      "    0.        ]\n",
      "   [0.         0.23439337 0.29132536 ... 0.         0.\n",
      "    0.        ]\n",
      "   ...\n",
      "   [0.         0.2796165  0.22686005 ... 0.         0.\n",
      "    0.        ]\n",
      "   [0.         0.28899968 0.21920475 ... 0.         0.\n",
      "    0.        ]\n",
      "   [0.         0.29728037 0.2163295  ... 0.         0.\n",
      "    0.        ]]\n",
      "\n",
      "  ...\n",
      "\n",
      "  [[0.         0.         0.         ... 0.         0.\n",
      "    0.        ]\n",
      "   [0.         0.         0.         ... 0.         0.\n",
      "    0.        ]\n",
      "   [0.         0.         0.         ... 0.         0.\n",
      "    0.        ]\n",
      "   ...\n",
      "   [0.         0.         0.         ... 0.         0.\n",
      "    0.        ]\n",
      "   [0.         0.         0.         ... 0.         0.\n",
      "    0.        ]\n",
      "   [0.         0.         0.         ... 0.         0.\n",
      "    0.        ]]\n",
      "\n",
      "  [[0.         0.         0.         ... 0.         0.\n",
      "    0.        ]\n",
      "   [0.         0.         0.         ... 0.         0.\n",
      "    0.        ]\n",
      "   [0.         0.         0.         ... 0.         0.\n",
      "    0.        ]\n",
      "   ...\n",
      "   [0.         0.         0.         ... 0.         0.\n",
      "    0.        ]\n",
      "   [0.         0.         0.         ... 0.         0.\n",
      "    0.        ]\n",
      "   [0.         0.         0.         ... 0.         0.\n",
      "    0.        ]]\n",
      "\n",
      "  [[0.         0.         0.         ... 0.         0.\n",
      "    0.        ]\n",
      "   [0.         0.         0.         ... 0.         0.\n",
      "    0.        ]\n",
      "   [0.         0.         0.         ... 0.         0.\n",
      "    0.        ]\n",
      "   ...\n",
      "   [0.         0.         0.         ... 0.         0.\n",
      "    0.        ]\n",
      "   [0.         0.         0.         ... 0.         0.\n",
      "    0.        ]\n",
      "   [0.         0.         0.         ... 0.         0.\n",
      "    0.        ]]]]\n"
     ]
    }
   ],
   "source": [
    "filename = os.path.join(os.getcwd(), \"out\", \"ProstateX-0201_img.npy\")\n",
    "with open(filename, 'rb') as f:\n",
    "    x = np.load(f)\n",
    "    print(x)"
   ]
  }
 ],
 "metadata": {
  "kernelspec": {
   "display_name": "Python 3",
   "language": "python",
   "name": "python3"
  },
  "language_info": {
   "codemirror_mode": {
    "name": "ipython",
    "version": 3
   },
   "file_extension": ".py",
   "mimetype": "text/x-python",
   "name": "python",
   "nbconvert_exporter": "python",
   "pygments_lexer": "ipython3",
   "version": "3.11.8"
  }
 },
 "nbformat": 4,
 "nbformat_minor": 4
}
